{
 "cells": [
  {
   "cell_type": "code",
   "execution_count": 314,
   "metadata": {},
   "outputs": [],
   "source": [
    "import pandas as pd\n",
    "import numpy as np\n",
    "from scipy.optimize import minimize\n",
    "from itertools import product\n",
    "from numpy.linalg import cholesky\n",
    "import plotly.graph_objs as go\n",
    "import plotly.offline as po\n",
    "from numpy.linalg import cholesky\n",
    "\n",
    "from scipy.optimize import basinhopping"
   ]
  },
  {
   "cell_type": "code",
   "execution_count": 417,
   "metadata": {},
   "outputs": [
    {
     "data": {
      "text/html": [
       "<div>\n",
       "<style scoped>\n",
       "    .dataframe tbody tr th:only-of-type {\n",
       "        vertical-align: middle;\n",
       "    }\n",
       "\n",
       "    .dataframe tbody tr th {\n",
       "        vertical-align: top;\n",
       "    }\n",
       "\n",
       "    .dataframe thead th {\n",
       "        text-align: right;\n",
       "    }\n",
       "</style>\n",
       "<table border=\"1\" class=\"dataframe\">\n",
       "  <thead>\n",
       "    <tr style=\"text-align: right;\">\n",
       "      <th></th>\n",
       "      <th>SPX</th>\n",
       "      <th>EEM</th>\n",
       "      <th>XAU</th>\n",
       "      <th>USTTEN</th>\n",
       "      <th>USDCOP</th>\n",
       "    </tr>\n",
       "    <tr>\n",
       "      <th>date</th>\n",
       "      <th></th>\n",
       "      <th></th>\n",
       "      <th></th>\n",
       "      <th></th>\n",
       "      <th></th>\n",
       "    </tr>\n",
       "  </thead>\n",
       "  <tbody>\n",
       "    <tr>\n",
       "      <th>2011-02-14</th>\n",
       "      <td>0.046434</td>\n",
       "      <td>-0.057770</td>\n",
       "      <td>-0.038196</td>\n",
       "      <td>-0.021115</td>\n",
       "      <td>0.007020</td>\n",
       "    </tr>\n",
       "    <tr>\n",
       "      <th>2011-02-15</th>\n",
       "      <td>0.044507</td>\n",
       "      <td>-0.060353</td>\n",
       "      <td>-0.004829</td>\n",
       "      <td>-0.020181</td>\n",
       "      <td>0.011852</td>\n",
       "    </tr>\n",
       "    <tr>\n",
       "      <th>2011-02-16</th>\n",
       "      <td>0.045751</td>\n",
       "      <td>-0.049548</td>\n",
       "      <td>-0.002805</td>\n",
       "      <td>-0.010126</td>\n",
       "      <td>0.019702</td>\n",
       "    </tr>\n",
       "    <tr>\n",
       "      <th>2011-02-17</th>\n",
       "      <td>0.050947</td>\n",
       "      <td>-0.035324</td>\n",
       "      <td>0.009087</td>\n",
       "      <td>-0.012194</td>\n",
       "      <td>0.015859</td>\n",
       "    </tr>\n",
       "    <tr>\n",
       "      <th>2011-02-18</th>\n",
       "      <td>0.054716</td>\n",
       "      <td>-0.020095</td>\n",
       "      <td>0.014822</td>\n",
       "      <td>-0.018477</td>\n",
       "      <td>0.006955</td>\n",
       "    </tr>\n",
       "  </tbody>\n",
       "</table>\n",
       "</div>"
      ],
      "text/plain": [
       "                 SPX       EEM       XAU    USTTEN    USDCOP\n",
       "date                                                        \n",
       "2011-02-14  0.046434 -0.057770 -0.038196 -0.021115  0.007020\n",
       "2011-02-15  0.044507 -0.060353 -0.004829 -0.020181  0.011852\n",
       "2011-02-16  0.045751 -0.049548 -0.002805 -0.010126  0.019702\n",
       "2011-02-17  0.050947 -0.035324  0.009087 -0.012194  0.015859\n",
       "2011-02-18  0.054716 -0.020095  0.014822 -0.018477  0.006955"
      ]
     },
     "execution_count": 417,
     "metadata": {},
     "output_type": "execute_result"
    }
   ],
   "source": [
    "assets = pd.read_csv('m_returns.csv', index_col = 'date')\n",
    "assets.head()"
   ]
  },
  {
   "cell_type": "code",
   "execution_count": 418,
   "metadata": {},
   "outputs": [],
   "source": [
    "avgr_5y = assets.rolling(window=365*5).mean().iloc[-1].values\n",
    "std_5y = assets.rolling(window=365*5).std().iloc[-1].values\n",
    "cov_5y = assets.rolling(window=365*5).cov().iloc[-5:].values"
   ]
  },
  {
   "cell_type": "markdown",
   "metadata": {},
   "source": [
    "# MVO"
   ]
  },
  {
   "cell_type": "code",
   "execution_count": 425,
   "metadata": {},
   "outputs": [],
   "source": [
    "expret = avgr_5y\n",
    "expvol = std_5y\n",
    "corr = assets.rolling(window=365*5).corr().iloc[-5:].values\n",
    "\n",
    "covar = cov_5y\n",
    "# for i,j in product(expvol,repeat=2):\n",
    "#     covar.loc[i,j] = corr.loc[i,j]*i*j\n",
    "\n",
    "    \n",
    "x0 = [0.25,0.25,0.25,0.25, 0.25]\n",
    "bnds = ((0, 1), (0, 1),(0, 1),(0, 1), (-0.5, 1.5))\n",
    "\n",
    "#minimize variance for each level of return\n",
    "def por_var(x):\n",
    "    return np.dot(np.matmul(x,covar),x)\n",
    "def w(x):\n",
    "    return np.sum(x[:4])-1\n",
    "\n",
    "eff={}\n",
    "ws={}\n",
    "for i in np.arange(min(expret), max(expret)+0.02, 0.0025):\n",
    "    r = i/2\n",
    "\n",
    "    def port_ret(x):\n",
    "        return np.dot(x,expret)-r\n",
    "    cons= [{'type': 'eq', 'fun': port_ret},{'type': 'eq', 'fun': w}]\n",
    "    res = minimize(por_var,x0,bounds=bnds,constraints=cons)\n",
    "    eff[r] = np.sqrt(por_var(res.x))\n",
    "    ws[r] = res.x\n",
    "\n",
    "eff = pd.Series(eff)"
   ]
  },
  {
   "cell_type": "code",
   "execution_count": 420,
   "metadata": {},
   "outputs": [
    {
     "data": {
      "text/html": [
       "<div>\n",
       "<style scoped>\n",
       "    .dataframe tbody tr th:only-of-type {\n",
       "        vertical-align: middle;\n",
       "    }\n",
       "\n",
       "    .dataframe tbody tr th {\n",
       "        vertical-align: top;\n",
       "    }\n",
       "\n",
       "    .dataframe thead th {\n",
       "        text-align: right;\n",
       "    }\n",
       "</style>\n",
       "<table border=\"1\" class=\"dataframe\">\n",
       "  <thead>\n",
       "    <tr style=\"text-align: right;\">\n",
       "      <th></th>\n",
       "      <th>Std</th>\n",
       "      <th>Return</th>\n",
       "      <th>SPX</th>\n",
       "      <th>EEM</th>\n",
       "      <th>XAU</th>\n",
       "      <th>USTTEN</th>\n",
       "      <th>USDCOP</th>\n",
       "    </tr>\n",
       "  </thead>\n",
       "  <tbody>\n",
       "    <tr>\n",
       "      <th>0</th>\n",
       "      <td>2.283223</td>\n",
       "      <td>-0.120189</td>\n",
       "      <td>0.026</td>\n",
       "      <td>21.586</td>\n",
       "      <td>1.899</td>\n",
       "      <td>76.488</td>\n",
       "      <td>18.816</td>\n",
       "    </tr>\n",
       "    <tr>\n",
       "      <th>1</th>\n",
       "      <td>2.350046</td>\n",
       "      <td>0.004811</td>\n",
       "      <td>0.052</td>\n",
       "      <td>22.450</td>\n",
       "      <td>14.040</td>\n",
       "      <td>63.458</td>\n",
       "      <td>24.728</td>\n",
       "    </tr>\n",
       "    <tr>\n",
       "      <th>2</th>\n",
       "      <td>2.386973</td>\n",
       "      <td>0.129811</td>\n",
       "      <td>4.311</td>\n",
       "      <td>20.234</td>\n",
       "      <td>21.212</td>\n",
       "      <td>54.244</td>\n",
       "      <td>27.988</td>\n",
       "    </tr>\n",
       "    <tr>\n",
       "      <th>3</th>\n",
       "      <td>2.406289</td>\n",
       "      <td>0.254811</td>\n",
       "      <td>11.085</td>\n",
       "      <td>16.267</td>\n",
       "      <td>25.133</td>\n",
       "      <td>47.516</td>\n",
       "      <td>30.639</td>\n",
       "    </tr>\n",
       "    <tr>\n",
       "      <th>4</th>\n",
       "      <td>2.460961</td>\n",
       "      <td>0.379811</td>\n",
       "      <td>17.962</td>\n",
       "      <td>12.696</td>\n",
       "      <td>28.839</td>\n",
       "      <td>40.503</td>\n",
       "      <td>33.069</td>\n",
       "    </tr>\n",
       "    <tr>\n",
       "      <th>5</th>\n",
       "      <td>2.547067</td>\n",
       "      <td>0.504811</td>\n",
       "      <td>24.771</td>\n",
       "      <td>8.268</td>\n",
       "      <td>32.751</td>\n",
       "      <td>34.210</td>\n",
       "      <td>36.027</td>\n",
       "    </tr>\n",
       "    <tr>\n",
       "      <th>6</th>\n",
       "      <td>2.663166</td>\n",
       "      <td>0.629811</td>\n",
       "      <td>31.587</td>\n",
       "      <td>3.848</td>\n",
       "      <td>36.651</td>\n",
       "      <td>27.914</td>\n",
       "      <td>38.979</td>\n",
       "    </tr>\n",
       "  </tbody>\n",
       "</table>\n",
       "</div>"
      ],
      "text/plain": [
       "        Std    Return     SPX     EEM     XAU  USTTEN  USDCOP\n",
       "0  2.283223 -0.120189   0.026  21.586   1.899  76.488  18.816\n",
       "1  2.350046  0.004811   0.052  22.450  14.040  63.458  24.728\n",
       "2  2.386973  0.129811   4.311  20.234  21.212  54.244  27.988\n",
       "3  2.406289  0.254811  11.085  16.267  25.133  47.516  30.639\n",
       "4  2.460961  0.379811  17.962  12.696  28.839  40.503  33.069\n",
       "5  2.547067  0.504811  24.771   8.268  32.751  34.210  36.027\n",
       "6  2.663166  0.629811  31.587   3.848  36.651  27.914  38.979"
      ]
     },
     "execution_count": 420,
     "metadata": {},
     "output_type": "execute_result"
    }
   ],
   "source": [
    "eff_df = pd.DataFrame({'Std': eff}).mul(100).reset_index()\n",
    "ws_keys_multiplied = {key * 100: value for key, value in ws.items()}\n",
    "ws_df = pd.DataFrame(ws_keys_multiplied).mul(100).round(3).T.reset_index()\n",
    "ws_df.columns = ['Return', 'SPX', 'EEM', 'XAU', 'USTTEN', 'USDCOP']\n",
    "result_df = pd.concat([eff_df, ws_df], axis=1)\n",
    "result_df.drop(columns=['index'], inplace=True)\n",
    "result_df"
   ]
  },
  {
   "cell_type": "code",
   "execution_count": 423,
   "metadata": {},
   "outputs": [
    {
     "name": "stdout",
     "output_type": "stream",
     "text": [
      "Optimization terminated successfully\n",
      "Optimization terminated successfully\n",
      "Optimization terminated successfully\n",
      "Optimization terminated successfully\n",
      "Optimization terminated successfully\n",
      "Optimization terminated successfully\n",
      "Optimization terminated successfully\n",
      "Optimization terminated successfully\n",
      "Optimization terminated successfully\n",
      "Optimization terminated successfully\n",
      "Optimization terminated successfully\n",
      "Optimization terminated successfully\n",
      "Optimization terminated successfully\n",
      "Optimization terminated successfully\n",
      "Optimization terminated successfully\n",
      "Optimization terminated successfully\n",
      "Optimization terminated successfully\n",
      "Optimization terminated successfully\n"
     ]
    }
   ],
   "source": [
    "#Maximize return for each level of variance \n",
    "cons= [{'type': 'eq', 'fun': w}] #constraints for global minimum variance portfolio\n",
    "gmvp = minimize(por_var,x0,bounds=bnds,constraints=cons) # weights of GMVP\n",
    "min_v = np.sqrt(por_var(gmvp.x)) # minimum volatility possible\n",
    "max_v = np.max(expvol)\n",
    "\n",
    "\n",
    "def mvo(rr,covar):\n",
    "    eff_v={}\n",
    "    eff_x={}\n",
    "    for q in np.arange(min_v-0.003, max_v+0.002, 0.0025):\n",
    "        def varp(x):\n",
    "            return np.dot(np.matmul(x,covar),x)-q**2\n",
    "        def rfun(x):\n",
    "            return -np.dot(x,rr)\n",
    "        cons  = [{'type': 'eq', 'fun': varp},{'type': 'eq', 'fun': w}]\n",
    "        res = minimize(rfun,x0,bounds=bnds,constraints=cons, tol=1e-7)\n",
    "        print(res.message)\n",
    "\n",
    "        eff_v[q] = -rfun(res.x)\n",
    "        eff_x[q] = res.x\n",
    "\n",
    "    return pd.Series(eff_v),pd.DataFrame(eff_x)\n",
    "\n",
    "eff_v,xxx= mvo(expret, covar)"
   ]
  },
  {
   "cell_type": "code",
   "execution_count": 426,
   "metadata": {},
   "outputs": [
    {
     "data": {
      "text/html": [
       "        <script type=\"text/javascript\">\n",
       "        window.PlotlyConfig = {MathJaxConfig: 'local'};\n",
       "        if (window.MathJax && window.MathJax.Hub && window.MathJax.Hub.Config) {window.MathJax.Hub.Config({SVG: {font: \"STIX-Web\"}});}\n",
       "        if (typeof require !== 'undefined') {\n",
       "        require.undef(\"plotly\");\n",
       "        requirejs.config({\n",
       "            paths: {\n",
       "                'plotly': ['https://cdn.plot.ly/plotly-2.25.2.min']\n",
       "            }\n",
       "        });\n",
       "        require(['plotly'], function(Plotly) {\n",
       "            window._Plotly = Plotly;\n",
       "        });\n",
       "        }\n",
       "        </script>\n",
       "        "
      ]
     },
     "metadata": {},
     "output_type": "display_data"
    },
    {
     "data": {
      "application/vnd.plotly.v1+json": {
       "config": {
        "linkText": "Export to plot.ly",
        "plotlyServerURL": "https://plot.ly",
        "showLink": false
       },
       "data": [
        {
         "line": {
          "color": "dodgerblue"
         },
         "marker": {
          "color": "blue",
          "size": 6
         },
         "mode": "lines+markers",
         "type": "scatter",
         "x": [
          0.02386973270838893,
          0.024062893749374797,
          0.024609607495702006,
          0.025470671503450792,
          0.02663166088821622,
          0.028061609218582632,
          0.03010728315163973,
          0.03241347001677928,
          0.036251382643559246,
          0.04305222362862163,
          0.05202824111830056,
          0.06266665126770442
         ],
         "y": [
          0.001298113305419022,
          0.002548113305419022,
          0.003798113305419022,
          0.0050481133054190224,
          0.006298113305419022,
          0.007548113305419023,
          0.008798113305419021,
          0.01004811330541902,
          0.011298113305419022,
          0.012548113305419021,
          0.01379811330541902,
          0.015048113305419022
         ]
        },
        {
         "line": {
          "color": "purple"
         },
         "marker": {
          "color": "purple",
          "size": 6
         },
         "mode": "lines+markers",
         "type": "scatter",
         "x": [
          0.0216429438106569,
          0.0241429438106569,
          0.026642943810656898,
          0.029142943810656897,
          0.031642943810656896,
          0.0341429438106569,
          0.03664294381065689,
          0.03914294381065689,
          0.04164294381065689,
          0.04414294381065689,
          0.04664294381065689,
          0.04914294381065688,
          0.051642943810656886,
          0.05414294381065689,
          0.05664294381065688,
          0.05914294381065688,
          0.06164294381065688,
          0.06414294381065688
         ],
         "y": [
          0.0004050993410990619,
          0.004810934458792672,
          0.006711732291404051,
          0.008270724489216742,
          0.009667289816518385,
          0.0107579692050086,
          0.011384747532292855,
          0.011882290040263581,
          0.012318934709198244,
          0.012719213452041484,
          0.013095152688245295,
          0.013453628578917073,
          0.012189835333147428,
          0.011780819757942337,
          0.01146843452446175,
          0.010939780930417599,
          0.010958722888788094,
          0.010734808840660614
         ]
        },
        {
         "marker": {
          "color": "red",
          "size": 7
         },
         "mode": "markers",
         "opacity": 0.7,
         "type": "scatter",
         "x": [
          0.056889054316242735,
          0.06255023915742265,
          0.04271102186476983,
          0.02409490172433703,
          0.0461193000928183
         ],
         "y": [
          0.011440509948098188,
          0.0001646750683600085,
          0.006449039425942275,
          -0.0024037733891619562,
          0.002527988665601598
         ]
        }
       ],
       "layout": {
        "annotations": [
         {
          "font": {
           "color": "blue",
           "size": 8
          },
          "showarrow": false,
          "text": "(0.02,0.0)",
          "x": 0.02596973270838893,
          "y": 0.001298113305419022
         },
         {
          "font": {
           "color": "blue",
           "size": 8
          },
          "showarrow": false,
          "text": "(0.02,0.0)",
          "x": 0.026162893749374798,
          "y": 0.002548113305419022
         },
         {
          "font": {
           "color": "blue",
           "size": 8
          },
          "showarrow": false,
          "text": "(0.02,0.0)",
          "x": 0.026709607495702007,
          "y": 0.003798113305419022
         },
         {
          "font": {
           "color": "blue",
           "size": 8
          },
          "showarrow": false,
          "text": "(0.03,0.01)",
          "x": 0.027570671503450793,
          "y": 0.0050481133054190224
         },
         {
          "font": {
           "color": "blue",
           "size": 8
          },
          "showarrow": false,
          "text": "(0.03,0.01)",
          "x": 0.028731660888216222,
          "y": 0.006298113305419022
         },
         {
          "font": {
           "color": "blue",
           "size": 8
          },
          "showarrow": false,
          "text": "(0.03,0.01)",
          "x": 0.030161609218582634,
          "y": 0.007548113305419023
         },
         {
          "font": {
           "color": "blue",
           "size": 8
          },
          "showarrow": false,
          "text": "(0.03,0.01)",
          "x": 0.03220728315163973,
          "y": 0.008798113305419021
         },
         {
          "font": {
           "color": "blue",
           "size": 8
          },
          "showarrow": false,
          "text": "(0.03,0.01)",
          "x": 0.03451347001677928,
          "y": 0.01004811330541902
         },
         {
          "font": {
           "color": "blue",
           "size": 8
          },
          "showarrow": false,
          "text": "(0.04,0.01)",
          "x": 0.038351382643559244,
          "y": 0.011298113305419022
         },
         {
          "font": {
           "color": "blue",
           "size": 8
          },
          "showarrow": false,
          "text": "(0.04,0.01)",
          "x": 0.045152223628621625,
          "y": 0.012548113305419021
         },
         {
          "font": {
           "color": "blue",
           "size": 8
          },
          "showarrow": false,
          "text": "(0.05,0.01)",
          "x": 0.05412824111830056,
          "y": 0.01379811330541902
         },
         {
          "font": {
           "color": "blue",
           "size": 8
          },
          "showarrow": false,
          "text": "(0.06,0.02)",
          "x": 0.06476665126770442,
          "y": 0.015048113305419022
         }
        ],
        "height": 400,
        "margin": {
         "b": 30,
         "l": 50,
         "r": 20,
         "t": 50
        },
        "showlegend": false,
        "template": {
         "data": {
          "bar": [
           {
            "error_x": {
             "color": "#2a3f5f"
            },
            "error_y": {
             "color": "#2a3f5f"
            },
            "marker": {
             "line": {
              "color": "white",
              "width": 0.5
             },
             "pattern": {
              "fillmode": "overlay",
              "size": 10,
              "solidity": 0.2
             }
            },
            "type": "bar"
           }
          ],
          "barpolar": [
           {
            "marker": {
             "line": {
              "color": "white",
              "width": 0.5
             },
             "pattern": {
              "fillmode": "overlay",
              "size": 10,
              "solidity": 0.2
             }
            },
            "type": "barpolar"
           }
          ],
          "carpet": [
           {
            "aaxis": {
             "endlinecolor": "#2a3f5f",
             "gridcolor": "#C8D4E3",
             "linecolor": "#C8D4E3",
             "minorgridcolor": "#C8D4E3",
             "startlinecolor": "#2a3f5f"
            },
            "baxis": {
             "endlinecolor": "#2a3f5f",
             "gridcolor": "#C8D4E3",
             "linecolor": "#C8D4E3",
             "minorgridcolor": "#C8D4E3",
             "startlinecolor": "#2a3f5f"
            },
            "type": "carpet"
           }
          ],
          "choropleth": [
           {
            "colorbar": {
             "outlinewidth": 0,
             "ticks": ""
            },
            "type": "choropleth"
           }
          ],
          "contour": [
           {
            "colorbar": {
             "outlinewidth": 0,
             "ticks": ""
            },
            "colorscale": [
             [
              0,
              "#0d0887"
             ],
             [
              0.1111111111111111,
              "#46039f"
             ],
             [
              0.2222222222222222,
              "#7201a8"
             ],
             [
              0.3333333333333333,
              "#9c179e"
             ],
             [
              0.4444444444444444,
              "#bd3786"
             ],
             [
              0.5555555555555556,
              "#d8576b"
             ],
             [
              0.6666666666666666,
              "#ed7953"
             ],
             [
              0.7777777777777778,
              "#fb9f3a"
             ],
             [
              0.8888888888888888,
              "#fdca26"
             ],
             [
              1,
              "#f0f921"
             ]
            ],
            "type": "contour"
           }
          ],
          "contourcarpet": [
           {
            "colorbar": {
             "outlinewidth": 0,
             "ticks": ""
            },
            "type": "contourcarpet"
           }
          ],
          "heatmap": [
           {
            "colorbar": {
             "outlinewidth": 0,
             "ticks": ""
            },
            "colorscale": [
             [
              0,
              "#0d0887"
             ],
             [
              0.1111111111111111,
              "#46039f"
             ],
             [
              0.2222222222222222,
              "#7201a8"
             ],
             [
              0.3333333333333333,
              "#9c179e"
             ],
             [
              0.4444444444444444,
              "#bd3786"
             ],
             [
              0.5555555555555556,
              "#d8576b"
             ],
             [
              0.6666666666666666,
              "#ed7953"
             ],
             [
              0.7777777777777778,
              "#fb9f3a"
             ],
             [
              0.8888888888888888,
              "#fdca26"
             ],
             [
              1,
              "#f0f921"
             ]
            ],
            "type": "heatmap"
           }
          ],
          "heatmapgl": [
           {
            "colorbar": {
             "outlinewidth": 0,
             "ticks": ""
            },
            "colorscale": [
             [
              0,
              "#0d0887"
             ],
             [
              0.1111111111111111,
              "#46039f"
             ],
             [
              0.2222222222222222,
              "#7201a8"
             ],
             [
              0.3333333333333333,
              "#9c179e"
             ],
             [
              0.4444444444444444,
              "#bd3786"
             ],
             [
              0.5555555555555556,
              "#d8576b"
             ],
             [
              0.6666666666666666,
              "#ed7953"
             ],
             [
              0.7777777777777778,
              "#fb9f3a"
             ],
             [
              0.8888888888888888,
              "#fdca26"
             ],
             [
              1,
              "#f0f921"
             ]
            ],
            "type": "heatmapgl"
           }
          ],
          "histogram": [
           {
            "marker": {
             "pattern": {
              "fillmode": "overlay",
              "size": 10,
              "solidity": 0.2
             }
            },
            "type": "histogram"
           }
          ],
          "histogram2d": [
           {
            "colorbar": {
             "outlinewidth": 0,
             "ticks": ""
            },
            "colorscale": [
             [
              0,
              "#0d0887"
             ],
             [
              0.1111111111111111,
              "#46039f"
             ],
             [
              0.2222222222222222,
              "#7201a8"
             ],
             [
              0.3333333333333333,
              "#9c179e"
             ],
             [
              0.4444444444444444,
              "#bd3786"
             ],
             [
              0.5555555555555556,
              "#d8576b"
             ],
             [
              0.6666666666666666,
              "#ed7953"
             ],
             [
              0.7777777777777778,
              "#fb9f3a"
             ],
             [
              0.8888888888888888,
              "#fdca26"
             ],
             [
              1,
              "#f0f921"
             ]
            ],
            "type": "histogram2d"
           }
          ],
          "histogram2dcontour": [
           {
            "colorbar": {
             "outlinewidth": 0,
             "ticks": ""
            },
            "colorscale": [
             [
              0,
              "#0d0887"
             ],
             [
              0.1111111111111111,
              "#46039f"
             ],
             [
              0.2222222222222222,
              "#7201a8"
             ],
             [
              0.3333333333333333,
              "#9c179e"
             ],
             [
              0.4444444444444444,
              "#bd3786"
             ],
             [
              0.5555555555555556,
              "#d8576b"
             ],
             [
              0.6666666666666666,
              "#ed7953"
             ],
             [
              0.7777777777777778,
              "#fb9f3a"
             ],
             [
              0.8888888888888888,
              "#fdca26"
             ],
             [
              1,
              "#f0f921"
             ]
            ],
            "type": "histogram2dcontour"
           }
          ],
          "mesh3d": [
           {
            "colorbar": {
             "outlinewidth": 0,
             "ticks": ""
            },
            "type": "mesh3d"
           }
          ],
          "parcoords": [
           {
            "line": {
             "colorbar": {
              "outlinewidth": 0,
              "ticks": ""
             }
            },
            "type": "parcoords"
           }
          ],
          "pie": [
           {
            "automargin": true,
            "type": "pie"
           }
          ],
          "scatter": [
           {
            "fillpattern": {
             "fillmode": "overlay",
             "size": 10,
             "solidity": 0.2
            },
            "type": "scatter"
           }
          ],
          "scatter3d": [
           {
            "line": {
             "colorbar": {
              "outlinewidth": 0,
              "ticks": ""
             }
            },
            "marker": {
             "colorbar": {
              "outlinewidth": 0,
              "ticks": ""
             }
            },
            "type": "scatter3d"
           }
          ],
          "scattercarpet": [
           {
            "marker": {
             "colorbar": {
              "outlinewidth": 0,
              "ticks": ""
             }
            },
            "type": "scattercarpet"
           }
          ],
          "scattergeo": [
           {
            "marker": {
             "colorbar": {
              "outlinewidth": 0,
              "ticks": ""
             }
            },
            "type": "scattergeo"
           }
          ],
          "scattergl": [
           {
            "marker": {
             "colorbar": {
              "outlinewidth": 0,
              "ticks": ""
             }
            },
            "type": "scattergl"
           }
          ],
          "scattermapbox": [
           {
            "marker": {
             "colorbar": {
              "outlinewidth": 0,
              "ticks": ""
             }
            },
            "type": "scattermapbox"
           }
          ],
          "scatterpolar": [
           {
            "marker": {
             "colorbar": {
              "outlinewidth": 0,
              "ticks": ""
             }
            },
            "type": "scatterpolar"
           }
          ],
          "scatterpolargl": [
           {
            "marker": {
             "colorbar": {
              "outlinewidth": 0,
              "ticks": ""
             }
            },
            "type": "scatterpolargl"
           }
          ],
          "scatterternary": [
           {
            "marker": {
             "colorbar": {
              "outlinewidth": 0,
              "ticks": ""
             }
            },
            "type": "scatterternary"
           }
          ],
          "surface": [
           {
            "colorbar": {
             "outlinewidth": 0,
             "ticks": ""
            },
            "colorscale": [
             [
              0,
              "#0d0887"
             ],
             [
              0.1111111111111111,
              "#46039f"
             ],
             [
              0.2222222222222222,
              "#7201a8"
             ],
             [
              0.3333333333333333,
              "#9c179e"
             ],
             [
              0.4444444444444444,
              "#bd3786"
             ],
             [
              0.5555555555555556,
              "#d8576b"
             ],
             [
              0.6666666666666666,
              "#ed7953"
             ],
             [
              0.7777777777777778,
              "#fb9f3a"
             ],
             [
              0.8888888888888888,
              "#fdca26"
             ],
             [
              1,
              "#f0f921"
             ]
            ],
            "type": "surface"
           }
          ],
          "table": [
           {
            "cells": {
             "fill": {
              "color": "#EBF0F8"
             },
             "line": {
              "color": "white"
             }
            },
            "header": {
             "fill": {
              "color": "#C8D4E3"
             },
             "line": {
              "color": "white"
             }
            },
            "type": "table"
           }
          ]
         },
         "layout": {
          "annotationdefaults": {
           "arrowcolor": "#2a3f5f",
           "arrowhead": 0,
           "arrowwidth": 1
          },
          "autotypenumbers": "strict",
          "coloraxis": {
           "colorbar": {
            "outlinewidth": 0,
            "ticks": ""
           }
          },
          "colorscale": {
           "diverging": [
            [
             0,
             "#8e0152"
            ],
            [
             0.1,
             "#c51b7d"
            ],
            [
             0.2,
             "#de77ae"
            ],
            [
             0.3,
             "#f1b6da"
            ],
            [
             0.4,
             "#fde0ef"
            ],
            [
             0.5,
             "#f7f7f7"
            ],
            [
             0.6,
             "#e6f5d0"
            ],
            [
             0.7,
             "#b8e186"
            ],
            [
             0.8,
             "#7fbc41"
            ],
            [
             0.9,
             "#4d9221"
            ],
            [
             1,
             "#276419"
            ]
           ],
           "sequential": [
            [
             0,
             "#0d0887"
            ],
            [
             0.1111111111111111,
             "#46039f"
            ],
            [
             0.2222222222222222,
             "#7201a8"
            ],
            [
             0.3333333333333333,
             "#9c179e"
            ],
            [
             0.4444444444444444,
             "#bd3786"
            ],
            [
             0.5555555555555556,
             "#d8576b"
            ],
            [
             0.6666666666666666,
             "#ed7953"
            ],
            [
             0.7777777777777778,
             "#fb9f3a"
            ],
            [
             0.8888888888888888,
             "#fdca26"
            ],
            [
             1,
             "#f0f921"
            ]
           ],
           "sequentialminus": [
            [
             0,
             "#0d0887"
            ],
            [
             0.1111111111111111,
             "#46039f"
            ],
            [
             0.2222222222222222,
             "#7201a8"
            ],
            [
             0.3333333333333333,
             "#9c179e"
            ],
            [
             0.4444444444444444,
             "#bd3786"
            ],
            [
             0.5555555555555556,
             "#d8576b"
            ],
            [
             0.6666666666666666,
             "#ed7953"
            ],
            [
             0.7777777777777778,
             "#fb9f3a"
            ],
            [
             0.8888888888888888,
             "#fdca26"
            ],
            [
             1,
             "#f0f921"
            ]
           ]
          },
          "colorway": [
           "#636efa",
           "#EF553B",
           "#00cc96",
           "#ab63fa",
           "#FFA15A",
           "#19d3f3",
           "#FF6692",
           "#B6E880",
           "#FF97FF",
           "#FECB52"
          ],
          "font": {
           "color": "#2a3f5f"
          },
          "geo": {
           "bgcolor": "white",
           "lakecolor": "white",
           "landcolor": "white",
           "showlakes": true,
           "showland": true,
           "subunitcolor": "#C8D4E3"
          },
          "hoverlabel": {
           "align": "left"
          },
          "hovermode": "closest",
          "mapbox": {
           "style": "light"
          },
          "paper_bgcolor": "white",
          "plot_bgcolor": "white",
          "polar": {
           "angularaxis": {
            "gridcolor": "#EBF0F8",
            "linecolor": "#EBF0F8",
            "ticks": ""
           },
           "bgcolor": "white",
           "radialaxis": {
            "gridcolor": "#EBF0F8",
            "linecolor": "#EBF0F8",
            "ticks": ""
           }
          },
          "scene": {
           "xaxis": {
            "backgroundcolor": "white",
            "gridcolor": "#DFE8F3",
            "gridwidth": 2,
            "linecolor": "#EBF0F8",
            "showbackground": true,
            "ticks": "",
            "zerolinecolor": "#EBF0F8"
           },
           "yaxis": {
            "backgroundcolor": "white",
            "gridcolor": "#DFE8F3",
            "gridwidth": 2,
            "linecolor": "#EBF0F8",
            "showbackground": true,
            "ticks": "",
            "zerolinecolor": "#EBF0F8"
           },
           "zaxis": {
            "backgroundcolor": "white",
            "gridcolor": "#DFE8F3",
            "gridwidth": 2,
            "linecolor": "#EBF0F8",
            "showbackground": true,
            "ticks": "",
            "zerolinecolor": "#EBF0F8"
           }
          },
          "shapedefaults": {
           "line": {
            "color": "#2a3f5f"
           }
          },
          "ternary": {
           "aaxis": {
            "gridcolor": "#DFE8F3",
            "linecolor": "#A2B1C6",
            "ticks": ""
           },
           "baxis": {
            "gridcolor": "#DFE8F3",
            "linecolor": "#A2B1C6",
            "ticks": ""
           },
           "bgcolor": "white",
           "caxis": {
            "gridcolor": "#DFE8F3",
            "linecolor": "#A2B1C6",
            "ticks": ""
           }
          },
          "title": {
           "x": 0.05
          },
          "xaxis": {
           "automargin": true,
           "gridcolor": "#EBF0F8",
           "linecolor": "#EBF0F8",
           "ticks": "",
           "title": {
            "standoff": 15
           },
           "zerolinecolor": "#EBF0F8",
           "zerolinewidth": 2
          },
          "yaxis": {
           "automargin": true,
           "gridcolor": "#EBF0F8",
           "linecolor": "#EBF0F8",
           "ticks": "",
           "title": {
            "standoff": 15
           },
           "zerolinecolor": "#EBF0F8",
           "zerolinewidth": 2
          }
         }
        },
        "title": {
         "font": {
          "size": 10
         },
         "text": "<b>Frontera Eficiente </b> ",
         "xanchor": "left"
        },
        "width": 550
       }
      },
      "text/html": [
       "<div>                            <div id=\"50aac027-1fea-40f7-9d94-60f2c5b8bba4\" class=\"plotly-graph-div\" style=\"height:400px; width:550px;\"></div>            <script type=\"text/javascript\">                require([\"plotly\"], function(Plotly) {                    window.PLOTLYENV=window.PLOTLYENV || {};                                    if (document.getElementById(\"50aac027-1fea-40f7-9d94-60f2c5b8bba4\")) {                    Plotly.newPlot(                        \"50aac027-1fea-40f7-9d94-60f2c5b8bba4\",                        [{\"line\":{\"color\":\"dodgerblue\"},\"marker\":{\"color\":\"blue\",\"size\":6},\"mode\":\"lines+markers\",\"x\":[0.02386973270838893,0.024062893749374797,0.024609607495702006,0.025470671503450792,0.02663166088821622,0.028061609218582632,0.03010728315163973,0.03241347001677928,0.036251382643559246,0.04305222362862163,0.05202824111830056,0.06266665126770442],\"y\":[0.001298113305419022,0.002548113305419022,0.003798113305419022,0.0050481133054190224,0.006298113305419022,0.007548113305419023,0.008798113305419021,0.01004811330541902,0.011298113305419022,0.012548113305419021,0.01379811330541902,0.015048113305419022],\"type\":\"scatter\"},{\"line\":{\"color\":\"purple\"},\"marker\":{\"color\":\"purple\",\"size\":6},\"mode\":\"lines+markers\",\"x\":[0.0216429438106569,0.0241429438106569,0.026642943810656898,0.029142943810656897,0.031642943810656896,0.0341429438106569,0.03664294381065689,0.03914294381065689,0.04164294381065689,0.04414294381065689,0.04664294381065689,0.04914294381065688,0.051642943810656886,0.05414294381065689,0.05664294381065688,0.05914294381065688,0.06164294381065688,0.06414294381065688],\"y\":[0.0004050993410990619,0.004810934458792672,0.006711732291404051,0.008270724489216742,0.009667289816518385,0.0107579692050086,0.011384747532292855,0.011882290040263581,0.012318934709198244,0.012719213452041484,0.013095152688245295,0.013453628578917073,0.012189835333147428,0.011780819757942337,0.01146843452446175,0.010939780930417599,0.010958722888788094,0.010734808840660614],\"type\":\"scatter\"},{\"marker\":{\"color\":\"red\",\"size\":7},\"mode\":\"markers\",\"opacity\":0.7,\"x\":[0.056889054316242735,0.06255023915742265,0.04271102186476983,0.02409490172433703,0.0461193000928183],\"y\":[0.011440509948098188,0.0001646750683600085,0.006449039425942275,-0.0024037733891619562,0.002527988665601598],\"type\":\"scatter\"}],                        {\"annotations\":[{\"font\":{\"color\":\"blue\",\"size\":8},\"showarrow\":false,\"text\":\"(0.02,0.0)\",\"x\":0.02596973270838893,\"y\":0.001298113305419022},{\"font\":{\"color\":\"blue\",\"size\":8},\"showarrow\":false,\"text\":\"(0.02,0.0)\",\"x\":0.026162893749374798,\"y\":0.002548113305419022},{\"font\":{\"color\":\"blue\",\"size\":8},\"showarrow\":false,\"text\":\"(0.02,0.0)\",\"x\":0.026709607495702007,\"y\":0.003798113305419022},{\"font\":{\"color\":\"blue\",\"size\":8},\"showarrow\":false,\"text\":\"(0.03,0.01)\",\"x\":0.027570671503450793,\"y\":0.0050481133054190224},{\"font\":{\"color\":\"blue\",\"size\":8},\"showarrow\":false,\"text\":\"(0.03,0.01)\",\"x\":0.028731660888216222,\"y\":0.006298113305419022},{\"font\":{\"color\":\"blue\",\"size\":8},\"showarrow\":false,\"text\":\"(0.03,0.01)\",\"x\":0.030161609218582634,\"y\":0.007548113305419023},{\"font\":{\"color\":\"blue\",\"size\":8},\"showarrow\":false,\"text\":\"(0.03,0.01)\",\"x\":0.03220728315163973,\"y\":0.008798113305419021},{\"font\":{\"color\":\"blue\",\"size\":8},\"showarrow\":false,\"text\":\"(0.03,0.01)\",\"x\":0.03451347001677928,\"y\":0.01004811330541902},{\"font\":{\"color\":\"blue\",\"size\":8},\"showarrow\":false,\"text\":\"(0.04,0.01)\",\"x\":0.038351382643559244,\"y\":0.011298113305419022},{\"font\":{\"color\":\"blue\",\"size\":8},\"showarrow\":false,\"text\":\"(0.04,0.01)\",\"x\":0.045152223628621625,\"y\":0.012548113305419021},{\"font\":{\"color\":\"blue\",\"size\":8},\"showarrow\":false,\"text\":\"(0.05,0.01)\",\"x\":0.05412824111830056,\"y\":0.01379811330541902},{\"font\":{\"color\":\"blue\",\"size\":8},\"showarrow\":false,\"text\":\"(0.06,0.02)\",\"x\":0.06476665126770442,\"y\":0.015048113305419022}],\"height\":400,\"margin\":{\"b\":30,\"l\":50,\"r\":20,\"t\":50},\"showlegend\":false,\"template\":{\"data\":{\"barpolar\":[{\"marker\":{\"line\":{\"color\":\"white\",\"width\":0.5},\"pattern\":{\"fillmode\":\"overlay\",\"size\":10,\"solidity\":0.2}},\"type\":\"barpolar\"}],\"bar\":[{\"error_x\":{\"color\":\"#2a3f5f\"},\"error_y\":{\"color\":\"#2a3f5f\"},\"marker\":{\"line\":{\"color\":\"white\",\"width\":0.5},\"pattern\":{\"fillmode\":\"overlay\",\"size\":10,\"solidity\":0.2}},\"type\":\"bar\"}],\"carpet\":[{\"aaxis\":{\"endlinecolor\":\"#2a3f5f\",\"gridcolor\":\"#C8D4E3\",\"linecolor\":\"#C8D4E3\",\"minorgridcolor\":\"#C8D4E3\",\"startlinecolor\":\"#2a3f5f\"},\"baxis\":{\"endlinecolor\":\"#2a3f5f\",\"gridcolor\":\"#C8D4E3\",\"linecolor\":\"#C8D4E3\",\"minorgridcolor\":\"#C8D4E3\",\"startlinecolor\":\"#2a3f5f\"},\"type\":\"carpet\"}],\"choropleth\":[{\"colorbar\":{\"outlinewidth\":0,\"ticks\":\"\"},\"type\":\"choropleth\"}],\"contourcarpet\":[{\"colorbar\":{\"outlinewidth\":0,\"ticks\":\"\"},\"type\":\"contourcarpet\"}],\"contour\":[{\"colorbar\":{\"outlinewidth\":0,\"ticks\":\"\"},\"colorscale\":[[0.0,\"#0d0887\"],[0.1111111111111111,\"#46039f\"],[0.2222222222222222,\"#7201a8\"],[0.3333333333333333,\"#9c179e\"],[0.4444444444444444,\"#bd3786\"],[0.5555555555555556,\"#d8576b\"],[0.6666666666666666,\"#ed7953\"],[0.7777777777777778,\"#fb9f3a\"],[0.8888888888888888,\"#fdca26\"],[1.0,\"#f0f921\"]],\"type\":\"contour\"}],\"heatmapgl\":[{\"colorbar\":{\"outlinewidth\":0,\"ticks\":\"\"},\"colorscale\":[[0.0,\"#0d0887\"],[0.1111111111111111,\"#46039f\"],[0.2222222222222222,\"#7201a8\"],[0.3333333333333333,\"#9c179e\"],[0.4444444444444444,\"#bd3786\"],[0.5555555555555556,\"#d8576b\"],[0.6666666666666666,\"#ed7953\"],[0.7777777777777778,\"#fb9f3a\"],[0.8888888888888888,\"#fdca26\"],[1.0,\"#f0f921\"]],\"type\":\"heatmapgl\"}],\"heatmap\":[{\"colorbar\":{\"outlinewidth\":0,\"ticks\":\"\"},\"colorscale\":[[0.0,\"#0d0887\"],[0.1111111111111111,\"#46039f\"],[0.2222222222222222,\"#7201a8\"],[0.3333333333333333,\"#9c179e\"],[0.4444444444444444,\"#bd3786\"],[0.5555555555555556,\"#d8576b\"],[0.6666666666666666,\"#ed7953\"],[0.7777777777777778,\"#fb9f3a\"],[0.8888888888888888,\"#fdca26\"],[1.0,\"#f0f921\"]],\"type\":\"heatmap\"}],\"histogram2dcontour\":[{\"colorbar\":{\"outlinewidth\":0,\"ticks\":\"\"},\"colorscale\":[[0.0,\"#0d0887\"],[0.1111111111111111,\"#46039f\"],[0.2222222222222222,\"#7201a8\"],[0.3333333333333333,\"#9c179e\"],[0.4444444444444444,\"#bd3786\"],[0.5555555555555556,\"#d8576b\"],[0.6666666666666666,\"#ed7953\"],[0.7777777777777778,\"#fb9f3a\"],[0.8888888888888888,\"#fdca26\"],[1.0,\"#f0f921\"]],\"type\":\"histogram2dcontour\"}],\"histogram2d\":[{\"colorbar\":{\"outlinewidth\":0,\"ticks\":\"\"},\"colorscale\":[[0.0,\"#0d0887\"],[0.1111111111111111,\"#46039f\"],[0.2222222222222222,\"#7201a8\"],[0.3333333333333333,\"#9c179e\"],[0.4444444444444444,\"#bd3786\"],[0.5555555555555556,\"#d8576b\"],[0.6666666666666666,\"#ed7953\"],[0.7777777777777778,\"#fb9f3a\"],[0.8888888888888888,\"#fdca26\"],[1.0,\"#f0f921\"]],\"type\":\"histogram2d\"}],\"histogram\":[{\"marker\":{\"pattern\":{\"fillmode\":\"overlay\",\"size\":10,\"solidity\":0.2}},\"type\":\"histogram\"}],\"mesh3d\":[{\"colorbar\":{\"outlinewidth\":0,\"ticks\":\"\"},\"type\":\"mesh3d\"}],\"parcoords\":[{\"line\":{\"colorbar\":{\"outlinewidth\":0,\"ticks\":\"\"}},\"type\":\"parcoords\"}],\"pie\":[{\"automargin\":true,\"type\":\"pie\"}],\"scatter3d\":[{\"line\":{\"colorbar\":{\"outlinewidth\":0,\"ticks\":\"\"}},\"marker\":{\"colorbar\":{\"outlinewidth\":0,\"ticks\":\"\"}},\"type\":\"scatter3d\"}],\"scattercarpet\":[{\"marker\":{\"colorbar\":{\"outlinewidth\":0,\"ticks\":\"\"}},\"type\":\"scattercarpet\"}],\"scattergeo\":[{\"marker\":{\"colorbar\":{\"outlinewidth\":0,\"ticks\":\"\"}},\"type\":\"scattergeo\"}],\"scattergl\":[{\"marker\":{\"colorbar\":{\"outlinewidth\":0,\"ticks\":\"\"}},\"type\":\"scattergl\"}],\"scattermapbox\":[{\"marker\":{\"colorbar\":{\"outlinewidth\":0,\"ticks\":\"\"}},\"type\":\"scattermapbox\"}],\"scatterpolargl\":[{\"marker\":{\"colorbar\":{\"outlinewidth\":0,\"ticks\":\"\"}},\"type\":\"scatterpolargl\"}],\"scatterpolar\":[{\"marker\":{\"colorbar\":{\"outlinewidth\":0,\"ticks\":\"\"}},\"type\":\"scatterpolar\"}],\"scatter\":[{\"fillpattern\":{\"fillmode\":\"overlay\",\"size\":10,\"solidity\":0.2},\"type\":\"scatter\"}],\"scatterternary\":[{\"marker\":{\"colorbar\":{\"outlinewidth\":0,\"ticks\":\"\"}},\"type\":\"scatterternary\"}],\"surface\":[{\"colorbar\":{\"outlinewidth\":0,\"ticks\":\"\"},\"colorscale\":[[0.0,\"#0d0887\"],[0.1111111111111111,\"#46039f\"],[0.2222222222222222,\"#7201a8\"],[0.3333333333333333,\"#9c179e\"],[0.4444444444444444,\"#bd3786\"],[0.5555555555555556,\"#d8576b\"],[0.6666666666666666,\"#ed7953\"],[0.7777777777777778,\"#fb9f3a\"],[0.8888888888888888,\"#fdca26\"],[1.0,\"#f0f921\"]],\"type\":\"surface\"}],\"table\":[{\"cells\":{\"fill\":{\"color\":\"#EBF0F8\"},\"line\":{\"color\":\"white\"}},\"header\":{\"fill\":{\"color\":\"#C8D4E3\"},\"line\":{\"color\":\"white\"}},\"type\":\"table\"}]},\"layout\":{\"annotationdefaults\":{\"arrowcolor\":\"#2a3f5f\",\"arrowhead\":0,\"arrowwidth\":1},\"autotypenumbers\":\"strict\",\"coloraxis\":{\"colorbar\":{\"outlinewidth\":0,\"ticks\":\"\"}},\"colorscale\":{\"diverging\":[[0,\"#8e0152\"],[0.1,\"#c51b7d\"],[0.2,\"#de77ae\"],[0.3,\"#f1b6da\"],[0.4,\"#fde0ef\"],[0.5,\"#f7f7f7\"],[0.6,\"#e6f5d0\"],[0.7,\"#b8e186\"],[0.8,\"#7fbc41\"],[0.9,\"#4d9221\"],[1,\"#276419\"]],\"sequential\":[[0.0,\"#0d0887\"],[0.1111111111111111,\"#46039f\"],[0.2222222222222222,\"#7201a8\"],[0.3333333333333333,\"#9c179e\"],[0.4444444444444444,\"#bd3786\"],[0.5555555555555556,\"#d8576b\"],[0.6666666666666666,\"#ed7953\"],[0.7777777777777778,\"#fb9f3a\"],[0.8888888888888888,\"#fdca26\"],[1.0,\"#f0f921\"]],\"sequentialminus\":[[0.0,\"#0d0887\"],[0.1111111111111111,\"#46039f\"],[0.2222222222222222,\"#7201a8\"],[0.3333333333333333,\"#9c179e\"],[0.4444444444444444,\"#bd3786\"],[0.5555555555555556,\"#d8576b\"],[0.6666666666666666,\"#ed7953\"],[0.7777777777777778,\"#fb9f3a\"],[0.8888888888888888,\"#fdca26\"],[1.0,\"#f0f921\"]]},\"colorway\":[\"#636efa\",\"#EF553B\",\"#00cc96\",\"#ab63fa\",\"#FFA15A\",\"#19d3f3\",\"#FF6692\",\"#B6E880\",\"#FF97FF\",\"#FECB52\"],\"font\":{\"color\":\"#2a3f5f\"},\"geo\":{\"bgcolor\":\"white\",\"lakecolor\":\"white\",\"landcolor\":\"white\",\"showlakes\":true,\"showland\":true,\"subunitcolor\":\"#C8D4E3\"},\"hoverlabel\":{\"align\":\"left\"},\"hovermode\":\"closest\",\"mapbox\":{\"style\":\"light\"},\"paper_bgcolor\":\"white\",\"plot_bgcolor\":\"white\",\"polar\":{\"angularaxis\":{\"gridcolor\":\"#EBF0F8\",\"linecolor\":\"#EBF0F8\",\"ticks\":\"\"},\"bgcolor\":\"white\",\"radialaxis\":{\"gridcolor\":\"#EBF0F8\",\"linecolor\":\"#EBF0F8\",\"ticks\":\"\"}},\"scene\":{\"xaxis\":{\"backgroundcolor\":\"white\",\"gridcolor\":\"#DFE8F3\",\"gridwidth\":2,\"linecolor\":\"#EBF0F8\",\"showbackground\":true,\"ticks\":\"\",\"zerolinecolor\":\"#EBF0F8\"},\"yaxis\":{\"backgroundcolor\":\"white\",\"gridcolor\":\"#DFE8F3\",\"gridwidth\":2,\"linecolor\":\"#EBF0F8\",\"showbackground\":true,\"ticks\":\"\",\"zerolinecolor\":\"#EBF0F8\"},\"zaxis\":{\"backgroundcolor\":\"white\",\"gridcolor\":\"#DFE8F3\",\"gridwidth\":2,\"linecolor\":\"#EBF0F8\",\"showbackground\":true,\"ticks\":\"\",\"zerolinecolor\":\"#EBF0F8\"}},\"shapedefaults\":{\"line\":{\"color\":\"#2a3f5f\"}},\"ternary\":{\"aaxis\":{\"gridcolor\":\"#DFE8F3\",\"linecolor\":\"#A2B1C6\",\"ticks\":\"\"},\"baxis\":{\"gridcolor\":\"#DFE8F3\",\"linecolor\":\"#A2B1C6\",\"ticks\":\"\"},\"bgcolor\":\"white\",\"caxis\":{\"gridcolor\":\"#DFE8F3\",\"linecolor\":\"#A2B1C6\",\"ticks\":\"\"}},\"title\":{\"x\":0.05},\"xaxis\":{\"automargin\":true,\"gridcolor\":\"#EBF0F8\",\"linecolor\":\"#EBF0F8\",\"ticks\":\"\",\"title\":{\"standoff\":15},\"zerolinecolor\":\"#EBF0F8\",\"zerolinewidth\":2},\"yaxis\":{\"automargin\":true,\"gridcolor\":\"#EBF0F8\",\"linecolor\":\"#EBF0F8\",\"ticks\":\"\",\"title\":{\"standoff\":15},\"zerolinecolor\":\"#EBF0F8\",\"zerolinewidth\":2}}},\"title\":{\"font\":{\"size\":10},\"text\":\"\\u003cb\\u003eFrontera Eficiente \\u003c\\u002fb\\u003e \",\"xanchor\":\"left\"},\"width\":550},                        {\"responsive\": true}                    ).then(function(){\n",
       "                            \n",
       "var gd = document.getElementById('50aac027-1fea-40f7-9d94-60f2c5b8bba4');\n",
       "var x = new MutationObserver(function (mutations, observer) {{\n",
       "        var display = window.getComputedStyle(gd).display;\n",
       "        if (!display || display === 'none') {{\n",
       "            console.log([gd, 'removed!']);\n",
       "            Plotly.purge(gd);\n",
       "            observer.disconnect();\n",
       "        }}\n",
       "}});\n",
       "\n",
       "// Listen for the removal of the full notebook cells\n",
       "var notebookContainer = gd.closest('#notebook-container');\n",
       "if (notebookContainer) {{\n",
       "    x.observe(notebookContainer, {childList: true});\n",
       "}}\n",
       "\n",
       "// Listen for the clearing of the current output cell\n",
       "var outputEl = gd.closest('.output');\n",
       "if (outputEl) {{\n",
       "    x.observe(outputEl, {childList: true});\n",
       "}}\n",
       "\n",
       "                        })                };                });            </script>        </div>"
      ]
     },
     "metadata": {},
     "output_type": "display_data"
    }
   ],
   "source": [
    "def scat(traces,annots=[]):\n",
    "  layout = go.Layout(width=550,height=400,margin=dict(l=50,r=20,b=30,t=50),template='plotly_white',\n",
    "                    annotations=annots,\n",
    "                    showlegend=False,\n",
    "                    title={'text':'<b>Frontera Eficiente </b> ','xanchor':'left','font':{'size':10}},\n",
    "                  )\n",
    "  fig = go.Figure(data=traces, layout=layout)\n",
    "  po.init_notebook_mode(connected=True)\n",
    "  config = {'showLink':False}\n",
    "  po.iplot(fig,config=config)\n",
    "\n",
    "     \n",
    "\n",
    "traces=[]\n",
    "temp = eff.iloc[2:]\n",
    "traces.append(go.Scatter(x=temp,y=temp.index,mode='lines+markers',line={'color':'dodgerblue'},marker={'size':6,'color':'blue'}))\n",
    "traces.append(go.Scatter(x=eff_v.index,y=eff_v,mode='lines+markers',line={'color':'purple'},marker={'size':6,'color':'purple'}))\n",
    "traces.append(go.Scatter(x=expvol,y=expret,mode='markers',marker={'size':7,'color':'red'},opacity=0.7))\n",
    "annots = [{'x':temp.loc[i]+0.0021,'y':i,'text':'('+str(temp.round(2).loc[i])+','+str(round(i,2))+')','showarrow':False,'font':{'size':8,'color':'blue'}} for i in temp.index]\n",
    "scat(traces,annots)"
   ]
  },
  {
   "cell_type": "code",
   "execution_count": 308,
   "metadata": {},
   "outputs": [
    {
     "name": "stderr",
     "output_type": "stream",
     "text": [
      "c:\\Users\\maria\\AppData\\Local\\Programs\\Python\\Python310\\lib\\site-packages\\scipy\\optimize\\_optimize.py:284: RuntimeWarning:\n",
      "\n",
      "Values in x were outside bounds during a minimize step, clipping to bounds\n",
      "\n"
     ]
    }
   ],
   "source": [
    "#Solución de minimos locales usando basinhopping\n",
    "def mvo(rr,covar):\n",
    "    r_={}\n",
    "    r_bh={}\n",
    "    for q in np.arange(min_v-0.003, max_v +0.002, 0.0025):\n",
    "        def varp(x):\n",
    "            return np.dot(np.matmul(x,covar),x)-q**2\n",
    "        def rfun(x):\n",
    "            return -np.dot(x,rr)\n",
    "        cons  = [{'type': 'eq', 'fun': varp},{'type': 'eq', 'fun': w}]\n",
    "        res = minimize(rfun,x0,bounds=bnds,constraints=cons)\n",
    "        res_ = basinhopping(rfun, x0, minimizer_kwargs={'bounds':bnds,'constraints':cons},niter=200)\n",
    "        r_[q] = -rfun(res.x)\n",
    "        r_bh[q] = -rfun(res_.x)\n",
    "\n",
    "    return pd.Series(r_),pd.Series(r_bh)\n",
    "r_,r_bh= mvo(expret,covar)"
   ]
  },
  {
   "cell_type": "code",
   "execution_count": 309,
   "metadata": {},
   "outputs": [
    {
     "data": {
      "text/html": [
       "        <script type=\"text/javascript\">\n",
       "        window.PlotlyConfig = {MathJaxConfig: 'local'};\n",
       "        if (window.MathJax && window.MathJax.Hub && window.MathJax.Hub.Config) {window.MathJax.Hub.Config({SVG: {font: \"STIX-Web\"}});}\n",
       "        if (typeof require !== 'undefined') {\n",
       "        require.undef(\"plotly\");\n",
       "        requirejs.config({\n",
       "            paths: {\n",
       "                'plotly': ['https://cdn.plot.ly/plotly-2.25.2.min']\n",
       "            }\n",
       "        });\n",
       "        require(['plotly'], function(Plotly) {\n",
       "            window._Plotly = Plotly;\n",
       "        });\n",
       "        }\n",
       "        </script>\n",
       "        "
      ]
     },
     "metadata": {},
     "output_type": "display_data"
    },
    {
     "data": {
      "application/vnd.plotly.v1+json": {
       "config": {
        "linkText": "Export to plot.ly",
        "plotlyServerURL": "https://plot.ly",
        "showLink": false
       },
       "data": [
        {
         "line": {
          "color": "purple"
         },
         "marker": {
          "color": "purple",
          "size": 6
         },
         "mode": "lines+markers",
         "type": "scatter",
         "x": [
          0.0216429438106569,
          0.0241429438106569,
          0.026642943810656898,
          0.029142943810656897,
          0.031642943810656896,
          0.0341429438106569,
          0.03664294381065689,
          0.03914294381065689,
          0.04164294381065689,
          0.04414294381065689,
          0.04664294381065689,
          0.04914294381065688,
          0.051642943810656886,
          0.05414294381065689,
          0.05664294381065688,
          0.05914294381065688,
          0.06164294381065688,
          0.06414294381065688
         ],
         "y": [
          0.0007605394089896065,
          0.004815608253347122,
          0.006719651616480762,
          0.008277328952983864,
          0.009671242171097588,
          0.010761207520913316,
          0.011386497673930338,
          0.011884409877270796,
          0.012320022469412521,
          0.012720473050071401,
          0.013096202200405225,
          0.01345452951588132,
          0.013799801068389145,
          0.014134673837271466,
          0.0153391865625038,
          0.014713425611659534,
          0.015339043962278934,
          0.015362645933276419
         ]
        },
        {
         "line": {
          "color": "blue"
         },
         "marker": {
          "color": "blue",
          "size": 6
         },
         "mode": "lines+markers",
         "type": "scatter",
         "x": [
          0.0216429438106569,
          0.0241429438106569,
          0.026642943810656898,
          0.029142943810656897,
          0.031642943810656896,
          0.0341429438106569,
          0.03664294381065689,
          0.03914294381065689,
          0.04164294381065689,
          0.04414294381065689,
          0.04664294381065689,
          0.04914294381065688,
          0.051642943810656886,
          0.05414294381065689,
          0.05664294381065688,
          0.05914294381065688,
          0.06164294381065688,
          0.06414294381065688
         ],
         "y": [
          0.0004046800431044284,
          0.004811158282361561,
          0.006711109692358326,
          0.00826949786217687,
          0.009667332587643797,
          0.0107579692050086,
          0.011384774947226898,
          0.01188258580776144,
          0.012319235014803375,
          0.012719539517530746,
          0.013095152688245295,
          0.01345371414266639,
          0.012189835333147428,
          0.010988977795989377,
          0.010983951115494292,
          0.010939780930417599,
          0.010958722888788094,
          0.01071590356724956
         ]
        },
        {
         "marker": {
          "color": "red",
          "size": 7
         },
         "mode": "markers",
         "opacity": 0.7,
         "type": "scatter",
         "x": [
          0.056889054316242735,
          0.06255023915742265,
          0.04271102186476983,
          0.02409490172433703,
          0.0461193000928183
         ],
         "y": [
          0.011440509948098188,
          0.0001646750683600085,
          0.006449039425942275,
          -0.0024037733891619562,
          0.002527988665601598
         ]
        }
       ],
       "layout": {
        "height": 400,
        "margin": {
         "b": 30,
         "l": 50,
         "r": 20,
         "t": 50
        },
        "showlegend": false,
        "template": {
         "data": {
          "bar": [
           {
            "error_x": {
             "color": "#2a3f5f"
            },
            "error_y": {
             "color": "#2a3f5f"
            },
            "marker": {
             "line": {
              "color": "white",
              "width": 0.5
             },
             "pattern": {
              "fillmode": "overlay",
              "size": 10,
              "solidity": 0.2
             }
            },
            "type": "bar"
           }
          ],
          "barpolar": [
           {
            "marker": {
             "line": {
              "color": "white",
              "width": 0.5
             },
             "pattern": {
              "fillmode": "overlay",
              "size": 10,
              "solidity": 0.2
             }
            },
            "type": "barpolar"
           }
          ],
          "carpet": [
           {
            "aaxis": {
             "endlinecolor": "#2a3f5f",
             "gridcolor": "#C8D4E3",
             "linecolor": "#C8D4E3",
             "minorgridcolor": "#C8D4E3",
             "startlinecolor": "#2a3f5f"
            },
            "baxis": {
             "endlinecolor": "#2a3f5f",
             "gridcolor": "#C8D4E3",
             "linecolor": "#C8D4E3",
             "minorgridcolor": "#C8D4E3",
             "startlinecolor": "#2a3f5f"
            },
            "type": "carpet"
           }
          ],
          "choropleth": [
           {
            "colorbar": {
             "outlinewidth": 0,
             "ticks": ""
            },
            "type": "choropleth"
           }
          ],
          "contour": [
           {
            "colorbar": {
             "outlinewidth": 0,
             "ticks": ""
            },
            "colorscale": [
             [
              0,
              "#0d0887"
             ],
             [
              0.1111111111111111,
              "#46039f"
             ],
             [
              0.2222222222222222,
              "#7201a8"
             ],
             [
              0.3333333333333333,
              "#9c179e"
             ],
             [
              0.4444444444444444,
              "#bd3786"
             ],
             [
              0.5555555555555556,
              "#d8576b"
             ],
             [
              0.6666666666666666,
              "#ed7953"
             ],
             [
              0.7777777777777778,
              "#fb9f3a"
             ],
             [
              0.8888888888888888,
              "#fdca26"
             ],
             [
              1,
              "#f0f921"
             ]
            ],
            "type": "contour"
           }
          ],
          "contourcarpet": [
           {
            "colorbar": {
             "outlinewidth": 0,
             "ticks": ""
            },
            "type": "contourcarpet"
           }
          ],
          "heatmap": [
           {
            "colorbar": {
             "outlinewidth": 0,
             "ticks": ""
            },
            "colorscale": [
             [
              0,
              "#0d0887"
             ],
             [
              0.1111111111111111,
              "#46039f"
             ],
             [
              0.2222222222222222,
              "#7201a8"
             ],
             [
              0.3333333333333333,
              "#9c179e"
             ],
             [
              0.4444444444444444,
              "#bd3786"
             ],
             [
              0.5555555555555556,
              "#d8576b"
             ],
             [
              0.6666666666666666,
              "#ed7953"
             ],
             [
              0.7777777777777778,
              "#fb9f3a"
             ],
             [
              0.8888888888888888,
              "#fdca26"
             ],
             [
              1,
              "#f0f921"
             ]
            ],
            "type": "heatmap"
           }
          ],
          "heatmapgl": [
           {
            "colorbar": {
             "outlinewidth": 0,
             "ticks": ""
            },
            "colorscale": [
             [
              0,
              "#0d0887"
             ],
             [
              0.1111111111111111,
              "#46039f"
             ],
             [
              0.2222222222222222,
              "#7201a8"
             ],
             [
              0.3333333333333333,
              "#9c179e"
             ],
             [
              0.4444444444444444,
              "#bd3786"
             ],
             [
              0.5555555555555556,
              "#d8576b"
             ],
             [
              0.6666666666666666,
              "#ed7953"
             ],
             [
              0.7777777777777778,
              "#fb9f3a"
             ],
             [
              0.8888888888888888,
              "#fdca26"
             ],
             [
              1,
              "#f0f921"
             ]
            ],
            "type": "heatmapgl"
           }
          ],
          "histogram": [
           {
            "marker": {
             "pattern": {
              "fillmode": "overlay",
              "size": 10,
              "solidity": 0.2
             }
            },
            "type": "histogram"
           }
          ],
          "histogram2d": [
           {
            "colorbar": {
             "outlinewidth": 0,
             "ticks": ""
            },
            "colorscale": [
             [
              0,
              "#0d0887"
             ],
             [
              0.1111111111111111,
              "#46039f"
             ],
             [
              0.2222222222222222,
              "#7201a8"
             ],
             [
              0.3333333333333333,
              "#9c179e"
             ],
             [
              0.4444444444444444,
              "#bd3786"
             ],
             [
              0.5555555555555556,
              "#d8576b"
             ],
             [
              0.6666666666666666,
              "#ed7953"
             ],
             [
              0.7777777777777778,
              "#fb9f3a"
             ],
             [
              0.8888888888888888,
              "#fdca26"
             ],
             [
              1,
              "#f0f921"
             ]
            ],
            "type": "histogram2d"
           }
          ],
          "histogram2dcontour": [
           {
            "colorbar": {
             "outlinewidth": 0,
             "ticks": ""
            },
            "colorscale": [
             [
              0,
              "#0d0887"
             ],
             [
              0.1111111111111111,
              "#46039f"
             ],
             [
              0.2222222222222222,
              "#7201a8"
             ],
             [
              0.3333333333333333,
              "#9c179e"
             ],
             [
              0.4444444444444444,
              "#bd3786"
             ],
             [
              0.5555555555555556,
              "#d8576b"
             ],
             [
              0.6666666666666666,
              "#ed7953"
             ],
             [
              0.7777777777777778,
              "#fb9f3a"
             ],
             [
              0.8888888888888888,
              "#fdca26"
             ],
             [
              1,
              "#f0f921"
             ]
            ],
            "type": "histogram2dcontour"
           }
          ],
          "mesh3d": [
           {
            "colorbar": {
             "outlinewidth": 0,
             "ticks": ""
            },
            "type": "mesh3d"
           }
          ],
          "parcoords": [
           {
            "line": {
             "colorbar": {
              "outlinewidth": 0,
              "ticks": ""
             }
            },
            "type": "parcoords"
           }
          ],
          "pie": [
           {
            "automargin": true,
            "type": "pie"
           }
          ],
          "scatter": [
           {
            "fillpattern": {
             "fillmode": "overlay",
             "size": 10,
             "solidity": 0.2
            },
            "type": "scatter"
           }
          ],
          "scatter3d": [
           {
            "line": {
             "colorbar": {
              "outlinewidth": 0,
              "ticks": ""
             }
            },
            "marker": {
             "colorbar": {
              "outlinewidth": 0,
              "ticks": ""
             }
            },
            "type": "scatter3d"
           }
          ],
          "scattercarpet": [
           {
            "marker": {
             "colorbar": {
              "outlinewidth": 0,
              "ticks": ""
             }
            },
            "type": "scattercarpet"
           }
          ],
          "scattergeo": [
           {
            "marker": {
             "colorbar": {
              "outlinewidth": 0,
              "ticks": ""
             }
            },
            "type": "scattergeo"
           }
          ],
          "scattergl": [
           {
            "marker": {
             "colorbar": {
              "outlinewidth": 0,
              "ticks": ""
             }
            },
            "type": "scattergl"
           }
          ],
          "scattermapbox": [
           {
            "marker": {
             "colorbar": {
              "outlinewidth": 0,
              "ticks": ""
             }
            },
            "type": "scattermapbox"
           }
          ],
          "scatterpolar": [
           {
            "marker": {
             "colorbar": {
              "outlinewidth": 0,
              "ticks": ""
             }
            },
            "type": "scatterpolar"
           }
          ],
          "scatterpolargl": [
           {
            "marker": {
             "colorbar": {
              "outlinewidth": 0,
              "ticks": ""
             }
            },
            "type": "scatterpolargl"
           }
          ],
          "scatterternary": [
           {
            "marker": {
             "colorbar": {
              "outlinewidth": 0,
              "ticks": ""
             }
            },
            "type": "scatterternary"
           }
          ],
          "surface": [
           {
            "colorbar": {
             "outlinewidth": 0,
             "ticks": ""
            },
            "colorscale": [
             [
              0,
              "#0d0887"
             ],
             [
              0.1111111111111111,
              "#46039f"
             ],
             [
              0.2222222222222222,
              "#7201a8"
             ],
             [
              0.3333333333333333,
              "#9c179e"
             ],
             [
              0.4444444444444444,
              "#bd3786"
             ],
             [
              0.5555555555555556,
              "#d8576b"
             ],
             [
              0.6666666666666666,
              "#ed7953"
             ],
             [
              0.7777777777777778,
              "#fb9f3a"
             ],
             [
              0.8888888888888888,
              "#fdca26"
             ],
             [
              1,
              "#f0f921"
             ]
            ],
            "type": "surface"
           }
          ],
          "table": [
           {
            "cells": {
             "fill": {
              "color": "#EBF0F8"
             },
             "line": {
              "color": "white"
             }
            },
            "header": {
             "fill": {
              "color": "#C8D4E3"
             },
             "line": {
              "color": "white"
             }
            },
            "type": "table"
           }
          ]
         },
         "layout": {
          "annotationdefaults": {
           "arrowcolor": "#2a3f5f",
           "arrowhead": 0,
           "arrowwidth": 1
          },
          "autotypenumbers": "strict",
          "coloraxis": {
           "colorbar": {
            "outlinewidth": 0,
            "ticks": ""
           }
          },
          "colorscale": {
           "diverging": [
            [
             0,
             "#8e0152"
            ],
            [
             0.1,
             "#c51b7d"
            ],
            [
             0.2,
             "#de77ae"
            ],
            [
             0.3,
             "#f1b6da"
            ],
            [
             0.4,
             "#fde0ef"
            ],
            [
             0.5,
             "#f7f7f7"
            ],
            [
             0.6,
             "#e6f5d0"
            ],
            [
             0.7,
             "#b8e186"
            ],
            [
             0.8,
             "#7fbc41"
            ],
            [
             0.9,
             "#4d9221"
            ],
            [
             1,
             "#276419"
            ]
           ],
           "sequential": [
            [
             0,
             "#0d0887"
            ],
            [
             0.1111111111111111,
             "#46039f"
            ],
            [
             0.2222222222222222,
             "#7201a8"
            ],
            [
             0.3333333333333333,
             "#9c179e"
            ],
            [
             0.4444444444444444,
             "#bd3786"
            ],
            [
             0.5555555555555556,
             "#d8576b"
            ],
            [
             0.6666666666666666,
             "#ed7953"
            ],
            [
             0.7777777777777778,
             "#fb9f3a"
            ],
            [
             0.8888888888888888,
             "#fdca26"
            ],
            [
             1,
             "#f0f921"
            ]
           ],
           "sequentialminus": [
            [
             0,
             "#0d0887"
            ],
            [
             0.1111111111111111,
             "#46039f"
            ],
            [
             0.2222222222222222,
             "#7201a8"
            ],
            [
             0.3333333333333333,
             "#9c179e"
            ],
            [
             0.4444444444444444,
             "#bd3786"
            ],
            [
             0.5555555555555556,
             "#d8576b"
            ],
            [
             0.6666666666666666,
             "#ed7953"
            ],
            [
             0.7777777777777778,
             "#fb9f3a"
            ],
            [
             0.8888888888888888,
             "#fdca26"
            ],
            [
             1,
             "#f0f921"
            ]
           ]
          },
          "colorway": [
           "#636efa",
           "#EF553B",
           "#00cc96",
           "#ab63fa",
           "#FFA15A",
           "#19d3f3",
           "#FF6692",
           "#B6E880",
           "#FF97FF",
           "#FECB52"
          ],
          "font": {
           "color": "#2a3f5f"
          },
          "geo": {
           "bgcolor": "white",
           "lakecolor": "white",
           "landcolor": "white",
           "showlakes": true,
           "showland": true,
           "subunitcolor": "#C8D4E3"
          },
          "hoverlabel": {
           "align": "left"
          },
          "hovermode": "closest",
          "mapbox": {
           "style": "light"
          },
          "paper_bgcolor": "white",
          "plot_bgcolor": "white",
          "polar": {
           "angularaxis": {
            "gridcolor": "#EBF0F8",
            "linecolor": "#EBF0F8",
            "ticks": ""
           },
           "bgcolor": "white",
           "radialaxis": {
            "gridcolor": "#EBF0F8",
            "linecolor": "#EBF0F8",
            "ticks": ""
           }
          },
          "scene": {
           "xaxis": {
            "backgroundcolor": "white",
            "gridcolor": "#DFE8F3",
            "gridwidth": 2,
            "linecolor": "#EBF0F8",
            "showbackground": true,
            "ticks": "",
            "zerolinecolor": "#EBF0F8"
           },
           "yaxis": {
            "backgroundcolor": "white",
            "gridcolor": "#DFE8F3",
            "gridwidth": 2,
            "linecolor": "#EBF0F8",
            "showbackground": true,
            "ticks": "",
            "zerolinecolor": "#EBF0F8"
           },
           "zaxis": {
            "backgroundcolor": "white",
            "gridcolor": "#DFE8F3",
            "gridwidth": 2,
            "linecolor": "#EBF0F8",
            "showbackground": true,
            "ticks": "",
            "zerolinecolor": "#EBF0F8"
           }
          },
          "shapedefaults": {
           "line": {
            "color": "#2a3f5f"
           }
          },
          "ternary": {
           "aaxis": {
            "gridcolor": "#DFE8F3",
            "linecolor": "#A2B1C6",
            "ticks": ""
           },
           "baxis": {
            "gridcolor": "#DFE8F3",
            "linecolor": "#A2B1C6",
            "ticks": ""
           },
           "bgcolor": "white",
           "caxis": {
            "gridcolor": "#DFE8F3",
            "linecolor": "#A2B1C6",
            "ticks": ""
           }
          },
          "title": {
           "x": 0.05
          },
          "xaxis": {
           "automargin": true,
           "gridcolor": "#EBF0F8",
           "linecolor": "#EBF0F8",
           "ticks": "",
           "title": {
            "standoff": 15
           },
           "zerolinecolor": "#EBF0F8",
           "zerolinewidth": 2
          },
          "yaxis": {
           "automargin": true,
           "gridcolor": "#EBF0F8",
           "linecolor": "#EBF0F8",
           "ticks": "",
           "title": {
            "standoff": 15
           },
           "zerolinecolor": "#EBF0F8",
           "zerolinewidth": 2
          }
         }
        },
        "title": {
         "font": {
          "size": 10
         },
         "text": "<b>Comparativo minimize vs basinhopping </b> ",
         "xanchor": "left"
        },
        "width": 550
       }
      },
      "text/html": [
       "<div>                            <div id=\"89fa207b-ca19-4bca-9d34-556653c87f53\" class=\"plotly-graph-div\" style=\"height:400px; width:550px;\"></div>            <script type=\"text/javascript\">                require([\"plotly\"], function(Plotly) {                    window.PLOTLYENV=window.PLOTLYENV || {};                                    if (document.getElementById(\"89fa207b-ca19-4bca-9d34-556653c87f53\")) {                    Plotly.newPlot(                        \"89fa207b-ca19-4bca-9d34-556653c87f53\",                        [{\"line\":{\"color\":\"purple\"},\"marker\":{\"color\":\"purple\",\"size\":6},\"mode\":\"lines+markers\",\"x\":[0.0216429438106569,0.0241429438106569,0.026642943810656898,0.029142943810656897,0.031642943810656896,0.0341429438106569,0.03664294381065689,0.03914294381065689,0.04164294381065689,0.04414294381065689,0.04664294381065689,0.04914294381065688,0.051642943810656886,0.05414294381065689,0.05664294381065688,0.05914294381065688,0.06164294381065688,0.06414294381065688],\"y\":[0.0007605394089896065,0.004815608253347122,0.006719651616480762,0.008277328952983864,0.009671242171097588,0.010761207520913316,0.011386497673930338,0.011884409877270796,0.012320022469412521,0.012720473050071401,0.013096202200405225,0.01345452951588132,0.013799801068389145,0.014134673837271466,0.0153391865625038,0.014713425611659534,0.015339043962278934,0.015362645933276419],\"type\":\"scatter\"},{\"line\":{\"color\":\"blue\"},\"marker\":{\"color\":\"blue\",\"size\":6},\"mode\":\"lines+markers\",\"x\":[0.0216429438106569,0.0241429438106569,0.026642943810656898,0.029142943810656897,0.031642943810656896,0.0341429438106569,0.03664294381065689,0.03914294381065689,0.04164294381065689,0.04414294381065689,0.04664294381065689,0.04914294381065688,0.051642943810656886,0.05414294381065689,0.05664294381065688,0.05914294381065688,0.06164294381065688,0.06414294381065688],\"y\":[0.0004046800431044284,0.004811158282361561,0.006711109692358326,0.00826949786217687,0.009667332587643797,0.0107579692050086,0.011384774947226898,0.01188258580776144,0.012319235014803375,0.012719539517530746,0.013095152688245295,0.01345371414266639,0.012189835333147428,0.010988977795989377,0.010983951115494292,0.010939780930417599,0.010958722888788094,0.01071590356724956],\"type\":\"scatter\"},{\"marker\":{\"color\":\"red\",\"size\":7},\"mode\":\"markers\",\"opacity\":0.7,\"x\":[0.056889054316242735,0.06255023915742265,0.04271102186476983,0.02409490172433703,0.0461193000928183],\"y\":[0.011440509948098188,0.0001646750683600085,0.006449039425942275,-0.0024037733891619562,0.002527988665601598],\"type\":\"scatter\"}],                        {\"height\":400,\"margin\":{\"b\":30,\"l\":50,\"r\":20,\"t\":50},\"showlegend\":false,\"template\":{\"data\":{\"barpolar\":[{\"marker\":{\"line\":{\"color\":\"white\",\"width\":0.5},\"pattern\":{\"fillmode\":\"overlay\",\"size\":10,\"solidity\":0.2}},\"type\":\"barpolar\"}],\"bar\":[{\"error_x\":{\"color\":\"#2a3f5f\"},\"error_y\":{\"color\":\"#2a3f5f\"},\"marker\":{\"line\":{\"color\":\"white\",\"width\":0.5},\"pattern\":{\"fillmode\":\"overlay\",\"size\":10,\"solidity\":0.2}},\"type\":\"bar\"}],\"carpet\":[{\"aaxis\":{\"endlinecolor\":\"#2a3f5f\",\"gridcolor\":\"#C8D4E3\",\"linecolor\":\"#C8D4E3\",\"minorgridcolor\":\"#C8D4E3\",\"startlinecolor\":\"#2a3f5f\"},\"baxis\":{\"endlinecolor\":\"#2a3f5f\",\"gridcolor\":\"#C8D4E3\",\"linecolor\":\"#C8D4E3\",\"minorgridcolor\":\"#C8D4E3\",\"startlinecolor\":\"#2a3f5f\"},\"type\":\"carpet\"}],\"choropleth\":[{\"colorbar\":{\"outlinewidth\":0,\"ticks\":\"\"},\"type\":\"choropleth\"}],\"contourcarpet\":[{\"colorbar\":{\"outlinewidth\":0,\"ticks\":\"\"},\"type\":\"contourcarpet\"}],\"contour\":[{\"colorbar\":{\"outlinewidth\":0,\"ticks\":\"\"},\"colorscale\":[[0.0,\"#0d0887\"],[0.1111111111111111,\"#46039f\"],[0.2222222222222222,\"#7201a8\"],[0.3333333333333333,\"#9c179e\"],[0.4444444444444444,\"#bd3786\"],[0.5555555555555556,\"#d8576b\"],[0.6666666666666666,\"#ed7953\"],[0.7777777777777778,\"#fb9f3a\"],[0.8888888888888888,\"#fdca26\"],[1.0,\"#f0f921\"]],\"type\":\"contour\"}],\"heatmapgl\":[{\"colorbar\":{\"outlinewidth\":0,\"ticks\":\"\"},\"colorscale\":[[0.0,\"#0d0887\"],[0.1111111111111111,\"#46039f\"],[0.2222222222222222,\"#7201a8\"],[0.3333333333333333,\"#9c179e\"],[0.4444444444444444,\"#bd3786\"],[0.5555555555555556,\"#d8576b\"],[0.6666666666666666,\"#ed7953\"],[0.7777777777777778,\"#fb9f3a\"],[0.8888888888888888,\"#fdca26\"],[1.0,\"#f0f921\"]],\"type\":\"heatmapgl\"}],\"heatmap\":[{\"colorbar\":{\"outlinewidth\":0,\"ticks\":\"\"},\"colorscale\":[[0.0,\"#0d0887\"],[0.1111111111111111,\"#46039f\"],[0.2222222222222222,\"#7201a8\"],[0.3333333333333333,\"#9c179e\"],[0.4444444444444444,\"#bd3786\"],[0.5555555555555556,\"#d8576b\"],[0.6666666666666666,\"#ed7953\"],[0.7777777777777778,\"#fb9f3a\"],[0.8888888888888888,\"#fdca26\"],[1.0,\"#f0f921\"]],\"type\":\"heatmap\"}],\"histogram2dcontour\":[{\"colorbar\":{\"outlinewidth\":0,\"ticks\":\"\"},\"colorscale\":[[0.0,\"#0d0887\"],[0.1111111111111111,\"#46039f\"],[0.2222222222222222,\"#7201a8\"],[0.3333333333333333,\"#9c179e\"],[0.4444444444444444,\"#bd3786\"],[0.5555555555555556,\"#d8576b\"],[0.6666666666666666,\"#ed7953\"],[0.7777777777777778,\"#fb9f3a\"],[0.8888888888888888,\"#fdca26\"],[1.0,\"#f0f921\"]],\"type\":\"histogram2dcontour\"}],\"histogram2d\":[{\"colorbar\":{\"outlinewidth\":0,\"ticks\":\"\"},\"colorscale\":[[0.0,\"#0d0887\"],[0.1111111111111111,\"#46039f\"],[0.2222222222222222,\"#7201a8\"],[0.3333333333333333,\"#9c179e\"],[0.4444444444444444,\"#bd3786\"],[0.5555555555555556,\"#d8576b\"],[0.6666666666666666,\"#ed7953\"],[0.7777777777777778,\"#fb9f3a\"],[0.8888888888888888,\"#fdca26\"],[1.0,\"#f0f921\"]],\"type\":\"histogram2d\"}],\"histogram\":[{\"marker\":{\"pattern\":{\"fillmode\":\"overlay\",\"size\":10,\"solidity\":0.2}},\"type\":\"histogram\"}],\"mesh3d\":[{\"colorbar\":{\"outlinewidth\":0,\"ticks\":\"\"},\"type\":\"mesh3d\"}],\"parcoords\":[{\"line\":{\"colorbar\":{\"outlinewidth\":0,\"ticks\":\"\"}},\"type\":\"parcoords\"}],\"pie\":[{\"automargin\":true,\"type\":\"pie\"}],\"scatter3d\":[{\"line\":{\"colorbar\":{\"outlinewidth\":0,\"ticks\":\"\"}},\"marker\":{\"colorbar\":{\"outlinewidth\":0,\"ticks\":\"\"}},\"type\":\"scatter3d\"}],\"scattercarpet\":[{\"marker\":{\"colorbar\":{\"outlinewidth\":0,\"ticks\":\"\"}},\"type\":\"scattercarpet\"}],\"scattergeo\":[{\"marker\":{\"colorbar\":{\"outlinewidth\":0,\"ticks\":\"\"}},\"type\":\"scattergeo\"}],\"scattergl\":[{\"marker\":{\"colorbar\":{\"outlinewidth\":0,\"ticks\":\"\"}},\"type\":\"scattergl\"}],\"scattermapbox\":[{\"marker\":{\"colorbar\":{\"outlinewidth\":0,\"ticks\":\"\"}},\"type\":\"scattermapbox\"}],\"scatterpolargl\":[{\"marker\":{\"colorbar\":{\"outlinewidth\":0,\"ticks\":\"\"}},\"type\":\"scatterpolargl\"}],\"scatterpolar\":[{\"marker\":{\"colorbar\":{\"outlinewidth\":0,\"ticks\":\"\"}},\"type\":\"scatterpolar\"}],\"scatter\":[{\"fillpattern\":{\"fillmode\":\"overlay\",\"size\":10,\"solidity\":0.2},\"type\":\"scatter\"}],\"scatterternary\":[{\"marker\":{\"colorbar\":{\"outlinewidth\":0,\"ticks\":\"\"}},\"type\":\"scatterternary\"}],\"surface\":[{\"colorbar\":{\"outlinewidth\":0,\"ticks\":\"\"},\"colorscale\":[[0.0,\"#0d0887\"],[0.1111111111111111,\"#46039f\"],[0.2222222222222222,\"#7201a8\"],[0.3333333333333333,\"#9c179e\"],[0.4444444444444444,\"#bd3786\"],[0.5555555555555556,\"#d8576b\"],[0.6666666666666666,\"#ed7953\"],[0.7777777777777778,\"#fb9f3a\"],[0.8888888888888888,\"#fdca26\"],[1.0,\"#f0f921\"]],\"type\":\"surface\"}],\"table\":[{\"cells\":{\"fill\":{\"color\":\"#EBF0F8\"},\"line\":{\"color\":\"white\"}},\"header\":{\"fill\":{\"color\":\"#C8D4E3\"},\"line\":{\"color\":\"white\"}},\"type\":\"table\"}]},\"layout\":{\"annotationdefaults\":{\"arrowcolor\":\"#2a3f5f\",\"arrowhead\":0,\"arrowwidth\":1},\"autotypenumbers\":\"strict\",\"coloraxis\":{\"colorbar\":{\"outlinewidth\":0,\"ticks\":\"\"}},\"colorscale\":{\"diverging\":[[0,\"#8e0152\"],[0.1,\"#c51b7d\"],[0.2,\"#de77ae\"],[0.3,\"#f1b6da\"],[0.4,\"#fde0ef\"],[0.5,\"#f7f7f7\"],[0.6,\"#e6f5d0\"],[0.7,\"#b8e186\"],[0.8,\"#7fbc41\"],[0.9,\"#4d9221\"],[1,\"#276419\"]],\"sequential\":[[0.0,\"#0d0887\"],[0.1111111111111111,\"#46039f\"],[0.2222222222222222,\"#7201a8\"],[0.3333333333333333,\"#9c179e\"],[0.4444444444444444,\"#bd3786\"],[0.5555555555555556,\"#d8576b\"],[0.6666666666666666,\"#ed7953\"],[0.7777777777777778,\"#fb9f3a\"],[0.8888888888888888,\"#fdca26\"],[1.0,\"#f0f921\"]],\"sequentialminus\":[[0.0,\"#0d0887\"],[0.1111111111111111,\"#46039f\"],[0.2222222222222222,\"#7201a8\"],[0.3333333333333333,\"#9c179e\"],[0.4444444444444444,\"#bd3786\"],[0.5555555555555556,\"#d8576b\"],[0.6666666666666666,\"#ed7953\"],[0.7777777777777778,\"#fb9f3a\"],[0.8888888888888888,\"#fdca26\"],[1.0,\"#f0f921\"]]},\"colorway\":[\"#636efa\",\"#EF553B\",\"#00cc96\",\"#ab63fa\",\"#FFA15A\",\"#19d3f3\",\"#FF6692\",\"#B6E880\",\"#FF97FF\",\"#FECB52\"],\"font\":{\"color\":\"#2a3f5f\"},\"geo\":{\"bgcolor\":\"white\",\"lakecolor\":\"white\",\"landcolor\":\"white\",\"showlakes\":true,\"showland\":true,\"subunitcolor\":\"#C8D4E3\"},\"hoverlabel\":{\"align\":\"left\"},\"hovermode\":\"closest\",\"mapbox\":{\"style\":\"light\"},\"paper_bgcolor\":\"white\",\"plot_bgcolor\":\"white\",\"polar\":{\"angularaxis\":{\"gridcolor\":\"#EBF0F8\",\"linecolor\":\"#EBF0F8\",\"ticks\":\"\"},\"bgcolor\":\"white\",\"radialaxis\":{\"gridcolor\":\"#EBF0F8\",\"linecolor\":\"#EBF0F8\",\"ticks\":\"\"}},\"scene\":{\"xaxis\":{\"backgroundcolor\":\"white\",\"gridcolor\":\"#DFE8F3\",\"gridwidth\":2,\"linecolor\":\"#EBF0F8\",\"showbackground\":true,\"ticks\":\"\",\"zerolinecolor\":\"#EBF0F8\"},\"yaxis\":{\"backgroundcolor\":\"white\",\"gridcolor\":\"#DFE8F3\",\"gridwidth\":2,\"linecolor\":\"#EBF0F8\",\"showbackground\":true,\"ticks\":\"\",\"zerolinecolor\":\"#EBF0F8\"},\"zaxis\":{\"backgroundcolor\":\"white\",\"gridcolor\":\"#DFE8F3\",\"gridwidth\":2,\"linecolor\":\"#EBF0F8\",\"showbackground\":true,\"ticks\":\"\",\"zerolinecolor\":\"#EBF0F8\"}},\"shapedefaults\":{\"line\":{\"color\":\"#2a3f5f\"}},\"ternary\":{\"aaxis\":{\"gridcolor\":\"#DFE8F3\",\"linecolor\":\"#A2B1C6\",\"ticks\":\"\"},\"baxis\":{\"gridcolor\":\"#DFE8F3\",\"linecolor\":\"#A2B1C6\",\"ticks\":\"\"},\"bgcolor\":\"white\",\"caxis\":{\"gridcolor\":\"#DFE8F3\",\"linecolor\":\"#A2B1C6\",\"ticks\":\"\"}},\"title\":{\"x\":0.05},\"xaxis\":{\"automargin\":true,\"gridcolor\":\"#EBF0F8\",\"linecolor\":\"#EBF0F8\",\"ticks\":\"\",\"title\":{\"standoff\":15},\"zerolinecolor\":\"#EBF0F8\",\"zerolinewidth\":2},\"yaxis\":{\"automargin\":true,\"gridcolor\":\"#EBF0F8\",\"linecolor\":\"#EBF0F8\",\"ticks\":\"\",\"title\":{\"standoff\":15},\"zerolinecolor\":\"#EBF0F8\",\"zerolinewidth\":2}}},\"title\":{\"font\":{\"size\":10},\"text\":\"\\u003cb\\u003eComparativo minimize vs basinhopping \\u003c\\u002fb\\u003e \",\"xanchor\":\"left\"},\"width\":550},                        {\"responsive\": true}                    ).then(function(){\n",
       "                            \n",
       "var gd = document.getElementById('89fa207b-ca19-4bca-9d34-556653c87f53');\n",
       "var x = new MutationObserver(function (mutations, observer) {{\n",
       "        var display = window.getComputedStyle(gd).display;\n",
       "        if (!display || display === 'none') {{\n",
       "            console.log([gd, 'removed!']);\n",
       "            Plotly.purge(gd);\n",
       "            observer.disconnect();\n",
       "        }}\n",
       "}});\n",
       "\n",
       "// Listen for the removal of the full notebook cells\n",
       "var notebookContainer = gd.closest('#notebook-container');\n",
       "if (notebookContainer) {{\n",
       "    x.observe(notebookContainer, {childList: true});\n",
       "}}\n",
       "\n",
       "// Listen for the clearing of the current output cell\n",
       "var outputEl = gd.closest('.output');\n",
       "if (outputEl) {{\n",
       "    x.observe(outputEl, {childList: true});\n",
       "}}\n",
       "\n",
       "                        })                };                });            </script>        </div>"
      ]
     },
     "metadata": {},
     "output_type": "display_data"
    }
   ],
   "source": [
    "def scat(traces,annots=[]):\n",
    "    layout = go.Layout(width=550,height=400,margin=dict(l=50,r=20,b=30,t=50),template='plotly_white',\n",
    "                    annotations=annots,\n",
    "                    showlegend=False,\n",
    "                    title={'text':'<b>Comparativo minimize vs basinhopping </b> ','xanchor':'left','font':{'size':10}},\n",
    "                  )\n",
    "    fig = go.Figure(data=traces, layout=layout)\n",
    "    po.init_notebook_mode(connected=True)\n",
    "    config = {'showLink':False}\n",
    "    po.iplot(fig,config=config)\n",
    "\n",
    "\n",
    "traces=[]\n",
    "temp = eff.iloc[2:]\n",
    "traces.append(go.Scatter(x=r_bh.index,y=r_bh,mode='lines+markers',line={'color':'purple'},marker={'size':6,'color':'purple'}))\n",
    "traces.append(go.Scatter(x=r_.index,y=r_,mode='lines+markers',line={'color':'blue'},marker={'size':6,'color':'blue'}))\n",
    "traces.append(go.Scatter(x=expvol,y=expret,mode='markers',marker={'size':7,'color':'red'},opacity=0.7))\n",
    "\n",
    "scat(traces)"
   ]
  },
  {
   "cell_type": "code",
   "execution_count": 310,
   "metadata": {},
   "outputs": [
    {
     "data": {
      "text/html": [
       "        <script type=\"text/javascript\">\n",
       "        window.PlotlyConfig = {MathJaxConfig: 'local'};\n",
       "        if (window.MathJax && window.MathJax.Hub && window.MathJax.Hub.Config) {window.MathJax.Hub.Config({SVG: {font: \"STIX-Web\"}});}\n",
       "        if (typeof require !== 'undefined') {\n",
       "        require.undef(\"plotly\");\n",
       "        requirejs.config({\n",
       "            paths: {\n",
       "                'plotly': ['https://cdn.plot.ly/plotly-2.25.2.min']\n",
       "            }\n",
       "        });\n",
       "        require(['plotly'], function(Plotly) {\n",
       "            window._Plotly = Plotly;\n",
       "        });\n",
       "        }\n",
       "        </script>\n",
       "        "
      ]
     },
     "metadata": {},
     "output_type": "display_data"
    },
    {
     "data": {
      "application/vnd.plotly.v1+json": {
       "config": {
        "linkText": "Export to plot.ly",
        "plotlyServerURL": "https://plot.ly",
        "showLink": false
       },
       "data": [
        {
         "line": {
          "color": "dodgerblue"
         },
         "marker": {
          "color": "blue",
          "size": 6
         },
         "mode": "lines+markers",
         "type": "scatter",
         "x": [
          0.02386973270838893,
          0.024062893749374797,
          0.024609607495702006,
          0.025470671503450792,
          0.02663166088821622,
          0.028061609218582632,
          0.03010728315163973,
          0.03241347001677928,
          0.036251382643559246,
          0.04305222362862163,
          0.05202824111830056,
          0.06266665126770442
         ],
         "y": [
          0.001298113305419022,
          0.002548113305419022,
          0.003798113305419022,
          0.0050481133054190224,
          0.006298113305419022,
          0.007548113305419023,
          0.008798113305419021,
          0.01004811330541902,
          0.011298113305419022,
          0.012548113305419021,
          0.01379811330541902,
          0.015048113305419022
         ]
        },
        {
         "line": {
          "color": "purple"
         },
         "marker": {
          "color": "purple",
          "size": 6
         },
         "mode": "lines+markers",
         "type": "scatter",
         "x": [
          0.0216429438106569,
          0.0241429438106569,
          0.026642943810656898,
          0.029142943810656897,
          0.031642943810656896,
          0.0341429438106569,
          0.03664294381065689,
          0.03914294381065689,
          0.04164294381065689,
          0.04414294381065689,
          0.04664294381065689,
          0.04914294381065688,
          0.051642943810656886,
          0.05414294381065689,
          0.05664294381065688,
          0.05914294381065688,
          0.06164294381065688,
          0.06414294381065688
         ],
         "y": [
          0.0007605394089896065,
          0.004815608253347122,
          0.006719651616480762,
          0.008277328952983864,
          0.009671242171097588,
          0.010761207520913316,
          0.011386497673930338,
          0.011884409877270796,
          0.012320022469412521,
          0.012720473050071401,
          0.013096202200405225,
          0.01345452951588132,
          0.013799801068389145,
          0.014134673837271466,
          0.0153391865625038,
          0.014713425611659534,
          0.015339043962278934,
          0.015362645933276419
         ]
        },
        {
         "marker": {
          "color": "red",
          "size": 7
         },
         "mode": "markers",
         "opacity": 0.7,
         "type": "scatter",
         "x": [
          0.056889054316242735,
          0.06255023915742265,
          0.04271102186476983,
          0.02409490172433703,
          0.0461193000928183
         ],
         "y": [
          0.011440509948098188,
          0.0001646750683600085,
          0.006449039425942275,
          -0.0024037733891619562,
          0.002527988665601598
         ]
        }
       ],
       "layout": {
        "annotations": [
         {
          "font": {
           "color": "blue",
           "size": 8
          },
          "showarrow": false,
          "text": "(0.02,0.0)",
          "x": 0.02596973270838893,
          "y": 0.001298113305419022
         },
         {
          "font": {
           "color": "blue",
           "size": 8
          },
          "showarrow": false,
          "text": "(0.02,0.0)",
          "x": 0.026162893749374798,
          "y": 0.002548113305419022
         },
         {
          "font": {
           "color": "blue",
           "size": 8
          },
          "showarrow": false,
          "text": "(0.02,0.0)",
          "x": 0.026709607495702007,
          "y": 0.003798113305419022
         },
         {
          "font": {
           "color": "blue",
           "size": 8
          },
          "showarrow": false,
          "text": "(0.03,0.01)",
          "x": 0.027570671503450793,
          "y": 0.0050481133054190224
         },
         {
          "font": {
           "color": "blue",
           "size": 8
          },
          "showarrow": false,
          "text": "(0.03,0.01)",
          "x": 0.028731660888216222,
          "y": 0.006298113305419022
         },
         {
          "font": {
           "color": "blue",
           "size": 8
          },
          "showarrow": false,
          "text": "(0.03,0.01)",
          "x": 0.030161609218582634,
          "y": 0.007548113305419023
         },
         {
          "font": {
           "color": "blue",
           "size": 8
          },
          "showarrow": false,
          "text": "(0.03,0.01)",
          "x": 0.03220728315163973,
          "y": 0.008798113305419021
         },
         {
          "font": {
           "color": "blue",
           "size": 8
          },
          "showarrow": false,
          "text": "(0.03,0.01)",
          "x": 0.03451347001677928,
          "y": 0.01004811330541902
         },
         {
          "font": {
           "color": "blue",
           "size": 8
          },
          "showarrow": false,
          "text": "(0.04,0.01)",
          "x": 0.038351382643559244,
          "y": 0.011298113305419022
         },
         {
          "font": {
           "color": "blue",
           "size": 8
          },
          "showarrow": false,
          "text": "(0.04,0.01)",
          "x": 0.045152223628621625,
          "y": 0.012548113305419021
         },
         {
          "font": {
           "color": "blue",
           "size": 8
          },
          "showarrow": false,
          "text": "(0.05,0.01)",
          "x": 0.05412824111830056,
          "y": 0.01379811330541902
         },
         {
          "font": {
           "color": "blue",
           "size": 8
          },
          "showarrow": false,
          "text": "(0.06,0.02)",
          "x": 0.06476665126770442,
          "y": 0.015048113305419022
         }
        ],
        "height": 400,
        "margin": {
         "b": 30,
         "l": 50,
         "r": 20,
         "t": 50
        },
        "showlegend": false,
        "template": {
         "data": {
          "bar": [
           {
            "error_x": {
             "color": "#2a3f5f"
            },
            "error_y": {
             "color": "#2a3f5f"
            },
            "marker": {
             "line": {
              "color": "white",
              "width": 0.5
             },
             "pattern": {
              "fillmode": "overlay",
              "size": 10,
              "solidity": 0.2
             }
            },
            "type": "bar"
           }
          ],
          "barpolar": [
           {
            "marker": {
             "line": {
              "color": "white",
              "width": 0.5
             },
             "pattern": {
              "fillmode": "overlay",
              "size": 10,
              "solidity": 0.2
             }
            },
            "type": "barpolar"
           }
          ],
          "carpet": [
           {
            "aaxis": {
             "endlinecolor": "#2a3f5f",
             "gridcolor": "#C8D4E3",
             "linecolor": "#C8D4E3",
             "minorgridcolor": "#C8D4E3",
             "startlinecolor": "#2a3f5f"
            },
            "baxis": {
             "endlinecolor": "#2a3f5f",
             "gridcolor": "#C8D4E3",
             "linecolor": "#C8D4E3",
             "minorgridcolor": "#C8D4E3",
             "startlinecolor": "#2a3f5f"
            },
            "type": "carpet"
           }
          ],
          "choropleth": [
           {
            "colorbar": {
             "outlinewidth": 0,
             "ticks": ""
            },
            "type": "choropleth"
           }
          ],
          "contour": [
           {
            "colorbar": {
             "outlinewidth": 0,
             "ticks": ""
            },
            "colorscale": [
             [
              0,
              "#0d0887"
             ],
             [
              0.1111111111111111,
              "#46039f"
             ],
             [
              0.2222222222222222,
              "#7201a8"
             ],
             [
              0.3333333333333333,
              "#9c179e"
             ],
             [
              0.4444444444444444,
              "#bd3786"
             ],
             [
              0.5555555555555556,
              "#d8576b"
             ],
             [
              0.6666666666666666,
              "#ed7953"
             ],
             [
              0.7777777777777778,
              "#fb9f3a"
             ],
             [
              0.8888888888888888,
              "#fdca26"
             ],
             [
              1,
              "#f0f921"
             ]
            ],
            "type": "contour"
           }
          ],
          "contourcarpet": [
           {
            "colorbar": {
             "outlinewidth": 0,
             "ticks": ""
            },
            "type": "contourcarpet"
           }
          ],
          "heatmap": [
           {
            "colorbar": {
             "outlinewidth": 0,
             "ticks": ""
            },
            "colorscale": [
             [
              0,
              "#0d0887"
             ],
             [
              0.1111111111111111,
              "#46039f"
             ],
             [
              0.2222222222222222,
              "#7201a8"
             ],
             [
              0.3333333333333333,
              "#9c179e"
             ],
             [
              0.4444444444444444,
              "#bd3786"
             ],
             [
              0.5555555555555556,
              "#d8576b"
             ],
             [
              0.6666666666666666,
              "#ed7953"
             ],
             [
              0.7777777777777778,
              "#fb9f3a"
             ],
             [
              0.8888888888888888,
              "#fdca26"
             ],
             [
              1,
              "#f0f921"
             ]
            ],
            "type": "heatmap"
           }
          ],
          "heatmapgl": [
           {
            "colorbar": {
             "outlinewidth": 0,
             "ticks": ""
            },
            "colorscale": [
             [
              0,
              "#0d0887"
             ],
             [
              0.1111111111111111,
              "#46039f"
             ],
             [
              0.2222222222222222,
              "#7201a8"
             ],
             [
              0.3333333333333333,
              "#9c179e"
             ],
             [
              0.4444444444444444,
              "#bd3786"
             ],
             [
              0.5555555555555556,
              "#d8576b"
             ],
             [
              0.6666666666666666,
              "#ed7953"
             ],
             [
              0.7777777777777778,
              "#fb9f3a"
             ],
             [
              0.8888888888888888,
              "#fdca26"
             ],
             [
              1,
              "#f0f921"
             ]
            ],
            "type": "heatmapgl"
           }
          ],
          "histogram": [
           {
            "marker": {
             "pattern": {
              "fillmode": "overlay",
              "size": 10,
              "solidity": 0.2
             }
            },
            "type": "histogram"
           }
          ],
          "histogram2d": [
           {
            "colorbar": {
             "outlinewidth": 0,
             "ticks": ""
            },
            "colorscale": [
             [
              0,
              "#0d0887"
             ],
             [
              0.1111111111111111,
              "#46039f"
             ],
             [
              0.2222222222222222,
              "#7201a8"
             ],
             [
              0.3333333333333333,
              "#9c179e"
             ],
             [
              0.4444444444444444,
              "#bd3786"
             ],
             [
              0.5555555555555556,
              "#d8576b"
             ],
             [
              0.6666666666666666,
              "#ed7953"
             ],
             [
              0.7777777777777778,
              "#fb9f3a"
             ],
             [
              0.8888888888888888,
              "#fdca26"
             ],
             [
              1,
              "#f0f921"
             ]
            ],
            "type": "histogram2d"
           }
          ],
          "histogram2dcontour": [
           {
            "colorbar": {
             "outlinewidth": 0,
             "ticks": ""
            },
            "colorscale": [
             [
              0,
              "#0d0887"
             ],
             [
              0.1111111111111111,
              "#46039f"
             ],
             [
              0.2222222222222222,
              "#7201a8"
             ],
             [
              0.3333333333333333,
              "#9c179e"
             ],
             [
              0.4444444444444444,
              "#bd3786"
             ],
             [
              0.5555555555555556,
              "#d8576b"
             ],
             [
              0.6666666666666666,
              "#ed7953"
             ],
             [
              0.7777777777777778,
              "#fb9f3a"
             ],
             [
              0.8888888888888888,
              "#fdca26"
             ],
             [
              1,
              "#f0f921"
             ]
            ],
            "type": "histogram2dcontour"
           }
          ],
          "mesh3d": [
           {
            "colorbar": {
             "outlinewidth": 0,
             "ticks": ""
            },
            "type": "mesh3d"
           }
          ],
          "parcoords": [
           {
            "line": {
             "colorbar": {
              "outlinewidth": 0,
              "ticks": ""
             }
            },
            "type": "parcoords"
           }
          ],
          "pie": [
           {
            "automargin": true,
            "type": "pie"
           }
          ],
          "scatter": [
           {
            "fillpattern": {
             "fillmode": "overlay",
             "size": 10,
             "solidity": 0.2
            },
            "type": "scatter"
           }
          ],
          "scatter3d": [
           {
            "line": {
             "colorbar": {
              "outlinewidth": 0,
              "ticks": ""
             }
            },
            "marker": {
             "colorbar": {
              "outlinewidth": 0,
              "ticks": ""
             }
            },
            "type": "scatter3d"
           }
          ],
          "scattercarpet": [
           {
            "marker": {
             "colorbar": {
              "outlinewidth": 0,
              "ticks": ""
             }
            },
            "type": "scattercarpet"
           }
          ],
          "scattergeo": [
           {
            "marker": {
             "colorbar": {
              "outlinewidth": 0,
              "ticks": ""
             }
            },
            "type": "scattergeo"
           }
          ],
          "scattergl": [
           {
            "marker": {
             "colorbar": {
              "outlinewidth": 0,
              "ticks": ""
             }
            },
            "type": "scattergl"
           }
          ],
          "scattermapbox": [
           {
            "marker": {
             "colorbar": {
              "outlinewidth": 0,
              "ticks": ""
             }
            },
            "type": "scattermapbox"
           }
          ],
          "scatterpolar": [
           {
            "marker": {
             "colorbar": {
              "outlinewidth": 0,
              "ticks": ""
             }
            },
            "type": "scatterpolar"
           }
          ],
          "scatterpolargl": [
           {
            "marker": {
             "colorbar": {
              "outlinewidth": 0,
              "ticks": ""
             }
            },
            "type": "scatterpolargl"
           }
          ],
          "scatterternary": [
           {
            "marker": {
             "colorbar": {
              "outlinewidth": 0,
              "ticks": ""
             }
            },
            "type": "scatterternary"
           }
          ],
          "surface": [
           {
            "colorbar": {
             "outlinewidth": 0,
             "ticks": ""
            },
            "colorscale": [
             [
              0,
              "#0d0887"
             ],
             [
              0.1111111111111111,
              "#46039f"
             ],
             [
              0.2222222222222222,
              "#7201a8"
             ],
             [
              0.3333333333333333,
              "#9c179e"
             ],
             [
              0.4444444444444444,
              "#bd3786"
             ],
             [
              0.5555555555555556,
              "#d8576b"
             ],
             [
              0.6666666666666666,
              "#ed7953"
             ],
             [
              0.7777777777777778,
              "#fb9f3a"
             ],
             [
              0.8888888888888888,
              "#fdca26"
             ],
             [
              1,
              "#f0f921"
             ]
            ],
            "type": "surface"
           }
          ],
          "table": [
           {
            "cells": {
             "fill": {
              "color": "#EBF0F8"
             },
             "line": {
              "color": "white"
             }
            },
            "header": {
             "fill": {
              "color": "#C8D4E3"
             },
             "line": {
              "color": "white"
             }
            },
            "type": "table"
           }
          ]
         },
         "layout": {
          "annotationdefaults": {
           "arrowcolor": "#2a3f5f",
           "arrowhead": 0,
           "arrowwidth": 1
          },
          "autotypenumbers": "strict",
          "coloraxis": {
           "colorbar": {
            "outlinewidth": 0,
            "ticks": ""
           }
          },
          "colorscale": {
           "diverging": [
            [
             0,
             "#8e0152"
            ],
            [
             0.1,
             "#c51b7d"
            ],
            [
             0.2,
             "#de77ae"
            ],
            [
             0.3,
             "#f1b6da"
            ],
            [
             0.4,
             "#fde0ef"
            ],
            [
             0.5,
             "#f7f7f7"
            ],
            [
             0.6,
             "#e6f5d0"
            ],
            [
             0.7,
             "#b8e186"
            ],
            [
             0.8,
             "#7fbc41"
            ],
            [
             0.9,
             "#4d9221"
            ],
            [
             1,
             "#276419"
            ]
           ],
           "sequential": [
            [
             0,
             "#0d0887"
            ],
            [
             0.1111111111111111,
             "#46039f"
            ],
            [
             0.2222222222222222,
             "#7201a8"
            ],
            [
             0.3333333333333333,
             "#9c179e"
            ],
            [
             0.4444444444444444,
             "#bd3786"
            ],
            [
             0.5555555555555556,
             "#d8576b"
            ],
            [
             0.6666666666666666,
             "#ed7953"
            ],
            [
             0.7777777777777778,
             "#fb9f3a"
            ],
            [
             0.8888888888888888,
             "#fdca26"
            ],
            [
             1,
             "#f0f921"
            ]
           ],
           "sequentialminus": [
            [
             0,
             "#0d0887"
            ],
            [
             0.1111111111111111,
             "#46039f"
            ],
            [
             0.2222222222222222,
             "#7201a8"
            ],
            [
             0.3333333333333333,
             "#9c179e"
            ],
            [
             0.4444444444444444,
             "#bd3786"
            ],
            [
             0.5555555555555556,
             "#d8576b"
            ],
            [
             0.6666666666666666,
             "#ed7953"
            ],
            [
             0.7777777777777778,
             "#fb9f3a"
            ],
            [
             0.8888888888888888,
             "#fdca26"
            ],
            [
             1,
             "#f0f921"
            ]
           ]
          },
          "colorway": [
           "#636efa",
           "#EF553B",
           "#00cc96",
           "#ab63fa",
           "#FFA15A",
           "#19d3f3",
           "#FF6692",
           "#B6E880",
           "#FF97FF",
           "#FECB52"
          ],
          "font": {
           "color": "#2a3f5f"
          },
          "geo": {
           "bgcolor": "white",
           "lakecolor": "white",
           "landcolor": "white",
           "showlakes": true,
           "showland": true,
           "subunitcolor": "#C8D4E3"
          },
          "hoverlabel": {
           "align": "left"
          },
          "hovermode": "closest",
          "mapbox": {
           "style": "light"
          },
          "paper_bgcolor": "white",
          "plot_bgcolor": "white",
          "polar": {
           "angularaxis": {
            "gridcolor": "#EBF0F8",
            "linecolor": "#EBF0F8",
            "ticks": ""
           },
           "bgcolor": "white",
           "radialaxis": {
            "gridcolor": "#EBF0F8",
            "linecolor": "#EBF0F8",
            "ticks": ""
           }
          },
          "scene": {
           "xaxis": {
            "backgroundcolor": "white",
            "gridcolor": "#DFE8F3",
            "gridwidth": 2,
            "linecolor": "#EBF0F8",
            "showbackground": true,
            "ticks": "",
            "zerolinecolor": "#EBF0F8"
           },
           "yaxis": {
            "backgroundcolor": "white",
            "gridcolor": "#DFE8F3",
            "gridwidth": 2,
            "linecolor": "#EBF0F8",
            "showbackground": true,
            "ticks": "",
            "zerolinecolor": "#EBF0F8"
           },
           "zaxis": {
            "backgroundcolor": "white",
            "gridcolor": "#DFE8F3",
            "gridwidth": 2,
            "linecolor": "#EBF0F8",
            "showbackground": true,
            "ticks": "",
            "zerolinecolor": "#EBF0F8"
           }
          },
          "shapedefaults": {
           "line": {
            "color": "#2a3f5f"
           }
          },
          "ternary": {
           "aaxis": {
            "gridcolor": "#DFE8F3",
            "linecolor": "#A2B1C6",
            "ticks": ""
           },
           "baxis": {
            "gridcolor": "#DFE8F3",
            "linecolor": "#A2B1C6",
            "ticks": ""
           },
           "bgcolor": "white",
           "caxis": {
            "gridcolor": "#DFE8F3",
            "linecolor": "#A2B1C6",
            "ticks": ""
           }
          },
          "title": {
           "x": 0.05
          },
          "xaxis": {
           "automargin": true,
           "gridcolor": "#EBF0F8",
           "linecolor": "#EBF0F8",
           "ticks": "",
           "title": {
            "standoff": 15
           },
           "zerolinecolor": "#EBF0F8",
           "zerolinewidth": 2
          },
          "yaxis": {
           "automargin": true,
           "gridcolor": "#EBF0F8",
           "linecolor": "#EBF0F8",
           "ticks": "",
           "title": {
            "standoff": 15
           },
           "zerolinecolor": "#EBF0F8",
           "zerolinewidth": 2
          }
         }
        },
        "title": {
         "font": {
          "size": 10
         },
         "text": "<b>Frontera Eficiente - Basinhopping </b> ",
         "xanchor": "left"
        },
        "width": 550
       }
      },
      "text/html": [
       "<div>                            <div id=\"efb2b5ad-ee8a-4252-ab31-8d10abc28ecf\" class=\"plotly-graph-div\" style=\"height:400px; width:550px;\"></div>            <script type=\"text/javascript\">                require([\"plotly\"], function(Plotly) {                    window.PLOTLYENV=window.PLOTLYENV || {};                                    if (document.getElementById(\"efb2b5ad-ee8a-4252-ab31-8d10abc28ecf\")) {                    Plotly.newPlot(                        \"efb2b5ad-ee8a-4252-ab31-8d10abc28ecf\",                        [{\"line\":{\"color\":\"dodgerblue\"},\"marker\":{\"color\":\"blue\",\"size\":6},\"mode\":\"lines+markers\",\"x\":[0.02386973270838893,0.024062893749374797,0.024609607495702006,0.025470671503450792,0.02663166088821622,0.028061609218582632,0.03010728315163973,0.03241347001677928,0.036251382643559246,0.04305222362862163,0.05202824111830056,0.06266665126770442],\"y\":[0.001298113305419022,0.002548113305419022,0.003798113305419022,0.0050481133054190224,0.006298113305419022,0.007548113305419023,0.008798113305419021,0.01004811330541902,0.011298113305419022,0.012548113305419021,0.01379811330541902,0.015048113305419022],\"type\":\"scatter\"},{\"line\":{\"color\":\"purple\"},\"marker\":{\"color\":\"purple\",\"size\":6},\"mode\":\"lines+markers\",\"x\":[0.0216429438106569,0.0241429438106569,0.026642943810656898,0.029142943810656897,0.031642943810656896,0.0341429438106569,0.03664294381065689,0.03914294381065689,0.04164294381065689,0.04414294381065689,0.04664294381065689,0.04914294381065688,0.051642943810656886,0.05414294381065689,0.05664294381065688,0.05914294381065688,0.06164294381065688,0.06414294381065688],\"y\":[0.0007605394089896065,0.004815608253347122,0.006719651616480762,0.008277328952983864,0.009671242171097588,0.010761207520913316,0.011386497673930338,0.011884409877270796,0.012320022469412521,0.012720473050071401,0.013096202200405225,0.01345452951588132,0.013799801068389145,0.014134673837271466,0.0153391865625038,0.014713425611659534,0.015339043962278934,0.015362645933276419],\"type\":\"scatter\"},{\"marker\":{\"color\":\"red\",\"size\":7},\"mode\":\"markers\",\"opacity\":0.7,\"x\":[0.056889054316242735,0.06255023915742265,0.04271102186476983,0.02409490172433703,0.0461193000928183],\"y\":[0.011440509948098188,0.0001646750683600085,0.006449039425942275,-0.0024037733891619562,0.002527988665601598],\"type\":\"scatter\"}],                        {\"annotations\":[{\"font\":{\"color\":\"blue\",\"size\":8},\"showarrow\":false,\"text\":\"(0.02,0.0)\",\"x\":0.02596973270838893,\"y\":0.001298113305419022},{\"font\":{\"color\":\"blue\",\"size\":8},\"showarrow\":false,\"text\":\"(0.02,0.0)\",\"x\":0.026162893749374798,\"y\":0.002548113305419022},{\"font\":{\"color\":\"blue\",\"size\":8},\"showarrow\":false,\"text\":\"(0.02,0.0)\",\"x\":0.026709607495702007,\"y\":0.003798113305419022},{\"font\":{\"color\":\"blue\",\"size\":8},\"showarrow\":false,\"text\":\"(0.03,0.01)\",\"x\":0.027570671503450793,\"y\":0.0050481133054190224},{\"font\":{\"color\":\"blue\",\"size\":8},\"showarrow\":false,\"text\":\"(0.03,0.01)\",\"x\":0.028731660888216222,\"y\":0.006298113305419022},{\"font\":{\"color\":\"blue\",\"size\":8},\"showarrow\":false,\"text\":\"(0.03,0.01)\",\"x\":0.030161609218582634,\"y\":0.007548113305419023},{\"font\":{\"color\":\"blue\",\"size\":8},\"showarrow\":false,\"text\":\"(0.03,0.01)\",\"x\":0.03220728315163973,\"y\":0.008798113305419021},{\"font\":{\"color\":\"blue\",\"size\":8},\"showarrow\":false,\"text\":\"(0.03,0.01)\",\"x\":0.03451347001677928,\"y\":0.01004811330541902},{\"font\":{\"color\":\"blue\",\"size\":8},\"showarrow\":false,\"text\":\"(0.04,0.01)\",\"x\":0.038351382643559244,\"y\":0.011298113305419022},{\"font\":{\"color\":\"blue\",\"size\":8},\"showarrow\":false,\"text\":\"(0.04,0.01)\",\"x\":0.045152223628621625,\"y\":0.012548113305419021},{\"font\":{\"color\":\"blue\",\"size\":8},\"showarrow\":false,\"text\":\"(0.05,0.01)\",\"x\":0.05412824111830056,\"y\":0.01379811330541902},{\"font\":{\"color\":\"blue\",\"size\":8},\"showarrow\":false,\"text\":\"(0.06,0.02)\",\"x\":0.06476665126770442,\"y\":0.015048113305419022}],\"height\":400,\"margin\":{\"b\":30,\"l\":50,\"r\":20,\"t\":50},\"showlegend\":false,\"template\":{\"data\":{\"barpolar\":[{\"marker\":{\"line\":{\"color\":\"white\",\"width\":0.5},\"pattern\":{\"fillmode\":\"overlay\",\"size\":10,\"solidity\":0.2}},\"type\":\"barpolar\"}],\"bar\":[{\"error_x\":{\"color\":\"#2a3f5f\"},\"error_y\":{\"color\":\"#2a3f5f\"},\"marker\":{\"line\":{\"color\":\"white\",\"width\":0.5},\"pattern\":{\"fillmode\":\"overlay\",\"size\":10,\"solidity\":0.2}},\"type\":\"bar\"}],\"carpet\":[{\"aaxis\":{\"endlinecolor\":\"#2a3f5f\",\"gridcolor\":\"#C8D4E3\",\"linecolor\":\"#C8D4E3\",\"minorgridcolor\":\"#C8D4E3\",\"startlinecolor\":\"#2a3f5f\"},\"baxis\":{\"endlinecolor\":\"#2a3f5f\",\"gridcolor\":\"#C8D4E3\",\"linecolor\":\"#C8D4E3\",\"minorgridcolor\":\"#C8D4E3\",\"startlinecolor\":\"#2a3f5f\"},\"type\":\"carpet\"}],\"choropleth\":[{\"colorbar\":{\"outlinewidth\":0,\"ticks\":\"\"},\"type\":\"choropleth\"}],\"contourcarpet\":[{\"colorbar\":{\"outlinewidth\":0,\"ticks\":\"\"},\"type\":\"contourcarpet\"}],\"contour\":[{\"colorbar\":{\"outlinewidth\":0,\"ticks\":\"\"},\"colorscale\":[[0.0,\"#0d0887\"],[0.1111111111111111,\"#46039f\"],[0.2222222222222222,\"#7201a8\"],[0.3333333333333333,\"#9c179e\"],[0.4444444444444444,\"#bd3786\"],[0.5555555555555556,\"#d8576b\"],[0.6666666666666666,\"#ed7953\"],[0.7777777777777778,\"#fb9f3a\"],[0.8888888888888888,\"#fdca26\"],[1.0,\"#f0f921\"]],\"type\":\"contour\"}],\"heatmapgl\":[{\"colorbar\":{\"outlinewidth\":0,\"ticks\":\"\"},\"colorscale\":[[0.0,\"#0d0887\"],[0.1111111111111111,\"#46039f\"],[0.2222222222222222,\"#7201a8\"],[0.3333333333333333,\"#9c179e\"],[0.4444444444444444,\"#bd3786\"],[0.5555555555555556,\"#d8576b\"],[0.6666666666666666,\"#ed7953\"],[0.7777777777777778,\"#fb9f3a\"],[0.8888888888888888,\"#fdca26\"],[1.0,\"#f0f921\"]],\"type\":\"heatmapgl\"}],\"heatmap\":[{\"colorbar\":{\"outlinewidth\":0,\"ticks\":\"\"},\"colorscale\":[[0.0,\"#0d0887\"],[0.1111111111111111,\"#46039f\"],[0.2222222222222222,\"#7201a8\"],[0.3333333333333333,\"#9c179e\"],[0.4444444444444444,\"#bd3786\"],[0.5555555555555556,\"#d8576b\"],[0.6666666666666666,\"#ed7953\"],[0.7777777777777778,\"#fb9f3a\"],[0.8888888888888888,\"#fdca26\"],[1.0,\"#f0f921\"]],\"type\":\"heatmap\"}],\"histogram2dcontour\":[{\"colorbar\":{\"outlinewidth\":0,\"ticks\":\"\"},\"colorscale\":[[0.0,\"#0d0887\"],[0.1111111111111111,\"#46039f\"],[0.2222222222222222,\"#7201a8\"],[0.3333333333333333,\"#9c179e\"],[0.4444444444444444,\"#bd3786\"],[0.5555555555555556,\"#d8576b\"],[0.6666666666666666,\"#ed7953\"],[0.7777777777777778,\"#fb9f3a\"],[0.8888888888888888,\"#fdca26\"],[1.0,\"#f0f921\"]],\"type\":\"histogram2dcontour\"}],\"histogram2d\":[{\"colorbar\":{\"outlinewidth\":0,\"ticks\":\"\"},\"colorscale\":[[0.0,\"#0d0887\"],[0.1111111111111111,\"#46039f\"],[0.2222222222222222,\"#7201a8\"],[0.3333333333333333,\"#9c179e\"],[0.4444444444444444,\"#bd3786\"],[0.5555555555555556,\"#d8576b\"],[0.6666666666666666,\"#ed7953\"],[0.7777777777777778,\"#fb9f3a\"],[0.8888888888888888,\"#fdca26\"],[1.0,\"#f0f921\"]],\"type\":\"histogram2d\"}],\"histogram\":[{\"marker\":{\"pattern\":{\"fillmode\":\"overlay\",\"size\":10,\"solidity\":0.2}},\"type\":\"histogram\"}],\"mesh3d\":[{\"colorbar\":{\"outlinewidth\":0,\"ticks\":\"\"},\"type\":\"mesh3d\"}],\"parcoords\":[{\"line\":{\"colorbar\":{\"outlinewidth\":0,\"ticks\":\"\"}},\"type\":\"parcoords\"}],\"pie\":[{\"automargin\":true,\"type\":\"pie\"}],\"scatter3d\":[{\"line\":{\"colorbar\":{\"outlinewidth\":0,\"ticks\":\"\"}},\"marker\":{\"colorbar\":{\"outlinewidth\":0,\"ticks\":\"\"}},\"type\":\"scatter3d\"}],\"scattercarpet\":[{\"marker\":{\"colorbar\":{\"outlinewidth\":0,\"ticks\":\"\"}},\"type\":\"scattercarpet\"}],\"scattergeo\":[{\"marker\":{\"colorbar\":{\"outlinewidth\":0,\"ticks\":\"\"}},\"type\":\"scattergeo\"}],\"scattergl\":[{\"marker\":{\"colorbar\":{\"outlinewidth\":0,\"ticks\":\"\"}},\"type\":\"scattergl\"}],\"scattermapbox\":[{\"marker\":{\"colorbar\":{\"outlinewidth\":0,\"ticks\":\"\"}},\"type\":\"scattermapbox\"}],\"scatterpolargl\":[{\"marker\":{\"colorbar\":{\"outlinewidth\":0,\"ticks\":\"\"}},\"type\":\"scatterpolargl\"}],\"scatterpolar\":[{\"marker\":{\"colorbar\":{\"outlinewidth\":0,\"ticks\":\"\"}},\"type\":\"scatterpolar\"}],\"scatter\":[{\"fillpattern\":{\"fillmode\":\"overlay\",\"size\":10,\"solidity\":0.2},\"type\":\"scatter\"}],\"scatterternary\":[{\"marker\":{\"colorbar\":{\"outlinewidth\":0,\"ticks\":\"\"}},\"type\":\"scatterternary\"}],\"surface\":[{\"colorbar\":{\"outlinewidth\":0,\"ticks\":\"\"},\"colorscale\":[[0.0,\"#0d0887\"],[0.1111111111111111,\"#46039f\"],[0.2222222222222222,\"#7201a8\"],[0.3333333333333333,\"#9c179e\"],[0.4444444444444444,\"#bd3786\"],[0.5555555555555556,\"#d8576b\"],[0.6666666666666666,\"#ed7953\"],[0.7777777777777778,\"#fb9f3a\"],[0.8888888888888888,\"#fdca26\"],[1.0,\"#f0f921\"]],\"type\":\"surface\"}],\"table\":[{\"cells\":{\"fill\":{\"color\":\"#EBF0F8\"},\"line\":{\"color\":\"white\"}},\"header\":{\"fill\":{\"color\":\"#C8D4E3\"},\"line\":{\"color\":\"white\"}},\"type\":\"table\"}]},\"layout\":{\"annotationdefaults\":{\"arrowcolor\":\"#2a3f5f\",\"arrowhead\":0,\"arrowwidth\":1},\"autotypenumbers\":\"strict\",\"coloraxis\":{\"colorbar\":{\"outlinewidth\":0,\"ticks\":\"\"}},\"colorscale\":{\"diverging\":[[0,\"#8e0152\"],[0.1,\"#c51b7d\"],[0.2,\"#de77ae\"],[0.3,\"#f1b6da\"],[0.4,\"#fde0ef\"],[0.5,\"#f7f7f7\"],[0.6,\"#e6f5d0\"],[0.7,\"#b8e186\"],[0.8,\"#7fbc41\"],[0.9,\"#4d9221\"],[1,\"#276419\"]],\"sequential\":[[0.0,\"#0d0887\"],[0.1111111111111111,\"#46039f\"],[0.2222222222222222,\"#7201a8\"],[0.3333333333333333,\"#9c179e\"],[0.4444444444444444,\"#bd3786\"],[0.5555555555555556,\"#d8576b\"],[0.6666666666666666,\"#ed7953\"],[0.7777777777777778,\"#fb9f3a\"],[0.8888888888888888,\"#fdca26\"],[1.0,\"#f0f921\"]],\"sequentialminus\":[[0.0,\"#0d0887\"],[0.1111111111111111,\"#46039f\"],[0.2222222222222222,\"#7201a8\"],[0.3333333333333333,\"#9c179e\"],[0.4444444444444444,\"#bd3786\"],[0.5555555555555556,\"#d8576b\"],[0.6666666666666666,\"#ed7953\"],[0.7777777777777778,\"#fb9f3a\"],[0.8888888888888888,\"#fdca26\"],[1.0,\"#f0f921\"]]},\"colorway\":[\"#636efa\",\"#EF553B\",\"#00cc96\",\"#ab63fa\",\"#FFA15A\",\"#19d3f3\",\"#FF6692\",\"#B6E880\",\"#FF97FF\",\"#FECB52\"],\"font\":{\"color\":\"#2a3f5f\"},\"geo\":{\"bgcolor\":\"white\",\"lakecolor\":\"white\",\"landcolor\":\"white\",\"showlakes\":true,\"showland\":true,\"subunitcolor\":\"#C8D4E3\"},\"hoverlabel\":{\"align\":\"left\"},\"hovermode\":\"closest\",\"mapbox\":{\"style\":\"light\"},\"paper_bgcolor\":\"white\",\"plot_bgcolor\":\"white\",\"polar\":{\"angularaxis\":{\"gridcolor\":\"#EBF0F8\",\"linecolor\":\"#EBF0F8\",\"ticks\":\"\"},\"bgcolor\":\"white\",\"radialaxis\":{\"gridcolor\":\"#EBF0F8\",\"linecolor\":\"#EBF0F8\",\"ticks\":\"\"}},\"scene\":{\"xaxis\":{\"backgroundcolor\":\"white\",\"gridcolor\":\"#DFE8F3\",\"gridwidth\":2,\"linecolor\":\"#EBF0F8\",\"showbackground\":true,\"ticks\":\"\",\"zerolinecolor\":\"#EBF0F8\"},\"yaxis\":{\"backgroundcolor\":\"white\",\"gridcolor\":\"#DFE8F3\",\"gridwidth\":2,\"linecolor\":\"#EBF0F8\",\"showbackground\":true,\"ticks\":\"\",\"zerolinecolor\":\"#EBF0F8\"},\"zaxis\":{\"backgroundcolor\":\"white\",\"gridcolor\":\"#DFE8F3\",\"gridwidth\":2,\"linecolor\":\"#EBF0F8\",\"showbackground\":true,\"ticks\":\"\",\"zerolinecolor\":\"#EBF0F8\"}},\"shapedefaults\":{\"line\":{\"color\":\"#2a3f5f\"}},\"ternary\":{\"aaxis\":{\"gridcolor\":\"#DFE8F3\",\"linecolor\":\"#A2B1C6\",\"ticks\":\"\"},\"baxis\":{\"gridcolor\":\"#DFE8F3\",\"linecolor\":\"#A2B1C6\",\"ticks\":\"\"},\"bgcolor\":\"white\",\"caxis\":{\"gridcolor\":\"#DFE8F3\",\"linecolor\":\"#A2B1C6\",\"ticks\":\"\"}},\"title\":{\"x\":0.05},\"xaxis\":{\"automargin\":true,\"gridcolor\":\"#EBF0F8\",\"linecolor\":\"#EBF0F8\",\"ticks\":\"\",\"title\":{\"standoff\":15},\"zerolinecolor\":\"#EBF0F8\",\"zerolinewidth\":2},\"yaxis\":{\"automargin\":true,\"gridcolor\":\"#EBF0F8\",\"linecolor\":\"#EBF0F8\",\"ticks\":\"\",\"title\":{\"standoff\":15},\"zerolinecolor\":\"#EBF0F8\",\"zerolinewidth\":2}}},\"title\":{\"font\":{\"size\":10},\"text\":\"\\u003cb\\u003eFrontera Eficiente - Basinhopping \\u003c\\u002fb\\u003e \",\"xanchor\":\"left\"},\"width\":550},                        {\"responsive\": true}                    ).then(function(){\n",
       "                            \n",
       "var gd = document.getElementById('efb2b5ad-ee8a-4252-ab31-8d10abc28ecf');\n",
       "var x = new MutationObserver(function (mutations, observer) {{\n",
       "        var display = window.getComputedStyle(gd).display;\n",
       "        if (!display || display === 'none') {{\n",
       "            console.log([gd, 'removed!']);\n",
       "            Plotly.purge(gd);\n",
       "            observer.disconnect();\n",
       "        }}\n",
       "}});\n",
       "\n",
       "// Listen for the removal of the full notebook cells\n",
       "var notebookContainer = gd.closest('#notebook-container');\n",
       "if (notebookContainer) {{\n",
       "    x.observe(notebookContainer, {childList: true});\n",
       "}}\n",
       "\n",
       "// Listen for the clearing of the current output cell\n",
       "var outputEl = gd.closest('.output');\n",
       "if (outputEl) {{\n",
       "    x.observe(outputEl, {childList: true});\n",
       "}}\n",
       "\n",
       "                        })                };                });            </script>        </div>"
      ]
     },
     "metadata": {},
     "output_type": "display_data"
    }
   ],
   "source": [
    "def scat(traces,annots=[]):\n",
    "    layout = go.Layout(width=550,height=400,margin=dict(l=50,r=20,b=30,t=50),template='plotly_white',\n",
    "                    annotations=annots,\n",
    "                    showlegend=False,\n",
    "                    title={'text':'<b>Frontera Eficiente - Basinhopping </b> ','xanchor':'left','font':{'size':10}},\n",
    "                  )\n",
    "    fig = go.Figure(data=traces, layout=layout)\n",
    "    po.init_notebook_mode(connected=True)\n",
    "    config = {'showLink':False}\n",
    "    po.iplot(fig,config=config)\n",
    "    \n",
    "traces=[]\n",
    "temp = eff.iloc[2:]\n",
    "traces.append(go.Scatter(x=temp,y=temp.index,mode='lines+markers',line={'color':'dodgerblue'},marker={'size':6,'color':'blue'}))\n",
    "traces.append(go.Scatter(x=r_bh.index,y=r_bh,mode='lines+markers',line={'color':'purple'},marker={'size':6,'color':'purple'}))\n",
    "traces.append(go.Scatter(x=expvol,y=expret,mode='markers',marker={'size':7,'color':'red'},opacity=0.7))\n",
    "annots = [{'x':temp.loc[i]+0.0021,'y':i,'text':'('+str(temp.round(2).loc[i])+','+str(round(i,2))+')','showarrow':False,'font':{'size':8,'color':'blue'}} for i in temp.index]\n",
    "\n",
    "scat(traces,annots)"
   ]
  },
  {
   "cell_type": "markdown",
   "metadata": {},
   "source": [
    "# REF"
   ]
  },
  {
   "cell_type": "code",
   "execution_count": 384,
   "metadata": {},
   "outputs": [],
   "source": [
    "#Resample eficient frontier:\n",
    "# 1. 10k observations of uncorrelated random variables Z~N(0,1)\n",
    "# 2. Cholesky decompose correlation matrix to generate correlated random variables by transforming Z. \n",
    "# 3. correlated returns rij =  Mui + Zij*voli for each asset class i for each iteration j.\n",
    "# 4. find eficient frontier at each iteration using correlated random returns found in 3. \n",
    "# 5. find the mean of the optimized weights at each pair r,vol on the EF. \n",
    "\n",
    "n = 200\n",
    "C = cholesky(corr)\n",
    "Zu = np.random.normal(size=(len(expret),n))\n",
    "Zc = np.matmul(C,Zu).transpose()\n",
    "\n",
    "Mu = np.tile(expret,(n,1))\n",
    "S = np.tile(expvol,(n,1)) \n",
    "R = Mu + -(S**2/2)/100 +np.multiply(Zc,S)"
   ]
  },
  {
   "cell_type": "code",
   "execution_count": 385,
   "metadata": {},
   "outputs": [
    {
     "name": "stdout",
     "output_type": "stream",
     "text": [
      "[[ 1.          0.749956    0.13806071 -0.03973987 -0.48620963]\n",
      " [ 0.749956    1.          0.30490137  0.02675822 -0.61954999]\n",
      " [ 0.13806071  0.30490137  1.          0.46282576 -0.2635806 ]\n",
      " [-0.03973987  0.02675822  0.46282576  1.          0.11968904]\n",
      " [-0.48620963 -0.61954999 -0.2635806   0.11968904  1.        ]]\n"
     ]
    },
    {
     "data": {
      "text/html": [
       "        <script type=\"text/javascript\">\n",
       "        window.PlotlyConfig = {MathJaxConfig: 'local'};\n",
       "        if (window.MathJax && window.MathJax.Hub && window.MathJax.Hub.Config) {window.MathJax.Hub.Config({SVG: {font: \"STIX-Web\"}});}\n",
       "        if (typeof require !== 'undefined') {\n",
       "        require.undef(\"plotly\");\n",
       "        requirejs.config({\n",
       "            paths: {\n",
       "                'plotly': ['https://cdn.plot.ly/plotly-2.25.2.min']\n",
       "            }\n",
       "        });\n",
       "        require(['plotly'], function(Plotly) {\n",
       "            window._Plotly = Plotly;\n",
       "        });\n",
       "        }\n",
       "        </script>\n",
       "        "
      ]
     },
     "metadata": {},
     "output_type": "display_data"
    },
    {
     "data": {
      "application/vnd.plotly.v1+json": {
       "config": {
        "linkText": "Export to plot.ly",
        "plotlyServerURL": "https://plot.ly",
        "showLink": false
       },
       "data": [
        {
         "marker": {
          "color": "red",
          "size": 3.5
         },
         "mode": "markers",
         "name": "Aleatorios",
         "opacity": 0.8,
         "type": "scatter",
         "x": [
          1.727425409818246,
          1.1391910325589023,
          -0.5143878959084623,
          1.2374749974709824,
          1.4760490095997494,
          -0.6997682722783585,
          1.2984070909527925,
          -1.0275271048735666,
          0.5436438528792272,
          -0.1553373876405896,
          -0.8021583371796035,
          -1.1634576750602394,
          1.3434147016722606,
          -0.10736641114359399,
          -0.16637819861838565,
          -0.19471686738603547,
          0.3892618010265255,
          -1.0423103003913003,
          -0.02286032639350306,
          0.22128107214780143,
          -0.38960398657133366,
          -1.1993070129156416,
          -0.03349636530725299,
          0.31024759477046,
          0.46907377604697087,
          -0.6342802459019359,
          -0.4437972490282057,
          0.27992923791231117,
          -0.3560084142082257,
          -1.667467096379591,
          1.0637428891915284,
          1.070477192129566,
          -0.7577419009956331,
          -0.5564570237228759,
          0.19832405472644632,
          -1.6654621813637323,
          0.6315588833867016,
          -0.6862670796811131,
          -1.3958987078006664,
          0.0022716126780516184,
          1.1943770484462308,
          -0.419395482693488,
          0.320672437954472,
          -0.24049249408648982,
          -0.7630078679283334,
          0.41117836981189904,
          -0.7367571561555447,
          -1.5375703381387782,
          0.31286548226120797,
          0.5229341635827677,
          1.4283137916300932,
          0.6614666201323799,
          0.7757037560958285,
          1.0506901718014396,
          -0.8825243104689016,
          -2.011452186121087,
          1.667113826505395,
          0.8607841402213622,
          -0.1687663839644265,
          0.5188320690822874,
          0.7452291300815427,
          -0.20703068380471046,
          0.05498273746271256,
          1.0320917973979216,
          -0.3456059385211742,
          -0.5499197727652826,
          -0.362939316464402,
          1.0161727040278992,
          0.87459849865431,
          0.6070279159993065,
          1.6597847707736078,
          1.1395500068528246,
          2.6879063630493127,
          -1.58330087835904,
          1.7998787627885653,
          -1.1818134783835643,
          1.4884169761717239,
          0.2365628415284929,
          1.4438656399550618,
          0.5983537058565165,
          0.42429481812075415,
          0.7233162447439868,
          -0.07818875265131137,
          0.6167746881728257,
          -1.0508521099271366,
          0.9430268020244094,
          1.2370414420402014,
          -1.436405063186801,
          -1.387624617274507,
          0.4417781159123525,
          1.0327936846907548,
          0.5872311846245909,
          -1.2752446050020847,
          1.299881968032104,
          1.6094674588283968,
          -1.7217063646133541,
          -0.613441297296587,
          0.6652546618658892,
          1.704105864265151,
          1.1352332316255687,
          -0.8864481195340325,
          1.255239723746841,
          -0.3239027057409672,
          -0.9105146278486873,
          -0.13869906884345073,
          0.6932218905433956,
          1.395914445518229,
          -1.2072518089634805,
          1.23837400242658,
          -0.7899091565773111,
          1.7544303504767071,
          -0.9863507667270607,
          -1.302487285181912,
          -0.5006745507996183,
          -0.754854123913211,
          -0.5755027642535993,
          0.3244777895277392,
          -2.215732976814022,
          0.22218354748870164,
          -1.307587300498936,
          -2.057682263711265,
          0.20788827916603614,
          0.9661101367252652,
          0.6161041514864881,
          -1.727624664295716,
          0.725574862980606,
          -0.48767976344777175,
          -0.23173592204726115,
          -1.4099947649717552,
          -0.45849535798372976,
          -0.6153903810607494,
          -0.5000645659285184,
          0.9660367232310851,
          1.0402585832568019,
          -1.6099390056733116,
          2.7889044471442,
          0.7183761067188174,
          -0.43093395236233195,
          1.1339930302255097,
          0.438255841075302,
          0.23761025479859277,
          -0.1476187391301805,
          0.06526205859593569,
          -0.32096987172466585,
          1.2342019686623287,
          0.09587238206577231,
          1.218276974281925,
          -1.3753162580613134,
          0.32992719245283025,
          0.7392806361085513,
          0.7744577068918947,
          -1.6161457646490487,
          -1.0642435783060313,
          -2.188065289594194,
          -0.24653610179465624,
          0.5473235620733283,
          -1.0148940106630302,
          -0.6627916114638345,
          1.7870367893977608,
          -1.128017964102433,
          0.6831076390475448,
          0.20411379316361286,
          -0.032226187878594895,
          -0.23921704586252296,
          -0.6439247643059633,
          0.3465007086665711,
          -0.9423925521440173,
          0.6875019178052864,
          -0.2257909411398102,
          -1.6913631975477934,
          0.717033054368125,
          -1.6913536031561796,
          -0.19936037872728954,
          -0.15963419250505784,
          1.1594113036636746,
          0.6818478023169812,
          -0.0663732870717781,
          -1.0726957013758864,
          1.1432633777273402,
          1.4438257321025405,
          1.5832332159454339,
          -1.1555040755094608,
          0.9766735575509542,
          0.02188368978513811,
          -0.16664055432745575,
          0.46690168929303844,
          0.33111590006038066,
          -1.5951836488982671,
          0.8205586575543043,
          -0.7518023766187226,
          -0.37314591237562483,
          0.3935794091863793,
          -1.348465904970227,
          -0.381130646936242,
          0.6063497337070257,
          -0.8928445459563915,
          0.22451645290131989,
          0.19488425387430552,
          -0.9177063887236858,
          -1.01274464177964
         ],
         "y": [
          -1.4045806791027893,
          0.2535023652796597,
          -0.01573370349932619,
          0.38494651158514476,
          -0.4397218223524229,
          0.02868941416491709,
          0.22736578200131363,
          1.7690580500398874,
          -0.08744700970749635,
          -0.3701668311030988,
          1.4741694836851225,
          1.1098278889199322,
          -1.4369089862859121,
          -1.909501452581779,
          -0.224089343655554,
          -0.5007800660755655,
          0.08554517270450566,
          1.1626664597865375,
          -1.5882019973896557,
          -1.1532698705467268,
          -0.2776153358279933,
          -0.658373851439908,
          -0.29063480549771004,
          -0.1647810927155081,
          0.2779490768775509,
          -0.022495797209322595,
          -0.32137838583260847,
          1.2013246317976216,
          2.520978800128709,
          0.7285684084948512,
          0.039734050885991426,
          -1.13436021294764,
          0.1650166111795969,
          1.3702569118738097,
          1.431162447973679,
          -1.2756704801334913,
          -0.8821574747204032,
          -0.7028165227865861,
          -0.5255828101524987,
          -1.141047587676802,
          1.1029855931828119,
          1.2059254602977392,
          2.528580808329801,
          1.1094110235413754,
          -1.3450023736082555,
          -0.5735299503721139,
          0.09691967492132922,
          -0.008886500709138337,
          1.380951503488752,
          -0.00505266313935024,
          0.7959279684046048,
          0.3027954260066356,
          0.45555483953126386,
          0.06261785747690649,
          -0.8433393216909302,
          -0.36084467656618,
          -1.008939811595561,
          1.8729917835784575,
          0.5736292937297971,
          -0.28461238457875576,
          0.6557570682894613,
          -1.0542341872005954,
          0.03719737420971662,
          -0.31867364377563595,
          -1.1703717600968937,
          -0.8316363162500537,
          0.831909490028364,
          0.9603329255973253,
          0.4469193495408474,
          -0.6680248054986461,
          -1.4368016215267256,
          -0.4910648356471731,
          0.1290750507683427,
          1.034014648013713,
          -1.4973600309347705,
          -1.8044132138526137,
          2.0166905434927296,
          0.8048179013053389,
          -1.492882208676375,
          -0.6748649905836156,
          -0.8400858812494736,
          -0.3424855695025714,
          0.5429289533430441,
          1.4505944597792435,
          0.8344138182321577,
          3.088701849367296,
          -1.186471096798677,
          0.168728798875712,
          -0.00023369224407586298,
          0.9061363110166618,
          -0.5308981623452343,
          -0.25191968573979984,
          0.9389293344458459,
          0.41549757712823854,
          -0.16365246156542926,
          -0.07288307401744985,
          -1.8558471336905158,
          -0.3155703280977984,
          -0.34917922358833586,
          -0.5738346447028725,
          -0.8601183509273665,
          0.2585107243536301,
          2.384194415639477,
          1.3115729579456512,
          -0.148857699387376,
          0.32222814582177756,
          -0.9076003153781811,
          -1.418856008091762,
          -0.7214173760241037,
          0.5471791176889814,
          2.18005097531976,
          1.141160907506807,
          1.2201707357734473,
          -0.6452366382392535,
          -0.01737815933223773,
          -0.3124136278637306,
          0.5067111370332694,
          0.7268212316169711,
          0.10937214003612843,
          1.2361635279185952,
          -0.07122909979272385,
          -0.44550551035046876,
          -0.19814583608575842,
          0.46929564505816007,
          1.277488712103853,
          0.5243563872034622,
          1.2987907089506594,
          -0.36266965797860884,
          -0.34315113181987533,
          -0.18973580009799973,
          -1.1586349734934005,
          -0.7338445703544374,
          1.4049889693523987,
          -0.2546471882284724,
          -0.8534027251317792,
          -1.3176527092764583,
          -0.3328016098332204,
          -0.13838524962268137,
          -1.2289427145380991,
          -1.0288833584270283,
          -1.54612001847978,
          -0.33453832585393073,
          0.709132822609628,
          -1.5561722785506644,
          1.1590603072122925,
          0.018209432057680254,
          0.5234686926074233,
          -0.0874758690567504,
          1.788137683531064,
          1.1980542288215026,
          1.2252743357819857,
          -1.1561501729977963,
          0.7965103545936477,
          0.1358853367732058,
          2.122884474337566,
          -0.3729167926403695,
          0.7669740220344629,
          1.4575539609392354,
          0.11364074488591074,
          0.5449295305087443,
          -0.31944579267885514,
          -0.5405407170426041,
          0.5421129516625081,
          -0.41802040025201825,
          1.5936213284989191,
          0.9385622419208591,
          0.09330854282569627,
          0.30316478501804467,
          1.4272014680051082,
          0.8270552859176571,
          1.865187322284481,
          -0.17357385694228974,
          0.19068459003889032,
          1.2988305194886272,
          -0.2290611237601301,
          0.3135588099430587,
          -0.3325786155646103,
          1.1693990700325847,
          -0.9590641398132491,
          -1.04406087668349,
          -0.09252287046414821,
          -0.7249413443506413,
          -0.5172100109631348,
          0.41182353319670145,
          -0.4860827834632349,
          0.8610838828937938,
          0.055194726512117716,
          -0.846549295392493,
          -2.002160613217223,
          0.6275590211367756,
          0.946980313787605,
          -0.32514720861505264,
          1.4987586064586118,
          0.3510635281831284,
          1.4183259985634677,
          -0.14653907906829938,
          1.0125647643795135,
          1.7949385908690711,
          -0.15661092261092674,
          0.457892420874559
         ]
        },
        {
         "marker": {
          "color": "black",
          "size": 3
         },
         "mode": "markers",
         "name": "Correlacionados",
         "opacity": 0.8,
         "type": "scatter",
         "x": [
          1.7274254098182453,
          1.1391910325589019,
          -0.5143878959084621,
          1.237474997470982,
          1.4760490095997487,
          -0.6997682722783581,
          1.2984070909527918,
          -1.0275271048735661,
          0.543643852879227,
          -0.15533738764058955,
          -0.8021583371796032,
          -1.163457675060239,
          1.34341470167226,
          -0.10736641114359395,
          -0.16637819861838557,
          -0.19471686738603539,
          0.38926180102652536,
          -1.0423103003913,
          -0.02286032639350305,
          0.22128107214780132,
          -0.3896039865713335,
          -1.1993070129156411,
          -0.03349636530725297,
          0.3102475947704599,
          0.46907377604697065,
          -0.6342802459019355,
          -0.4437972490282055,
          0.27992923791231106,
          -0.35600841420822554,
          -1.6674670963795903,
          1.063742889191528,
          1.0704771921295655,
          -0.7577419009956328,
          -0.5564570237228756,
          0.19832405472644624,
          -1.6654621813637316,
          0.6315588833867013,
          -0.6862670796811128,
          -1.3958987078006657,
          0.0022716126780516176,
          1.1943770484462304,
          -0.4193954826934878,
          0.3206724379544718,
          -0.2404924940864897,
          -0.7630078679283331,
          0.41117836981189887,
          -0.7367571561555444,
          -1.5375703381387775,
          0.3128654822612078,
          0.5229341635827675,
          1.4283137916300925,
          0.6614666201323796,
          0.7757037560958282,
          1.0506901718014392,
          -0.8825243104689011,
          -2.011452186121086,
          1.6671138265053944,
          0.8607841402213618,
          -0.16876638396442642,
          0.5188320690822872,
          0.7452291300815423,
          -0.20703068380471037,
          0.05498273746271253,
          1.0320917973979211,
          -0.34560593852117405,
          -0.5499197727652824,
          -0.3629393164644018,
          1.0161727040278987,
          0.8745984986543097,
          0.6070279159993063,
          1.659784770773607,
          1.1395500068528241,
          2.6879063630493114,
          -1.5833008783590394,
          1.7998787627885644,
          -1.1818134783835639,
          1.4884169761717232,
          0.2365628415284928,
          1.4438656399550611,
          0.5983537058565163,
          0.424294818120754,
          0.7233162447439865,
          -0.07818875265131132,
          0.6167746881728254,
          -1.0508521099271362,
          0.9430268020244089,
          1.237041442040201,
          -1.4364050631868004,
          -1.3876246172745064,
          0.4417781159123523,
          1.0327936846907544,
          0.5872311846245907,
          -1.275244605002084,
          1.2998819680321034,
          1.6094674588283961,
          -1.7217063646133535,
          -0.6134412972965868,
          0.6652546618658889,
          1.7041058642651503,
          1.1352332316255682,
          -0.886448119534032,
          1.2552397237468402,
          -0.323902705740967,
          -0.9105146278486869,
          -0.13869906884345068,
          0.6932218905433952,
          1.3959144455182284,
          -1.20725180896348,
          1.2383740024265795,
          -0.7899091565773108,
          1.7544303504767063,
          -0.9863507667270602,
          -1.3024872851819114,
          -0.5006745507996181,
          -0.7548541239132107,
          -0.575502764253599,
          0.32447778952773904,
          -2.2157329768140213,
          0.22218354748870153,
          -1.3075873004989353,
          -2.057682263711264,
          0.20788827916603606,
          0.9661101367252648,
          0.6161041514864879,
          -1.7276246642957154,
          0.7255748629806057,
          -0.48767976344777153,
          -0.23173592204726104,
          -1.4099947649717546,
          -0.45849535798372953,
          -0.6153903810607492,
          -0.5000645659285182,
          0.9660367232310847,
          1.0402585832568014,
          -1.609939005673311,
          2.7889044471441986,
          0.718376106718817,
          -0.4309339523623318,
          1.1339930302255092,
          0.4382558410753018,
          0.23761025479859266,
          -0.14761873913018045,
          0.06526205859593566,
          -0.3209698717246657,
          1.2342019686623282,
          0.09587238206577227,
          1.2182769742819246,
          -1.3753162580613127,
          0.3299271924528301,
          0.739280636108551,
          0.7744577068918944,
          -1.616145764649048,
          -1.064243578306031,
          -2.188065289594193,
          -0.24653610179465613,
          0.5473235620733281,
          -1.0148940106630298,
          -0.6627916114638341,
          1.78703678939776,
          -1.1280179641024326,
          0.6831076390475445,
          0.20411379316361278,
          -0.03222618787859488,
          -0.23921704586252285,
          -0.643924764305963,
          0.34650070866657096,
          -0.9423925521440168,
          0.687501917805286,
          -0.22579094113981008,
          -1.6913631975477927,
          0.7170330543681247,
          -1.6913536031561789,
          -0.19936037872728946,
          -0.15963419250505775,
          1.1594113036636742,
          0.6818478023169808,
          -0.06637328707177807,
          -1.072695701375886,
          1.1432633777273398,
          1.4438257321025398,
          1.5832332159454332,
          -1.1555040755094603,
          0.9766735575509538,
          0.021883689785138098,
          -0.16664055432745567,
          0.4669016892930382,
          0.3311159000603805,
          -1.5951836488982665,
          0.820558657554304,
          -0.7518023766187223,
          -0.37314591237562467,
          0.3935794091863791,
          -1.3484659049702263,
          -0.3811306469362418,
          0.6063497337070255,
          -0.8928445459563911,
          0.22451645290131977,
          0.19488425387430544,
          -0.9177063887236854,
          -1.0127446417796395
         ],
         "y": [
          -0.9015706968495103,
          0.3903441732174641,
          -0.16058292051282305,
          0.21247688297624764,
          -0.46941672568835097,
          0.06113653228363796,
          0.08584539173298197,
          1.533058863923303,
          0.8583646984249788,
          -0.32953813315227454,
          1.4121359739003112,
          0.7317150705110063,
          -0.8371090247609557,
          -2.0752573289636995,
          -0.35790901307677586,
          -0.59852933875818,
          0.5479639862028709,
          1.2261134595618892,
          -1.6070388127834978,
          -0.5718069419042084,
          -0.27801196987687743,
          -1.0479043084107835,
          -0.8258130387279772,
          -0.44574776210080563,
          0.2336389789189294,
          0.7595452982422597,
          0.35651429490783115,
          1.4728027941062896,
          2.7690028385256285,
          -0.11317564839544865,
          -0.10664315822405256,
          -0.9415870691947948,
          0.08840192859486178,
          1.0489346528948744,
          0.36505418540651047,
          -1.8543161422523935,
          -1.2820184260273706,
          -0.4097205238936857,
          -1.2093955717534852,
          -1.281865643171811,
          1.4615678465875053,
          2.2754118999336646,
          2.642202234146186,
          0.7323665408742654,
          -1.0823174918314264,
          -0.5059268512563675,
          -0.06823764716021422,
          0.2430608783199732,
          0.8082318088907928,
          -0.3791834046835918,
          1.0641303315700745,
          0.14491010090208747,
          0.6690581033133087,
          0.413859328542043,
          -0.8189027291327582,
          0.17597213736132825,
          -1.0899449095161764,
          1.4414111893415822,
          -0.08467506595837922,
          -0.43809630411976513,
          0.27429557027351853,
          -1.1608802037204478,
          0.26778321945438094,
          -1.0087545521353087,
          -0.4639774375434006,
          -0.6463609432899217,
          0.7801949569813336,
          -0.6993116740387942,
          -0.1864506330330119,
          -0.04057112417516215,
          -1.0074649896292085,
          -1.1893461411683726,
          -0.20068250685984457,
          0.24601014643677074,
          -1.528191683045532,
          -1.8835998203763213,
          1.2620214671523744,
          0.43832232229342366,
          -0.518887289161553,
          -0.24423669405742798,
          -0.591807441120855,
          0.0036034919577613055,
          -0.3428313127192675,
          1.2007537555023529,
          0.4960428077607062,
          2.572671126438008,
          -1.1370801840344398,
          -0.5948541716725316,
          0.21633525287547975,
          1.0052798209620355,
          -1.7641841841186539,
          -0.8281194749925381,
          0.8830945215016635,
          0.09038618025018774,
          -0.3391228923817308,
          -0.2659321584431094,
          -1.9218410464811893,
          -0.6743943907186605,
          0.08289000864713739,
          -1.4973637057205709,
          -0.5994043790379445,
          -0.22952140207988883,
          2.034745920521304,
          0.9952022922633996,
          -0.23779250376605554,
          -0.5179877142680682,
          -0.8007009448123775,
          -1.2927461258412676,
          -0.5311513706854022,
          0.05651179671778342,
          2.139010990624065,
          0.40517839145994256,
          0.13011385705582637,
          -0.9011979440985659,
          0.012302023898267187,
          -0.73524893427891,
          1.4164302011285785,
          1.084579957523915,
          0.101191985554932,
          1.1365385920449054,
          -0.286957789525787,
          0.3690431695256429,
          -0.36252313581078854,
          -0.02693699073153225,
          1.3035379144555386,
          0.32801420339643445,
          1.7452676563897274,
          -0.8496670111055832,
          -0.39881173437334877,
          0.20005193446870484,
          -1.7591682090758392,
          -0.6491394776029491,
          1.125106092618843,
          0.04774765662739422,
          -0.3068180353377563,
          -0.8714554007855885,
          -1.1017147469764261,
          0.15276017604835218,
          -1.0071899526678045,
          -1.4379598674062417,
          -1.4064949353919867,
          0.16374256861398137,
          1.1013923448195977,
          -1.8623474785096403,
          1.054155878065596,
          0.3240270254734962,
          -0.14514882982839872,
          -0.7416442548996952,
          0.662636008881778,
          0.6629195538494917,
          1.970819981765364,
          -0.9096344624942045,
          0.4209378472279437,
          0.3177197312159397,
          1.6928954906558427,
          -0.19292149726906455,
          0.4383993432658707,
          0.8337577490379147,
          0.6807495502903596,
          0.5302042989043576,
          -0.44900892640383594,
          0.06532464591990052,
          0.19226050138342915,
          -0.531388297340161,
          0.5961907201435478,
          0.14336389367619326,
          -0.34481822456877664,
          0.2692213586616301,
          2.1406806095405755,
          0.6264638944751749,
          1.238355584693543,
          -0.7345900973163163,
          -0.31491127763093496,
          1.5760374747526014,
          -0.3278828764887756,
          0.3974836528969134,
          -0.13564518673047324,
          0.7049557977762028,
          -0.10470753571726328,
          -0.22290040338630182,
          0.32605905237059823,
          -0.7148116915895522,
          -0.4078302885222806,
          0.18625721776911305,
          -0.35274262842807086,
          0.5741703896530439,
          0.7667415292657827,
          -0.7052950367924506,
          -1.5635236719572847,
          1.1602281567510668,
          -0.2828352187223413,
          -0.846652860775661,
          1.466293024907846,
          0.40129192740181213,
          1.8959598519044383,
          -0.14892972855023595,
          0.18815795119568504,
          1.7985375362427198,
          -0.2401650189761034,
          0.4189859213067677
         ]
        }
       ],
       "layout": {
        "height": 400,
        "legend": {
         "x": 0.7,
         "y": 1
        },
        "margin": {
         "b": 30,
         "l": 50,
         "r": 20,
         "t": 50
        },
        "showlegend": true,
        "template": {
         "data": {
          "bar": [
           {
            "error_x": {
             "color": "#2a3f5f"
            },
            "error_y": {
             "color": "#2a3f5f"
            },
            "marker": {
             "line": {
              "color": "white",
              "width": 0.5
             },
             "pattern": {
              "fillmode": "overlay",
              "size": 10,
              "solidity": 0.2
             }
            },
            "type": "bar"
           }
          ],
          "barpolar": [
           {
            "marker": {
             "line": {
              "color": "white",
              "width": 0.5
             },
             "pattern": {
              "fillmode": "overlay",
              "size": 10,
              "solidity": 0.2
             }
            },
            "type": "barpolar"
           }
          ],
          "carpet": [
           {
            "aaxis": {
             "endlinecolor": "#2a3f5f",
             "gridcolor": "#C8D4E3",
             "linecolor": "#C8D4E3",
             "minorgridcolor": "#C8D4E3",
             "startlinecolor": "#2a3f5f"
            },
            "baxis": {
             "endlinecolor": "#2a3f5f",
             "gridcolor": "#C8D4E3",
             "linecolor": "#C8D4E3",
             "minorgridcolor": "#C8D4E3",
             "startlinecolor": "#2a3f5f"
            },
            "type": "carpet"
           }
          ],
          "choropleth": [
           {
            "colorbar": {
             "outlinewidth": 0,
             "ticks": ""
            },
            "type": "choropleth"
           }
          ],
          "contour": [
           {
            "colorbar": {
             "outlinewidth": 0,
             "ticks": ""
            },
            "colorscale": [
             [
              0,
              "#0d0887"
             ],
             [
              0.1111111111111111,
              "#46039f"
             ],
             [
              0.2222222222222222,
              "#7201a8"
             ],
             [
              0.3333333333333333,
              "#9c179e"
             ],
             [
              0.4444444444444444,
              "#bd3786"
             ],
             [
              0.5555555555555556,
              "#d8576b"
             ],
             [
              0.6666666666666666,
              "#ed7953"
             ],
             [
              0.7777777777777778,
              "#fb9f3a"
             ],
             [
              0.8888888888888888,
              "#fdca26"
             ],
             [
              1,
              "#f0f921"
             ]
            ],
            "type": "contour"
           }
          ],
          "contourcarpet": [
           {
            "colorbar": {
             "outlinewidth": 0,
             "ticks": ""
            },
            "type": "contourcarpet"
           }
          ],
          "heatmap": [
           {
            "colorbar": {
             "outlinewidth": 0,
             "ticks": ""
            },
            "colorscale": [
             [
              0,
              "#0d0887"
             ],
             [
              0.1111111111111111,
              "#46039f"
             ],
             [
              0.2222222222222222,
              "#7201a8"
             ],
             [
              0.3333333333333333,
              "#9c179e"
             ],
             [
              0.4444444444444444,
              "#bd3786"
             ],
             [
              0.5555555555555556,
              "#d8576b"
             ],
             [
              0.6666666666666666,
              "#ed7953"
             ],
             [
              0.7777777777777778,
              "#fb9f3a"
             ],
             [
              0.8888888888888888,
              "#fdca26"
             ],
             [
              1,
              "#f0f921"
             ]
            ],
            "type": "heatmap"
           }
          ],
          "heatmapgl": [
           {
            "colorbar": {
             "outlinewidth": 0,
             "ticks": ""
            },
            "colorscale": [
             [
              0,
              "#0d0887"
             ],
             [
              0.1111111111111111,
              "#46039f"
             ],
             [
              0.2222222222222222,
              "#7201a8"
             ],
             [
              0.3333333333333333,
              "#9c179e"
             ],
             [
              0.4444444444444444,
              "#bd3786"
             ],
             [
              0.5555555555555556,
              "#d8576b"
             ],
             [
              0.6666666666666666,
              "#ed7953"
             ],
             [
              0.7777777777777778,
              "#fb9f3a"
             ],
             [
              0.8888888888888888,
              "#fdca26"
             ],
             [
              1,
              "#f0f921"
             ]
            ],
            "type": "heatmapgl"
           }
          ],
          "histogram": [
           {
            "marker": {
             "pattern": {
              "fillmode": "overlay",
              "size": 10,
              "solidity": 0.2
             }
            },
            "type": "histogram"
           }
          ],
          "histogram2d": [
           {
            "colorbar": {
             "outlinewidth": 0,
             "ticks": ""
            },
            "colorscale": [
             [
              0,
              "#0d0887"
             ],
             [
              0.1111111111111111,
              "#46039f"
             ],
             [
              0.2222222222222222,
              "#7201a8"
             ],
             [
              0.3333333333333333,
              "#9c179e"
             ],
             [
              0.4444444444444444,
              "#bd3786"
             ],
             [
              0.5555555555555556,
              "#d8576b"
             ],
             [
              0.6666666666666666,
              "#ed7953"
             ],
             [
              0.7777777777777778,
              "#fb9f3a"
             ],
             [
              0.8888888888888888,
              "#fdca26"
             ],
             [
              1,
              "#f0f921"
             ]
            ],
            "type": "histogram2d"
           }
          ],
          "histogram2dcontour": [
           {
            "colorbar": {
             "outlinewidth": 0,
             "ticks": ""
            },
            "colorscale": [
             [
              0,
              "#0d0887"
             ],
             [
              0.1111111111111111,
              "#46039f"
             ],
             [
              0.2222222222222222,
              "#7201a8"
             ],
             [
              0.3333333333333333,
              "#9c179e"
             ],
             [
              0.4444444444444444,
              "#bd3786"
             ],
             [
              0.5555555555555556,
              "#d8576b"
             ],
             [
              0.6666666666666666,
              "#ed7953"
             ],
             [
              0.7777777777777778,
              "#fb9f3a"
             ],
             [
              0.8888888888888888,
              "#fdca26"
             ],
             [
              1,
              "#f0f921"
             ]
            ],
            "type": "histogram2dcontour"
           }
          ],
          "mesh3d": [
           {
            "colorbar": {
             "outlinewidth": 0,
             "ticks": ""
            },
            "type": "mesh3d"
           }
          ],
          "parcoords": [
           {
            "line": {
             "colorbar": {
              "outlinewidth": 0,
              "ticks": ""
             }
            },
            "type": "parcoords"
           }
          ],
          "pie": [
           {
            "automargin": true,
            "type": "pie"
           }
          ],
          "scatter": [
           {
            "fillpattern": {
             "fillmode": "overlay",
             "size": 10,
             "solidity": 0.2
            },
            "type": "scatter"
           }
          ],
          "scatter3d": [
           {
            "line": {
             "colorbar": {
              "outlinewidth": 0,
              "ticks": ""
             }
            },
            "marker": {
             "colorbar": {
              "outlinewidth": 0,
              "ticks": ""
             }
            },
            "type": "scatter3d"
           }
          ],
          "scattercarpet": [
           {
            "marker": {
             "colorbar": {
              "outlinewidth": 0,
              "ticks": ""
             }
            },
            "type": "scattercarpet"
           }
          ],
          "scattergeo": [
           {
            "marker": {
             "colorbar": {
              "outlinewidth": 0,
              "ticks": ""
             }
            },
            "type": "scattergeo"
           }
          ],
          "scattergl": [
           {
            "marker": {
             "colorbar": {
              "outlinewidth": 0,
              "ticks": ""
             }
            },
            "type": "scattergl"
           }
          ],
          "scattermapbox": [
           {
            "marker": {
             "colorbar": {
              "outlinewidth": 0,
              "ticks": ""
             }
            },
            "type": "scattermapbox"
           }
          ],
          "scatterpolar": [
           {
            "marker": {
             "colorbar": {
              "outlinewidth": 0,
              "ticks": ""
             }
            },
            "type": "scatterpolar"
           }
          ],
          "scatterpolargl": [
           {
            "marker": {
             "colorbar": {
              "outlinewidth": 0,
              "ticks": ""
             }
            },
            "type": "scatterpolargl"
           }
          ],
          "scatterternary": [
           {
            "marker": {
             "colorbar": {
              "outlinewidth": 0,
              "ticks": ""
             }
            },
            "type": "scatterternary"
           }
          ],
          "surface": [
           {
            "colorbar": {
             "outlinewidth": 0,
             "ticks": ""
            },
            "colorscale": [
             [
              0,
              "#0d0887"
             ],
             [
              0.1111111111111111,
              "#46039f"
             ],
             [
              0.2222222222222222,
              "#7201a8"
             ],
             [
              0.3333333333333333,
              "#9c179e"
             ],
             [
              0.4444444444444444,
              "#bd3786"
             ],
             [
              0.5555555555555556,
              "#d8576b"
             ],
             [
              0.6666666666666666,
              "#ed7953"
             ],
             [
              0.7777777777777778,
              "#fb9f3a"
             ],
             [
              0.8888888888888888,
              "#fdca26"
             ],
             [
              1,
              "#f0f921"
             ]
            ],
            "type": "surface"
           }
          ],
          "table": [
           {
            "cells": {
             "fill": {
              "color": "#EBF0F8"
             },
             "line": {
              "color": "white"
             }
            },
            "header": {
             "fill": {
              "color": "#C8D4E3"
             },
             "line": {
              "color": "white"
             }
            },
            "type": "table"
           }
          ]
         },
         "layout": {
          "annotationdefaults": {
           "arrowcolor": "#2a3f5f",
           "arrowhead": 0,
           "arrowwidth": 1
          },
          "autotypenumbers": "strict",
          "coloraxis": {
           "colorbar": {
            "outlinewidth": 0,
            "ticks": ""
           }
          },
          "colorscale": {
           "diverging": [
            [
             0,
             "#8e0152"
            ],
            [
             0.1,
             "#c51b7d"
            ],
            [
             0.2,
             "#de77ae"
            ],
            [
             0.3,
             "#f1b6da"
            ],
            [
             0.4,
             "#fde0ef"
            ],
            [
             0.5,
             "#f7f7f7"
            ],
            [
             0.6,
             "#e6f5d0"
            ],
            [
             0.7,
             "#b8e186"
            ],
            [
             0.8,
             "#7fbc41"
            ],
            [
             0.9,
             "#4d9221"
            ],
            [
             1,
             "#276419"
            ]
           ],
           "sequential": [
            [
             0,
             "#0d0887"
            ],
            [
             0.1111111111111111,
             "#46039f"
            ],
            [
             0.2222222222222222,
             "#7201a8"
            ],
            [
             0.3333333333333333,
             "#9c179e"
            ],
            [
             0.4444444444444444,
             "#bd3786"
            ],
            [
             0.5555555555555556,
             "#d8576b"
            ],
            [
             0.6666666666666666,
             "#ed7953"
            ],
            [
             0.7777777777777778,
             "#fb9f3a"
            ],
            [
             0.8888888888888888,
             "#fdca26"
            ],
            [
             1,
             "#f0f921"
            ]
           ],
           "sequentialminus": [
            [
             0,
             "#0d0887"
            ],
            [
             0.1111111111111111,
             "#46039f"
            ],
            [
             0.2222222222222222,
             "#7201a8"
            ],
            [
             0.3333333333333333,
             "#9c179e"
            ],
            [
             0.4444444444444444,
             "#bd3786"
            ],
            [
             0.5555555555555556,
             "#d8576b"
            ],
            [
             0.6666666666666666,
             "#ed7953"
            ],
            [
             0.7777777777777778,
             "#fb9f3a"
            ],
            [
             0.8888888888888888,
             "#fdca26"
            ],
            [
             1,
             "#f0f921"
            ]
           ]
          },
          "colorway": [
           "#636efa",
           "#EF553B",
           "#00cc96",
           "#ab63fa",
           "#FFA15A",
           "#19d3f3",
           "#FF6692",
           "#B6E880",
           "#FF97FF",
           "#FECB52"
          ],
          "font": {
           "color": "#2a3f5f"
          },
          "geo": {
           "bgcolor": "white",
           "lakecolor": "white",
           "landcolor": "white",
           "showlakes": true,
           "showland": true,
           "subunitcolor": "#C8D4E3"
          },
          "hoverlabel": {
           "align": "left"
          },
          "hovermode": "closest",
          "mapbox": {
           "style": "light"
          },
          "paper_bgcolor": "white",
          "plot_bgcolor": "white",
          "polar": {
           "angularaxis": {
            "gridcolor": "#EBF0F8",
            "linecolor": "#EBF0F8",
            "ticks": ""
           },
           "bgcolor": "white",
           "radialaxis": {
            "gridcolor": "#EBF0F8",
            "linecolor": "#EBF0F8",
            "ticks": ""
           }
          },
          "scene": {
           "xaxis": {
            "backgroundcolor": "white",
            "gridcolor": "#DFE8F3",
            "gridwidth": 2,
            "linecolor": "#EBF0F8",
            "showbackground": true,
            "ticks": "",
            "zerolinecolor": "#EBF0F8"
           },
           "yaxis": {
            "backgroundcolor": "white",
            "gridcolor": "#DFE8F3",
            "gridwidth": 2,
            "linecolor": "#EBF0F8",
            "showbackground": true,
            "ticks": "",
            "zerolinecolor": "#EBF0F8"
           },
           "zaxis": {
            "backgroundcolor": "white",
            "gridcolor": "#DFE8F3",
            "gridwidth": 2,
            "linecolor": "#EBF0F8",
            "showbackground": true,
            "ticks": "",
            "zerolinecolor": "#EBF0F8"
           }
          },
          "shapedefaults": {
           "line": {
            "color": "#2a3f5f"
           }
          },
          "ternary": {
           "aaxis": {
            "gridcolor": "#DFE8F3",
            "linecolor": "#A2B1C6",
            "ticks": ""
           },
           "baxis": {
            "gridcolor": "#DFE8F3",
            "linecolor": "#A2B1C6",
            "ticks": ""
           },
           "bgcolor": "white",
           "caxis": {
            "gridcolor": "#DFE8F3",
            "linecolor": "#A2B1C6",
            "ticks": ""
           }
          },
          "title": {
           "x": 0.05
          },
          "xaxis": {
           "automargin": true,
           "gridcolor": "#EBF0F8",
           "linecolor": "#EBF0F8",
           "ticks": "",
           "title": {
            "standoff": 15
           },
           "zerolinecolor": "#EBF0F8",
           "zerolinewidth": 2
          },
          "yaxis": {
           "automargin": true,
           "gridcolor": "#EBF0F8",
           "linecolor": "#EBF0F8",
           "ticks": "",
           "title": {
            "standoff": 15
           },
           "zerolinecolor": "#EBF0F8",
           "zerolinewidth": 2
          }
         }
        },
        "title": {
         "font": {
          "size": 10
         },
         "text": "<b> Muestra aleatoria y correlacionada </b> ",
         "xanchor": "left"
        },
        "width": 550
       }
      },
      "text/html": [
       "<div>                            <div id=\"66208ed5-b6a0-4c86-b800-507fa6f0b726\" class=\"plotly-graph-div\" style=\"height:400px; width:550px;\"></div>            <script type=\"text/javascript\">                require([\"plotly\"], function(Plotly) {                    window.PLOTLYENV=window.PLOTLYENV || {};                                    if (document.getElementById(\"66208ed5-b6a0-4c86-b800-507fa6f0b726\")) {                    Plotly.newPlot(                        \"66208ed5-b6a0-4c86-b800-507fa6f0b726\",                        [{\"marker\":{\"color\":\"red\",\"size\":3.5},\"mode\":\"markers\",\"name\":\"Aleatorios\",\"opacity\":0.8,\"x\":[1.727425409818246,1.1391910325589023,-0.5143878959084623,1.2374749974709824,1.4760490095997494,-0.6997682722783585,1.2984070909527925,-1.0275271048735666,0.5436438528792272,-0.1553373876405896,-0.8021583371796035,-1.1634576750602394,1.3434147016722606,-0.10736641114359399,-0.16637819861838565,-0.19471686738603547,0.3892618010265255,-1.0423103003913003,-0.02286032639350306,0.22128107214780143,-0.38960398657133366,-1.1993070129156416,-0.03349636530725299,0.31024759477046,0.46907377604697087,-0.6342802459019359,-0.4437972490282057,0.27992923791231117,-0.3560084142082257,-1.667467096379591,1.0637428891915284,1.070477192129566,-0.7577419009956331,-0.5564570237228759,0.19832405472644632,-1.6654621813637323,0.6315588833867016,-0.6862670796811131,-1.3958987078006664,0.0022716126780516184,1.1943770484462308,-0.419395482693488,0.320672437954472,-0.24049249408648982,-0.7630078679283334,0.41117836981189904,-0.7367571561555447,-1.5375703381387782,0.31286548226120797,0.5229341635827677,1.4283137916300932,0.6614666201323799,0.7757037560958285,1.0506901718014396,-0.8825243104689016,-2.011452186121087,1.667113826505395,0.8607841402213622,-0.1687663839644265,0.5188320690822874,0.7452291300815427,-0.20703068380471046,0.05498273746271256,1.0320917973979216,-0.3456059385211742,-0.5499197727652826,-0.362939316464402,1.0161727040278992,0.87459849865431,0.6070279159993065,1.6597847707736078,1.1395500068528246,2.6879063630493127,-1.58330087835904,1.7998787627885653,-1.1818134783835643,1.4884169761717239,0.2365628415284929,1.4438656399550618,0.5983537058565165,0.42429481812075415,0.7233162447439868,-0.07818875265131137,0.6167746881728257,-1.0508521099271366,0.9430268020244094,1.2370414420402014,-1.436405063186801,-1.387624617274507,0.4417781159123525,1.0327936846907548,0.5872311846245909,-1.2752446050020847,1.299881968032104,1.6094674588283968,-1.7217063646133541,-0.613441297296587,0.6652546618658892,1.704105864265151,1.1352332316255687,-0.8864481195340325,1.255239723746841,-0.3239027057409672,-0.9105146278486873,-0.13869906884345073,0.6932218905433956,1.395914445518229,-1.2072518089634805,1.23837400242658,-0.7899091565773111,1.7544303504767071,-0.9863507667270607,-1.302487285181912,-0.5006745507996183,-0.754854123913211,-0.5755027642535993,0.3244777895277392,-2.215732976814022,0.22218354748870164,-1.307587300498936,-2.057682263711265,0.20788827916603614,0.9661101367252652,0.6161041514864881,-1.727624664295716,0.725574862980606,-0.48767976344777175,-0.23173592204726115,-1.4099947649717552,-0.45849535798372976,-0.6153903810607494,-0.5000645659285184,0.9660367232310851,1.0402585832568019,-1.6099390056733116,2.7889044471442,0.7183761067188174,-0.43093395236233195,1.1339930302255097,0.438255841075302,0.23761025479859277,-0.1476187391301805,0.06526205859593569,-0.32096987172466585,1.2342019686623287,0.09587238206577231,1.218276974281925,-1.3753162580613134,0.32992719245283025,0.7392806361085513,0.7744577068918947,-1.6161457646490487,-1.0642435783060313,-2.188065289594194,-0.24653610179465624,0.5473235620733283,-1.0148940106630302,-0.6627916114638345,1.7870367893977608,-1.128017964102433,0.6831076390475448,0.20411379316361286,-0.032226187878594895,-0.23921704586252296,-0.6439247643059633,0.3465007086665711,-0.9423925521440173,0.6875019178052864,-0.2257909411398102,-1.6913631975477934,0.717033054368125,-1.6913536031561796,-0.19936037872728954,-0.15963419250505784,1.1594113036636746,0.6818478023169812,-0.0663732870717781,-1.0726957013758864,1.1432633777273402,1.4438257321025405,1.5832332159454339,-1.1555040755094608,0.9766735575509542,0.02188368978513811,-0.16664055432745575,0.46690168929303844,0.33111590006038066,-1.5951836488982671,0.8205586575543043,-0.7518023766187226,-0.37314591237562483,0.3935794091863793,-1.348465904970227,-0.381130646936242,0.6063497337070257,-0.8928445459563915,0.22451645290131989,0.19488425387430552,-0.9177063887236858,-1.01274464177964],\"y\":[-1.4045806791027893,0.2535023652796597,-0.01573370349932619,0.38494651158514476,-0.4397218223524229,0.02868941416491709,0.22736578200131363,1.7690580500398874,-0.08744700970749635,-0.3701668311030988,1.4741694836851225,1.1098278889199322,-1.4369089862859121,-1.909501452581779,-0.224089343655554,-0.5007800660755655,0.08554517270450566,1.1626664597865375,-1.5882019973896557,-1.1532698705467268,-0.2776153358279933,-0.658373851439908,-0.29063480549771004,-0.1647810927155081,0.2779490768775509,-0.022495797209322595,-0.32137838583260847,1.2013246317976216,2.520978800128709,0.7285684084948512,0.039734050885991426,-1.13436021294764,0.1650166111795969,1.3702569118738097,1.431162447973679,-1.2756704801334913,-0.8821574747204032,-0.7028165227865861,-0.5255828101524987,-1.141047587676802,1.1029855931828119,1.2059254602977392,2.528580808329801,1.1094110235413754,-1.3450023736082555,-0.5735299503721139,0.09691967492132922,-0.008886500709138337,1.380951503488752,-0.00505266313935024,0.7959279684046048,0.3027954260066356,0.45555483953126386,0.06261785747690649,-0.8433393216909302,-0.36084467656618,-1.008939811595561,1.8729917835784575,0.5736292937297971,-0.28461238457875576,0.6557570682894613,-1.0542341872005954,0.03719737420971662,-0.31867364377563595,-1.1703717600968937,-0.8316363162500537,0.831909490028364,0.9603329255973253,0.4469193495408474,-0.6680248054986461,-1.4368016215267256,-0.4910648356471731,0.1290750507683427,1.034014648013713,-1.4973600309347705,-1.8044132138526137,2.0166905434927296,0.8048179013053389,-1.492882208676375,-0.6748649905836156,-0.8400858812494736,-0.3424855695025714,0.5429289533430441,1.4505944597792435,0.8344138182321577,3.088701849367296,-1.186471096798677,0.168728798875712,-0.00023369224407586298,0.9061363110166618,-0.5308981623452343,-0.25191968573979984,0.9389293344458459,0.41549757712823854,-0.16365246156542926,-0.07288307401744985,-1.8558471336905158,-0.3155703280977984,-0.34917922358833586,-0.5738346447028725,-0.8601183509273665,0.2585107243536301,2.384194415639477,1.3115729579456512,-0.148857699387376,0.32222814582177756,-0.9076003153781811,-1.418856008091762,-0.7214173760241037,0.5471791176889814,2.18005097531976,1.141160907506807,1.2201707357734473,-0.6452366382392535,-0.01737815933223773,-0.3124136278637306,0.5067111370332694,0.7268212316169711,0.10937214003612843,1.2361635279185952,-0.07122909979272385,-0.44550551035046876,-0.19814583608575842,0.46929564505816007,1.277488712103853,0.5243563872034622,1.2987907089506594,-0.36266965797860884,-0.34315113181987533,-0.18973580009799973,-1.1586349734934005,-0.7338445703544374,1.4049889693523987,-0.2546471882284724,-0.8534027251317792,-1.3176527092764583,-0.3328016098332204,-0.13838524962268137,-1.2289427145380991,-1.0288833584270283,-1.54612001847978,-0.33453832585393073,0.709132822609628,-1.5561722785506644,1.1590603072122925,0.018209432057680254,0.5234686926074233,-0.0874758690567504,1.788137683531064,1.1980542288215026,1.2252743357819857,-1.1561501729977963,0.7965103545936477,0.1358853367732058,2.122884474337566,-0.3729167926403695,0.7669740220344629,1.4575539609392354,0.11364074488591074,0.5449295305087443,-0.31944579267885514,-0.5405407170426041,0.5421129516625081,-0.41802040025201825,1.5936213284989191,0.9385622419208591,0.09330854282569627,0.30316478501804467,1.4272014680051082,0.8270552859176571,1.865187322284481,-0.17357385694228974,0.19068459003889032,1.2988305194886272,-0.2290611237601301,0.3135588099430587,-0.3325786155646103,1.1693990700325847,-0.9590641398132491,-1.04406087668349,-0.09252287046414821,-0.7249413443506413,-0.5172100109631348,0.41182353319670145,-0.4860827834632349,0.8610838828937938,0.055194726512117716,-0.846549295392493,-2.002160613217223,0.6275590211367756,0.946980313787605,-0.32514720861505264,1.4987586064586118,0.3510635281831284,1.4183259985634677,-0.14653907906829938,1.0125647643795135,1.7949385908690711,-0.15661092261092674,0.457892420874559],\"type\":\"scatter\"},{\"marker\":{\"color\":\"black\",\"size\":3},\"mode\":\"markers\",\"name\":\"Correlacionados\",\"opacity\":0.8,\"x\":[1.7274254098182453,1.1391910325589019,-0.5143878959084621,1.237474997470982,1.4760490095997487,-0.6997682722783581,1.2984070909527918,-1.0275271048735661,0.543643852879227,-0.15533738764058955,-0.8021583371796032,-1.163457675060239,1.34341470167226,-0.10736641114359395,-0.16637819861838557,-0.19471686738603539,0.38926180102652536,-1.0423103003913,-0.02286032639350305,0.22128107214780132,-0.3896039865713335,-1.1993070129156411,-0.03349636530725297,0.3102475947704599,0.46907377604697065,-0.6342802459019355,-0.4437972490282055,0.27992923791231106,-0.35600841420822554,-1.6674670963795903,1.063742889191528,1.0704771921295655,-0.7577419009956328,-0.5564570237228756,0.19832405472644624,-1.6654621813637316,0.6315588833867013,-0.6862670796811128,-1.3958987078006657,0.0022716126780516176,1.1943770484462304,-0.4193954826934878,0.3206724379544718,-0.2404924940864897,-0.7630078679283331,0.41117836981189887,-0.7367571561555444,-1.5375703381387775,0.3128654822612078,0.5229341635827675,1.4283137916300925,0.6614666201323796,0.7757037560958282,1.0506901718014392,-0.8825243104689011,-2.011452186121086,1.6671138265053944,0.8607841402213618,-0.16876638396442642,0.5188320690822872,0.7452291300815423,-0.20703068380471037,0.05498273746271253,1.0320917973979211,-0.34560593852117405,-0.5499197727652824,-0.3629393164644018,1.0161727040278987,0.8745984986543097,0.6070279159993063,1.659784770773607,1.1395500068528241,2.6879063630493114,-1.5833008783590394,1.7998787627885644,-1.1818134783835639,1.4884169761717232,0.2365628415284928,1.4438656399550611,0.5983537058565163,0.424294818120754,0.7233162447439865,-0.07818875265131132,0.6167746881728254,-1.0508521099271362,0.9430268020244089,1.237041442040201,-1.4364050631868004,-1.3876246172745064,0.4417781159123523,1.0327936846907544,0.5872311846245907,-1.275244605002084,1.2998819680321034,1.6094674588283961,-1.7217063646133535,-0.6134412972965868,0.6652546618658889,1.7041058642651503,1.1352332316255682,-0.886448119534032,1.2552397237468402,-0.323902705740967,-0.9105146278486869,-0.13869906884345068,0.6932218905433952,1.3959144455182284,-1.20725180896348,1.2383740024265795,-0.7899091565773108,1.7544303504767063,-0.9863507667270602,-1.3024872851819114,-0.5006745507996181,-0.7548541239132107,-0.575502764253599,0.32447778952773904,-2.2157329768140213,0.22218354748870153,-1.3075873004989353,-2.057682263711264,0.20788827916603606,0.9661101367252648,0.6161041514864879,-1.7276246642957154,0.7255748629806057,-0.48767976344777153,-0.23173592204726104,-1.4099947649717546,-0.45849535798372953,-0.6153903810607492,-0.5000645659285182,0.9660367232310847,1.0402585832568014,-1.609939005673311,2.7889044471441986,0.718376106718817,-0.4309339523623318,1.1339930302255092,0.4382558410753018,0.23761025479859266,-0.14761873913018045,0.06526205859593566,-0.3209698717246657,1.2342019686623282,0.09587238206577227,1.2182769742819246,-1.3753162580613127,0.3299271924528301,0.739280636108551,0.7744577068918944,-1.616145764649048,-1.064243578306031,-2.188065289594193,-0.24653610179465613,0.5473235620733281,-1.0148940106630298,-0.6627916114638341,1.78703678939776,-1.1280179641024326,0.6831076390475445,0.20411379316361278,-0.03222618787859488,-0.23921704586252285,-0.643924764305963,0.34650070866657096,-0.9423925521440168,0.687501917805286,-0.22579094113981008,-1.6913631975477927,0.7170330543681247,-1.6913536031561789,-0.19936037872728946,-0.15963419250505775,1.1594113036636742,0.6818478023169808,-0.06637328707177807,-1.072695701375886,1.1432633777273398,1.4438257321025398,1.5832332159454332,-1.1555040755094603,0.9766735575509538,0.021883689785138098,-0.16664055432745567,0.4669016892930382,0.3311159000603805,-1.5951836488982665,0.820558657554304,-0.7518023766187223,-0.37314591237562467,0.3935794091863791,-1.3484659049702263,-0.3811306469362418,0.6063497337070255,-0.8928445459563911,0.22451645290131977,0.19488425387430544,-0.9177063887236854,-1.0127446417796395],\"y\":[-0.9015706968495103,0.3903441732174641,-0.16058292051282305,0.21247688297624764,-0.46941672568835097,0.06113653228363796,0.08584539173298197,1.533058863923303,0.8583646984249788,-0.32953813315227454,1.4121359739003112,0.7317150705110063,-0.8371090247609557,-2.0752573289636995,-0.35790901307677586,-0.59852933875818,0.5479639862028709,1.2261134595618892,-1.6070388127834978,-0.5718069419042084,-0.27801196987687743,-1.0479043084107835,-0.8258130387279772,-0.44574776210080563,0.2336389789189294,0.7595452982422597,0.35651429490783115,1.4728027941062896,2.7690028385256285,-0.11317564839544865,-0.10664315822405256,-0.9415870691947948,0.08840192859486178,1.0489346528948744,0.36505418540651047,-1.8543161422523935,-1.2820184260273706,-0.4097205238936857,-1.2093955717534852,-1.281865643171811,1.4615678465875053,2.2754118999336646,2.642202234146186,0.7323665408742654,-1.0823174918314264,-0.5059268512563675,-0.06823764716021422,0.2430608783199732,0.8082318088907928,-0.3791834046835918,1.0641303315700745,0.14491010090208747,0.6690581033133087,0.413859328542043,-0.8189027291327582,0.17597213736132825,-1.0899449095161764,1.4414111893415822,-0.08467506595837922,-0.43809630411976513,0.27429557027351853,-1.1608802037204478,0.26778321945438094,-1.0087545521353087,-0.4639774375434006,-0.6463609432899217,0.7801949569813336,-0.6993116740387942,-0.1864506330330119,-0.04057112417516215,-1.0074649896292085,-1.1893461411683726,-0.20068250685984457,0.24601014643677074,-1.528191683045532,-1.8835998203763213,1.2620214671523744,0.43832232229342366,-0.518887289161553,-0.24423669405742798,-0.591807441120855,0.0036034919577613055,-0.3428313127192675,1.2007537555023529,0.4960428077607062,2.572671126438008,-1.1370801840344398,-0.5948541716725316,0.21633525287547975,1.0052798209620355,-1.7641841841186539,-0.8281194749925381,0.8830945215016635,0.09038618025018774,-0.3391228923817308,-0.2659321584431094,-1.9218410464811893,-0.6743943907186605,0.08289000864713739,-1.4973637057205709,-0.5994043790379445,-0.22952140207988883,2.034745920521304,0.9952022922633996,-0.23779250376605554,-0.5179877142680682,-0.8007009448123775,-1.2927461258412676,-0.5311513706854022,0.05651179671778342,2.139010990624065,0.40517839145994256,0.13011385705582637,-0.9011979440985659,0.012302023898267187,-0.73524893427891,1.4164302011285785,1.084579957523915,0.101191985554932,1.1365385920449054,-0.286957789525787,0.3690431695256429,-0.36252313581078854,-0.02693699073153225,1.3035379144555386,0.32801420339643445,1.7452676563897274,-0.8496670111055832,-0.39881173437334877,0.20005193446870484,-1.7591682090758392,-0.6491394776029491,1.125106092618843,0.04774765662739422,-0.3068180353377563,-0.8714554007855885,-1.1017147469764261,0.15276017604835218,-1.0071899526678045,-1.4379598674062417,-1.4064949353919867,0.16374256861398137,1.1013923448195977,-1.8623474785096403,1.054155878065596,0.3240270254734962,-0.14514882982839872,-0.7416442548996952,0.662636008881778,0.6629195538494917,1.970819981765364,-0.9096344624942045,0.4209378472279437,0.3177197312159397,1.6928954906558427,-0.19292149726906455,0.4383993432658707,0.8337577490379147,0.6807495502903596,0.5302042989043576,-0.44900892640383594,0.06532464591990052,0.19226050138342915,-0.531388297340161,0.5961907201435478,0.14336389367619326,-0.34481822456877664,0.2692213586616301,2.1406806095405755,0.6264638944751749,1.238355584693543,-0.7345900973163163,-0.31491127763093496,1.5760374747526014,-0.3278828764887756,0.3974836528969134,-0.13564518673047324,0.7049557977762028,-0.10470753571726328,-0.22290040338630182,0.32605905237059823,-0.7148116915895522,-0.4078302885222806,0.18625721776911305,-0.35274262842807086,0.5741703896530439,0.7667415292657827,-0.7052950367924506,-1.5635236719572847,1.1602281567510668,-0.2828352187223413,-0.846652860775661,1.466293024907846,0.40129192740181213,1.8959598519044383,-0.14892972855023595,0.18815795119568504,1.7985375362427198,-0.2401650189761034,0.4189859213067677],\"type\":\"scatter\"}],                        {\"height\":400,\"legend\":{\"x\":0.7,\"y\":1},\"margin\":{\"b\":30,\"l\":50,\"r\":20,\"t\":50},\"showlegend\":true,\"template\":{\"data\":{\"barpolar\":[{\"marker\":{\"line\":{\"color\":\"white\",\"width\":0.5},\"pattern\":{\"fillmode\":\"overlay\",\"size\":10,\"solidity\":0.2}},\"type\":\"barpolar\"}],\"bar\":[{\"error_x\":{\"color\":\"#2a3f5f\"},\"error_y\":{\"color\":\"#2a3f5f\"},\"marker\":{\"line\":{\"color\":\"white\",\"width\":0.5},\"pattern\":{\"fillmode\":\"overlay\",\"size\":10,\"solidity\":0.2}},\"type\":\"bar\"}],\"carpet\":[{\"aaxis\":{\"endlinecolor\":\"#2a3f5f\",\"gridcolor\":\"#C8D4E3\",\"linecolor\":\"#C8D4E3\",\"minorgridcolor\":\"#C8D4E3\",\"startlinecolor\":\"#2a3f5f\"},\"baxis\":{\"endlinecolor\":\"#2a3f5f\",\"gridcolor\":\"#C8D4E3\",\"linecolor\":\"#C8D4E3\",\"minorgridcolor\":\"#C8D4E3\",\"startlinecolor\":\"#2a3f5f\"},\"type\":\"carpet\"}],\"choropleth\":[{\"colorbar\":{\"outlinewidth\":0,\"ticks\":\"\"},\"type\":\"choropleth\"}],\"contourcarpet\":[{\"colorbar\":{\"outlinewidth\":0,\"ticks\":\"\"},\"type\":\"contourcarpet\"}],\"contour\":[{\"colorbar\":{\"outlinewidth\":0,\"ticks\":\"\"},\"colorscale\":[[0.0,\"#0d0887\"],[0.1111111111111111,\"#46039f\"],[0.2222222222222222,\"#7201a8\"],[0.3333333333333333,\"#9c179e\"],[0.4444444444444444,\"#bd3786\"],[0.5555555555555556,\"#d8576b\"],[0.6666666666666666,\"#ed7953\"],[0.7777777777777778,\"#fb9f3a\"],[0.8888888888888888,\"#fdca26\"],[1.0,\"#f0f921\"]],\"type\":\"contour\"}],\"heatmapgl\":[{\"colorbar\":{\"outlinewidth\":0,\"ticks\":\"\"},\"colorscale\":[[0.0,\"#0d0887\"],[0.1111111111111111,\"#46039f\"],[0.2222222222222222,\"#7201a8\"],[0.3333333333333333,\"#9c179e\"],[0.4444444444444444,\"#bd3786\"],[0.5555555555555556,\"#d8576b\"],[0.6666666666666666,\"#ed7953\"],[0.7777777777777778,\"#fb9f3a\"],[0.8888888888888888,\"#fdca26\"],[1.0,\"#f0f921\"]],\"type\":\"heatmapgl\"}],\"heatmap\":[{\"colorbar\":{\"outlinewidth\":0,\"ticks\":\"\"},\"colorscale\":[[0.0,\"#0d0887\"],[0.1111111111111111,\"#46039f\"],[0.2222222222222222,\"#7201a8\"],[0.3333333333333333,\"#9c179e\"],[0.4444444444444444,\"#bd3786\"],[0.5555555555555556,\"#d8576b\"],[0.6666666666666666,\"#ed7953\"],[0.7777777777777778,\"#fb9f3a\"],[0.8888888888888888,\"#fdca26\"],[1.0,\"#f0f921\"]],\"type\":\"heatmap\"}],\"histogram2dcontour\":[{\"colorbar\":{\"outlinewidth\":0,\"ticks\":\"\"},\"colorscale\":[[0.0,\"#0d0887\"],[0.1111111111111111,\"#46039f\"],[0.2222222222222222,\"#7201a8\"],[0.3333333333333333,\"#9c179e\"],[0.4444444444444444,\"#bd3786\"],[0.5555555555555556,\"#d8576b\"],[0.6666666666666666,\"#ed7953\"],[0.7777777777777778,\"#fb9f3a\"],[0.8888888888888888,\"#fdca26\"],[1.0,\"#f0f921\"]],\"type\":\"histogram2dcontour\"}],\"histogram2d\":[{\"colorbar\":{\"outlinewidth\":0,\"ticks\":\"\"},\"colorscale\":[[0.0,\"#0d0887\"],[0.1111111111111111,\"#46039f\"],[0.2222222222222222,\"#7201a8\"],[0.3333333333333333,\"#9c179e\"],[0.4444444444444444,\"#bd3786\"],[0.5555555555555556,\"#d8576b\"],[0.6666666666666666,\"#ed7953\"],[0.7777777777777778,\"#fb9f3a\"],[0.8888888888888888,\"#fdca26\"],[1.0,\"#f0f921\"]],\"type\":\"histogram2d\"}],\"histogram\":[{\"marker\":{\"pattern\":{\"fillmode\":\"overlay\",\"size\":10,\"solidity\":0.2}},\"type\":\"histogram\"}],\"mesh3d\":[{\"colorbar\":{\"outlinewidth\":0,\"ticks\":\"\"},\"type\":\"mesh3d\"}],\"parcoords\":[{\"line\":{\"colorbar\":{\"outlinewidth\":0,\"ticks\":\"\"}},\"type\":\"parcoords\"}],\"pie\":[{\"automargin\":true,\"type\":\"pie\"}],\"scatter3d\":[{\"line\":{\"colorbar\":{\"outlinewidth\":0,\"ticks\":\"\"}},\"marker\":{\"colorbar\":{\"outlinewidth\":0,\"ticks\":\"\"}},\"type\":\"scatter3d\"}],\"scattercarpet\":[{\"marker\":{\"colorbar\":{\"outlinewidth\":0,\"ticks\":\"\"}},\"type\":\"scattercarpet\"}],\"scattergeo\":[{\"marker\":{\"colorbar\":{\"outlinewidth\":0,\"ticks\":\"\"}},\"type\":\"scattergeo\"}],\"scattergl\":[{\"marker\":{\"colorbar\":{\"outlinewidth\":0,\"ticks\":\"\"}},\"type\":\"scattergl\"}],\"scattermapbox\":[{\"marker\":{\"colorbar\":{\"outlinewidth\":0,\"ticks\":\"\"}},\"type\":\"scattermapbox\"}],\"scatterpolargl\":[{\"marker\":{\"colorbar\":{\"outlinewidth\":0,\"ticks\":\"\"}},\"type\":\"scatterpolargl\"}],\"scatterpolar\":[{\"marker\":{\"colorbar\":{\"outlinewidth\":0,\"ticks\":\"\"}},\"type\":\"scatterpolar\"}],\"scatter\":[{\"fillpattern\":{\"fillmode\":\"overlay\",\"size\":10,\"solidity\":0.2},\"type\":\"scatter\"}],\"scatterternary\":[{\"marker\":{\"colorbar\":{\"outlinewidth\":0,\"ticks\":\"\"}},\"type\":\"scatterternary\"}],\"surface\":[{\"colorbar\":{\"outlinewidth\":0,\"ticks\":\"\"},\"colorscale\":[[0.0,\"#0d0887\"],[0.1111111111111111,\"#46039f\"],[0.2222222222222222,\"#7201a8\"],[0.3333333333333333,\"#9c179e\"],[0.4444444444444444,\"#bd3786\"],[0.5555555555555556,\"#d8576b\"],[0.6666666666666666,\"#ed7953\"],[0.7777777777777778,\"#fb9f3a\"],[0.8888888888888888,\"#fdca26\"],[1.0,\"#f0f921\"]],\"type\":\"surface\"}],\"table\":[{\"cells\":{\"fill\":{\"color\":\"#EBF0F8\"},\"line\":{\"color\":\"white\"}},\"header\":{\"fill\":{\"color\":\"#C8D4E3\"},\"line\":{\"color\":\"white\"}},\"type\":\"table\"}]},\"layout\":{\"annotationdefaults\":{\"arrowcolor\":\"#2a3f5f\",\"arrowhead\":0,\"arrowwidth\":1},\"autotypenumbers\":\"strict\",\"coloraxis\":{\"colorbar\":{\"outlinewidth\":0,\"ticks\":\"\"}},\"colorscale\":{\"diverging\":[[0,\"#8e0152\"],[0.1,\"#c51b7d\"],[0.2,\"#de77ae\"],[0.3,\"#f1b6da\"],[0.4,\"#fde0ef\"],[0.5,\"#f7f7f7\"],[0.6,\"#e6f5d0\"],[0.7,\"#b8e186\"],[0.8,\"#7fbc41\"],[0.9,\"#4d9221\"],[1,\"#276419\"]],\"sequential\":[[0.0,\"#0d0887\"],[0.1111111111111111,\"#46039f\"],[0.2222222222222222,\"#7201a8\"],[0.3333333333333333,\"#9c179e\"],[0.4444444444444444,\"#bd3786\"],[0.5555555555555556,\"#d8576b\"],[0.6666666666666666,\"#ed7953\"],[0.7777777777777778,\"#fb9f3a\"],[0.8888888888888888,\"#fdca26\"],[1.0,\"#f0f921\"]],\"sequentialminus\":[[0.0,\"#0d0887\"],[0.1111111111111111,\"#46039f\"],[0.2222222222222222,\"#7201a8\"],[0.3333333333333333,\"#9c179e\"],[0.4444444444444444,\"#bd3786\"],[0.5555555555555556,\"#d8576b\"],[0.6666666666666666,\"#ed7953\"],[0.7777777777777778,\"#fb9f3a\"],[0.8888888888888888,\"#fdca26\"],[1.0,\"#f0f921\"]]},\"colorway\":[\"#636efa\",\"#EF553B\",\"#00cc96\",\"#ab63fa\",\"#FFA15A\",\"#19d3f3\",\"#FF6692\",\"#B6E880\",\"#FF97FF\",\"#FECB52\"],\"font\":{\"color\":\"#2a3f5f\"},\"geo\":{\"bgcolor\":\"white\",\"lakecolor\":\"white\",\"landcolor\":\"white\",\"showlakes\":true,\"showland\":true,\"subunitcolor\":\"#C8D4E3\"},\"hoverlabel\":{\"align\":\"left\"},\"hovermode\":\"closest\",\"mapbox\":{\"style\":\"light\"},\"paper_bgcolor\":\"white\",\"plot_bgcolor\":\"white\",\"polar\":{\"angularaxis\":{\"gridcolor\":\"#EBF0F8\",\"linecolor\":\"#EBF0F8\",\"ticks\":\"\"},\"bgcolor\":\"white\",\"radialaxis\":{\"gridcolor\":\"#EBF0F8\",\"linecolor\":\"#EBF0F8\",\"ticks\":\"\"}},\"scene\":{\"xaxis\":{\"backgroundcolor\":\"white\",\"gridcolor\":\"#DFE8F3\",\"gridwidth\":2,\"linecolor\":\"#EBF0F8\",\"showbackground\":true,\"ticks\":\"\",\"zerolinecolor\":\"#EBF0F8\"},\"yaxis\":{\"backgroundcolor\":\"white\",\"gridcolor\":\"#DFE8F3\",\"gridwidth\":2,\"linecolor\":\"#EBF0F8\",\"showbackground\":true,\"ticks\":\"\",\"zerolinecolor\":\"#EBF0F8\"},\"zaxis\":{\"backgroundcolor\":\"white\",\"gridcolor\":\"#DFE8F3\",\"gridwidth\":2,\"linecolor\":\"#EBF0F8\",\"showbackground\":true,\"ticks\":\"\",\"zerolinecolor\":\"#EBF0F8\"}},\"shapedefaults\":{\"line\":{\"color\":\"#2a3f5f\"}},\"ternary\":{\"aaxis\":{\"gridcolor\":\"#DFE8F3\",\"linecolor\":\"#A2B1C6\",\"ticks\":\"\"},\"baxis\":{\"gridcolor\":\"#DFE8F3\",\"linecolor\":\"#A2B1C6\",\"ticks\":\"\"},\"bgcolor\":\"white\",\"caxis\":{\"gridcolor\":\"#DFE8F3\",\"linecolor\":\"#A2B1C6\",\"ticks\":\"\"}},\"title\":{\"x\":0.05},\"xaxis\":{\"automargin\":true,\"gridcolor\":\"#EBF0F8\",\"linecolor\":\"#EBF0F8\",\"ticks\":\"\",\"title\":{\"standoff\":15},\"zerolinecolor\":\"#EBF0F8\",\"zerolinewidth\":2},\"yaxis\":{\"automargin\":true,\"gridcolor\":\"#EBF0F8\",\"linecolor\":\"#EBF0F8\",\"ticks\":\"\",\"title\":{\"standoff\":15},\"zerolinecolor\":\"#EBF0F8\",\"zerolinewidth\":2}}},\"title\":{\"font\":{\"size\":10},\"text\":\"\\u003cb\\u003e Muestra aleatoria y correlacionada \\u003c\\u002fb\\u003e \",\"xanchor\":\"left\"},\"width\":550},                        {\"responsive\": true}                    ).then(function(){\n",
       "                            \n",
       "var gd = document.getElementById('66208ed5-b6a0-4c86-b800-507fa6f0b726');\n",
       "var x = new MutationObserver(function (mutations, observer) {{\n",
       "        var display = window.getComputedStyle(gd).display;\n",
       "        if (!display || display === 'none') {{\n",
       "            console.log([gd, 'removed!']);\n",
       "            Plotly.purge(gd);\n",
       "            observer.disconnect();\n",
       "        }}\n",
       "}});\n",
       "\n",
       "// Listen for the removal of the full notebook cells\n",
       "var notebookContainer = gd.closest('#notebook-container');\n",
       "if (notebookContainer) {{\n",
       "    x.observe(notebookContainer, {childList: true});\n",
       "}}\n",
       "\n",
       "// Listen for the clearing of the current output cell\n",
       "var outputEl = gd.closest('.output');\n",
       "if (outputEl) {{\n",
       "    x.observe(outputEl, {childList: true});\n",
       "}}\n",
       "\n",
       "                        })                };                });            </script>        </div>"
      ]
     },
     "metadata": {},
     "output_type": "display_data"
    }
   ],
   "source": [
    "def scat(traces,annots=[]):\n",
    "    layout = go.Layout(width=550,height=400,margin=dict(l=50,r=20,b=30,t=50),template='plotly_white',\n",
    "                    annotations=annots,\n",
    "                    showlegend=True,\n",
    "                    legend=dict(x=0.7, y=1),\n",
    "                    title={'text':'<b> Muestra aleatoria y correlacionada </b> ','xanchor':'left','font':{'size':10}},\n",
    "                  )\n",
    "    fig = go.Figure(data=traces, layout=layout)\n",
    "    po.init_notebook_mode(connected=True)\n",
    "    config = {'showLink':False}\n",
    "    po.iplot(fig,config=config)\n",
    "  \n",
    "traces=[]\n",
    "traces.append(go.Scatter(x=Zc[:,0],y=Zc[:,3],mode='markers',marker={'color':'red','size':3.5},opacity=0.8, name = 'Aleatorios'))\n",
    "traces.append(go.Scatter(x=Zu.T[:,0],y=Zu.T[:,3],mode='markers',marker={'color':'black','size':3},opacity=0.8, name = 'Correlacionados'))\n",
    "\n",
    "print(corr)\n",
    "scat(traces)"
   ]
  },
  {
   "cell_type": "code",
   "execution_count": 430,
   "metadata": {},
   "outputs": [
    {
     "name": "stdout",
     "output_type": "stream",
     "text": [
      "Optimization terminated successfully\n",
      "Optimization terminated successfully\n",
      "Optimization terminated successfully\n",
      "Optimization terminated successfully\n",
      "Optimization terminated successfully\n",
      "Optimization terminated successfully\n",
      "Optimization terminated successfully\n",
      "Optimization terminated successfully\n",
      "Optimization terminated successfully\n",
      "Optimization terminated successfully\n",
      "Optimization terminated successfully\n",
      "Optimization terminated successfully\n",
      "Optimization terminated successfully\n",
      "Optimization terminated successfully\n",
      "Optimization terminated successfully\n",
      "Optimization terminated successfully\n",
      "Optimization terminated successfully\n",
      "Optimization terminated successfully\n",
      "Optimization terminated successfully\n",
      "Optimization terminated successfully\n",
      "Optimization terminated successfully\n",
      "Optimization terminated successfully\n",
      "Optimization terminated successfully\n",
      "Optimization terminated successfully\n",
      "Optimization terminated successfully\n",
      "Optimization terminated successfully\n",
      "Optimization terminated successfully\n",
      "Optimization terminated successfully\n",
      "Optimization terminated successfully\n",
      "Optimization terminated successfully\n",
      "Optimization terminated successfully\n",
      "Optimization terminated successfully\n",
      "Optimization terminated successfully\n",
      "Optimization terminated successfully\n",
      "Optimization terminated successfully\n",
      "Optimization terminated successfully\n",
      "Optimization terminated successfully\n",
      "Optimization terminated successfully\n",
      "Optimization terminated successfully\n",
      "Optimization terminated successfully\n",
      "Optimization terminated successfully\n",
      "Optimization terminated successfully\n",
      "Optimization terminated successfully\n",
      "Optimization terminated successfully\n",
      "Optimization terminated successfully\n",
      "Optimization terminated successfully\n",
      "Optimization terminated successfully\n",
      "Optimization terminated successfully\n",
      "Optimization terminated successfully\n",
      "Optimization terminated successfully\n",
      "Optimization terminated successfully\n",
      "Optimization terminated successfully\n",
      "Optimization terminated successfully\n",
      "Optimization terminated successfully\n",
      "Optimization terminated successfully\n",
      "Optimization terminated successfully\n",
      "Optimization terminated successfully\n",
      "Optimization terminated successfully\n",
      "Optimization terminated successfully\n",
      "Optimization terminated successfully\n",
      "Optimization terminated successfully\n",
      "Optimization terminated successfully\n",
      "Optimization terminated successfully\n",
      "Optimization terminated successfully\n",
      "Optimization terminated successfully\n",
      "Optimization terminated successfully\n",
      "Optimization terminated successfully\n",
      "Optimization terminated successfully\n",
      "Optimization terminated successfully\n",
      "Optimization terminated successfully\n",
      "Optimization terminated successfully\n",
      "Optimization terminated successfully\n",
      "Optimization terminated successfully\n",
      "Optimization terminated successfully\n",
      "Optimization terminated successfully\n",
      "Optimization terminated successfully\n",
      "Optimization terminated successfully\n",
      "Optimization terminated successfully\n",
      "Optimization terminated successfully\n",
      "Optimization terminated successfully\n",
      "Optimization terminated successfully\n",
      "Optimization terminated successfully\n",
      "Optimization terminated successfully\n",
      "Optimization terminated successfully\n",
      "Optimization terminated successfully\n",
      "Optimization terminated successfully\n",
      "Optimization terminated successfully\n",
      "Optimization terminated successfully\n",
      "Optimization terminated successfully\n",
      "Optimization terminated successfully\n",
      "Optimization terminated successfully\n",
      "Optimization terminated successfully\n",
      "Optimization terminated successfully\n",
      "Optimization terminated successfully\n",
      "Optimization terminated successfully\n",
      "Optimization terminated successfully\n",
      "Optimization terminated successfully\n",
      "Optimization terminated successfully\n",
      "Optimization terminated successfully\n",
      "Optimization terminated successfully\n",
      "Optimization terminated successfully\n",
      "Optimization terminated successfully\n",
      "Optimization terminated successfully\n",
      "Optimization terminated successfully\n",
      "Optimization terminated successfully\n",
      "Optimization terminated successfully\n",
      "Optimization terminated successfully\n",
      "Optimization terminated successfully\n",
      "Optimization terminated successfully\n",
      "Optimization terminated successfully\n",
      "Optimization terminated successfully\n",
      "Optimization terminated successfully\n",
      "Optimization terminated successfully\n",
      "Optimization terminated successfully\n",
      "Optimization terminated successfully\n",
      "Optimization terminated successfully\n",
      "Optimization terminated successfully\n",
      "Optimization terminated successfully\n",
      "Optimization terminated successfully\n",
      "Optimization terminated successfully\n",
      "Optimization terminated successfully\n",
      "Optimization terminated successfully\n",
      "Optimization terminated successfully\n",
      "Optimization terminated successfully\n",
      "Optimization terminated successfully\n",
      "Optimization terminated successfully\n",
      "Optimization terminated successfully\n",
      "Optimization terminated successfully\n",
      "Optimization terminated successfully\n",
      "Optimization terminated successfully\n",
      "Optimization terminated successfully\n",
      "Optimization terminated successfully\n",
      "Optimization terminated successfully\n",
      "Optimization terminated successfully\n",
      "Optimization terminated successfully\n",
      "Optimization terminated successfully\n",
      "Optimization terminated successfully\n",
      "Optimization terminated successfully\n",
      "Optimization terminated successfully\n",
      "Optimization terminated successfully\n",
      "Optimization terminated successfully\n",
      "Optimization terminated successfully\n",
      "Optimization terminated successfully\n",
      "Optimization terminated successfully\n",
      "Optimization terminated successfully\n",
      "Optimization terminated successfully\n",
      "Optimization terminated successfully\n",
      "Optimization terminated successfully\n",
      "Optimization terminated successfully\n",
      "Optimization terminated successfully\n",
      "Optimization terminated successfully\n",
      "Optimization terminated successfully\n",
      "Optimization terminated successfully\n",
      "Optimization terminated successfully\n",
      "Optimization terminated successfully\n",
      "Optimization terminated successfully\n",
      "Optimization terminated successfully\n",
      "Optimization terminated successfully\n",
      "Optimization terminated successfully\n",
      "Optimization terminated successfully\n",
      "Optimization terminated successfully\n",
      "Optimization terminated successfully\n",
      "Optimization terminated successfully\n",
      "Optimization terminated successfully\n",
      "Optimization terminated successfully\n",
      "Optimization terminated successfully\n",
      "Optimization terminated successfully\n",
      "Optimization terminated successfully\n",
      "Optimization terminated successfully\n",
      "Optimization terminated successfully\n",
      "Optimization terminated successfully\n",
      "Optimization terminated successfully\n",
      "Optimization terminated successfully\n",
      "Optimization terminated successfully\n",
      "Optimization terminated successfully\n",
      "Optimization terminated successfully\n",
      "Optimization terminated successfully\n",
      "Optimization terminated successfully\n",
      "Optimization terminated successfully\n",
      "Optimization terminated successfully\n",
      "Optimization terminated successfully\n",
      "Optimization terminated successfully\n",
      "Optimization terminated successfully\n",
      "Optimization terminated successfully\n",
      "Optimization terminated successfully\n",
      "Optimization terminated successfully\n",
      "Optimization terminated successfully\n",
      "Optimization terminated successfully\n",
      "Optimization terminated successfully\n",
      "Optimization terminated successfully\n",
      "Optimization terminated successfully\n",
      "Optimization terminated successfully\n",
      "Optimization terminated successfully\n",
      "Optimization terminated successfully\n",
      "Optimization terminated successfully\n",
      "Optimization terminated successfully\n",
      "Optimization terminated successfully\n",
      "Optimization terminated successfully\n",
      "Optimization terminated successfully\n",
      "Optimization terminated successfully\n",
      "Optimization terminated successfully\n",
      "Optimization terminated successfully\n",
      "Optimization terminated successfully\n",
      "Optimization terminated successfully\n",
      "Optimization terminated successfully\n",
      "Optimization terminated successfully\n",
      "Optimization terminated successfully\n",
      "Optimization terminated successfully\n",
      "Optimization terminated successfully\n",
      "Optimization terminated successfully\n",
      "Optimization terminated successfully\n",
      "Optimization terminated successfully\n",
      "Optimization terminated successfully\n",
      "Optimization terminated successfully\n",
      "Optimization terminated successfully\n",
      "Optimization terminated successfully\n",
      "Optimization terminated successfully\n",
      "Optimization terminated successfully\n",
      "Optimization terminated successfully\n",
      "Optimization terminated successfully\n",
      "Optimization terminated successfully\n",
      "Optimization terminated successfully\n",
      "Optimization terminated successfully\n",
      "Optimization terminated successfully\n",
      "Optimization terminated successfully\n",
      "Optimization terminated successfully\n",
      "Optimization terminated successfully\n",
      "Optimization terminated successfully\n",
      "Optimization terminated successfully\n",
      "Optimization terminated successfully\n",
      "Optimization terminated successfully\n",
      "Optimization terminated successfully\n",
      "Optimization terminated successfully\n",
      "Optimization terminated successfully\n",
      "Optimization terminated successfully\n",
      "Optimization terminated successfully\n",
      "Optimization terminated successfully\n",
      "Optimization terminated successfully\n",
      "Optimization terminated successfully\n",
      "Optimization terminated successfully\n",
      "Optimization terminated successfully\n",
      "Optimization terminated successfully\n",
      "Optimization terminated successfully\n",
      "Optimization terminated successfully\n",
      "Optimization terminated successfully\n",
      "Optimization terminated successfully\n",
      "Optimization terminated successfully\n",
      "Optimization terminated successfully\n",
      "Optimization terminated successfully\n",
      "Optimization terminated successfully\n",
      "Optimization terminated successfully\n",
      "Optimization terminated successfully\n",
      "Optimization terminated successfully\n",
      "Optimization terminated successfully\n",
      "Optimization terminated successfully\n",
      "Optimization terminated successfully\n",
      "Optimization terminated successfully\n",
      "Optimization terminated successfully\n",
      "Optimization terminated successfully\n",
      "Optimization terminated successfully\n",
      "Optimization terminated successfully\n",
      "Optimization terminated successfully\n",
      "Optimization terminated successfully\n",
      "Optimization terminated successfully\n",
      "Optimization terminated successfully\n",
      "Optimization terminated successfully\n",
      "Optimization terminated successfully\n",
      "Optimization terminated successfully\n",
      "Optimization terminated successfully\n",
      "Optimization terminated successfully\n",
      "Optimization terminated successfully\n",
      "Optimization terminated successfully\n",
      "Optimization terminated successfully\n",
      "Optimization terminated successfully\n",
      "Optimization terminated successfully\n",
      "Optimization terminated successfully\n",
      "Optimization terminated successfully\n",
      "Optimization terminated successfully\n",
      "Optimization terminated successfully\n",
      "Optimization terminated successfully\n",
      "Optimization terminated successfully\n",
      "Optimization terminated successfully\n",
      "Optimization terminated successfully\n",
      "Optimization terminated successfully\n",
      "Optimization terminated successfully\n",
      "Optimization terminated successfully\n",
      "Optimization terminated successfully\n",
      "Optimization terminated successfully\n",
      "Optimization terminated successfully\n",
      "Optimization terminated successfully\n",
      "Optimization terminated successfully\n",
      "Optimization terminated successfully\n",
      "Optimization terminated successfully\n",
      "Optimization terminated successfully\n",
      "Optimization terminated successfully\n",
      "Optimization terminated successfully\n",
      "Optimization terminated successfully\n",
      "Optimization terminated successfully\n",
      "Optimization terminated successfully\n",
      "Optimization terminated successfully\n",
      "Optimization terminated successfully\n",
      "Optimization terminated successfully\n",
      "Optimization terminated successfully\n",
      "Optimization terminated successfully\n",
      "Optimization terminated successfully\n",
      "Optimization terminated successfully\n",
      "Optimization terminated successfully\n",
      "Optimization terminated successfully\n",
      "Optimization terminated successfully\n",
      "Optimization terminated successfully\n",
      "Optimization terminated successfully\n",
      "Optimization terminated successfully\n",
      "Optimization terminated successfully\n",
      "Optimization terminated successfully\n",
      "Optimization terminated successfully\n",
      "Optimization terminated successfully\n",
      "Optimization terminated successfully\n",
      "Optimization terminated successfully\n",
      "Optimization terminated successfully\n",
      "Optimization terminated successfully\n",
      "Optimization terminated successfully\n",
      "Optimization terminated successfully\n",
      "Optimization terminated successfully\n",
      "Optimization terminated successfully\n",
      "Optimization terminated successfully\n",
      "Optimization terminated successfully\n",
      "Optimization terminated successfully\n",
      "Optimization terminated successfully\n",
      "Optimization terminated successfully\n",
      "Optimization terminated successfully\n",
      "Optimization terminated successfully\n",
      "Optimization terminated successfully\n",
      "Optimization terminated successfully\n",
      "Optimization terminated successfully\n",
      "Optimization terminated successfully\n",
      "Optimization terminated successfully\n",
      "Optimization terminated successfully\n",
      "Optimization terminated successfully\n",
      "Optimization terminated successfully\n",
      "Optimization terminated successfully\n",
      "Optimization terminated successfully\n",
      "Optimization terminated successfully\n",
      "Optimization terminated successfully\n",
      "Optimization terminated successfully\n",
      "Optimization terminated successfully\n",
      "Optimization terminated successfully\n",
      "Optimization terminated successfully\n",
      "Optimization terminated successfully\n",
      "Optimization terminated successfully\n",
      "Optimization terminated successfully\n",
      "Optimization terminated successfully\n",
      "Optimization terminated successfully\n",
      "Optimization terminated successfully\n",
      "Optimization terminated successfully\n",
      "Optimization terminated successfully\n",
      "Optimization terminated successfully\n",
      "Optimization terminated successfully\n",
      "Optimization terminated successfully\n",
      "Optimization terminated successfully\n",
      "Optimization terminated successfully\n",
      "Optimization terminated successfully\n",
      "Optimization terminated successfully\n",
      "Optimization terminated successfully\n",
      "Optimization terminated successfully\n",
      "Optimization terminated successfully\n",
      "Optimization terminated successfully\n",
      "Optimization terminated successfully\n",
      "Optimization terminated successfully\n",
      "Optimization terminated successfully\n",
      "Optimization terminated successfully\n",
      "Optimization terminated successfully\n",
      "Optimization terminated successfully\n",
      "Optimization terminated successfully\n",
      "Optimization terminated successfully\n",
      "Optimization terminated successfully\n",
      "Optimization terminated successfully\n",
      "Optimization terminated successfully\n",
      "Optimization terminated successfully\n",
      "Optimization terminated successfully\n",
      "Optimization terminated successfully\n",
      "Optimization terminated successfully\n",
      "Optimization terminated successfully\n",
      "Optimization terminated successfully\n",
      "Optimization terminated successfully\n",
      "Optimization terminated successfully\n",
      "Optimization terminated successfully\n",
      "Optimization terminated successfully\n",
      "Optimization terminated successfully\n",
      "Optimization terminated successfully\n",
      "Optimization terminated successfully\n",
      "Optimization terminated successfully\n",
      "Optimization terminated successfully\n",
      "Optimization terminated successfully\n",
      "Optimization terminated successfully\n",
      "Optimization terminated successfully\n",
      "Optimization terminated successfully\n",
      "Optimization terminated successfully\n",
      "Optimization terminated successfully\n",
      "Optimization terminated successfully\n",
      "Optimization terminated successfully\n",
      "Optimization terminated successfully\n",
      "Optimization terminated successfully\n",
      "Optimization terminated successfully\n",
      "Optimization terminated successfully\n",
      "Optimization terminated successfully\n",
      "Optimization terminated successfully\n",
      "Optimization terminated successfully\n",
      "Optimization terminated successfully\n",
      "Optimization terminated successfully\n",
      "Optimization terminated successfully\n",
      "Optimization terminated successfully\n",
      "Optimization terminated successfully\n",
      "Optimization terminated successfully\n",
      "Optimization terminated successfully\n",
      "Optimization terminated successfully\n",
      "Optimization terminated successfully\n",
      "Optimization terminated successfully\n",
      "Optimization terminated successfully\n",
      "Optimization terminated successfully\n",
      "Optimization terminated successfully\n",
      "Optimization terminated successfully\n",
      "Optimization terminated successfully\n",
      "Optimization terminated successfully\n",
      "Optimization terminated successfully\n",
      "Optimization terminated successfully\n",
      "Optimization terminated successfully\n",
      "Optimization terminated successfully\n",
      "Optimization terminated successfully\n",
      "Optimization terminated successfully\n",
      "Optimization terminated successfully\n",
      "Optimization terminated successfully\n",
      "Optimization terminated successfully\n",
      "Optimization terminated successfully\n",
      "Optimization terminated successfully\n",
      "Optimization terminated successfully\n",
      "Optimization terminated successfully\n",
      "Optimization terminated successfully\n",
      "Optimization terminated successfully\n",
      "Optimization terminated successfully\n",
      "Optimization terminated successfully\n",
      "Optimization terminated successfully\n",
      "Optimization terminated successfully\n",
      "Optimization terminated successfully\n",
      "Optimization terminated successfully\n",
      "Optimization terminated successfully\n",
      "Optimization terminated successfully\n",
      "Optimization terminated successfully\n",
      "Optimization terminated successfully\n",
      "Optimization terminated successfully\n",
      "Optimization terminated successfully\n",
      "Optimization terminated successfully\n",
      "Optimization terminated successfully\n",
      "Optimization terminated successfully\n",
      "Optimization terminated successfully\n",
      "Optimization terminated successfully\n",
      "Optimization terminated successfully\n",
      "Optimization terminated successfully\n",
      "Optimization terminated successfully\n",
      "Optimization terminated successfully\n",
      "Optimization terminated successfully\n",
      "Optimization terminated successfully\n",
      "Optimization terminated successfully\n",
      "Optimization terminated successfully\n",
      "Optimization terminated successfully\n",
      "Optimization terminated successfully\n",
      "Optimization terminated successfully\n",
      "Optimization terminated successfully\n",
      "Optimization terminated successfully\n",
      "Optimization terminated successfully\n",
      "Optimization terminated successfully\n",
      "Optimization terminated successfully\n",
      "Optimization terminated successfully\n",
      "Optimization terminated successfully\n",
      "Optimization terminated successfully\n",
      "Optimization terminated successfully\n",
      "Optimization terminated successfully\n",
      "Optimization terminated successfully\n",
      "Optimization terminated successfully\n",
      "Optimization terminated successfully\n",
      "Optimization terminated successfully\n",
      "Optimization terminated successfully\n",
      "Optimization terminated successfully\n",
      "Optimization terminated successfully\n",
      "Optimization terminated successfully\n",
      "Optimization terminated successfully\n",
      "Optimization terminated successfully\n",
      "Optimization terminated successfully\n",
      "Optimization terminated successfully\n",
      "Optimization terminated successfully\n",
      "Optimization terminated successfully\n",
      "Optimization terminated successfully\n",
      "Optimization terminated successfully\n",
      "Optimization terminated successfully\n",
      "Optimization terminated successfully\n",
      "Optimization terminated successfully\n",
      "Optimization terminated successfully\n",
      "Optimization terminated successfully\n",
      "Optimization terminated successfully\n",
      "Optimization terminated successfully\n",
      "Optimization terminated successfully\n",
      "Optimization terminated successfully\n",
      "Optimization terminated successfully\n",
      "Optimization terminated successfully\n",
      "Optimization terminated successfully\n",
      "Optimization terminated successfully\n",
      "Optimization terminated successfully\n",
      "Optimization terminated successfully\n",
      "Optimization terminated successfully\n",
      "Optimization terminated successfully\n",
      "Optimization terminated successfully\n",
      "Optimization terminated successfully\n",
      "Optimization terminated successfully\n",
      "Optimization terminated successfully\n",
      "Optimization terminated successfully\n",
      "Optimization terminated successfully\n",
      "Optimization terminated successfully\n",
      "Optimization terminated successfully\n",
      "Optimization terminated successfully\n",
      "Optimization terminated successfully\n",
      "Optimization terminated successfully\n",
      "Optimization terminated successfully\n",
      "Optimization terminated successfully\n",
      "Optimization terminated successfully\n",
      "Optimization terminated successfully\n",
      "Optimization terminated successfully\n",
      "Optimization terminated successfully\n",
      "Optimization terminated successfully\n",
      "Optimization terminated successfully\n",
      "Optimization terminated successfully\n",
      "Optimization terminated successfully\n",
      "Optimization terminated successfully\n",
      "Optimization terminated successfully\n",
      "Optimization terminated successfully\n",
      "Optimization terminated successfully\n",
      "Optimization terminated successfully\n",
      "Optimization terminated successfully\n",
      "Optimization terminated successfully\n",
      "Optimization terminated successfully\n",
      "Optimization terminated successfully\n",
      "Optimization terminated successfully\n",
      "Optimization terminated successfully\n",
      "Optimization terminated successfully\n",
      "Optimization terminated successfully\n",
      "Optimization terminated successfully\n",
      "Optimization terminated successfully\n",
      "Optimization terminated successfully\n",
      "Optimization terminated successfully\n",
      "Optimization terminated successfully\n",
      "Optimization terminated successfully\n",
      "Optimization terminated successfully\n",
      "Optimization terminated successfully\n",
      "Optimization terminated successfully\n",
      "Optimization terminated successfully\n",
      "Optimization terminated successfully\n",
      "Optimization terminated successfully\n",
      "Optimization terminated successfully\n",
      "Optimization terminated successfully\n",
      "Optimization terminated successfully\n",
      "Optimization terminated successfully\n",
      "Optimization terminated successfully\n",
      "Optimization terminated successfully\n",
      "Optimization terminated successfully\n",
      "Optimization terminated successfully\n",
      "Optimization terminated successfully\n",
      "Optimization terminated successfully\n",
      "Optimization terminated successfully\n",
      "Optimization terminated successfully\n",
      "Optimization terminated successfully\n",
      "Optimization terminated successfully\n",
      "Optimization terminated successfully\n",
      "Optimization terminated successfully\n",
      "Optimization terminated successfully\n",
      "Optimization terminated successfully\n",
      "Optimization terminated successfully\n",
      "Optimization terminated successfully\n",
      "Optimization terminated successfully\n",
      "Optimization terminated successfully\n",
      "Optimization terminated successfully\n",
      "Optimization terminated successfully\n",
      "Optimization terminated successfully\n",
      "Optimization terminated successfully\n",
      "Optimization terminated successfully\n",
      "Optimization terminated successfully\n",
      "Optimization terminated successfully\n",
      "Optimization terminated successfully\n",
      "Optimization terminated successfully\n",
      "Optimization terminated successfully\n",
      "Optimization terminated successfully\n",
      "Optimization terminated successfully\n",
      "Optimization terminated successfully\n",
      "Optimization terminated successfully\n",
      "Optimization terminated successfully\n",
      "Optimization terminated successfully\n",
      "Optimization terminated successfully\n",
      "Optimization terminated successfully\n",
      "Optimization terminated successfully\n",
      "Optimization terminated successfully\n",
      "Optimization terminated successfully\n",
      "Optimization terminated successfully\n",
      "Optimization terminated successfully\n",
      "Optimization terminated successfully\n",
      "Optimization terminated successfully\n",
      "Optimization terminated successfully\n",
      "Optimization terminated successfully\n",
      "Optimization terminated successfully\n",
      "Optimization terminated successfully\n",
      "Optimization terminated successfully\n",
      "Optimization terminated successfully\n",
      "Optimization terminated successfully\n",
      "Optimization terminated successfully\n",
      "Optimization terminated successfully\n",
      "Optimization terminated successfully\n",
      "Optimization terminated successfully\n",
      "Optimization terminated successfully\n",
      "Optimization terminated successfully\n",
      "Optimization terminated successfully\n",
      "Optimization terminated successfully\n",
      "Optimization terminated successfully\n",
      "Optimization terminated successfully\n",
      "Optimization terminated successfully\n",
      "Optimization terminated successfully\n",
      "Optimization terminated successfully\n",
      "Optimization terminated successfully\n",
      "Optimization terminated successfully\n",
      "Optimization terminated successfully\n",
      "Optimization terminated successfully\n",
      "Optimization terminated successfully\n",
      "Optimization terminated successfully\n",
      "Optimization terminated successfully\n",
      "Optimization terminated successfully\n",
      "Optimization terminated successfully\n",
      "Optimization terminated successfully\n",
      "Optimization terminated successfully\n",
      "Optimization terminated successfully\n",
      "Optimization terminated successfully\n",
      "Optimization terminated successfully\n",
      "Optimization terminated successfully\n",
      "Optimization terminated successfully\n",
      "Optimization terminated successfully\n",
      "Optimization terminated successfully\n",
      "Optimization terminated successfully\n",
      "Optimization terminated successfully\n",
      "Optimization terminated successfully\n",
      "Optimization terminated successfully\n",
      "Optimization terminated successfully\n",
      "Optimization terminated successfully\n",
      "Optimization terminated successfully\n",
      "Optimization terminated successfully\n",
      "Optimization terminated successfully\n",
      "Optimization terminated successfully\n",
      "Optimization terminated successfully\n",
      "Optimization terminated successfully\n",
      "Optimization terminated successfully\n",
      "Optimization terminated successfully\n",
      "Optimization terminated successfully\n",
      "Optimization terminated successfully\n",
      "Optimization terminated successfully\n",
      "Optimization terminated successfully\n",
      "Optimization terminated successfully\n",
      "Optimization terminated successfully\n",
      "Optimization terminated successfully\n",
      "Optimization terminated successfully\n",
      "Optimization terminated successfully\n",
      "Optimization terminated successfully\n",
      "Optimization terminated successfully\n",
      "Optimization terminated successfully\n",
      "Optimization terminated successfully\n",
      "Optimization terminated successfully\n",
      "Optimization terminated successfully\n",
      "Optimization terminated successfully\n",
      "Optimization terminated successfully\n",
      "Optimization terminated successfully\n",
      "Optimization terminated successfully\n",
      "Optimization terminated successfully\n",
      "Optimization terminated successfully\n",
      "Optimization terminated successfully\n",
      "Optimization terminated successfully\n",
      "Optimization terminated successfully\n",
      "Optimization terminated successfully\n",
      "Optimization terminated successfully\n",
      "Optimization terminated successfully\n",
      "Optimization terminated successfully\n",
      "Optimization terminated successfully\n",
      "Optimization terminated successfully\n",
      "Optimization terminated successfully\n",
      "Optimization terminated successfully\n",
      "Optimization terminated successfully\n",
      "Optimization terminated successfully\n",
      "Optimization terminated successfully\n",
      "Optimization terminated successfully\n",
      "Optimization terminated successfully\n",
      "Optimization terminated successfully\n",
      "Optimization terminated successfully\n",
      "Optimization terminated successfully\n",
      "Optimization terminated successfully\n",
      "Optimization terminated successfully\n",
      "Optimization terminated successfully\n",
      "Optimization terminated successfully\n",
      "Optimization terminated successfully\n",
      "Optimization terminated successfully\n",
      "Optimization terminated successfully\n",
      "Optimization terminated successfully\n",
      "Optimization terminated successfully\n",
      "Optimization terminated successfully\n",
      "Optimization terminated successfully\n",
      "Optimization terminated successfully\n",
      "Optimization terminated successfully\n",
      "Optimization terminated successfully\n",
      "Optimization terminated successfully\n",
      "Optimization terminated successfully\n",
      "Optimization terminated successfully\n",
      "Optimization terminated successfully\n",
      "Optimization terminated successfully\n",
      "Optimization terminated successfully\n",
      "Optimization terminated successfully\n",
      "Optimization terminated successfully\n",
      "Optimization terminated successfully\n",
      "Optimization terminated successfully\n",
      "Optimization terminated successfully\n",
      "Optimization terminated successfully\n",
      "Optimization terminated successfully\n",
      "Optimization terminated successfully\n",
      "Optimization terminated successfully\n",
      "Optimization terminated successfully\n",
      "Optimization terminated successfully\n",
      "Optimization terminated successfully\n",
      "Optimization terminated successfully\n",
      "Optimization terminated successfully\n",
      "Optimization terminated successfully\n",
      "Optimization terminated successfully\n",
      "Optimization terminated successfully\n",
      "Optimization terminated successfully\n",
      "Optimization terminated successfully\n",
      "Optimization terminated successfully\n",
      "Optimization terminated successfully\n",
      "Optimization terminated successfully\n",
      "Optimization terminated successfully\n",
      "Optimization terminated successfully\n",
      "Optimization terminated successfully\n",
      "Optimization terminated successfully\n",
      "Optimization terminated successfully\n",
      "Optimization terminated successfully\n",
      "Optimization terminated successfully\n",
      "Optimization terminated successfully\n",
      "Optimization terminated successfully\n",
      "Optimization terminated successfully\n",
      "Optimization terminated successfully\n",
      "Optimization terminated successfully\n",
      "Optimization terminated successfully\n",
      "Optimization terminated successfully\n",
      "Optimization terminated successfully\n",
      "Optimization terminated successfully\n",
      "Optimization terminated successfully\n",
      "Optimization terminated successfully\n",
      "Optimization terminated successfully\n",
      "Optimization terminated successfully\n",
      "Optimization terminated successfully\n",
      "Optimization terminated successfully\n",
      "Optimization terminated successfully\n",
      "Optimization terminated successfully\n",
      "Optimization terminated successfully\n",
      "Optimization terminated successfully\n",
      "Optimization terminated successfully\n",
      "Optimization terminated successfully\n",
      "Optimization terminated successfully\n",
      "Optimization terminated successfully\n",
      "Optimization terminated successfully\n",
      "Optimization terminated successfully\n",
      "Optimization terminated successfully\n",
      "Optimization terminated successfully\n",
      "Optimization terminated successfully\n",
      "Optimization terminated successfully\n",
      "Optimization terminated successfully\n",
      "Optimization terminated successfully\n",
      "Optimization terminated successfully\n",
      "Optimization terminated successfully\n",
      "Optimization terminated successfully\n",
      "Optimization terminated successfully\n",
      "Optimization terminated successfully\n",
      "Optimization terminated successfully\n",
      "Optimization terminated successfully\n",
      "Optimization terminated successfully\n",
      "Optimization terminated successfully\n",
      "Optimization terminated successfully\n",
      "Optimization terminated successfully\n",
      "Optimization terminated successfully\n",
      "Optimization terminated successfully\n",
      "Optimization terminated successfully\n",
      "Optimization terminated successfully\n",
      "Optimization terminated successfully\n",
      "Optimization terminated successfully\n",
      "Optimization terminated successfully\n",
      "Optimization terminated successfully\n",
      "Optimization terminated successfully\n",
      "Optimization terminated successfully\n",
      "Optimization terminated successfully\n",
      "Optimization terminated successfully\n",
      "Optimization terminated successfully\n",
      "Optimization terminated successfully\n",
      "Optimization terminated successfully\n",
      "Optimization terminated successfully\n",
      "Optimization terminated successfully\n",
      "Optimization terminated successfully\n",
      "Optimization terminated successfully\n",
      "Optimization terminated successfully\n",
      "Optimization terminated successfully\n",
      "Optimization terminated successfully\n",
      "Optimization terminated successfully\n",
      "Optimization terminated successfully\n",
      "Optimization terminated successfully\n",
      "Optimization terminated successfully\n",
      "Optimization terminated successfully\n",
      "Optimization terminated successfully\n",
      "Optimization terminated successfully\n",
      "Optimization terminated successfully\n",
      "Optimization terminated successfully\n",
      "Optimization terminated successfully\n",
      "Optimization terminated successfully\n",
      "Optimization terminated successfully\n",
      "Optimization terminated successfully\n",
      "Optimization terminated successfully\n",
      "Optimization terminated successfully\n",
      "Optimization terminated successfully\n",
      "Optimization terminated successfully\n",
      "Optimization terminated successfully\n",
      "Optimization terminated successfully\n",
      "Optimization terminated successfully\n",
      "Optimization terminated successfully\n",
      "Optimization terminated successfully\n",
      "Optimization terminated successfully\n",
      "Optimization terminated successfully\n",
      "Optimization terminated successfully\n",
      "Optimization terminated successfully\n",
      "Optimization terminated successfully\n",
      "Optimization terminated successfully\n",
      "Optimization terminated successfully\n",
      "Optimization terminated successfully\n",
      "Optimization terminated successfully\n",
      "Optimization terminated successfully\n",
      "Optimization terminated successfully\n",
      "Optimization terminated successfully\n",
      "Optimization terminated successfully\n",
      "Optimization terminated successfully\n",
      "Optimization terminated successfully\n",
      "Optimization terminated successfully\n",
      "Optimization terminated successfully\n",
      "Optimization terminated successfully\n",
      "Optimization terminated successfully\n",
      "Optimization terminated successfully\n",
      "Optimization terminated successfully\n",
      "Optimization terminated successfully\n",
      "Optimization terminated successfully\n",
      "Optimization terminated successfully\n",
      "Optimization terminated successfully\n",
      "Optimization terminated successfully\n",
      "Optimization terminated successfully\n",
      "Optimization terminated successfully\n",
      "Optimization terminated successfully\n",
      "Optimization terminated successfully\n",
      "Optimization terminated successfully\n",
      "Optimization terminated successfully\n",
      "Optimization terminated successfully\n",
      "Optimization terminated successfully\n",
      "Optimization terminated successfully\n",
      "Optimization terminated successfully\n",
      "Optimization terminated successfully\n",
      "Optimization terminated successfully\n",
      "Optimization terminated successfully\n",
      "Optimization terminated successfully\n",
      "Optimization terminated successfully\n",
      "Optimization terminated successfully\n",
      "Optimization terminated successfully\n",
      "Optimization terminated successfully\n",
      "Optimization terminated successfully\n",
      "Optimization terminated successfully\n",
      "Optimization terminated successfully\n",
      "Optimization terminated successfully\n",
      "Optimization terminated successfully\n",
      "Optimization terminated successfully\n",
      "Optimization terminated successfully\n",
      "Optimization terminated successfully\n",
      "Optimization terminated successfully\n",
      "Optimization terminated successfully\n",
      "Optimization terminated successfully\n",
      "Optimization terminated successfully\n",
      "Optimization terminated successfully\n",
      "Optimization terminated successfully\n",
      "Optimization terminated successfully\n",
      "Optimization terminated successfully\n",
      "Optimization terminated successfully\n",
      "Optimization terminated successfully\n",
      "Optimization terminated successfully\n",
      "Optimization terminated successfully\n",
      "Optimization terminated successfully\n",
      "Optimization terminated successfully\n",
      "Optimization terminated successfully\n",
      "Optimization terminated successfully\n",
      "Optimization terminated successfully\n",
      "Optimization terminated successfully\n",
      "Optimization terminated successfully\n",
      "Optimization terminated successfully\n",
      "Optimization terminated successfully\n",
      "Optimization terminated successfully\n",
      "Optimization terminated successfully\n",
      "Optimization terminated successfully\n",
      "Optimization terminated successfully\n",
      "Optimization terminated successfully\n",
      "Optimization terminated successfully\n",
      "Optimization terminated successfully\n",
      "Optimization terminated successfully\n",
      "Optimization terminated successfully\n",
      "Optimization terminated successfully\n",
      "Optimization terminated successfully\n",
      "Optimization terminated successfully\n",
      "Optimization terminated successfully\n",
      "Optimization terminated successfully\n",
      "Optimization terminated successfully\n",
      "Optimization terminated successfully\n",
      "Optimization terminated successfully\n",
      "Optimization terminated successfully\n",
      "Optimization terminated successfully\n",
      "Optimization terminated successfully\n",
      "Optimization terminated successfully\n",
      "Optimization terminated successfully\n",
      "Optimization terminated successfully\n",
      "Optimization terminated successfully\n",
      "Optimization terminated successfully\n",
      "Optimization terminated successfully\n",
      "Optimization terminated successfully\n",
      "Optimization terminated successfully\n",
      "Optimization terminated successfully\n",
      "Optimization terminated successfully\n",
      "Optimization terminated successfully\n",
      "Optimization terminated successfully\n",
      "Optimization terminated successfully\n",
      "Optimization terminated successfully\n",
      "Optimization terminated successfully\n",
      "Optimization terminated successfully\n",
      "Optimization terminated successfully\n",
      "Optimization terminated successfully\n",
      "Optimization terminated successfully\n",
      "Optimization terminated successfully\n",
      "Optimization terminated successfully\n",
      "Optimization terminated successfully\n",
      "Optimization terminated successfully\n",
      "Optimization terminated successfully\n",
      "Optimization terminated successfully\n",
      "Optimization terminated successfully\n",
      "Optimization terminated successfully\n",
      "Optimization terminated successfully\n",
      "Optimization terminated successfully\n",
      "Optimization terminated successfully\n",
      "Optimization terminated successfully\n",
      "Optimization terminated successfully\n",
      "Optimization terminated successfully\n",
      "Optimization terminated successfully\n",
      "Optimization terminated successfully\n",
      "Optimization terminated successfully\n",
      "Optimization terminated successfully\n",
      "Optimization terminated successfully\n",
      "Optimization terminated successfully\n",
      "Optimization terminated successfully\n",
      "Optimization terminated successfully\n",
      "Optimization terminated successfully\n",
      "Optimization terminated successfully\n",
      "Optimization terminated successfully\n",
      "Optimization terminated successfully\n",
      "Optimization terminated successfully\n",
      "Optimization terminated successfully\n",
      "Optimization terminated successfully\n",
      "Optimization terminated successfully\n",
      "Optimization terminated successfully\n",
      "Optimization terminated successfully\n",
      "Optimization terminated successfully\n",
      "Optimization terminated successfully\n",
      "Optimization terminated successfully\n",
      "Optimization terminated successfully\n",
      "Optimization terminated successfully\n",
      "Optimization terminated successfully\n",
      "Optimization terminated successfully\n",
      "Optimization terminated successfully\n",
      "Optimization terminated successfully\n",
      "Optimization terminated successfully\n",
      "Optimization terminated successfully\n",
      "Optimization terminated successfully\n",
      "Optimization terminated successfully\n",
      "Optimization terminated successfully\n",
      "Optimization terminated successfully\n",
      "Optimization terminated successfully\n",
      "Optimization terminated successfully\n",
      "Optimization terminated successfully\n",
      "Optimization terminated successfully\n",
      "Optimization terminated successfully\n",
      "Optimization terminated successfully\n",
      "Optimization terminated successfully\n",
      "Optimization terminated successfully\n",
      "Optimization terminated successfully\n",
      "Optimization terminated successfully\n",
      "Optimization terminated successfully\n",
      "Optimization terminated successfully\n",
      "Optimization terminated successfully\n",
      "Optimization terminated successfully\n",
      "Optimization terminated successfully\n",
      "Optimization terminated successfully\n",
      "Optimization terminated successfully\n",
      "Optimization terminated successfully\n",
      "Optimization terminated successfully\n",
      "Optimization terminated successfully\n",
      "Optimization terminated successfully\n",
      "Optimization terminated successfully\n",
      "Optimization terminated successfully\n",
      "Optimization terminated successfully\n",
      "Optimization terminated successfully\n",
      "Optimization terminated successfully\n",
      "Optimization terminated successfully\n",
      "Optimization terminated successfully\n",
      "Optimization terminated successfully\n",
      "Optimization terminated successfully\n",
      "Optimization terminated successfully\n",
      "Optimization terminated successfully\n",
      "Optimization terminated successfully\n",
      "Optimization terminated successfully\n",
      "Optimization terminated successfully\n",
      "Optimization terminated successfully\n",
      "Optimization terminated successfully\n",
      "Optimization terminated successfully\n",
      "Optimization terminated successfully\n",
      "Optimization terminated successfully\n",
      "Optimization terminated successfully\n",
      "Optimization terminated successfully\n",
      "Optimization terminated successfully\n",
      "Optimization terminated successfully\n",
      "Optimization terminated successfully\n",
      "Optimization terminated successfully\n",
      "Optimization terminated successfully\n",
      "Optimization terminated successfully\n",
      "Optimization terminated successfully\n",
      "Optimization terminated successfully\n",
      "Optimization terminated successfully\n",
      "Optimization terminated successfully\n",
      "Optimization terminated successfully\n",
      "Optimization terminated successfully\n",
      "Optimization terminated successfully\n",
      "Optimization terminated successfully\n",
      "Optimization terminated successfully\n",
      "Optimization terminated successfully\n",
      "Optimization terminated successfully\n",
      "Optimization terminated successfully\n",
      "Optimization terminated successfully\n",
      "Optimization terminated successfully\n",
      "Optimization terminated successfully\n",
      "Optimization terminated successfully\n",
      "Optimization terminated successfully\n",
      "Optimization terminated successfully\n",
      "Optimization terminated successfully\n",
      "Optimization terminated successfully\n",
      "Optimization terminated successfully\n",
      "Optimization terminated successfully\n",
      "Optimization terminated successfully\n",
      "Optimization terminated successfully\n",
      "Optimization terminated successfully\n",
      "Optimization terminated successfully\n",
      "Optimization terminated successfully\n",
      "Optimization terminated successfully\n",
      "Optimization terminated successfully\n",
      "Optimization terminated successfully\n",
      "Optimization terminated successfully\n",
      "Optimization terminated successfully\n",
      "Optimization terminated successfully\n",
      "Optimization terminated successfully\n",
      "Optimization terminated successfully\n",
      "Optimization terminated successfully\n",
      "Optimization terminated successfully\n",
      "Optimization terminated successfully\n",
      "Optimization terminated successfully\n",
      "Optimization terminated successfully\n",
      "Optimization terminated successfully\n",
      "Optimization terminated successfully\n",
      "Optimization terminated successfully\n",
      "Optimization terminated successfully\n",
      "Optimization terminated successfully\n",
      "Optimization terminated successfully\n",
      "Optimization terminated successfully\n",
      "Optimization terminated successfully\n",
      "Optimization terminated successfully\n",
      "Optimization terminated successfully\n",
      "Optimization terminated successfully\n",
      "Optimization terminated successfully\n",
      "Optimization terminated successfully\n",
      "Optimization terminated successfully\n",
      "Optimization terminated successfully\n",
      "Optimization terminated successfully\n",
      "Optimization terminated successfully\n",
      "Optimization terminated successfully\n",
      "Optimization terminated successfully\n",
      "Optimization terminated successfully\n",
      "Optimization terminated successfully\n",
      "Optimization terminated successfully\n",
      "Optimization terminated successfully\n",
      "Optimization terminated successfully\n",
      "Optimization terminated successfully\n",
      "Optimization terminated successfully\n",
      "Optimization terminated successfully\n",
      "Optimization terminated successfully\n",
      "Optimization terminated successfully\n",
      "Optimization terminated successfully\n",
      "Optimization terminated successfully\n",
      "Optimization terminated successfully\n",
      "Optimization terminated successfully\n",
      "Optimization terminated successfully\n",
      "Optimization terminated successfully\n",
      "Optimization terminated successfully\n",
      "Optimization terminated successfully\n",
      "Optimization terminated successfully\n",
      "Optimization terminated successfully\n",
      "Optimization terminated successfully\n",
      "Optimization terminated successfully\n",
      "Optimization terminated successfully\n",
      "Optimization terminated successfully\n",
      "Optimization terminated successfully\n",
      "Optimization terminated successfully\n",
      "Optimization terminated successfully\n",
      "Optimization terminated successfully\n",
      "Optimization terminated successfully\n",
      "Optimization terminated successfully\n",
      "Optimization terminated successfully\n",
      "Optimization terminated successfully\n",
      "Optimization terminated successfully\n",
      "Optimization terminated successfully\n",
      "Optimization terminated successfully\n",
      "Optimization terminated successfully\n",
      "Optimization terminated successfully\n",
      "Optimization terminated successfully\n",
      "Optimization terminated successfully\n",
      "Optimization terminated successfully\n",
      "Optimization terminated successfully\n",
      "Optimization terminated successfully\n",
      "Optimization terminated successfully\n",
      "Optimization terminated successfully\n",
      "Optimization terminated successfully\n",
      "Optimization terminated successfully\n",
      "Optimization terminated successfully\n",
      "Optimization terminated successfully\n",
      "Optimization terminated successfully\n",
      "Optimization terminated successfully\n",
      "Optimization terminated successfully\n",
      "Optimization terminated successfully\n",
      "Optimization terminated successfully\n",
      "Optimization terminated successfully\n",
      "Optimization terminated successfully\n",
      "Optimization terminated successfully\n",
      "Optimization terminated successfully\n",
      "Optimization terminated successfully\n",
      "Optimization terminated successfully\n",
      "Optimization terminated successfully\n",
      "Optimization terminated successfully\n",
      "Optimization terminated successfully\n",
      "Optimization terminated successfully\n",
      "Optimization terminated successfully\n",
      "Optimization terminated successfully\n",
      "Optimization terminated successfully\n",
      "Optimization terminated successfully\n",
      "Optimization terminated successfully\n",
      "Optimization terminated successfully\n",
      "Optimization terminated successfully\n",
      "Optimization terminated successfully\n",
      "Optimization terminated successfully\n",
      "Optimization terminated successfully\n",
      "Optimization terminated successfully\n",
      "Optimization terminated successfully\n",
      "Optimization terminated successfully\n",
      "Optimization terminated successfully\n",
      "Optimization terminated successfully\n",
      "Optimization terminated successfully\n",
      "Optimization terminated successfully\n",
      "Optimization terminated successfully\n",
      "Optimization terminated successfully\n",
      "Optimization terminated successfully\n",
      "Optimization terminated successfully\n",
      "Optimization terminated successfully\n",
      "Optimization terminated successfully\n",
      "Optimization terminated successfully\n",
      "Optimization terminated successfully\n",
      "Optimization terminated successfully\n",
      "Optimization terminated successfully\n",
      "Optimization terminated successfully\n",
      "Optimization terminated successfully\n",
      "Optimization terminated successfully\n",
      "Optimization terminated successfully\n",
      "Optimization terminated successfully\n",
      "Optimization terminated successfully\n",
      "Optimization terminated successfully\n",
      "Optimization terminated successfully\n",
      "Optimization terminated successfully\n",
      "Optimization terminated successfully\n",
      "Optimization terminated successfully\n",
      "Optimization terminated successfully\n",
      "Optimization terminated successfully\n",
      "Optimization terminated successfully\n",
      "Optimization terminated successfully\n",
      "Optimization terminated successfully\n",
      "Optimization terminated successfully\n",
      "Optimization terminated successfully\n",
      "Optimization terminated successfully\n",
      "Optimization terminated successfully\n",
      "Optimization terminated successfully\n",
      "Optimization terminated successfully\n",
      "Optimization terminated successfully\n",
      "Optimization terminated successfully\n",
      "Optimization terminated successfully\n",
      "Optimization terminated successfully\n",
      "Optimization terminated successfully\n",
      "Optimization terminated successfully\n",
      "Optimization terminated successfully\n",
      "Optimization terminated successfully\n",
      "Optimization terminated successfully\n",
      "Optimization terminated successfully\n",
      "Optimization terminated successfully\n",
      "Optimization terminated successfully\n",
      "Optimization terminated successfully\n",
      "Optimization terminated successfully\n",
      "Optimization terminated successfully\n",
      "Optimization terminated successfully\n",
      "Optimization terminated successfully\n",
      "Optimization terminated successfully\n",
      "Optimization terminated successfully\n",
      "Optimization terminated successfully\n",
      "Optimization terminated successfully\n",
      "Optimization terminated successfully\n",
      "Optimization terminated successfully\n",
      "Optimization terminated successfully\n",
      "Optimization terminated successfully\n",
      "Optimization terminated successfully\n",
      "Optimization terminated successfully\n",
      "Optimization terminated successfully\n",
      "Optimization terminated successfully\n",
      "Optimization terminated successfully\n",
      "Optimization terminated successfully\n",
      "Optimization terminated successfully\n",
      "Optimization terminated successfully\n",
      "Optimization terminated successfully\n",
      "Optimization terminated successfully\n",
      "Optimization terminated successfully\n",
      "Optimization terminated successfully\n",
      "Optimization terminated successfully\n",
      "Optimization terminated successfully\n",
      "Optimization terminated successfully\n",
      "Optimization terminated successfully\n",
      "Optimization terminated successfully\n",
      "Optimization terminated successfully\n",
      "Optimization terminated successfully\n",
      "Optimization terminated successfully\n",
      "Optimization terminated successfully\n",
      "Optimization terminated successfully\n",
      "Optimization terminated successfully\n",
      "Optimization terminated successfully\n",
      "Optimization terminated successfully\n",
      "Optimization terminated successfully\n",
      "Optimization terminated successfully\n",
      "Optimization terminated successfully\n",
      "Optimization terminated successfully\n",
      "Optimization terminated successfully\n",
      "Optimization terminated successfully\n",
      "Optimization terminated successfully\n",
      "Optimization terminated successfully\n",
      "Optimization terminated successfully\n",
      "Optimization terminated successfully\n",
      "Optimization terminated successfully\n",
      "Optimization terminated successfully\n",
      "Optimization terminated successfully\n",
      "Optimization terminated successfully\n",
      "Optimization terminated successfully\n",
      "Optimization terminated successfully\n",
      "Optimization terminated successfully\n",
      "Optimization terminated successfully\n",
      "Optimization terminated successfully\n",
      "Optimization terminated successfully\n",
      "Optimization terminated successfully\n",
      "Optimization terminated successfully\n",
      "Optimization terminated successfully\n",
      "Optimization terminated successfully\n",
      "Optimization terminated successfully\n",
      "Optimization terminated successfully\n",
      "Optimization terminated successfully\n",
      "Optimization terminated successfully\n",
      "Optimization terminated successfully\n",
      "Optimization terminated successfully\n",
      "Optimization terminated successfully\n",
      "Optimization terminated successfully\n",
      "Optimization terminated successfully\n",
      "Optimization terminated successfully\n",
      "Optimization terminated successfully\n",
      "Optimization terminated successfully\n",
      "Optimization terminated successfully\n",
      "Optimization terminated successfully\n",
      "Optimization terminated successfully\n",
      "Optimization terminated successfully\n",
      "Optimization terminated successfully\n",
      "Optimization terminated successfully\n",
      "Optimization terminated successfully\n",
      "Optimization terminated successfully\n",
      "Optimization terminated successfully\n",
      "Optimization terminated successfully\n",
      "Optimization terminated successfully\n",
      "Optimization terminated successfully\n",
      "Optimization terminated successfully\n",
      "Optimization terminated successfully\n",
      "Optimization terminated successfully\n",
      "Optimization terminated successfully\n",
      "Optimization terminated successfully\n",
      "Optimization terminated successfully\n",
      "Optimization terminated successfully\n",
      "Optimization terminated successfully\n",
      "Optimization terminated successfully\n",
      "Optimization terminated successfully\n",
      "Optimization terminated successfully\n",
      "Optimization terminated successfully\n",
      "Optimization terminated successfully\n",
      "Optimization terminated successfully\n",
      "Optimization terminated successfully\n",
      "Optimization terminated successfully\n",
      "Optimization terminated successfully\n",
      "Optimization terminated successfully\n",
      "Optimization terminated successfully\n",
      "Optimization terminated successfully\n",
      "Optimization terminated successfully\n",
      "Optimization terminated successfully\n",
      "Optimization terminated successfully\n",
      "Optimization terminated successfully\n",
      "Optimization terminated successfully\n",
      "Optimization terminated successfully\n",
      "Optimization terminated successfully\n",
      "Optimization terminated successfully\n",
      "Optimization terminated successfully\n",
      "Optimization terminated successfully\n",
      "Optimization terminated successfully\n",
      "Optimization terminated successfully\n",
      "Optimization terminated successfully\n",
      "Optimization terminated successfully\n",
      "Optimization terminated successfully\n",
      "Optimization terminated successfully\n",
      "Optimization terminated successfully\n",
      "Optimization terminated successfully\n",
      "Optimization terminated successfully\n",
      "Optimization terminated successfully\n",
      "Optimization terminated successfully\n",
      "Optimization terminated successfully\n",
      "Optimization terminated successfully\n",
      "Optimization terminated successfully\n",
      "Optimization terminated successfully\n",
      "Optimization terminated successfully\n",
      "Optimization terminated successfully\n",
      "Optimization terminated successfully\n",
      "Optimization terminated successfully\n",
      "Optimization terminated successfully\n",
      "Optimization terminated successfully\n",
      "Optimization terminated successfully\n",
      "Optimization terminated successfully\n",
      "Optimization terminated successfully\n",
      "Optimization terminated successfully\n",
      "Optimization terminated successfully\n",
      "Optimization terminated successfully\n",
      "Optimization terminated successfully\n",
      "Optimization terminated successfully\n",
      "Optimization terminated successfully\n",
      "Optimization terminated successfully\n",
      "Optimization terminated successfully\n",
      "Optimization terminated successfully\n",
      "Optimization terminated successfully\n",
      "Optimization terminated successfully\n",
      "Optimization terminated successfully\n",
      "Optimization terminated successfully\n",
      "Optimization terminated successfully\n",
      "Optimization terminated successfully\n",
      "Optimization terminated successfully\n",
      "Optimization terminated successfully\n",
      "Optimization terminated successfully\n",
      "Optimization terminated successfully\n",
      "Optimization terminated successfully\n",
      "Optimization terminated successfully\n",
      "Optimization terminated successfully\n",
      "Optimization terminated successfully\n",
      "Optimization terminated successfully\n",
      "Optimization terminated successfully\n",
      "Optimization terminated successfully\n",
      "Optimization terminated successfully\n",
      "Optimization terminated successfully\n",
      "Optimization terminated successfully\n",
      "Optimization terminated successfully\n",
      "Optimization terminated successfully\n",
      "Optimization terminated successfully\n",
      "Optimization terminated successfully\n",
      "Optimization terminated successfully\n",
      "Optimization terminated successfully\n",
      "Optimization terminated successfully\n",
      "Optimization terminated successfully\n",
      "Optimization terminated successfully\n",
      "Optimization terminated successfully\n",
      "Optimization terminated successfully\n",
      "Optimization terminated successfully\n",
      "Optimization terminated successfully\n",
      "Optimization terminated successfully\n",
      "Optimization terminated successfully\n",
      "Optimization terminated successfully\n",
      "Optimization terminated successfully\n",
      "Optimization terminated successfully\n",
      "Optimization terminated successfully\n",
      "Optimization terminated successfully\n",
      "Optimization terminated successfully\n",
      "Optimization terminated successfully\n",
      "Optimization terminated successfully\n",
      "Optimization terminated successfully\n",
      "Optimization terminated successfully\n",
      "Optimization terminated successfully\n",
      "Optimization terminated successfully\n",
      "Optimization terminated successfully\n",
      "Optimization terminated successfully\n",
      "Optimization terminated successfully\n",
      "Optimization terminated successfully\n",
      "Optimization terminated successfully\n",
      "Optimization terminated successfully\n",
      "Optimization terminated successfully\n",
      "Optimization terminated successfully\n",
      "Optimization terminated successfully\n",
      "Optimization terminated successfully\n",
      "Optimization terminated successfully\n",
      "Optimization terminated successfully\n",
      "Optimization terminated successfully\n",
      "Optimization terminated successfully\n",
      "Optimization terminated successfully\n",
      "Optimization terminated successfully\n",
      "Optimization terminated successfully\n",
      "Optimization terminated successfully\n",
      "Optimization terminated successfully\n",
      "Optimization terminated successfully\n",
      "Optimization terminated successfully\n",
      "Optimization terminated successfully\n",
      "Optimization terminated successfully\n",
      "Optimization terminated successfully\n",
      "Optimization terminated successfully\n",
      "Optimization terminated successfully\n",
      "Optimization terminated successfully\n",
      "Optimization terminated successfully\n",
      "Optimization terminated successfully\n",
      "Optimization terminated successfully\n",
      "Optimization terminated successfully\n",
      "Optimization terminated successfully\n",
      "Optimization terminated successfully\n",
      "Optimization terminated successfully\n",
      "Optimization terminated successfully\n",
      "Optimization terminated successfully\n",
      "Optimization terminated successfully\n",
      "Optimization terminated successfully\n",
      "Optimization terminated successfully\n",
      "Optimization terminated successfully\n",
      "Optimization terminated successfully\n",
      "Optimization terminated successfully\n",
      "Optimization terminated successfully\n",
      "Optimization terminated successfully\n",
      "Optimization terminated successfully\n",
      "Optimization terminated successfully\n",
      "Optimization terminated successfully\n",
      "Optimization terminated successfully\n",
      "Optimization terminated successfully\n",
      "Optimization terminated successfully\n",
      "Optimization terminated successfully\n",
      "Optimization terminated successfully\n",
      "Optimization terminated successfully\n",
      "Optimization terminated successfully\n",
      "Optimization terminated successfully\n",
      "Optimization terminated successfully\n",
      "Optimization terminated successfully\n",
      "Optimization terminated successfully\n",
      "Optimization terminated successfully\n",
      "Optimization terminated successfully\n",
      "Optimization terminated successfully\n",
      "Optimization terminated successfully\n",
      "Optimization terminated successfully\n",
      "Optimization terminated successfully\n",
      "Optimization terminated successfully\n",
      "Optimization terminated successfully\n",
      "Optimization terminated successfully\n",
      "Optimization terminated successfully\n",
      "Optimization terminated successfully\n",
      "Optimization terminated successfully\n",
      "Optimization terminated successfully\n",
      "Optimization terminated successfully\n",
      "Optimization terminated successfully\n",
      "Optimization terminated successfully\n",
      "Optimization terminated successfully\n",
      "Optimization terminated successfully\n",
      "Optimization terminated successfully\n",
      "Optimization terminated successfully\n",
      "Optimization terminated successfully\n",
      "Optimization terminated successfully\n",
      "Optimization terminated successfully\n",
      "Optimization terminated successfully\n",
      "Optimization terminated successfully\n",
      "Optimization terminated successfully\n",
      "Optimization terminated successfully\n",
      "Optimization terminated successfully\n",
      "Optimization terminated successfully\n",
      "Optimization terminated successfully\n",
      "Optimization terminated successfully\n",
      "Optimization terminated successfully\n",
      "Optimization terminated successfully\n",
      "Optimization terminated successfully\n",
      "Optimization terminated successfully\n",
      "Optimization terminated successfully\n",
      "Optimization terminated successfully\n",
      "Optimization terminated successfully\n",
      "Optimization terminated successfully\n",
      "Optimization terminated successfully\n",
      "Optimization terminated successfully\n",
      "Optimization terminated successfully\n",
      "Optimization terminated successfully\n",
      "Optimization terminated successfully\n",
      "Optimization terminated successfully\n",
      "Optimization terminated successfully\n",
      "Optimization terminated successfully\n",
      "Optimization terminated successfully\n",
      "Optimization terminated successfully\n",
      "Optimization terminated successfully\n",
      "Optimization terminated successfully\n",
      "Optimization terminated successfully\n",
      "Optimization terminated successfully\n",
      "Optimization terminated successfully\n",
      "Optimization terminated successfully\n",
      "Optimization terminated successfully\n",
      "Optimization terminated successfully\n",
      "Optimization terminated successfully\n",
      "Optimization terminated successfully\n",
      "Optimization terminated successfully\n",
      "Optimization terminated successfully\n",
      "Optimization terminated successfully\n",
      "Optimization terminated successfully\n",
      "Optimization terminated successfully\n",
      "Optimization terminated successfully\n",
      "Optimization terminated successfully\n",
      "Optimization terminated successfully\n",
      "Optimization terminated successfully\n",
      "Optimization terminated successfully\n",
      "Optimization terminated successfully\n",
      "Optimization terminated successfully\n",
      "Optimization terminated successfully\n",
      "Optimization terminated successfully\n",
      "Optimization terminated successfully\n",
      "Optimization terminated successfully\n",
      "Optimization terminated successfully\n",
      "Optimization terminated successfully\n",
      "Optimization terminated successfully\n",
      "Optimization terminated successfully\n",
      "Optimization terminated successfully\n",
      "Optimization terminated successfully\n",
      "Optimization terminated successfully\n",
      "Optimization terminated successfully\n",
      "Optimization terminated successfully\n",
      "Optimization terminated successfully\n",
      "Optimization terminated successfully\n",
      "Optimization terminated successfully\n",
      "Optimization terminated successfully\n",
      "Optimization terminated successfully\n",
      "Optimization terminated successfully\n",
      "Optimization terminated successfully\n",
      "Optimization terminated successfully\n",
      "Optimization terminated successfully\n",
      "Optimization terminated successfully\n",
      "Optimization terminated successfully\n",
      "Optimization terminated successfully\n",
      "Optimization terminated successfully\n",
      "Optimization terminated successfully\n",
      "Optimization terminated successfully\n",
      "Optimization terminated successfully\n",
      "Optimization terminated successfully\n",
      "Optimization terminated successfully\n",
      "Optimization terminated successfully\n",
      "Optimization terminated successfully\n",
      "Optimization terminated successfully\n",
      "Optimization terminated successfully\n",
      "Optimization terminated successfully\n",
      "Optimization terminated successfully\n",
      "Optimization terminated successfully\n",
      "Optimization terminated successfully\n",
      "Optimization terminated successfully\n",
      "Optimization terminated successfully\n",
      "Optimization terminated successfully\n",
      "Optimization terminated successfully\n",
      "Optimization terminated successfully\n",
      "Optimization terminated successfully\n",
      "Optimization terminated successfully\n",
      "Optimization terminated successfully\n",
      "Optimization terminated successfully\n",
      "Optimization terminated successfully\n",
      "Optimization terminated successfully\n",
      "Optimization terminated successfully\n",
      "Optimization terminated successfully\n",
      "Optimization terminated successfully\n",
      "Optimization terminated successfully\n",
      "Optimization terminated successfully\n",
      "Optimization terminated successfully\n",
      "Optimization terminated successfully\n",
      "Optimization terminated successfully\n",
      "Optimization terminated successfully\n",
      "Optimization terminated successfully\n",
      "Optimization terminated successfully\n",
      "Optimization terminated successfully\n",
      "Optimization terminated successfully\n",
      "Optimization terminated successfully\n",
      "Optimization terminated successfully\n",
      "Optimization terminated successfully\n",
      "Optimization terminated successfully\n",
      "Optimization terminated successfully\n",
      "Optimization terminated successfully\n",
      "Optimization terminated successfully\n",
      "Optimization terminated successfully\n",
      "Optimization terminated successfully\n",
      "Optimization terminated successfully\n",
      "Optimization terminated successfully\n",
      "Optimization terminated successfully\n",
      "Optimization terminated successfully\n",
      "Optimization terminated successfully\n",
      "Optimization terminated successfully\n",
      "Optimization terminated successfully\n",
      "Optimization terminated successfully\n",
      "Optimization terminated successfully\n",
      "Optimization terminated successfully\n",
      "Optimization terminated successfully\n",
      "Optimization terminated successfully\n",
      "Optimization terminated successfully\n",
      "Optimization terminated successfully\n",
      "Optimization terminated successfully\n",
      "Optimization terminated successfully\n",
      "Optimization terminated successfully\n",
      "Optimization terminated successfully\n",
      "Optimization terminated successfully\n",
      "Optimization terminated successfully\n",
      "Optimization terminated successfully\n",
      "Optimization terminated successfully\n",
      "Optimization terminated successfully\n",
      "Optimization terminated successfully\n",
      "Optimization terminated successfully\n",
      "Optimization terminated successfully\n",
      "Optimization terminated successfully\n",
      "Optimization terminated successfully\n",
      "Optimization terminated successfully\n",
      "Optimization terminated successfully\n",
      "Optimization terminated successfully\n",
      "Optimization terminated successfully\n",
      "Optimization terminated successfully\n",
      "Optimization terminated successfully\n",
      "Optimization terminated successfully\n",
      "Optimization terminated successfully\n",
      "Optimization terminated successfully\n",
      "Optimization terminated successfully\n",
      "Optimization terminated successfully\n",
      "Optimization terminated successfully\n",
      "Optimization terminated successfully\n",
      "Optimization terminated successfully\n",
      "Optimization terminated successfully\n",
      "Optimization terminated successfully\n",
      "Optimization terminated successfully\n",
      "Optimization terminated successfully\n",
      "Optimization terminated successfully\n",
      "Optimization terminated successfully\n",
      "Optimization terminated successfully\n",
      "Optimization terminated successfully\n",
      "Optimization terminated successfully\n",
      "Optimization terminated successfully\n",
      "Optimization terminated successfully\n",
      "Optimization terminated successfully\n",
      "Optimization terminated successfully\n",
      "Optimization terminated successfully\n",
      "Optimization terminated successfully\n",
      "Optimization terminated successfully\n",
      "Optimization terminated successfully\n",
      "Optimization terminated successfully\n",
      "Optimization terminated successfully\n",
      "Optimization terminated successfully\n",
      "Optimization terminated successfully\n",
      "Optimization terminated successfully\n",
      "Optimization terminated successfully\n",
      "Optimization terminated successfully\n",
      "Optimization terminated successfully\n",
      "Optimization terminated successfully\n",
      "Optimization terminated successfully\n",
      "Optimization terminated successfully\n",
      "Optimization terminated successfully\n",
      "Optimization terminated successfully\n",
      "Optimization terminated successfully\n",
      "Optimization terminated successfully\n",
      "Optimization terminated successfully\n",
      "Optimization terminated successfully\n",
      "Optimization terminated successfully\n",
      "Optimization terminated successfully\n",
      "Optimization terminated successfully\n",
      "Optimization terminated successfully\n",
      "Optimization terminated successfully\n",
      "Optimization terminated successfully\n",
      "Optimization terminated successfully\n",
      "Optimization terminated successfully\n",
      "Optimization terminated successfully\n",
      "Optimization terminated successfully\n",
      "Optimization terminated successfully\n",
      "Optimization terminated successfully\n",
      "Optimization terminated successfully\n",
      "Optimization terminated successfully\n",
      "Optimization terminated successfully\n",
      "Optimization terminated successfully\n",
      "Optimization terminated successfully\n",
      "Optimization terminated successfully\n",
      "Optimization terminated successfully\n",
      "Optimization terminated successfully\n",
      "Optimization terminated successfully\n",
      "Optimization terminated successfully\n",
      "Optimization terminated successfully\n",
      "Optimization terminated successfully\n",
      "Optimization terminated successfully\n",
      "Optimization terminated successfully\n",
      "Optimization terminated successfully\n",
      "Optimization terminated successfully\n",
      "Optimization terminated successfully\n",
      "Optimization terminated successfully\n",
      "Optimization terminated successfully\n",
      "Optimization terminated successfully\n",
      "Optimization terminated successfully\n",
      "Optimization terminated successfully\n",
      "Optimization terminated successfully\n",
      "Optimization terminated successfully\n",
      "Optimization terminated successfully\n",
      "Optimization terminated successfully\n",
      "Optimization terminated successfully\n",
      "Optimization terminated successfully\n",
      "Optimization terminated successfully\n",
      "Optimization terminated successfully\n",
      "Optimization terminated successfully\n",
      "Optimization terminated successfully\n",
      "Optimization terminated successfully\n",
      "Optimization terminated successfully\n",
      "Optimization terminated successfully\n",
      "Optimization terminated successfully\n",
      "Optimization terminated successfully\n",
      "Optimization terminated successfully\n",
      "Optimization terminated successfully\n",
      "Optimization terminated successfully\n",
      "Optimization terminated successfully\n",
      "Optimization terminated successfully\n",
      "Optimization terminated successfully\n",
      "Optimization terminated successfully\n",
      "Optimization terminated successfully\n",
      "Optimization terminated successfully\n",
      "Optimization terminated successfully\n",
      "Optimization terminated successfully\n",
      "Optimization terminated successfully\n",
      "Optimization terminated successfully\n",
      "Optimization terminated successfully\n",
      "Optimization terminated successfully\n",
      "Optimization terminated successfully\n",
      "Optimization terminated successfully\n",
      "Optimization terminated successfully\n",
      "Optimization terminated successfully\n",
      "Optimization terminated successfully\n",
      "Optimization terminated successfully\n",
      "Optimization terminated successfully\n",
      "Optimization terminated successfully\n",
      "Optimization terminated successfully\n",
      "Optimization terminated successfully\n",
      "Optimization terminated successfully\n",
      "Optimization terminated successfully\n",
      "Optimization terminated successfully\n",
      "Optimization terminated successfully\n",
      "Optimization terminated successfully\n",
      "Optimization terminated successfully\n",
      "Optimization terminated successfully\n",
      "Optimization terminated successfully\n",
      "Optimization terminated successfully\n",
      "Optimization terminated successfully\n",
      "Optimization terminated successfully\n",
      "Optimization terminated successfully\n",
      "Optimization terminated successfully\n",
      "Optimization terminated successfully\n",
      "Optimization terminated successfully\n",
      "Optimization terminated successfully\n",
      "Optimization terminated successfully\n",
      "Optimization terminated successfully\n",
      "Optimization terminated successfully\n",
      "Optimization terminated successfully\n",
      "Optimization terminated successfully\n",
      "Optimization terminated successfully\n",
      "Optimization terminated successfully\n",
      "Optimization terminated successfully\n",
      "Optimization terminated successfully\n",
      "Optimization terminated successfully\n",
      "Optimization terminated successfully\n",
      "Optimization terminated successfully\n",
      "Optimization terminated successfully\n",
      "Optimization terminated successfully\n",
      "Optimization terminated successfully\n",
      "Optimization terminated successfully\n",
      "Optimization terminated successfully\n",
      "Optimization terminated successfully\n",
      "Optimization terminated successfully\n",
      "Optimization terminated successfully\n",
      "Optimization terminated successfully\n",
      "Optimization terminated successfully\n",
      "Optimization terminated successfully\n",
      "Optimization terminated successfully\n",
      "Optimization terminated successfully\n",
      "Optimization terminated successfully\n",
      "Optimization terminated successfully\n",
      "Optimization terminated successfully\n",
      "Optimization terminated successfully\n",
      "Optimization terminated successfully\n",
      "Optimization terminated successfully\n",
      "Optimization terminated successfully\n",
      "Optimization terminated successfully\n",
      "Optimization terminated successfully\n",
      "Optimization terminated successfully\n",
      "Optimization terminated successfully\n",
      "Optimization terminated successfully\n",
      "Optimization terminated successfully\n",
      "Optimization terminated successfully\n",
      "Optimization terminated successfully\n",
      "Optimization terminated successfully\n",
      "Optimization terminated successfully\n",
      "Optimization terminated successfully\n",
      "Optimization terminated successfully\n",
      "Optimization terminated successfully\n",
      "Optimization terminated successfully\n",
      "Optimization terminated successfully\n",
      "Optimization terminated successfully\n",
      "Optimization terminated successfully\n",
      "Optimization terminated successfully\n",
      "Optimization terminated successfully\n",
      "Optimization terminated successfully\n",
      "Optimization terminated successfully\n",
      "Optimization terminated successfully\n",
      "Optimization terminated successfully\n",
      "Optimization terminated successfully\n",
      "Optimization terminated successfully\n",
      "Optimization terminated successfully\n",
      "Optimization terminated successfully\n",
      "Optimization terminated successfully\n",
      "Optimization terminated successfully\n",
      "Optimization terminated successfully\n",
      "Optimization terminated successfully\n",
      "Optimization terminated successfully\n",
      "Optimization terminated successfully\n",
      "Optimization terminated successfully\n",
      "Optimization terminated successfully\n",
      "Optimization terminated successfully\n",
      "Optimization terminated successfully\n",
      "Optimization terminated successfully\n",
      "Optimization terminated successfully\n",
      "Optimization terminated successfully\n",
      "Optimization terminated successfully\n",
      "Optimization terminated successfully\n",
      "Optimization terminated successfully\n",
      "Optimization terminated successfully\n",
      "Optimization terminated successfully\n",
      "Optimization terminated successfully\n",
      "Optimization terminated successfully\n",
      "Optimization terminated successfully\n",
      "Optimization terminated successfully\n",
      "Optimization terminated successfully\n",
      "Optimization terminated successfully\n",
      "Optimization terminated successfully\n",
      "Optimization terminated successfully\n",
      "Optimization terminated successfully\n",
      "Optimization terminated successfully\n",
      "Optimization terminated successfully\n",
      "Optimization terminated successfully\n",
      "Optimization terminated successfully\n",
      "Optimization terminated successfully\n",
      "Optimization terminated successfully\n",
      "Optimization terminated successfully\n",
      "Optimization terminated successfully\n",
      "Optimization terminated successfully\n",
      "Optimization terminated successfully\n",
      "Optimization terminated successfully\n",
      "Optimization terminated successfully\n",
      "Optimization terminated successfully\n",
      "Optimization terminated successfully\n",
      "Optimization terminated successfully\n",
      "Optimization terminated successfully\n",
      "Optimization terminated successfully\n",
      "Optimization terminated successfully\n",
      "Optimization terminated successfully\n",
      "Optimization terminated successfully\n",
      "Optimization terminated successfully\n",
      "Optimization terminated successfully\n",
      "Optimization terminated successfully\n",
      "Optimization terminated successfully\n",
      "Optimization terminated successfully\n",
      "Optimization terminated successfully\n",
      "Optimization terminated successfully\n",
      "Optimization terminated successfully\n",
      "Optimization terminated successfully\n",
      "Optimization terminated successfully\n",
      "Optimization terminated successfully\n",
      "Optimization terminated successfully\n",
      "Optimization terminated successfully\n",
      "Optimization terminated successfully\n",
      "Optimization terminated successfully\n",
      "Optimization terminated successfully\n",
      "Optimization terminated successfully\n",
      "Optimization terminated successfully\n",
      "Optimization terminated successfully\n",
      "Optimization terminated successfully\n",
      "Optimization terminated successfully\n",
      "Optimization terminated successfully\n",
      "Optimization terminated successfully\n",
      "Optimization terminated successfully\n",
      "Optimization terminated successfully\n",
      "Optimization terminated successfully\n",
      "Optimization terminated successfully\n",
      "Optimization terminated successfully\n",
      "Optimization terminated successfully\n",
      "Optimization terminated successfully\n",
      "Optimization terminated successfully\n",
      "Optimization terminated successfully\n",
      "Optimization terminated successfully\n",
      "Optimization terminated successfully\n",
      "Optimization terminated successfully\n",
      "Optimization terminated successfully\n",
      "Optimization terminated successfully\n",
      "Optimization terminated successfully\n",
      "Optimization terminated successfully\n",
      "Optimization terminated successfully\n",
      "Optimization terminated successfully\n",
      "Optimization terminated successfully\n",
      "Optimization terminated successfully\n",
      "Optimization terminated successfully\n",
      "Optimization terminated successfully\n",
      "Optimization terminated successfully\n",
      "Optimization terminated successfully\n",
      "Optimization terminated successfully\n",
      "Optimization terminated successfully\n",
      "Optimization terminated successfully\n",
      "Optimization terminated successfully\n",
      "Optimization terminated successfully\n",
      "Optimization terminated successfully\n",
      "Optimization terminated successfully\n",
      "Optimization terminated successfully\n",
      "Optimization terminated successfully\n",
      "Optimization terminated successfully\n",
      "Optimization terminated successfully\n",
      "Optimization terminated successfully\n",
      "Optimization terminated successfully\n",
      "Optimization terminated successfully\n",
      "Optimization terminated successfully\n",
      "Optimization terminated successfully\n",
      "Optimization terminated successfully\n",
      "Optimization terminated successfully\n",
      "Optimization terminated successfully\n",
      "Optimization terminated successfully\n",
      "Optimization terminated successfully\n",
      "Optimization terminated successfully\n",
      "Optimization terminated successfully\n",
      "Optimization terminated successfully\n",
      "Optimization terminated successfully\n",
      "Optimization terminated successfully\n",
      "Optimization terminated successfully\n",
      "Optimization terminated successfully\n",
      "Optimization terminated successfully\n",
      "Optimization terminated successfully\n",
      "Optimization terminated successfully\n",
      "Optimization terminated successfully\n",
      "Optimization terminated successfully\n",
      "Optimization terminated successfully\n",
      "Optimization terminated successfully\n",
      "Optimization terminated successfully\n",
      "Optimization terminated successfully\n",
      "Optimization terminated successfully\n",
      "Optimization terminated successfully\n",
      "Optimization terminated successfully\n",
      "Optimization terminated successfully\n",
      "Optimization terminated successfully\n",
      "Optimization terminated successfully\n",
      "Optimization terminated successfully\n",
      "Optimization terminated successfully\n",
      "Optimization terminated successfully\n",
      "Optimization terminated successfully\n",
      "Optimization terminated successfully\n",
      "Optimization terminated successfully\n",
      "Optimization terminated successfully\n",
      "Optimization terminated successfully\n",
      "Optimization terminated successfully\n",
      "Optimization terminated successfully\n",
      "Optimization terminated successfully\n",
      "Optimization terminated successfully\n",
      "Optimization terminated successfully\n",
      "Optimization terminated successfully\n",
      "Optimization terminated successfully\n",
      "Optimization terminated successfully\n",
      "Optimization terminated successfully\n",
      "Optimization terminated successfully\n",
      "Optimization terminated successfully\n",
      "Optimization terminated successfully\n",
      "Optimization terminated successfully\n",
      "Optimization terminated successfully\n",
      "Optimization terminated successfully\n",
      "Optimization terminated successfully\n",
      "Optimization terminated successfully\n",
      "Optimization terminated successfully\n",
      "Optimization terminated successfully\n",
      "Optimization terminated successfully\n",
      "Optimization terminated successfully\n",
      "Optimization terminated successfully\n",
      "Optimization terminated successfully\n",
      "Optimization terminated successfully\n",
      "Optimization terminated successfully\n",
      "Optimization terminated successfully\n",
      "Optimization terminated successfully\n",
      "Optimization terminated successfully\n",
      "Optimization terminated successfully\n",
      "Optimization terminated successfully\n",
      "Optimization terminated successfully\n",
      "Optimization terminated successfully\n",
      "Optimization terminated successfully\n",
      "Optimization terminated successfully\n",
      "Optimization terminated successfully\n",
      "Optimization terminated successfully\n",
      "Optimization terminated successfully\n",
      "Optimization terminated successfully\n",
      "Optimization terminated successfully\n",
      "Optimization terminated successfully\n",
      "Optimization terminated successfully\n",
      "Optimization terminated successfully\n",
      "Optimization terminated successfully\n",
      "Optimization terminated successfully\n",
      "Optimization terminated successfully\n",
      "Optimization terminated successfully\n",
      "Optimization terminated successfully\n",
      "Optimization terminated successfully\n",
      "Optimization terminated successfully\n",
      "Optimization terminated successfully\n",
      "Optimization terminated successfully\n",
      "Optimization terminated successfully\n",
      "Optimization terminated successfully\n",
      "Optimization terminated successfully\n",
      "Optimization terminated successfully\n",
      "Optimization terminated successfully\n",
      "Optimization terminated successfully\n",
      "Optimization terminated successfully\n",
      "Optimization terminated successfully\n",
      "Optimization terminated successfully\n",
      "Optimization terminated successfully\n",
      "Optimization terminated successfully\n",
      "Optimization terminated successfully\n",
      "Optimization terminated successfully\n",
      "Optimization terminated successfully\n",
      "Optimization terminated successfully\n",
      "Optimization terminated successfully\n",
      "Optimization terminated successfully\n",
      "Optimization terminated successfully\n",
      "Optimization terminated successfully\n",
      "Optimization terminated successfully\n",
      "Optimization terminated successfully\n",
      "Optimization terminated successfully\n",
      "Optimization terminated successfully\n",
      "Optimization terminated successfully\n",
      "Optimization terminated successfully\n",
      "Optimization terminated successfully\n",
      "Optimization terminated successfully\n",
      "Optimization terminated successfully\n",
      "Optimization terminated successfully\n",
      "Optimization terminated successfully\n",
      "Optimization terminated successfully\n",
      "Optimization terminated successfully\n",
      "Optimization terminated successfully\n",
      "Optimization terminated successfully\n",
      "Optimization terminated successfully\n",
      "Optimization terminated successfully\n",
      "Optimization terminated successfully\n",
      "Optimization terminated successfully\n",
      "Optimization terminated successfully\n",
      "Optimization terminated successfully\n",
      "Optimization terminated successfully\n",
      "Optimization terminated successfully\n",
      "Optimization terminated successfully\n",
      "Optimization terminated successfully\n",
      "Optimization terminated successfully\n",
      "Optimization terminated successfully\n",
      "Optimization terminated successfully\n",
      "Optimization terminated successfully\n",
      "Optimization terminated successfully\n",
      "Optimization terminated successfully\n",
      "Optimization terminated successfully\n",
      "Optimization terminated successfully\n",
      "Optimization terminated successfully\n",
      "Optimization terminated successfully\n",
      "Optimization terminated successfully\n",
      "Optimization terminated successfully\n",
      "Optimization terminated successfully\n",
      "Optimization terminated successfully\n",
      "Optimization terminated successfully\n",
      "Optimization terminated successfully\n",
      "Optimization terminated successfully\n",
      "Optimization terminated successfully\n",
      "Optimization terminated successfully\n",
      "Optimization terminated successfully\n",
      "Optimization terminated successfully\n",
      "Optimization terminated successfully\n",
      "Optimization terminated successfully\n",
      "Optimization terminated successfully\n",
      "Optimization terminated successfully\n",
      "Optimization terminated successfully\n",
      "Optimization terminated successfully\n",
      "Optimization terminated successfully\n",
      "Optimization terminated successfully\n",
      "Optimization terminated successfully\n",
      "Optimization terminated successfully\n",
      "Optimization terminated successfully\n",
      "Optimization terminated successfully\n",
      "Optimization terminated successfully\n",
      "Optimization terminated successfully\n",
      "Optimization terminated successfully\n",
      "Optimization terminated successfully\n",
      "Optimization terminated successfully\n",
      "Optimization terminated successfully\n",
      "Optimization terminated successfully\n",
      "Optimization terminated successfully\n",
      "Optimization terminated successfully\n",
      "Optimization terminated successfully\n",
      "Optimization terminated successfully\n",
      "Optimization terminated successfully\n",
      "Optimization terminated successfully\n",
      "Optimization terminated successfully\n",
      "Optimization terminated successfully\n",
      "Optimization terminated successfully\n",
      "Optimization terminated successfully\n",
      "Optimization terminated successfully\n",
      "Optimization terminated successfully\n",
      "Optimization terminated successfully\n",
      "Optimization terminated successfully\n",
      "Optimization terminated successfully\n",
      "Optimization terminated successfully\n",
      "Optimization terminated successfully\n",
      "Optimization terminated successfully\n",
      "Optimization terminated successfully\n",
      "Optimization terminated successfully\n",
      "Optimization terminated successfully\n",
      "Optimization terminated successfully\n",
      "Optimization terminated successfully\n",
      "Optimization terminated successfully\n",
      "Optimization terminated successfully\n",
      "Optimization terminated successfully\n",
      "Optimization terminated successfully\n",
      "Optimization terminated successfully\n",
      "Optimization terminated successfully\n",
      "Optimization terminated successfully\n",
      "Optimization terminated successfully\n",
      "Optimization terminated successfully\n",
      "Optimization terminated successfully\n",
      "Optimization terminated successfully\n",
      "Optimization terminated successfully\n",
      "Optimization terminated successfully\n",
      "Optimization terminated successfully\n",
      "Optimization terminated successfully\n",
      "Optimization terminated successfully\n",
      "Optimization terminated successfully\n",
      "Optimization terminated successfully\n",
      "Optimization terminated successfully\n",
      "Optimization terminated successfully\n",
      "Optimization terminated successfully\n",
      "Optimization terminated successfully\n",
      "Optimization terminated successfully\n",
      "Optimization terminated successfully\n",
      "Optimization terminated successfully\n",
      "Optimization terminated successfully\n",
      "Optimization terminated successfully\n",
      "Optimization terminated successfully\n",
      "Optimization terminated successfully\n",
      "Optimization terminated successfully\n",
      "Optimization terminated successfully\n",
      "Optimization terminated successfully\n",
      "Optimization terminated successfully\n",
      "Optimization terminated successfully\n",
      "Optimization terminated successfully\n",
      "Optimization terminated successfully\n",
      "Optimization terminated successfully\n",
      "Optimization terminated successfully\n",
      "Optimization terminated successfully\n",
      "Optimization terminated successfully\n",
      "Optimization terminated successfully\n",
      "Optimization terminated successfully\n",
      "Optimization terminated successfully\n",
      "Optimization terminated successfully\n",
      "Optimization terminated successfully\n",
      "Optimization terminated successfully\n",
      "Optimization terminated successfully\n",
      "Optimization terminated successfully\n",
      "Optimization terminated successfully\n",
      "Optimization terminated successfully\n",
      "Optimization terminated successfully\n",
      "Optimization terminated successfully\n",
      "Optimization terminated successfully\n",
      "Optimization terminated successfully\n",
      "Optimization terminated successfully\n",
      "Optimization terminated successfully\n",
      "Optimization terminated successfully\n",
      "Optimization terminated successfully\n",
      "Optimization terminated successfully\n",
      "Optimization terminated successfully\n",
      "Optimization terminated successfully\n",
      "Optimization terminated successfully\n",
      "Optimization terminated successfully\n",
      "Optimization terminated successfully\n",
      "Optimization terminated successfully\n",
      "Optimization terminated successfully\n",
      "Optimization terminated successfully\n",
      "Optimization terminated successfully\n",
      "Optimization terminated successfully\n",
      "Optimization terminated successfully\n",
      "Optimization terminated successfully\n",
      "Optimization terminated successfully\n",
      "Optimization terminated successfully\n",
      "Optimization terminated successfully\n",
      "Optimization terminated successfully\n",
      "Optimization terminated successfully\n",
      "Optimization terminated successfully\n",
      "Optimization terminated successfully\n",
      "Optimization terminated successfully\n",
      "Optimization terminated successfully\n",
      "Optimization terminated successfully\n",
      "Optimization terminated successfully\n",
      "Optimization terminated successfully\n",
      "Optimization terminated successfully\n",
      "Optimization terminated successfully\n",
      "Optimization terminated successfully\n",
      "Optimization terminated successfully\n",
      "Optimization terminated successfully\n",
      "Optimization terminated successfully\n",
      "Optimization terminated successfully\n",
      "Optimization terminated successfully\n",
      "Optimization terminated successfully\n",
      "Optimization terminated successfully\n",
      "Optimization terminated successfully\n",
      "Optimization terminated successfully\n",
      "Optimization terminated successfully\n",
      "Optimization terminated successfully\n",
      "Optimization terminated successfully\n",
      "Optimization terminated successfully\n",
      "Optimization terminated successfully\n",
      "Optimization terminated successfully\n",
      "Optimization terminated successfully\n",
      "Optimization terminated successfully\n",
      "Optimization terminated successfully\n",
      "Optimization terminated successfully\n",
      "Optimization terminated successfully\n",
      "Optimization terminated successfully\n",
      "Optimization terminated successfully\n",
      "Optimization terminated successfully\n",
      "Optimization terminated successfully\n",
      "Optimization terminated successfully\n",
      "Optimization terminated successfully\n",
      "Optimization terminated successfully\n",
      "Optimization terminated successfully\n",
      "Optimization terminated successfully\n",
      "Optimization terminated successfully\n",
      "Optimization terminated successfully\n",
      "Optimization terminated successfully\n",
      "Optimization terminated successfully\n",
      "Optimization terminated successfully\n",
      "Optimization terminated successfully\n",
      "Optimization terminated successfully\n",
      "Optimization terminated successfully\n",
      "Optimization terminated successfully\n",
      "Optimization terminated successfully\n",
      "Optimization terminated successfully\n",
      "Optimization terminated successfully\n",
      "Optimization terminated successfully\n",
      "Optimization terminated successfully\n",
      "Optimization terminated successfully\n",
      "Optimization terminated successfully\n",
      "Optimization terminated successfully\n",
      "Optimization terminated successfully\n",
      "Optimization terminated successfully\n",
      "Optimization terminated successfully\n",
      "Optimization terminated successfully\n",
      "Optimization terminated successfully\n",
      "Optimization terminated successfully\n",
      "Optimization terminated successfully\n",
      "Optimization terminated successfully\n",
      "Optimization terminated successfully\n",
      "Optimization terminated successfully\n",
      "Optimization terminated successfully\n",
      "Optimization terminated successfully\n",
      "Optimization terminated successfully\n",
      "Optimization terminated successfully\n",
      "Optimization terminated successfully\n",
      "Optimization terminated successfully\n",
      "Optimization terminated successfully\n",
      "Optimization terminated successfully\n",
      "Optimization terminated successfully\n",
      "Optimization terminated successfully\n",
      "Optimization terminated successfully\n",
      "Optimization terminated successfully\n",
      "Optimization terminated successfully\n",
      "Optimization terminated successfully\n",
      "Optimization terminated successfully\n",
      "Optimization terminated successfully\n",
      "Optimization terminated successfully\n",
      "Optimization terminated successfully\n",
      "Optimization terminated successfully\n",
      "Optimization terminated successfully\n",
      "Optimization terminated successfully\n",
      "Optimization terminated successfully\n",
      "Optimization terminated successfully\n",
      "Optimization terminated successfully\n",
      "Optimization terminated successfully\n",
      "Optimization terminated successfully\n",
      "Optimization terminated successfully\n",
      "Optimization terminated successfully\n",
      "Optimization terminated successfully\n",
      "Optimization terminated successfully\n",
      "Optimization terminated successfully\n",
      "Optimization terminated successfully\n",
      "Optimization terminated successfully\n",
      "Optimization terminated successfully\n",
      "Optimization terminated successfully\n",
      "Optimization terminated successfully\n",
      "Optimization terminated successfully\n",
      "Optimization terminated successfully\n",
      "Optimization terminated successfully\n",
      "Optimization terminated successfully\n",
      "Optimization terminated successfully\n",
      "Optimization terminated successfully\n",
      "Optimization terminated successfully\n",
      "Optimization terminated successfully\n",
      "Optimization terminated successfully\n",
      "Optimization terminated successfully\n",
      "Optimization terminated successfully\n",
      "Optimization terminated successfully\n",
      "Optimization terminated successfully\n",
      "Optimization terminated successfully\n",
      "Optimization terminated successfully\n",
      "Optimization terminated successfully\n",
      "Optimization terminated successfully\n",
      "Optimization terminated successfully\n",
      "Optimization terminated successfully\n",
      "Optimization terminated successfully\n",
      "Optimization terminated successfully\n",
      "Optimization terminated successfully\n",
      "Optimization terminated successfully\n",
      "Optimization terminated successfully\n",
      "Optimization terminated successfully\n",
      "Optimization terminated successfully\n",
      "Optimization terminated successfully\n",
      "Optimization terminated successfully\n",
      "Optimization terminated successfully\n",
      "Optimization terminated successfully\n",
      "Optimization terminated successfully\n",
      "Optimization terminated successfully\n",
      "Optimization terminated successfully\n",
      "Optimization terminated successfully\n",
      "Optimization terminated successfully\n",
      "Optimization terminated successfully\n",
      "Optimization terminated successfully\n",
      "Optimization terminated successfully\n",
      "Optimization terminated successfully\n",
      "Optimization terminated successfully\n",
      "Optimization terminated successfully\n",
      "Optimization terminated successfully\n",
      "Optimization terminated successfully\n",
      "Optimization terminated successfully\n",
      "Optimization terminated successfully\n",
      "Optimization terminated successfully\n",
      "Optimization terminated successfully\n",
      "Optimization terminated successfully\n",
      "Optimization terminated successfully\n",
      "Optimization terminated successfully\n",
      "Optimization terminated successfully\n",
      "Optimization terminated successfully\n",
      "Optimization terminated successfully\n",
      "Optimization terminated successfully\n",
      "Optimization terminated successfully\n",
      "Optimization terminated successfully\n",
      "Optimization terminated successfully\n",
      "Optimization terminated successfully\n",
      "Optimization terminated successfully\n",
      "Optimization terminated successfully\n",
      "Optimization terminated successfully\n",
      "Optimization terminated successfully\n",
      "Optimization terminated successfully\n",
      "Optimization terminated successfully\n",
      "Optimization terminated successfully\n",
      "Optimization terminated successfully\n",
      "Optimization terminated successfully\n",
      "Optimization terminated successfully\n",
      "Optimization terminated successfully\n",
      "Optimization terminated successfully\n",
      "Optimization terminated successfully\n",
      "Optimization terminated successfully\n",
      "Optimization terminated successfully\n",
      "Optimization terminated successfully\n",
      "Optimization terminated successfully\n",
      "Optimization terminated successfully\n",
      "Optimization terminated successfully\n",
      "Optimization terminated successfully\n",
      "Optimization terminated successfully\n",
      "Optimization terminated successfully\n",
      "Optimization terminated successfully\n",
      "Optimization terminated successfully\n",
      "Optimization terminated successfully\n",
      "Optimization terminated successfully\n",
      "Optimization terminated successfully\n",
      "Optimization terminated successfully\n",
      "Optimization terminated successfully\n",
      "Optimization terminated successfully\n",
      "Optimization terminated successfully\n",
      "Optimization terminated successfully\n",
      "Optimization terminated successfully\n",
      "Optimization terminated successfully\n",
      "Optimization terminated successfully\n",
      "Optimization terminated successfully\n",
      "Optimization terminated successfully\n",
      "Optimization terminated successfully\n",
      "Optimization terminated successfully\n",
      "Optimization terminated successfully\n",
      "Optimization terminated successfully\n",
      "Optimization terminated successfully\n",
      "Optimization terminated successfully\n",
      "Optimization terminated successfully\n",
      "Optimization terminated successfully\n",
      "Optimization terminated successfully\n",
      "Optimization terminated successfully\n",
      "Optimization terminated successfully\n",
      "Optimization terminated successfully\n",
      "Optimization terminated successfully\n",
      "Optimization terminated successfully\n",
      "Optimization terminated successfully\n",
      "Optimization terminated successfully\n",
      "Optimization terminated successfully\n",
      "Optimization terminated successfully\n",
      "Optimization terminated successfully\n",
      "Optimization terminated successfully\n",
      "Optimization terminated successfully\n",
      "Optimization terminated successfully\n",
      "Optimization terminated successfully\n",
      "Optimization terminated successfully\n",
      "Optimization terminated successfully\n",
      "Optimization terminated successfully\n",
      "Optimization terminated successfully\n",
      "Optimization terminated successfully\n",
      "Optimization terminated successfully\n",
      "Optimization terminated successfully\n",
      "Optimization terminated successfully\n",
      "Optimization terminated successfully\n",
      "Optimization terminated successfully\n",
      "Optimization terminated successfully\n",
      "Optimization terminated successfully\n",
      "Optimization terminated successfully\n",
      "Optimization terminated successfully\n",
      "Optimization terminated successfully\n",
      "Optimization terminated successfully\n",
      "Optimization terminated successfully\n",
      "Optimization terminated successfully\n",
      "Optimization terminated successfully\n",
      "Optimization terminated successfully\n",
      "Optimization terminated successfully\n",
      "Optimization terminated successfully\n",
      "Optimization terminated successfully\n",
      "Optimization terminated successfully\n",
      "Optimization terminated successfully\n",
      "Optimization terminated successfully\n",
      "Optimization terminated successfully\n",
      "Optimization terminated successfully\n",
      "Optimization terminated successfully\n",
      "Optimization terminated successfully\n",
      "Optimization terminated successfully\n",
      "Optimization terminated successfully\n",
      "Optimization terminated successfully\n",
      "Optimization terminated successfully\n",
      "Optimization terminated successfully\n",
      "Optimization terminated successfully\n",
      "Optimization terminated successfully\n",
      "Optimization terminated successfully\n",
      "Optimization terminated successfully\n",
      "Optimization terminated successfully\n",
      "Optimization terminated successfully\n",
      "Optimization terminated successfully\n",
      "Optimization terminated successfully\n",
      "Optimization terminated successfully\n",
      "Optimization terminated successfully\n",
      "Optimization terminated successfully\n",
      "Optimization terminated successfully\n",
      "Optimization terminated successfully\n",
      "Optimization terminated successfully\n",
      "Optimization terminated successfully\n",
      "Optimization terminated successfully\n",
      "Optimization terminated successfully\n",
      "Optimization terminated successfully\n",
      "Optimization terminated successfully\n",
      "Optimization terminated successfully\n",
      "Optimization terminated successfully\n",
      "Optimization terminated successfully\n",
      "Optimization terminated successfully\n",
      "Optimization terminated successfully\n",
      "Optimization terminated successfully\n",
      "Optimization terminated successfully\n",
      "Optimization terminated successfully\n",
      "Optimization terminated successfully\n",
      "Optimization terminated successfully\n",
      "Optimization terminated successfully\n",
      "Optimization terminated successfully\n",
      "Optimization terminated successfully\n",
      "Optimization terminated successfully\n",
      "Optimization terminated successfully\n",
      "Optimization terminated successfully\n",
      "Optimization terminated successfully\n",
      "Optimization terminated successfully\n",
      "Optimization terminated successfully\n",
      "Optimization terminated successfully\n",
      "Optimization terminated successfully\n",
      "Optimization terminated successfully\n",
      "Optimization terminated successfully\n",
      "Optimization terminated successfully\n",
      "Optimization terminated successfully\n",
      "Optimization terminated successfully\n",
      "Optimization terminated successfully\n",
      "Optimization terminated successfully\n",
      "Optimization terminated successfully\n",
      "Optimization terminated successfully\n",
      "Optimization terminated successfully\n",
      "Optimization terminated successfully\n",
      "Optimization terminated successfully\n",
      "Optimization terminated successfully\n",
      "Optimization terminated successfully\n",
      "Optimization terminated successfully\n",
      "Optimization terminated successfully\n",
      "Optimization terminated successfully\n",
      "Optimization terminated successfully\n",
      "Optimization terminated successfully\n",
      "Optimization terminated successfully\n",
      "Optimization terminated successfully\n",
      "Optimization terminated successfully\n",
      "Optimization terminated successfully\n",
      "Optimization terminated successfully\n",
      "Optimization terminated successfully\n",
      "Optimization terminated successfully\n",
      "Optimization terminated successfully\n",
      "Optimization terminated successfully\n",
      "Optimization terminated successfully\n",
      "Optimization terminated successfully\n",
      "Optimization terminated successfully\n",
      "Optimization terminated successfully\n",
      "Optimization terminated successfully\n",
      "Optimization terminated successfully\n",
      "Optimization terminated successfully\n",
      "Optimization terminated successfully\n",
      "Optimization terminated successfully\n",
      "Optimization terminated successfully\n",
      "Optimization terminated successfully\n",
      "Optimization terminated successfully\n",
      "Optimization terminated successfully\n",
      "Optimization terminated successfully\n",
      "Optimization terminated successfully\n",
      "Optimization terminated successfully\n",
      "Optimization terminated successfully\n",
      "Optimization terminated successfully\n",
      "Optimization terminated successfully\n",
      "Optimization terminated successfully\n",
      "Optimization terminated successfully\n",
      "Optimization terminated successfully\n",
      "Optimization terminated successfully\n",
      "Optimization terminated successfully\n",
      "Optimization terminated successfully\n",
      "Optimization terminated successfully\n",
      "Optimization terminated successfully\n",
      "Optimization terminated successfully\n",
      "Optimization terminated successfully\n",
      "Optimization terminated successfully\n",
      "Optimization terminated successfully\n",
      "Optimization terminated successfully\n",
      "Optimization terminated successfully\n",
      "Optimization terminated successfully\n",
      "Optimization terminated successfully\n",
      "Optimization terminated successfully\n",
      "Optimization terminated successfully\n",
      "Optimization terminated successfully\n",
      "Optimization terminated successfully\n",
      "Optimization terminated successfully\n",
      "Optimization terminated successfully\n",
      "Optimization terminated successfully\n",
      "Optimization terminated successfully\n",
      "Optimization terminated successfully\n",
      "Optimization terminated successfully\n",
      "Optimization terminated successfully\n",
      "Optimization terminated successfully\n",
      "Optimization terminated successfully\n",
      "Optimization terminated successfully\n",
      "Optimization terminated successfully\n",
      "Optimization terminated successfully\n",
      "Optimization terminated successfully\n",
      "Optimization terminated successfully\n",
      "Optimization terminated successfully\n",
      "Optimization terminated successfully\n",
      "Optimization terminated successfully\n",
      "Optimization terminated successfully\n",
      "Optimization terminated successfully\n",
      "Optimization terminated successfully\n",
      "Optimization terminated successfully\n",
      "Optimization terminated successfully\n",
      "Optimization terminated successfully\n",
      "Optimization terminated successfully\n",
      "Optimization terminated successfully\n",
      "Optimization terminated successfully\n",
      "Optimization terminated successfully\n",
      "Optimization terminated successfully\n",
      "Optimization terminated successfully\n",
      "Optimization terminated successfully\n",
      "Optimization terminated successfully\n",
      "Optimization terminated successfully\n",
      "Optimization terminated successfully\n",
      "Optimization terminated successfully\n",
      "Optimization terminated successfully\n",
      "Optimization terminated successfully\n",
      "Optimization terminated successfully\n",
      "Optimization terminated successfully\n",
      "Optimization terminated successfully\n",
      "Optimization terminated successfully\n",
      "Optimization terminated successfully\n",
      "Optimization terminated successfully\n",
      "Optimization terminated successfully\n",
      "Optimization terminated successfully\n",
      "Optimization terminated successfully\n",
      "Optimization terminated successfully\n",
      "Optimization terminated successfully\n",
      "Optimization terminated successfully\n",
      "Optimization terminated successfully\n",
      "Optimization terminated successfully\n",
      "Optimization terminated successfully\n",
      "Optimization terminated successfully\n",
      "Optimization terminated successfully\n",
      "Optimization terminated successfully\n",
      "Optimization terminated successfully\n",
      "Optimization terminated successfully\n",
      "Optimization terminated successfully\n",
      "Optimization terminated successfully\n",
      "Optimization terminated successfully\n",
      "Optimization terminated successfully\n",
      "Optimization terminated successfully\n",
      "Optimization terminated successfully\n",
      "Optimization terminated successfully\n",
      "Optimization terminated successfully\n",
      "Optimization terminated successfully\n",
      "Optimization terminated successfully\n",
      "Optimization terminated successfully\n",
      "Optimization terminated successfully\n",
      "Optimization terminated successfully\n",
      "Optimization terminated successfully\n",
      "Optimization terminated successfully\n",
      "Optimization terminated successfully\n",
      "Optimization terminated successfully\n",
      "Optimization terminated successfully\n",
      "Optimization terminated successfully\n",
      "Optimization terminated successfully\n",
      "Optimization terminated successfully\n",
      "Optimization terminated successfully\n",
      "Optimization terminated successfully\n",
      "Optimization terminated successfully\n",
      "Optimization terminated successfully\n",
      "Optimization terminated successfully\n",
      "Optimization terminated successfully\n",
      "Optimization terminated successfully\n",
      "Optimization terminated successfully\n",
      "Optimization terminated successfully\n",
      "Optimization terminated successfully\n",
      "Optimization terminated successfully\n",
      "Optimization terminated successfully\n",
      "Optimization terminated successfully\n",
      "Optimization terminated successfully\n",
      "Optimization terminated successfully\n",
      "Optimization terminated successfully\n",
      "Optimization terminated successfully\n",
      "Optimization terminated successfully\n",
      "Optimization terminated successfully\n",
      "Optimization terminated successfully\n",
      "Optimization terminated successfully\n",
      "Optimization terminated successfully\n",
      "Optimization terminated successfully\n",
      "Optimization terminated successfully\n",
      "Optimization terminated successfully\n",
      "Optimization terminated successfully\n",
      "Optimization terminated successfully\n",
      "Optimization terminated successfully\n",
      "Optimization terminated successfully\n",
      "Optimization terminated successfully\n",
      "Optimization terminated successfully\n",
      "Optimization terminated successfully\n",
      "Optimization terminated successfully\n",
      "Optimization terminated successfully\n",
      "Optimization terminated successfully\n",
      "Optimization terminated successfully\n",
      "Optimization terminated successfully\n",
      "Optimization terminated successfully\n",
      "Optimization terminated successfully\n",
      "Optimization terminated successfully\n",
      "Optimization terminated successfully\n",
      "Optimization terminated successfully\n",
      "Optimization terminated successfully\n",
      "Optimization terminated successfully\n",
      "Optimization terminated successfully\n",
      "Optimization terminated successfully\n",
      "Optimization terminated successfully\n",
      "Optimization terminated successfully\n",
      "Optimization terminated successfully\n",
      "Optimization terminated successfully\n",
      "Optimization terminated successfully\n",
      "Optimization terminated successfully\n",
      "Optimization terminated successfully\n",
      "Optimization terminated successfully\n",
      "Optimization terminated successfully\n",
      "Optimization terminated successfully\n",
      "Optimization terminated successfully\n",
      "Optimization terminated successfully\n",
      "Optimization terminated successfully\n",
      "Optimization terminated successfully\n",
      "Optimization terminated successfully\n",
      "Optimization terminated successfully\n",
      "Optimization terminated successfully\n",
      "Optimization terminated successfully\n",
      "Optimization terminated successfully\n",
      "Optimization terminated successfully\n",
      "Optimization terminated successfully\n",
      "Optimization terminated successfully\n",
      "Optimization terminated successfully\n",
      "Optimization terminated successfully\n",
      "Optimization terminated successfully\n",
      "Optimization terminated successfully\n",
      "Optimization terminated successfully\n",
      "Optimization terminated successfully\n",
      "Optimization terminated successfully\n",
      "Optimization terminated successfully\n",
      "Optimization terminated successfully\n",
      "Optimization terminated successfully\n",
      "Optimization terminated successfully\n",
      "Optimization terminated successfully\n",
      "Optimization terminated successfully\n",
      "Optimization terminated successfully\n",
      "Optimization terminated successfully\n",
      "Optimization terminated successfully\n",
      "Optimization terminated successfully\n",
      "Optimization terminated successfully\n",
      "Optimization terminated successfully\n",
      "Optimization terminated successfully\n",
      "Optimization terminated successfully\n",
      "Optimization terminated successfully\n",
      "Optimization terminated successfully\n",
      "Optimization terminated successfully\n",
      "Optimization terminated successfully\n",
      "Optimization terminated successfully\n",
      "Optimization terminated successfully\n",
      "Optimization terminated successfully\n",
      "Optimization terminated successfully\n",
      "Optimization terminated successfully\n",
      "Optimization terminated successfully\n",
      "Optimization terminated successfully\n",
      "Optimization terminated successfully\n",
      "Optimization terminated successfully\n",
      "Optimization terminated successfully\n",
      "Optimization terminated successfully\n",
      "Optimization terminated successfully\n",
      "Optimization terminated successfully\n",
      "Optimization terminated successfully\n",
      "Optimization terminated successfully\n",
      "Optimization terminated successfully\n",
      "Optimization terminated successfully\n",
      "Optimization terminated successfully\n",
      "Optimization terminated successfully\n",
      "Optimization terminated successfully\n",
      "Optimization terminated successfully\n",
      "Optimization terminated successfully\n",
      "Optimization terminated successfully\n",
      "Optimization terminated successfully\n",
      "Optimization terminated successfully\n",
      "Optimization terminated successfully\n",
      "Optimization terminated successfully\n",
      "Optimization terminated successfully\n",
      "Optimization terminated successfully\n",
      "Optimization terminated successfully\n",
      "Optimization terminated successfully\n",
      "Optimization terminated successfully\n",
      "Optimization terminated successfully\n",
      "Optimization terminated successfully\n",
      "Optimization terminated successfully\n",
      "Optimization terminated successfully\n",
      "Optimization terminated successfully\n",
      "Optimization terminated successfully\n",
      "Optimization terminated successfully\n",
      "Optimization terminated successfully\n",
      "Optimization terminated successfully\n",
      "Optimization terminated successfully\n",
      "Optimization terminated successfully\n",
      "Optimization terminated successfully\n",
      "Optimization terminated successfully\n",
      "Optimization terminated successfully\n",
      "Optimization terminated successfully\n",
      "Optimization terminated successfully\n",
      "Optimization terminated successfully\n",
      "Optimization terminated successfully\n",
      "Optimization terminated successfully\n",
      "Optimization terminated successfully\n",
      "Optimization terminated successfully\n",
      "Optimization terminated successfully\n",
      "Optimization terminated successfully\n",
      "Optimization terminated successfully\n",
      "Optimization terminated successfully\n",
      "Optimization terminated successfully\n",
      "Optimization terminated successfully\n",
      "Optimization terminated successfully\n",
      "Optimization terminated successfully\n",
      "Optimization terminated successfully\n",
      "Optimization terminated successfully\n",
      "Optimization terminated successfully\n",
      "Optimization terminated successfully\n",
      "Optimization terminated successfully\n",
      "Optimization terminated successfully\n",
      "Optimization terminated successfully\n",
      "Optimization terminated successfully\n",
      "Optimization terminated successfully\n",
      "Optimization terminated successfully\n",
      "Optimization terminated successfully\n",
      "Optimization terminated successfully\n",
      "Optimization terminated successfully\n",
      "Optimization terminated successfully\n",
      "Optimization terminated successfully\n",
      "Optimization terminated successfully\n",
      "Optimization terminated successfully\n",
      "Optimization terminated successfully\n",
      "Optimization terminated successfully\n",
      "Optimization terminated successfully\n",
      "Optimization terminated successfully\n",
      "Optimization terminated successfully\n",
      "Optimization terminated successfully\n",
      "Optimization terminated successfully\n",
      "Optimization terminated successfully\n",
      "Optimization terminated successfully\n",
      "Optimization terminated successfully\n",
      "Optimization terminated successfully\n",
      "Optimization terminated successfully\n",
      "Optimization terminated successfully\n",
      "Optimization terminated successfully\n",
      "Optimization terminated successfully\n",
      "Optimization terminated successfully\n",
      "Optimization terminated successfully\n",
      "Optimization terminated successfully\n",
      "Optimization terminated successfully\n",
      "Optimization terminated successfully\n",
      "Optimization terminated successfully\n",
      "Optimization terminated successfully\n",
      "Optimization terminated successfully\n",
      "Optimization terminated successfully\n",
      "Optimization terminated successfully\n",
      "Optimization terminated successfully\n",
      "Optimization terminated successfully\n",
      "Optimization terminated successfully\n",
      "Optimization terminated successfully\n",
      "Optimization terminated successfully\n",
      "Optimization terminated successfully\n",
      "Optimization terminated successfully\n",
      "Optimization terminated successfully\n",
      "Optimization terminated successfully\n",
      "Optimization terminated successfully\n",
      "Optimization terminated successfully\n",
      "Optimization terminated successfully\n",
      "Optimization terminated successfully\n",
      "Optimization terminated successfully\n",
      "Optimization terminated successfully\n",
      "Optimization terminated successfully\n",
      "Optimization terminated successfully\n",
      "Optimization terminated successfully\n",
      "Optimization terminated successfully\n",
      "Optimization terminated successfully\n",
      "Optimization terminated successfully\n",
      "Optimization terminated successfully\n",
      "Optimization terminated successfully\n",
      "Optimization terminated successfully\n",
      "Optimization terminated successfully\n",
      "Optimization terminated successfully\n",
      "Optimization terminated successfully\n",
      "Optimization terminated successfully\n",
      "Optimization terminated successfully\n",
      "Optimization terminated successfully\n",
      "Optimization terminated successfully\n",
      "Optimization terminated successfully\n",
      "Optimization terminated successfully\n",
      "Optimization terminated successfully\n",
      "Optimization terminated successfully\n",
      "Optimization terminated successfully\n",
      "Optimization terminated successfully\n",
      "Optimization terminated successfully\n",
      "Optimization terminated successfully\n",
      "Optimization terminated successfully\n",
      "Optimization terminated successfully\n",
      "Optimization terminated successfully\n",
      "Optimization terminated successfully\n",
      "Optimization terminated successfully\n",
      "Optimization terminated successfully\n",
      "Optimization terminated successfully\n",
      "Optimization terminated successfully\n",
      "Optimization terminated successfully\n",
      "Optimization terminated successfully\n",
      "Optimization terminated successfully\n",
      "Optimization terminated successfully\n",
      "Optimization terminated successfully\n",
      "Optimization terminated successfully\n",
      "Optimization terminated successfully\n",
      "Optimization terminated successfully\n",
      "Optimization terminated successfully\n",
      "Optimization terminated successfully\n",
      "Optimization terminated successfully\n",
      "Optimization terminated successfully\n",
      "Optimization terminated successfully\n",
      "Optimization terminated successfully\n",
      "Optimization terminated successfully\n",
      "Optimization terminated successfully\n",
      "Optimization terminated successfully\n",
      "Optimization terminated successfully\n",
      "Optimization terminated successfully\n",
      "Optimization terminated successfully\n",
      "Optimization terminated successfully\n",
      "Optimization terminated successfully\n",
      "Optimization terminated successfully\n",
      "Optimization terminated successfully\n",
      "Optimization terminated successfully\n",
      "Optimization terminated successfully\n",
      "Optimization terminated successfully\n",
      "Optimization terminated successfully\n",
      "Optimization terminated successfully\n",
      "Optimization terminated successfully\n",
      "Optimization terminated successfully\n",
      "Optimization terminated successfully\n",
      "Optimization terminated successfully\n",
      "Optimization terminated successfully\n",
      "Optimization terminated successfully\n",
      "Optimization terminated successfully\n",
      "Optimization terminated successfully\n",
      "Optimization terminated successfully\n",
      "Optimization terminated successfully\n",
      "Optimization terminated successfully\n",
      "Optimization terminated successfully\n",
      "Optimization terminated successfully\n",
      "Optimization terminated successfully\n",
      "Optimization terminated successfully\n",
      "Optimization terminated successfully\n",
      "Optimization terminated successfully\n",
      "Optimization terminated successfully\n",
      "Optimization terminated successfully\n",
      "Optimization terminated successfully\n",
      "Optimization terminated successfully\n",
      "Optimization terminated successfully\n",
      "Optimization terminated successfully\n",
      "Optimization terminated successfully\n",
      "Optimization terminated successfully\n",
      "Optimization terminated successfully\n",
      "Optimization terminated successfully\n",
      "Optimization terminated successfully\n",
      "Optimization terminated successfully\n",
      "Optimization terminated successfully\n",
      "Optimization terminated successfully\n",
      "Optimization terminated successfully\n",
      "Optimization terminated successfully\n",
      "Optimization terminated successfully\n",
      "Optimization terminated successfully\n",
      "Optimization terminated successfully\n",
      "Optimization terminated successfully\n",
      "Optimization terminated successfully\n",
      "Optimization terminated successfully\n",
      "Optimization terminated successfully\n",
      "Optimization terminated successfully\n",
      "Optimization terminated successfully\n",
      "Optimization terminated successfully\n",
      "Optimization terminated successfully\n",
      "Optimization terminated successfully\n",
      "Optimization terminated successfully\n",
      "Optimization terminated successfully\n",
      "Optimization terminated successfully\n",
      "Optimization terminated successfully\n",
      "Optimization terminated successfully\n",
      "Optimization terminated successfully\n",
      "Optimization terminated successfully\n",
      "Optimization terminated successfully\n",
      "Optimization terminated successfully\n",
      "Optimization terminated successfully\n",
      "Optimization terminated successfully\n",
      "Optimization terminated successfully\n",
      "Optimization terminated successfully\n",
      "Optimization terminated successfully\n",
      "Optimization terminated successfully\n",
      "Optimization terminated successfully\n",
      "Optimization terminated successfully\n",
      "Optimization terminated successfully\n",
      "Optimization terminated successfully\n",
      "Optimization terminated successfully\n",
      "Optimization terminated successfully\n",
      "Optimization terminated successfully\n",
      "Optimization terminated successfully\n",
      "Optimization terminated successfully\n",
      "Optimization terminated successfully\n",
      "Optimization terminated successfully\n",
      "Optimization terminated successfully\n",
      "Optimization terminated successfully\n",
      "Optimization terminated successfully\n",
      "Optimization terminated successfully\n",
      "Optimization terminated successfully\n",
      "Optimization terminated successfully\n",
      "Optimization terminated successfully\n",
      "Optimization terminated successfully\n",
      "Optimization terminated successfully\n",
      "Optimization terminated successfully\n",
      "Optimization terminated successfully\n",
      "Optimization terminated successfully\n",
      "Optimization terminated successfully\n",
      "Optimization terminated successfully\n",
      "Optimization terminated successfully\n",
      "Optimization terminated successfully\n",
      "Optimization terminated successfully\n",
      "Optimization terminated successfully\n",
      "Optimization terminated successfully\n",
      "Optimization terminated successfully\n",
      "Optimization terminated successfully\n",
      "Optimization terminated successfully\n",
      "Optimization terminated successfully\n",
      "Optimization terminated successfully\n",
      "Optimization terminated successfully\n",
      "Optimization terminated successfully\n",
      "Optimization terminated successfully\n",
      "Optimization terminated successfully\n",
      "Optimization terminated successfully\n",
      "Optimization terminated successfully\n",
      "Optimization terminated successfully\n",
      "Optimization terminated successfully\n",
      "Optimization terminated successfully\n",
      "Optimization terminated successfully\n",
      "Optimization terminated successfully\n",
      "Optimization terminated successfully\n",
      "Optimization terminated successfully\n",
      "Optimization terminated successfully\n",
      "Optimization terminated successfully\n",
      "Optimization terminated successfully\n",
      "Optimization terminated successfully\n",
      "Optimization terminated successfully\n",
      "Optimization terminated successfully\n",
      "Optimization terminated successfully\n",
      "Optimization terminated successfully\n",
      "Optimization terminated successfully\n",
      "Optimization terminated successfully\n",
      "Optimization terminated successfully\n",
      "Optimization terminated successfully\n",
      "Optimization terminated successfully\n",
      "Optimization terminated successfully\n",
      "Optimization terminated successfully\n",
      "Optimization terminated successfully\n",
      "Optimization terminated successfully\n",
      "Optimization terminated successfully\n",
      "Optimization terminated successfully\n",
      "Optimization terminated successfully\n",
      "Optimization terminated successfully\n",
      "Optimization terminated successfully\n",
      "Optimization terminated successfully\n",
      "Optimization terminated successfully\n",
      "Optimization terminated successfully\n",
      "Optimization terminated successfully\n",
      "Optimization terminated successfully\n",
      "Optimization terminated successfully\n",
      "Optimization terminated successfully\n",
      "Optimization terminated successfully\n",
      "Optimization terminated successfully\n",
      "Optimization terminated successfully\n",
      "Optimization terminated successfully\n",
      "Optimization terminated successfully\n",
      "Optimization terminated successfully\n",
      "Optimization terminated successfully\n",
      "Optimization terminated successfully\n",
      "Optimization terminated successfully\n",
      "Optimization terminated successfully\n",
      "Optimization terminated successfully\n",
      "Optimization terminated successfully\n",
      "Optimization terminated successfully\n",
      "Optimization terminated successfully\n",
      "Optimization terminated successfully\n",
      "Optimization terminated successfully\n",
      "Optimization terminated successfully\n",
      "Optimization terminated successfully\n",
      "Optimization terminated successfully\n",
      "Optimization terminated successfully\n",
      "Optimization terminated successfully\n",
      "Optimization terminated successfully\n",
      "Optimization terminated successfully\n",
      "Optimization terminated successfully\n",
      "Optimization terminated successfully\n",
      "Optimization terminated successfully\n",
      "Optimization terminated successfully\n",
      "Optimization terminated successfully\n",
      "Optimization terminated successfully\n",
      "Optimization terminated successfully\n",
      "Optimization terminated successfully\n",
      "Optimization terminated successfully\n",
      "Optimization terminated successfully\n",
      "Optimization terminated successfully\n",
      "Optimization terminated successfully\n",
      "Optimization terminated successfully\n",
      "Optimization terminated successfully\n",
      "Optimization terminated successfully\n",
      "Optimization terminated successfully\n",
      "Optimization terminated successfully\n",
      "Optimization terminated successfully\n",
      "Optimization terminated successfully\n",
      "Optimization terminated successfully\n",
      "Optimization terminated successfully\n",
      "Optimization terminated successfully\n",
      "Optimization terminated successfully\n",
      "Optimization terminated successfully\n",
      "Optimization terminated successfully\n",
      "Optimization terminated successfully\n",
      "Optimization terminated successfully\n",
      "Optimization terminated successfully\n",
      "Optimization terminated successfully\n",
      "Optimization terminated successfully\n",
      "Optimization terminated successfully\n",
      "Optimization terminated successfully\n",
      "Optimization terminated successfully\n",
      "Optimization terminated successfully\n",
      "Optimization terminated successfully\n",
      "Optimization terminated successfully\n",
      "Optimization terminated successfully\n",
      "Optimization terminated successfully\n",
      "Optimization terminated successfully\n",
      "Optimization terminated successfully\n",
      "Optimization terminated successfully\n",
      "Optimization terminated successfully\n",
      "Optimization terminated successfully\n",
      "Optimization terminated successfully\n",
      "Optimization terminated successfully\n",
      "Optimization terminated successfully\n",
      "Optimization terminated successfully\n",
      "Optimization terminated successfully\n",
      "Optimization terminated successfully\n",
      "Optimization terminated successfully\n",
      "Optimization terminated successfully\n",
      "Optimization terminated successfully\n",
      "Optimization terminated successfully\n",
      "Optimization terminated successfully\n",
      "Optimization terminated successfully\n",
      "Optimization terminated successfully\n",
      "Optimization terminated successfully\n",
      "Optimization terminated successfully\n",
      "Optimization terminated successfully\n",
      "Optimization terminated successfully\n",
      "Optimization terminated successfully\n",
      "Optimization terminated successfully\n",
      "Optimization terminated successfully\n",
      "Optimization terminated successfully\n",
      "Optimization terminated successfully\n",
      "Optimization terminated successfully\n",
      "Optimization terminated successfully\n",
      "Optimization terminated successfully\n",
      "Optimization terminated successfully\n",
      "Optimization terminated successfully\n",
      "Optimization terminated successfully\n",
      "Optimization terminated successfully\n",
      "Optimization terminated successfully\n",
      "Optimization terminated successfully\n",
      "Optimization terminated successfully\n",
      "Optimization terminated successfully\n",
      "Optimization terminated successfully\n",
      "Optimization terminated successfully\n",
      "Optimization terminated successfully\n",
      "Optimization terminated successfully\n",
      "Optimization terminated successfully\n",
      "Optimization terminated successfully\n",
      "Optimization terminated successfully\n",
      "Optimization terminated successfully\n",
      "Optimization terminated successfully\n",
      "Optimization terminated successfully\n",
      "Optimization terminated successfully\n",
      "Optimization terminated successfully\n",
      "Optimization terminated successfully\n",
      "Optimization terminated successfully\n",
      "Optimization terminated successfully\n",
      "Optimization terminated successfully\n",
      "Optimization terminated successfully\n",
      "Optimization terminated successfully\n",
      "Optimization terminated successfully\n",
      "Optimization terminated successfully\n",
      "Optimization terminated successfully\n",
      "Optimization terminated successfully\n",
      "Optimization terminated successfully\n",
      "Optimization terminated successfully\n",
      "Optimization terminated successfully\n",
      "Optimization terminated successfully\n",
      "Optimization terminated successfully\n",
      "Optimization terminated successfully\n",
      "Optimization terminated successfully\n",
      "Optimization terminated successfully\n",
      "Optimization terminated successfully\n",
      "Optimization terminated successfully\n",
      "Optimization terminated successfully\n",
      "Optimization terminated successfully\n",
      "Optimization terminated successfully\n",
      "Optimization terminated successfully\n",
      "Optimization terminated successfully\n",
      "Optimization terminated successfully\n",
      "Optimization terminated successfully\n",
      "Optimization terminated successfully\n",
      "Optimization terminated successfully\n",
      "Optimization terminated successfully\n",
      "Optimization terminated successfully\n",
      "Optimization terminated successfully\n",
      "Optimization terminated successfully\n",
      "Optimization terminated successfully\n",
      "Optimization terminated successfully\n",
      "Optimization terminated successfully\n",
      "Optimization terminated successfully\n",
      "Optimization terminated successfully\n",
      "Optimization terminated successfully\n",
      "Optimization terminated successfully\n",
      "Optimization terminated successfully\n",
      "Optimization terminated successfully\n",
      "Optimization terminated successfully\n",
      "Optimization terminated successfully\n",
      "Optimization terminated successfully\n",
      "Optimization terminated successfully\n",
      "Optimization terminated successfully\n",
      "Optimization terminated successfully\n",
      "Optimization terminated successfully\n",
      "Optimization terminated successfully\n",
      "Optimization terminated successfully\n",
      "Optimization terminated successfully\n",
      "Optimization terminated successfully\n",
      "Optimization terminated successfully\n",
      "Optimization terminated successfully\n",
      "Optimization terminated successfully\n",
      "Optimization terminated successfully\n",
      "Optimization terminated successfully\n",
      "Optimization terminated successfully\n",
      "Optimization terminated successfully\n",
      "Optimization terminated successfully\n",
      "Optimization terminated successfully\n",
      "Optimization terminated successfully\n",
      "Optimization terminated successfully\n",
      "Optimization terminated successfully\n",
      "Optimization terminated successfully\n",
      "Optimization terminated successfully\n",
      "Optimization terminated successfully\n",
      "Optimization terminated successfully\n",
      "Optimization terminated successfully\n",
      "Optimization terminated successfully\n",
      "Optimization terminated successfully\n",
      "Optimization terminated successfully\n",
      "Optimization terminated successfully\n",
      "Optimization terminated successfully\n",
      "Optimization terminated successfully\n",
      "Optimization terminated successfully\n",
      "Optimization terminated successfully\n",
      "Optimization terminated successfully\n",
      "Optimization terminated successfully\n",
      "Optimization terminated successfully\n",
      "Optimization terminated successfully\n",
      "Optimization terminated successfully\n",
      "Optimization terminated successfully\n",
      "Optimization terminated successfully\n",
      "Optimization terminated successfully\n",
      "Optimization terminated successfully\n",
      "Optimization terminated successfully\n",
      "Optimization terminated successfully\n",
      "Optimization terminated successfully\n",
      "Optimization terminated successfully\n",
      "Optimization terminated successfully\n",
      "Optimization terminated successfully\n",
      "Optimization terminated successfully\n",
      "Optimization terminated successfully\n",
      "Optimization terminated successfully\n",
      "Optimization terminated successfully\n",
      "Optimization terminated successfully\n",
      "Optimization terminated successfully\n",
      "Optimization terminated successfully\n",
      "Optimization terminated successfully\n",
      "Optimization terminated successfully\n",
      "Optimization terminated successfully\n",
      "Optimization terminated successfully\n",
      "Optimization terminated successfully\n",
      "Optimization terminated successfully\n",
      "Optimization terminated successfully\n",
      "Optimization terminated successfully\n",
      "Optimization terminated successfully\n",
      "Optimization terminated successfully\n",
      "Optimization terminated successfully\n",
      "Optimization terminated successfully\n",
      "Optimization terminated successfully\n",
      "Optimization terminated successfully\n",
      "Optimization terminated successfully\n",
      "Optimization terminated successfully\n",
      "Optimization terminated successfully\n",
      "Optimization terminated successfully\n",
      "Optimization terminated successfully\n",
      "Optimization terminated successfully\n",
      "Optimization terminated successfully\n",
      "Optimization terminated successfully\n",
      "Optimization terminated successfully\n",
      "Optimization terminated successfully\n",
      "Optimization terminated successfully\n",
      "Optimization terminated successfully\n",
      "Optimization terminated successfully\n",
      "Optimization terminated successfully\n",
      "Optimization terminated successfully\n",
      "Optimization terminated successfully\n",
      "Optimization terminated successfully\n",
      "Optimization terminated successfully\n",
      "Optimization terminated successfully\n",
      "Optimization terminated successfully\n",
      "Optimization terminated successfully\n",
      "Optimization terminated successfully\n",
      "Optimization terminated successfully\n",
      "Optimization terminated successfully\n",
      "Optimization terminated successfully\n",
      "Optimization terminated successfully\n",
      "Optimization terminated successfully\n",
      "Optimization terminated successfully\n",
      "Optimization terminated successfully\n",
      "Optimization terminated successfully\n",
      "Optimization terminated successfully\n",
      "Optimization terminated successfully\n",
      "Optimization terminated successfully\n",
      "Optimization terminated successfully\n",
      "Optimization terminated successfully\n",
      "Optimization terminated successfully\n",
      "Optimization terminated successfully\n",
      "Optimization terminated successfully\n",
      "Optimization terminated successfully\n",
      "Optimization terminated successfully\n",
      "Optimization terminated successfully\n",
      "Optimization terminated successfully\n",
      "Optimization terminated successfully\n",
      "Optimization terminated successfully\n",
      "Optimization terminated successfully\n",
      "Optimization terminated successfully\n",
      "Optimization terminated successfully\n",
      "Optimization terminated successfully\n",
      "Optimization terminated successfully\n",
      "Optimization terminated successfully\n",
      "Optimization terminated successfully\n",
      "Optimization terminated successfully\n",
      "Optimization terminated successfully\n",
      "Optimization terminated successfully\n",
      "Optimization terminated successfully\n",
      "Optimization terminated successfully\n",
      "Optimization terminated successfully\n",
      "Optimization terminated successfully\n",
      "Optimization terminated successfully\n",
      "Optimization terminated successfully\n",
      "Optimization terminated successfully\n",
      "Optimization terminated successfully\n",
      "Optimization terminated successfully\n",
      "Optimization terminated successfully\n",
      "Optimization terminated successfully\n",
      "Optimization terminated successfully\n",
      "Optimization terminated successfully\n",
      "Optimization terminated successfully\n",
      "Optimization terminated successfully\n",
      "Optimization terminated successfully\n",
      "Optimization terminated successfully\n",
      "Optimization terminated successfully\n",
      "Optimization terminated successfully\n",
      "Optimization terminated successfully\n",
      "Optimization terminated successfully\n",
      "Optimization terminated successfully\n",
      "Optimization terminated successfully\n",
      "Optimization terminated successfully\n",
      "Optimization terminated successfully\n",
      "Optimization terminated successfully\n",
      "Optimization terminated successfully\n",
      "Optimization terminated successfully\n",
      "Optimization terminated successfully\n",
      "Optimization terminated successfully\n",
      "Optimization terminated successfully\n",
      "Optimization terminated successfully\n",
      "Optimization terminated successfully\n",
      "Optimization terminated successfully\n",
      "Optimization terminated successfully\n",
      "Optimization terminated successfully\n",
      "Optimization terminated successfully\n",
      "Optimization terminated successfully\n",
      "Optimization terminated successfully\n",
      "Optimization terminated successfully\n",
      "Optimization terminated successfully\n",
      "Optimization terminated successfully\n",
      "Optimization terminated successfully\n",
      "Optimization terminated successfully\n",
      "Optimization terminated successfully\n",
      "Optimization terminated successfully\n",
      "Optimization terminated successfully\n",
      "Optimization terminated successfully\n",
      "Optimization terminated successfully\n",
      "Optimization terminated successfully\n",
      "Optimization terminated successfully\n",
      "Optimization terminated successfully\n",
      "Optimization terminated successfully\n",
      "Optimization terminated successfully\n",
      "Optimization terminated successfully\n",
      "Optimization terminated successfully\n",
      "Optimization terminated successfully\n",
      "Optimization terminated successfully\n",
      "Optimization terminated successfully\n",
      "Optimization terminated successfully\n",
      "Optimization terminated successfully\n",
      "Optimization terminated successfully\n",
      "Optimization terminated successfully\n",
      "Optimization terminated successfully\n",
      "Optimization terminated successfully\n",
      "Optimization terminated successfully\n",
      "Optimization terminated successfully\n",
      "Optimization terminated successfully\n",
      "Optimization terminated successfully\n",
      "Optimization terminated successfully\n",
      "Optimization terminated successfully\n",
      "Optimization terminated successfully\n",
      "Optimization terminated successfully\n",
      "Optimization terminated successfully\n",
      "Optimization terminated successfully\n",
      "Optimization terminated successfully\n",
      "Optimization terminated successfully\n",
      "Optimization terminated successfully\n",
      "Optimization terminated successfully\n",
      "Optimization terminated successfully\n",
      "Optimization terminated successfully\n",
      "Optimization terminated successfully\n",
      "Optimization terminated successfully\n",
      "Optimization terminated successfully\n",
      "Optimization terminated successfully\n",
      "Optimization terminated successfully\n",
      "Optimization terminated successfully\n",
      "Optimization terminated successfully\n",
      "Optimization terminated successfully\n",
      "Optimization terminated successfully\n",
      "Optimization terminated successfully\n",
      "Optimization terminated successfully\n",
      "Optimization terminated successfully\n",
      "Optimization terminated successfully\n",
      "Optimization terminated successfully\n",
      "Optimization terminated successfully\n",
      "Optimization terminated successfully\n",
      "Optimization terminated successfully\n",
      "Optimization terminated successfully\n",
      "Optimization terminated successfully\n",
      "Optimization terminated successfully\n",
      "Optimization terminated successfully\n",
      "Optimization terminated successfully\n",
      "Optimization terminated successfully\n",
      "Optimization terminated successfully\n",
      "Optimization terminated successfully\n",
      "Optimization terminated successfully\n",
      "Optimization terminated successfully\n",
      "Optimization terminated successfully\n",
      "Optimization terminated successfully\n",
      "Optimization terminated successfully\n",
      "Optimization terminated successfully\n",
      "Optimization terminated successfully\n",
      "Optimization terminated successfully\n",
      "Optimization terminated successfully\n",
      "Optimization terminated successfully\n",
      "Optimization terminated successfully\n",
      "Optimization terminated successfully\n",
      "Optimization terminated successfully\n",
      "Optimization terminated successfully\n",
      "Optimization terminated successfully\n",
      "Optimization terminated successfully\n",
      "Optimization terminated successfully\n",
      "Optimization terminated successfully\n",
      "Optimization terminated successfully\n",
      "Optimization terminated successfully\n",
      "Optimization terminated successfully\n",
      "Optimization terminated successfully\n",
      "Optimization terminated successfully\n",
      "Optimization terminated successfully\n",
      "Optimization terminated successfully\n",
      "Optimization terminated successfully\n",
      "Optimization terminated successfully\n",
      "Optimization terminated successfully\n",
      "Optimization terminated successfully\n",
      "Optimization terminated successfully\n",
      "Optimization terminated successfully\n",
      "Optimization terminated successfully\n",
      "Optimization terminated successfully\n",
      "Optimization terminated successfully\n",
      "Optimization terminated successfully\n",
      "Optimization terminated successfully\n",
      "Optimization terminated successfully\n",
      "Optimization terminated successfully\n",
      "Optimization terminated successfully\n",
      "Optimization terminated successfully\n",
      "Optimization terminated successfully\n",
      "Optimization terminated successfully\n",
      "Optimization terminated successfully\n",
      "Optimization terminated successfully\n",
      "Optimization terminated successfully\n",
      "Optimization terminated successfully\n",
      "Optimization terminated successfully\n",
      "Optimization terminated successfully\n",
      "Optimization terminated successfully\n",
      "Optimization terminated successfully\n",
      "Optimization terminated successfully\n",
      "Optimization terminated successfully\n",
      "Optimization terminated successfully\n",
      "Optimization terminated successfully\n",
      "Optimization terminated successfully\n",
      "Optimization terminated successfully\n",
      "Optimization terminated successfully\n",
      "Optimization terminated successfully\n",
      "Optimization terminated successfully\n",
      "Optimization terminated successfully\n",
      "Optimization terminated successfully\n",
      "Optimization terminated successfully\n",
      "Optimization terminated successfully\n",
      "Optimization terminated successfully\n",
      "Optimization terminated successfully\n",
      "Optimization terminated successfully\n",
      "Optimization terminated successfully\n",
      "Optimization terminated successfully\n",
      "Optimization terminated successfully\n",
      "Optimization terminated successfully\n",
      "Optimization terminated successfully\n",
      "Optimization terminated successfully\n",
      "Optimization terminated successfully\n",
      "Optimization terminated successfully\n",
      "Optimization terminated successfully\n",
      "Optimization terminated successfully\n",
      "Optimization terminated successfully\n",
      "Optimization terminated successfully\n",
      "Optimization terminated successfully\n",
      "Optimization terminated successfully\n",
      "Optimization terminated successfully\n",
      "Optimization terminated successfully\n",
      "Optimization terminated successfully\n",
      "Optimization terminated successfully\n",
      "Optimization terminated successfully\n",
      "Optimization terminated successfully\n",
      "Optimization terminated successfully\n",
      "Optimization terminated successfully\n",
      "Optimization terminated successfully\n",
      "Optimization terminated successfully\n",
      "Optimization terminated successfully\n",
      "Optimization terminated successfully\n",
      "Optimization terminated successfully\n",
      "Optimization terminated successfully\n",
      "Optimization terminated successfully\n",
      "Optimization terminated successfully\n",
      "Optimization terminated successfully\n",
      "Optimization terminated successfully\n",
      "Optimization terminated successfully\n",
      "Optimization terminated successfully\n",
      "Optimization terminated successfully\n",
      "Optimization terminated successfully\n",
      "Optimization terminated successfully\n",
      "Optimization terminated successfully\n",
      "Optimization terminated successfully\n",
      "Optimization terminated successfully\n",
      "Optimization terminated successfully\n",
      "Optimization terminated successfully\n",
      "Optimization terminated successfully\n",
      "Optimization terminated successfully\n",
      "Optimization terminated successfully\n",
      "Optimization terminated successfully\n",
      "Optimization terminated successfully\n",
      "Optimization terminated successfully\n",
      "Optimization terminated successfully\n",
      "Optimization terminated successfully\n",
      "Optimization terminated successfully\n",
      "Optimization terminated successfully\n",
      "Optimization terminated successfully\n",
      "Optimization terminated successfully\n",
      "Optimization terminated successfully\n",
      "Optimization terminated successfully\n",
      "Optimization terminated successfully\n",
      "Optimization terminated successfully\n",
      "Optimization terminated successfully\n",
      "Optimization terminated successfully\n",
      "Optimization terminated successfully\n",
      "Optimization terminated successfully\n",
      "Optimization terminated successfully\n",
      "Optimization terminated successfully\n",
      "Optimization terminated successfully\n",
      "Optimization terminated successfully\n",
      "Optimization terminated successfully\n",
      "Optimization terminated successfully\n",
      "Optimization terminated successfully\n",
      "Optimization terminated successfully\n",
      "Optimization terminated successfully\n",
      "Optimization terminated successfully\n",
      "Optimization terminated successfully\n",
      "Optimization terminated successfully\n",
      "Optimization terminated successfully\n",
      "Optimization terminated successfully\n",
      "Optimization terminated successfully\n",
      "Optimization terminated successfully\n",
      "Optimization terminated successfully\n",
      "Optimization terminated successfully\n",
      "Optimization terminated successfully\n"
     ]
    }
   ],
   "source": [
    "ref_=[]\n",
    "ws_=[]\n",
    "for i in R:\n",
    "    ri, wi = mvo(i, covar) \n",
    "    ref_.append(ri)\n",
    "    ws_.append(wi)"
   ]
  },
  {
   "cell_type": "code",
   "execution_count": 431,
   "metadata": {},
   "outputs": [
    {
     "data": {
      "text/plain": [
       "0    0.261512\n",
       "1    0.216616\n",
       "2    0.256518\n",
       "3    0.265392\n",
       "4    0.079306\n",
       "dtype: float64"
      ]
     },
     "execution_count": 431,
     "metadata": {},
     "output_type": "execute_result"
    }
   ],
   "source": [
    "wsdf = pd.concat(ws_,axis=1).transpose()\n",
    "wsdf.round(3).mean()"
   ]
  },
  {
   "cell_type": "code",
   "execution_count": 432,
   "metadata": {},
   "outputs": [
    {
     "data": {
      "text/html": [
       "        <script type=\"text/javascript\">\n",
       "        window.PlotlyConfig = {MathJaxConfig: 'local'};\n",
       "        if (window.MathJax && window.MathJax.Hub && window.MathJax.Hub.Config) {window.MathJax.Hub.Config({SVG: {font: \"STIX-Web\"}});}\n",
       "        if (typeof require !== 'undefined') {\n",
       "        require.undef(\"plotly\");\n",
       "        requirejs.config({\n",
       "            paths: {\n",
       "                'plotly': ['https://cdn.plot.ly/plotly-2.25.2.min']\n",
       "            }\n",
       "        });\n",
       "        require(['plotly'], function(Plotly) {\n",
       "            window._Plotly = Plotly;\n",
       "        });\n",
       "        }\n",
       "        </script>\n",
       "        "
      ]
     },
     "metadata": {},
     "output_type": "display_data"
    },
    {
     "data": {
      "application/vnd.plotly.v1+json": {
       "config": {
        "linkText": "Export to plot.ly",
        "plotlyServerURL": "https://plot.ly",
        "showLink": false
       },
       "data": [
        {
         "line": {
          "color": "purple"
         },
         "mode": "lines",
         "type": "scatter",
         "x": [
          0.0216429438106569,
          0.0241429438106569,
          0.026642943810656898,
          0.029142943810656897,
          0.031642943810656896,
          0.0341429438106569,
          0.03664294381065689,
          0.03914294381065689,
          0.04164294381065689,
          0.04414294381065689,
          0.04664294381065689,
          0.04914294381065688,
          0.051642943810656886,
          0.05414294381065689,
          0.05664294381065688,
          0.05914294381065688,
          0.06164294381065688,
          0.06414294381065688
         ],
         "y": [
          0.0004050993410990619,
          0.004810934458792672,
          0.006711732291404051,
          0.008270724489216742,
          0.009667289816518385,
          0.0107579692050086,
          0.011384747532292855,
          0.011882290040263581,
          0.012318934709198244,
          0.012719213452041484,
          0.013095152688245295,
          0.013453628578917073,
          0.012189835333147428,
          0.011780819757942337,
          0.01146843452446175,
          0.010939780930417599,
          0.010958722888788094,
          0.010734808840660614
         ]
        },
        {
         "marker": {
          "color": "red",
          "size": 7
         },
         "mode": "markers",
         "opacity": 0.7,
         "type": "scatter",
         "x": [
          0.056889054316242735,
          0.06255023915742265,
          0.04271102186476983,
          0.02409490172433703,
          0.0461193000928183
         ],
         "y": [
          0.011440509948098188,
          0.0001646750683600085,
          0.006449039425942275,
          -0.0024037733891619562,
          0.002527988665601598
         ]
        },
        {
         "line": {
          "color": "black"
         },
         "mode": "lines",
         "type": "scatter",
         "x": [
          0.0216429438106569,
          0.0241429438106569,
          0.026642943810656898,
          0.029142943810656897,
          0.031642943810656896,
          0.0341429438106569,
          0.03664294381065689,
          0.03914294381065689,
          0.04164294381065689,
          0.04414294381065689,
          0.04664294381065689,
          0.04914294381065688,
          0.051642943810656886,
          0.05414294381065689,
          0.05664294381065688,
          0.05914294381065688,
          0.06164294381065688,
          0.06414294381065688
         ],
         "y": [
          0.003218182822354399,
          0.022070924939559824,
          0.02980922173114777,
          0.03605204927068021,
          0.04138184598335207,
          0.046145562673218656,
          0.05024990945019769,
          0.05425545383293191,
          0.05766233367389817,
          0.060372528134618325,
          0.06242123722947494,
          0.05518482682891255,
          0.04645249573622914,
          0.040602604135628814,
          0.03717446848127743,
          0.03430907303322071,
          0.031295123352487096,
          0.02867925666924861
         ]
        },
        {
         "jitter": 0.2,
         "line": {
          "color": "gray",
          "width": 0.5
         },
         "marker": {
          "color": "black",
          "opacity": 0.4,
          "size": 2
         },
         "meanline": {
          "visible": true
         },
         "name": "0.0216429438106569",
         "pointpos": -0.5,
         "points": "outliers",
         "side": "negative",
         "type": "violin",
         "y": [
          -0.008164193809906812,
          0.008301010593316923,
          -0.001644206872122509,
          0.02163117551474864,
          0.0016685535243759343,
          -0.008650327245474562,
          0.014303860170252378,
          0.02701017053681613,
          0.0026025015081730775,
          -0.00565278013424919,
          0.023540737113457177,
          0.012656328371440864,
          -0.015462243818268783,
          -0.04080816225719901,
          -0.006867260060181922,
          -0.009910465446672508,
          0.009179708067451428,
          0.00955058651719735,
          -0.029653992528799383,
          -0.019289454506936424,
          -0.010807866428916537,
          -0.01775988107604009,
          -0.002309918445333386,
          -0.00046512403721594444,
          0.009461313933123683,
          -0.009366332823053367,
          -0.01011740655183505,
          0.026121283328725445,
          0.05101769536163555,
          -0.0005377737909506177,
          0.012894186498053005,
          -0.014789818328951675,
          -0.0007558682003036682,
          0.02643750851363999,
          0.029118623485338863,
          -0.038483186799896575,
          -0.006251897626152912,
          -0.020526398299528677,
          -0.01849809240405819,
          -0.02006840651874318,
          0.029927915893974078,
          0.019105617592408673,
          0.05570478075578164,
          0.021515384211110322,
          -0.03780238587885776,
          -0.00921519062027476,
          -0.003930161857494036,
          -0.012263154988933704,
          0.024480516523005615,
          0.0037783716749611703,
          0.030236460335679408,
          0.014277116964359845,
          0.017521074125704163,
          0.01068075257528429,
          -0.021241974937217037,
          -0.019736047132144476,
          -0.0050291648060137,
          0.04627091912772296,
          0.005639470899815996,
          0.001609645396554833,
          0.019427102527078362,
          -0.02455652482839955,
          -0.00024137455697004624,
          0.007511366190881323,
          -0.026194448303053286,
          -0.015414094089350308,
          0.01712302610935656,
          0.03145799355613515,
          0.014896896013808317,
          -0.0057908733715948775,
          -0.01518670554481551,
          0.003492704003637185,
          0.030044838527187256,
          0.00453438206510424,
          -0.019927535111838004,
          -0.05018625171258542,
          0.05514848209671931,
          0.018486396140511143,
          -0.013274694733575053,
          -0.009520342803777613,
          -0.01365973770588183,
          0.0034580176464458347,
          0.010307244946951328,
          0.03288182571030484,
          0.011050191370057597,
          0.07144383044775439,
          -0.009131209849720866,
          -0.011081460556073064,
          -0.01355440502988311,
          0.022255209763178026,
          0.0039734887496953464,
          0.006340755919018998,
          0.01121455236200313,
          0.01993863420505537,
          0.01315864701348481,
          -0.008595483069998678,
          -0.04194375521349418,
          0.00937329345847775,
          0.00817813951214503,
          0.0027963248357208417,
          -0.025202609743436983,
          0.009571776630764998,
          0.04243745645709902,
          0.02507379280975113,
          -0.005919880499099396,
          0.006572885605265046,
          -0.008929109936536806,
          -0.040375075906911514,
          -0.004600927210323631,
          0.008779462173939134,
          0.06309451722462552,
          0.010456151798619384,
          0.016487940947998693,
          -0.016853336173263084,
          -0.008228117307327412,
          -0.011884456826671368,
          0.011106571602748944,
          -0.007973656955271849,
          0.00024427541766585894,
          0.007923340179099464,
          -0.020968097349283746,
          -0.0075535896857098815,
          0.0032330745118422325,
          0.015088058015756845,
          0.006627744561463372,
          0.02116686388789339,
          0.021784926161304907,
          -0.013360042824681175,
          -0.019736803055708206,
          -0.008821411463290676,
          -0.032496996723314096,
          -0.020921003435787237,
          0.03352316000441673,
          0.007413321304928665,
          -0.027425239878535557,
          0.002999728969084477,
          0.00665050475097758,
          -0.0048758791696327155,
          -0.009050356501928081,
          -0.012528352387526682,
          -0.03107474144620735,
          -0.011652972315999065,
          0.019791041921235247,
          -0.03317596757750526,
          0.03435447311643424,
          -0.00348159289278752,
          0.017748026514209737,
          -0.013753360325481865,
          0.042237351748114146,
          0.03196846772369775,
          0.025686181049624772,
          -0.03963860267164642,
          0.013001608003931256,
          -0.02131185564963236,
          0.04524274776786766,
          -0.002847841142564458,
          0.00757406101706571,
          0.02256725412572844,
          0.01838575011292909,
          0.0007002023741333737,
          -0.0014809359908841374,
          -0.00964120049970773,
          0.009402550813421688,
          -0.011258782971027427,
          0.027439771203744842,
          0.018358531335752583,
          -0.004930669883343071,
          0.013619569406357866,
          0.024153804668778815,
          0.005054835536655281,
          0.04589250604274301,
          -0.020565340394419113,
          0.0005463525499707131,
          0.025461440266287685,
          0.008470613860676388,
          0.01384283628481686,
          -0.0006677189230422884,
          0.014338075384100198,
          -0.013300228872944696,
          -0.003741046236743249,
          0.013303380447040047,
          -0.025348649076476937,
          -0.001379473347409602,
          0.011056918373015706,
          -0.007510385661886435,
          0.025084112305677534,
          0.0022299512322281004,
          -0.02716599289850396,
          -0.03162419717565485,
          0.010195406612672247,
          0.01712778459542201,
          -0.0010145295832176212,
          0.020942849229985606,
          -0.00018761464859725282,
          0.02904956610385853,
          -0.006747531560287742,
          0.021208893726450673,
          0.04011225731560513,
          -0.01152496195605143,
          -0.0004356021504199018
         ]
        },
        {
         "jitter": 0.2,
         "line": {
          "color": "gray",
          "width": 0.5
         },
         "marker": {
          "color": "black",
          "opacity": 0.4,
          "size": 2
         },
         "meanline": {
          "visible": true
         },
         "name": "0.0241429438106569",
         "pointpos": -0.5,
         "points": "outliers",
         "side": "negative",
         "type": "violin",
         "y": [
          0.023743980186850703,
          0.030849072142621264,
          0.011665675927543579,
          0.038835514167921366,
          0.023148382769578032,
          -0.0012839590823624707,
          0.030720204643183407,
          0.045168106466733075,
          0.019508088574931057,
          0.0069049157575897056,
          0.03755230823996607,
          0.03554501000927682,
          0.0073864056224351195,
          -0.025014199375536086,
          0.0023206328801001702,
          0.0005713775940792948,
          0.035873589005817816,
          0.025877202742272672,
          -0.012683039928597803,
          -0.004814746910858542,
          -0.0069240585881712524,
          0.009966321261944848,
          0.01687272122433399,
          0.010822230351269243,
          0.019417470965509345,
          -0.0029090893858199937,
          0.007252077853234039,
          0.031001547618582297,
          0.07227861732058999,
          0.0243790973578924,
          0.033555190088685835,
          0.006029790085395118,
          0.01406185080063723,
          0.04567157849221983,
          0.051215120387132815,
          -0.017440551542565828,
          0.0285228645074099,
          -0.016708608989861314,
          0.012421618612542092,
          0.002738822140142662,
          0.04220216113969114,
          0.03291214468963101,
          0.0695627228505162,
          0.03619504797471431,
          -0.027673316319389577,
          0.003999022106175859,
          0.008661740393282857,
          0.006795436075653502,
          0.04525964937202351,
          0.017612740788392527,
          0.0466614800293615,
          0.02588924886019232,
          0.028889392299376024,
          0.023735950772361823,
          -0.006606848036085237,
          0.01336877777717683,
          0.019664625787655897,
          0.056350010176479726,
          0.027198317906773083,
          0.015606403672190789,
          0.037047044537220956,
          -0.013969835733944842,
          0.003720245805690349,
          0.035673077839187,
          -0.012590337888041637,
          0.00905264635456828,
          0.047040535914912356,
          0.07206270923758122,
          0.03327215665675682,
          0.011168708837508803,
          0.011680384086508786,
          0.03028109038092055,
          0.06187754430130547,
          0.030606354196422145,
          0.01958655546112832,
          -0.0254919278010512,
          0.07212726424128807,
          0.027412046447921,
          0.02267954689831348,
          0.004797492728450179,
          0.0025872068619315026,
          0.0267637483639858,
          0.03141977229382785,
          0.04009327479537118,
          0.029579996284214316,
          0.07764018620923498,
          0.020624455421751082,
          0.024838529150979404,
          -0.00041142839264584653,
          0.03879885039033285,
          0.04329734312130875,
          0.03850442799576168,
          0.03317860952947628,
          0.03643278374823916,
          0.037514683871542276,
          0.02766546891710099,
          -0.031246176363582692,
          0.0529834813302138,
          0.030731440149763402,
          0.03616875188776436,
          -0.014462794148645815,
          0.04246149725395413,
          0.05634522055717784,
          0.052740192135135,
          0.0012756390780087122,
          0.04085846225469371,
          0.01615642842310274,
          -0.03401225884243862,
          0.014002729308828028,
          0.032638177854415286,
          0.08011095170500261,
          0.032926843302381985,
          0.0453185341096412,
          -0.006632356758646911,
          -0.000056565723328201295,
          0.0038000214347988434,
          0.017216820971345564,
          0.01549629436384818,
          0.016147473094000313,
          0.032350259481810355,
          0.0032377055556665076,
          0.0019984287443207942,
          0.01853672316316873,
          0.02920331147300623,
          0.028424634125575877,
          0.03745563757277667,
          0.03245683852083797,
          0.007452451241335042,
          -0.0034391849861607664,
          -0.006479078090322991,
          -0.006759243722083458,
          -0.016949778929809825,
          0.045052172600481145,
          0.029528062954491223,
          -0.0046564467983074035,
          0.04187568760666314,
          0.0413435139862448,
          0.005944513742327886,
          0.02534893580991552,
          0.009830628657658113,
          -0.017579711967554368,
          -0.004398704554772881,
          0.0423925885669896,
          -0.017606852035332722,
          0.04482462936418279,
          0.012011529654022659,
          0.04524373819155325,
          0.005992907242782947,
          0.0659216492998035,
          0.04594366105290718,
          0.0423691035950646,
          -0.029115000050239894,
          0.04059141723247019,
          0.0010926199508841663,
          0.06603973421165843,
          0.006393187468743379,
          0.026691940827984626,
          0.03890094345333608,
          0.039299391796385225,
          0.013130448057244557,
          0.013372336068217775,
          0.004660878826857385,
          0.0178815109720808,
          0.001086551007066768,
          0.05296266268943403,
          0.042805929598292596,
          0.01163658989670407,
          0.02427424329252135,
          0.03374444486592868,
          0.03141136013004903,
          0.058786068585313656,
          0.000007689504326697258,
          0.017629450118205856,
          0.038318938378514474,
          0.03329800368377614,
          0.02561141291154503,
          0.024908380191478518,
          0.030769559901248678,
          0.008484445486903998,
          0.02665729482600794,
          0.04192510739374971,
          -0.011521634748036448,
          0.012956339361527,
          0.025734884867321145,
          0.007750435625613598,
          0.038744924377497866,
          0.015895692936018897,
          -0.005607395242545529,
          -0.009038459387896821,
          0.04186419591675965,
          0.04641149750201967,
          0.020094521487395964,
          0.04201988319170184,
          0.012143657723762382,
          0.039219092034075746,
          0.018085806097837775,
          0.04043893226024777,
          0.06240947834956915,
          -0.002212068907357081,
          0.010753493317204738
         ]
        },
        {
         "jitter": 0.2,
         "line": {
          "color": "gray",
          "width": 0.5
         },
         "marker": {
          "color": "black",
          "opacity": 0.4,
          "size": 2
         },
         "meanline": {
          "visible": true
         },
         "name": "0.026642943810656898",
         "pointpos": -0.5,
         "points": "outliers",
         "side": "negative",
         "type": "violin",
         "y": [
          0.038186368226945995,
          0.039487074390227805,
          0.017689999901961108,
          0.04661233360109069,
          0.03237711808833879,
          -0.002336544020901554,
          0.03751493457961943,
          0.05293544912194139,
          0.02624196356524523,
          0.012588831335844743,
          0.04379205781606032,
          0.04474949355112223,
          0.017607272058645863,
          -0.01811274214634137,
          0.006480028068326944,
          0.005240823995036659,
          0.04760506491342543,
          0.02521961516814555,
          -0.00523735230769626,
          0.0015335924707127538,
          -0.005627990872954764,
          0.022515932993700614,
          0.025566144951840696,
          0.01587596292708873,
          0.02315306629539576,
          -0.0020199133895518803,
          0.014099301945581552,
          0.032420222520038844,
          0.08151402102394255,
          0.035085028556991735,
          0.04291058528562861,
          0.0143014943823698,
          0.020664434121685123,
          0.05281342076582582,
          0.06026685168400421,
          -0.00791628782381748,
          0.04353609524614884,
          -0.015171832951907797,
          0.024354295591721576,
          0.013038989942588597,
          0.04679196658956393,
          0.03585245407164794,
          0.07561899544868027,
          0.042160006096140394,
          -0.023664967891537634,
          0.009990774245273051,
          0.013743272101829133,
          0.0152558863125779,
          0.05352504226571292,
          0.023019189875965195,
          0.05392371199251255,
          0.031146229689545783,
          0.034010517887077804,
          0.029449729946830254,
          0.000017349397523232596,
          0.028352849983905495,
          0.030566583973335556,
          0.060912102184883805,
          0.036330500023916606,
          0.021944635447299757,
          0.045022254147084044,
          -0.009330495436564876,
          0.0050285398373101035,
          0.04833076123039793,
          -0.00706125327735607,
          0.02012691315836143,
          0.05951075981519251,
          0.08922463670884168,
          0.04047231882550044,
          0.01858883012744265,
          0.023751574216645397,
          0.042408186810344986,
          0.07628579464775176,
          0.03992097658135313,
          0.037473946052971434,
          -0.015912049160147136,
          0.07949108380651573,
          0.031028313360115106,
          0.03848793079438127,
          0.01035521217902782,
          0.008900666929309681,
          0.03726830609158341,
          0.04097051878510087,
          0.042974822310463276,
          0.037957572832620544,
          0.08024882107575039,
          0.03346918539397554,
          0.036097354219377334,
          0.0005562895549354884,
          0.045140126109984635,
          0.06076012510154961,
          0.052639251767839394,
          0.04312008625839925,
          0.04386502539058255,
          0.0485385350274232,
          0.04339320312477058,
          -0.026404288857956777,
          0.07249018638832717,
          0.0404674172949055,
          0.050866951914581224,
          -0.010178765684021174,
          0.05686010908838272,
          0.05805794558751546,
          0.0652626813302649,
          0.004313613818131101,
          0.056008609651832277,
          0.027510799534248485,
          -0.03172200725738356,
          0.021901104977309727,
          0.04251885249509708,
          0.08781379288684296,
          0.0411597791701022,
          0.058367471394086656,
          -0.0020058164372642505,
          0.0018572854806825337,
          0.009621667974708826,
          0.018984537377073216,
          0.022317574204395754,
          0.02330687814368289,
          0.03907663004092966,
          0.012746819306008433,
          0.005674859649516939,
          0.024916191181479676,
          0.035285361851283066,
          0.029554155532940222,
          0.04482750520367486,
          0.03656088504419651,
          0.01649983176722207,
          0.0029980547502046545,
          -0.005757721510092853,
          0.004858069539576385,
          -0.015981131391757247,
          0.04938055285038019,
          0.0393559452577247,
          0.005543662502714929,
          0.059471879016818455,
          0.057046385434347695,
          0.010558638637928315,
          0.040468608187658635,
          0.01995084743245584,
          -0.011708165120088838,
          -0.0021424803190419777,
          0.05258086962332389,
          -0.01082113677504054,
          0.04928192127734028,
          0.01852188243358044,
          0.05756927100933286,
          0.014648665219456852,
          0.07664175721388984,
          0.05177441332578407,
          0.04865164480517836,
          -0.027535166264115195,
          0.05307937444354027,
          0.0061183392648107736,
          0.07457503700212516,
          0.010575969296253354,
          0.03455889533439849,
          0.045337319939133716,
          0.04842190209041216,
          0.018453088923661366,
          0.020095267053587825,
          0.010632392839974645,
          0.021088807391852312,
          0.006361713102127977,
          0.06297118575009569,
          0.05365168398971382,
          0.018735681874625106,
          0.02909976466840557,
          0.03674823388890033,
          0.03828286780490215,
          0.06462194794721676,
          0.007905321251657015,
          0.025362651583521793,
          0.04171750636930632,
          0.043751056026778944,
          0.030940736504163426,
          0.036484772469895094,
          0.03587438971676166,
          0.017624633543758508,
          0.040222243995210974,
          0.05373032635203911,
          -0.00844854085070191,
          0.019445059975141944,
          0.03205621949476189,
          0.014658484534722984,
          0.04492865695079865,
          0.020551370061040575,
          0.0041504454201062475,
          0.001184970705599562,
          0.05574397705314336,
          0.05967540612081303,
          0.028910722739760447,
          0.0504276538915083,
          0.017314486412311106,
          0.042256510496264686,
          0.028906714846372094,
          0.048887902365373194,
          0.06941548247575657,
          -0.00007942014106317864,
          0.015353086453064548
         ]
        },
        {
         "jitter": 0.2,
         "line": {
          "color": "gray",
          "width": 0.5
         },
         "marker": {
          "color": "black",
          "opacity": 0.4,
          "size": 2
         },
         "meanline": {
          "visible": true
         },
         "name": "0.029142943810656897",
         "pointpos": -0.5,
         "points": "outliers",
         "side": "negative",
         "type": "violin",
         "y": [
          0.0500538360826986,
          0.04655071190506999,
          0.02264224971662408,
          0.05299161687137939,
          0.03994679100823477,
          -0.00034419982635327373,
          0.043088114786406444,
          0.05928930621990554,
          0.031766480305825635,
          0.017261021733421745,
          0.048910054515345,
          0.052299234394105644,
          0.025992518269947355,
          -0.012451962867230094,
          0.009868086357512853,
          0.009070873744105833,
          0.057207522331985505,
          0.026464296066870587,
          0.0008697083092920582,
          0.0067423236649768485,
          -0.004567274752668209,
          0.03283218695675026,
          0.032712150005438166,
          0.020020305036668,
          0.026217104036134666,
          -0.0015038814886331516,
          0.019698584929510068,
          0.03351412392039982,
          0.08877033846742291,
          0.04232767459040012,
          0.05060107260480799,
          0.021086112999614753,
          0.026080016612381792,
          0.058323492282435115,
          0.0676912976258268,
          -0.00008690238255965778,
          0.05585030095565968,
          -0.013915122594870013,
          0.03356042290807913,
          0.02123211887014818,
          0.050545258938140304,
          0.03811966120775727,
          0.08057145167733777,
          0.04705261755416053,
          -0.020387188445725398,
          0.01491020396950289,
          0.017911274732184127,
          0.022195363438192905,
          0.06030450392945705,
          0.027453544184712603,
          0.05986232511469434,
          0.035464600905771276,
          0.03819913814619627,
          0.03413733855836875,
          0.005462709862338391,
          0.04066598199809016,
          0.03950864688969024,
          0.06466017558105387,
          0.04382045305510087,
          0.027153307001978287,
          0.051578082523745544,
          -0.0055251816703785536,
          0.006098395220382071,
          0.058712905912626796,
          -0.0025397542999731878,
          0.029230348671514587,
          0.06973915126869625,
          0.10330172407819879,
          0.04637806577144592,
          0.024676231310259086,
          0.033654881809798816,
          0.052377177354087416,
          0.08812997702002605,
          0.045743649556469715,
          0.052178075365283724,
          -0.008521062660373991,
          0.08553101325592312,
          0.03399460968357301,
          0.051415031790075054,
          0.014899971425960055,
          0.01407973510927848,
          0.0458860085447813,
          0.048807284759218195,
          0.045338350497213645,
          0.04464734663527991,
          0.08238852757967925,
          0.04400479096214092,
          0.04478369680290213,
          0.0013024710310357297,
          0.05032584918517933,
          0.07508352578178494,
          0.06423299440828802,
          0.051292385252350234,
          0.049961098359979667,
          0.057600714369113716,
          0.05555356697577796,
          -0.022424410264499827,
          0.08849000155232098,
          0.048428895981208295,
          0.06292277508184077,
          -0.0066649261014611345,
          0.0686701377509674,
          0.05907284818458699,
          0.07554979021984218,
          0.006805465425805262,
          0.06843509603401336,
          0.03684454247973228,
          -0.029843472809578303,
          0.02837959508955488,
          0.05014189541278066,
          0.09414587123877126,
          0.0463801452414687,
          0.06884599334832707,
          0.00179721425550532,
          0.0033261176181154585,
          0.014396758960087842,
          0.02043613022600626,
          0.026324262556832418,
          0.029165501903325515,
          0.04301089715825081,
          0.02054645470090183,
          0.008691036802662687,
          0.030148800747270773,
          0.04027393393630163,
          0.025769629300297137,
          0.05088902577701361,
          0.03972831080424703,
          0.023920715910577504,
          0.00827800677663136,
          -0.005167808406672988,
          0.014386835832711118,
          -0.015186977743868376,
          0.052930799907430444,
          0.04741702764734726,
          0.013911962292144909,
          0.0739366582576631,
          0.06995476367917904,
          0.01412776538562097,
          0.05287004431503627,
          0.028270079300645037,
          -0.00689217978414625,
          -0.000297477106893266,
          0.06093949314121759,
          -0.005255421238967447,
          0.05293790168108016,
          0.023845654124782477,
          0.06767902657576429,
          0.02166769354353477,
          0.08545429876237151,
          0.05655694689976993,
          0.05378912419320466,
          -0.026617407178288473,
          0.06334498994546053,
          0.009035682241323527,
          0.08116021145699188,
          0.014014132561375504,
          0.041011569506291534,
          0.05049282410065177,
          0.05588205101426476,
          0.022603422061334925,
          0.02562178259390631,
          0.015497081569302571,
          0.023719502944168847,
          0.010433036056640413,
          0.07069292256154776,
          0.06254765160863562,
          0.02455853486723786,
          0.03306537254485417,
          0.039204494153246124,
          0.04358431346246604,
          0.06941947237835015,
          0.012967015608346382,
          0.031647511832728306,
          0.044338064839032014,
          0.052324890445987295,
          0.0353223015630547,
          0.04600097631518758,
          0.03964258914613046,
          0.025109229943916726,
          0.051351046234976445,
          0.06338374793285874,
          -0.006077672469504177,
          0.024778179108247103,
          0.03724110028832491,
          0.020336324184000724,
          0.050011185059686734,
          0.024358495151505757,
          0.012171811552483681,
          0.009584705221101057,
          0.06709406171198372,
          0.07036999273693308,
          0.03614207720403418,
          0.05691435070187356,
          0.021102182319814818,
          0.04474035680566804,
          0.037782284181463205,
          0.05581795818872053,
          0.07481764684510969,
          0.0015659579271869,
          0.018924877433346844
         ]
        },
        {
         "jitter": 0.2,
         "line": {
          "color": "gray",
          "width": 0.5
         },
         "marker": {
          "color": "black",
          "opacity": 0.4,
          "size": 2
         },
         "meanline": {
          "visible": true
         },
         "name": "0.031642943810656896",
         "pointpos": -0.5,
         "points": "outliers",
         "side": "negative",
         "type": "violin",
         "y": [
          0.060702998316798686,
          0.05287076030886475,
          0.02708235866615506,
          0.05870610749008468,
          0.0467275968591285,
          -0.00031478849718256696,
          0.04808055341627307,
          0.06473533220448219,
          0.036715762890861016,
          0.021450422430917646,
          0.05347243153277255,
          0.059062250791718354,
          0.03350471319084345,
          -0.007381068847224443,
          0.012842277294435852,
          0.012501796159626238,
          0.06579914141041862,
          0.025558591336167356,
          0.006340478882154168,
          0.011407693219061621,
          -0.003656653096690098,
          0.042081542014797774,
          0.03911930248940589,
          0.023733158352693528,
          0.028961884353249607,
          -0.006290984054207466,
          0.024708438005671497,
          0.0344722841007011,
          0.09512896919126765,
          0.04834310807044297,
          0.05749620923021515,
          0.027163732441424407,
          0.030931299199745875,
          0.06315276715280935,
          0.07434208408731532,
          0.006932699821196787,
          0.0668812705068959,
          -0.012790759881465098,
          0.04162924648159692,
          0.02841288636457381,
          0.05390340192433658,
          0.04010638908335378,
          0.08500260317026692,
          0.051435382693953285,
          -0.017682205590325625,
          0.01932081295944655,
          0.021644946794712513,
          0.028409810354865048,
          0.06627215816740249,
          0.03142592148424433,
          0.06517578252163576,
          0.03934253995112573,
          0.04194683216098622,
          0.038336834276865135,
          0.01034490500780372,
          0.05169734633030979,
          0.047518924824004195,
          0.06797898314964218,
          0.05033591045963652,
          0.031823265286225644,
          0.05740196850355957,
          -0.0021164121791128285,
          0.007055636770282546,
          0.06801318707153546,
          0.001505636721741134,
          0.0373923206663388,
          0.0789016800805964,
          0.11591130833602058,
          0.05166851360625594,
          0.0301297759310333,
          0.042527046895528865,
          0.061315119209015966,
          0.09874910685958858,
          0.05057965687527756,
          0.06536145202589247,
          -0.0020432474706911603,
          0.09094166344937887,
          0.03665154107957502,
          0.06298134652918602,
          0.018966354816708473,
          0.018719170108090863,
          0.053607870741484875,
          0.055827427376397114,
          0.04745556179560608,
          0.05051058797300361,
          0.08430429125814254,
          0.05344243855669927,
          0.05239681892876472,
          0.0019563549181550875,
          0.05496567592570732,
          0.08791437461782346,
          0.07461858377609429,
          0.05861946237918396,
          0.0554219341451241,
          0.06572565482879632,
          0.06621149419588292,
          -0.018855637959218373,
          0.1028225961269154,
          0.055552298538019566,
          0.07372236027767921,
          -0.003518436820652535,
          0.07924953842186977,
          0.05986487083859694,
          0.08465117058289501,
          0.00903759657296379,
          0.07956670649686616,
          0.04521298729958813,
          -0.028160688116246835,
          0.034182939098700994,
          0.05682309578936344,
          0.09982305059715997,
          0.050715904287063886,
          0.07802987201932879,
          0.005207245144137854,
          0.004589053011716719,
          0.01867399432837141,
          0.021735530225127947,
          -0.005774549475741818,
          0.0344073932637518,
          0.0455202737654202,
          0.02744911008705028,
          0.011393146368106802,
          0.03483617139881344,
          0.044742675115298385,
          0.02426056211971185,
          0.05632287768715115,
          0.04250388689108115,
          0.030568317517103774,
          0.013007806688270843,
          -0.004641025888285796,
          0.02292270157624009,
          -0.014475579669632962,
          0.056111115995385236,
          0.05463811162148176,
          0.021405213301486703,
          0.08690546571115318,
          0.0815281480386457,
          0.01725539819758729,
          0.06397924486825723,
          0.03572889926075429,
          -0.0025780397703103453,
          0.0013533304444559742,
          0.06842776041699954,
          -0.0002696256795420011,
          0.05621328751289208,
          0.028609012490695748,
          0.0767352665160365,
          0.027596883159217878,
          0.09335498610621834,
          0.06084112817345806,
          0.0583857875912165,
          -0.026164752871053767,
          0.07254895074729772,
          0.01145020095357594,
          0.08693160170062571,
          0.017094719616501785,
          0.0467918416245581,
          0.05480898285026359,
          0.06255690278081696,
          0.026053113331707532,
          0.030576760227284283,
          0.019768233495087034,
          0.02607605935961142,
          0.014001313540525485,
          0.077460580028514,
          0.07051658940996539,
          0.02977461569094427,
          0.03662024976894491,
          0.04133953856178182,
          0.04823078587494759,
          0.07372086474749492,
          0.017170995914941416,
          0.03715943524081758,
          0.0466344566470271,
          0.06000531145733612,
          0.03925042594003118,
          0.05453302196583019,
          0.04277246860446868,
          0.03180592378647598,
          0.06132106377288109,
          0.07202104924527222,
          -0.003999817406694673,
          0.0295612635359142,
          0.04188564170256703,
          0.02542852832452319,
          0.05456918667087692,
          0.027764868742929015,
          0.01936357520491219,
          0.017109771282090312,
          0.07724929023894943,
          0.07974324944441598,
          0.04261974127431322,
          0.06259960272480607,
          0.023728336463094277,
          0.04696269793977242,
          0.04573298213079744,
          0.06202586200985323,
          0.07955152658988288,
          0.0030080261692603185,
          0.02189257525183774
         ]
        },
        {
         "jitter": 0.2,
         "line": {
          "color": "gray",
          "width": 0.5
         },
         "marker": {
          "color": "black",
          "opacity": 0.4,
          "size": 2
         },
         "meanline": {
          "visible": true
         },
         "name": "0.0341429438106569",
         "pointpos": -0.5,
         "points": "outliers",
         "side": "negative",
         "type": "violin",
         "y": [
          0.07061881061192539,
          0.05875172640333704,
          0.031218493479784528,
          0.06402698263431396,
          0.053041352905032285,
          -0.001288988924010739,
          0.052729095940873376,
          0.06962748288708952,
          0.04130171738003575,
          0.025352865431846824,
          0.057599855693876205,
          0.0653594069386235,
          0.040499721948994385,
          -0.0026594495424873154,
          0.015580544063163308,
          0.015670021243240698,
          0.07379385885345884,
          0.020828260429835547,
          0.011356452839064694,
          0.015752408962427952,
          -0.0028386306203911377,
          0.050697742050763994,
          0.04436903353212101,
          0.027190835438149753,
          0.03151751449541445,
          -0.00973318590962765,
          0.029370229273641215,
          0.035355154062965334,
          0.10098261534723361,
          0.05374670543335101,
          0.06391937822384718,
          0.03282272188009065,
          0.03544836917090485,
          0.0675989217406302,
          0.0805347407929098,
          0.013471478038247789,
          0.07715240196750645,
          -0.011744483652703832,
          0.0490578417279802,
          0.03502400631794957,
          0.05702824512879646,
          0.04193533698810765,
          0.08912583228147782,
          0.055516278124858334,
          -0.01728071767744385,
          0.023429547014516067,
          0.0251214313941425,
          0.034192542275632655,
          0.07159780656829037,
          0.034725625370235,
          0.07012009659193463,
          0.04239532437597016,
          0.0454341442095205,
          0.042247267794275914,
          0.014892874877763404,
          0.06196931408380762,
          0.05497738971564719,
          0.07103420718566311,
          0.05618872891662228,
          0.03535418067450161,
          0.06276383828981998,
          0.0010575535827051154,
          0.007946382166414103,
          0.07121833211279223,
          0.005270015631097095,
          0.04499509374508037,
          0.08743307988645978,
          0.12664023748684894,
          0.05659433012675705,
          0.03520794993840772,
          0.050788390084761104,
          0.06882632109647116,
          0.10864157048712819,
          0.05492383899281753,
          0.07764246429013875,
          0.0039206791010730135,
          0.0953572166352931,
          0.039036413128210476,
          0.07374405533980828,
          0.022750144611705537,
          0.023039009696957463,
          0.060795660570604496,
          0.06236398598804763,
          0.049426946419586615,
          0.055908669508432526,
          0.08608991706032826,
          0.06223006232067296,
          0.05940596432178871,
          0.002558351697363982,
          0.059283155861029224,
          0.09425118600866862,
          0.08428614999593706,
          0.06544501637219423,
          0.06050658227776611,
          0.07329453254226219,
          0.07602390092759322,
          -0.01566216661001422,
          0.11616791605086112,
          0.062180790954019426,
          0.07616814417824992,
          -0.0005905448326679629,
          0.08910018861682072,
          0.06014564587875833,
          0.09303048851579826,
          0.01111600592609223,
          0.08993156274666979,
          0.05293294979489748,
          -0.026593802343050435,
          0.03958657382303132,
          0.06297425352315925,
          0.10511165216357721,
          0.05461071111995078,
          0.08648515984737241,
          0.008383788894239389,
          0.005545155442299632,
          0.022657109139681157,
          0.022945976040090407,
          -0.015062039942736194,
          0.03812154706586006,
          0.04410810632755102,
          0.03366387057770036,
          0.013909241622290394,
          0.039200636850125835,
          0.04890368200358721,
          0.019630042988352515,
          0.06137067467943195,
          0.045059037622549,
          0.03675797240780605,
          0.017411784932266524,
          -0.00416269464100461,
          0.03086454196240056,
          -0.013818181278656588,
          0.059072310550369794,
          0.06136178580700868,
          0.028330170545086013,
          0.0989865912287899,
          0.09230936585958377,
          0.020134552314942107,
          0.07432321940817495,
          0.037296585284082875,
          0.0014389776249726267,
          0.0028670158803992297,
          0.07540061314639217,
          0.0033188938122497326,
          0.05926233062153498,
          0.0312945590503933,
          0.08516769524363536,
          0.03292306027540499,
          0.1007151527206824,
          0.06296493875057767,
          0.06207742405125013,
          -0.027086113463585894,
          0.08112288940628153,
          0.01361590140279083,
          0.09224521241863393,
          0.01996312222633086,
          0.0521739677264823,
          0.05868615794567328,
          0.06876797831119295,
          0.029151895757033544,
          0.035192561447404784,
          0.02370018397953689,
          0.028270288039665657,
          0.017286530278686717,
          0.08369130582199251,
          0.07793661009303174,
          0.03463138403779534,
          0.03993597958982288,
          0.04325463307310027,
          0.05250860676086371,
          0.07772774343120374,
          0.02094742710051717,
          0.04223408367399691,
          0.04874842674077313,
          0.06715666625738279,
          0.042909648539977176,
          0.06248111181416833,
          0.04558403177477113,
          0.03803737800719532,
          0.07060474558609181,
          0.08005827137403061,
          -0.002086744075447043,
          0.0340162663037534,
          0.046210324611871786,
          0.030171262488005796,
          0.058780882981403014,
          0.030934549065428137,
          0.02606312079576495,
          0.02411683992083788,
          0.08669900363753516,
          0.0883728865330507,
          0.04641933203470659,
          0.06783382191437685,
          0.023306409037156358,
          0.04878279166074156,
          0.053136004563893585,
          0.06780615386777172,
          0.08390941950413838,
          0.004335698258909322,
          0.02455839447534792
         ]
        },
        {
         "jitter": 0.2,
         "line": {
          "color": "gray",
          "width": 0.5
         },
         "marker": {
          "color": "black",
          "opacity": 0.4,
          "size": 2
         },
         "meanline": {
          "visible": true
         },
         "name": "0.03664294381065689",
         "pointpos": -0.5,
         "points": "outliers",
         "side": "negative",
         "type": "violin",
         "y": [
          0.08005202642509093,
          0.06434267047696594,
          0.03515337400551857,
          0.06846110150845787,
          0.05904609086585746,
          -0.001961707806345794,
          0.05715017063634568,
          0.07418368267723399,
          0.04563283745509574,
          0.029065380336609846,
          0.061443873308665437,
          0.07134845785454019,
          0.04715257320921308,
          0.0018310368411438576,
          0.01816691966128868,
          0.018034340185532658,
          0.08139430037858718,
          0.017561849643131396,
          0.014991528548986739,
          0.019884598125492384,
          -0.002076808984266573,
          0.058894650487349105,
          0.04767878842017774,
          0.030418080144288887,
          0.03394810965097529,
          -0.011603008986625023,
          0.03380213906410085,
          0.036188656450381065,
          0.10651137803325628,
          0.0587792408406169,
          0.07002998068261596,
          0.03820474753139069,
          0.03974439346988705,
          0.07179855053870696,
          0.08642413770038615,
          0.019677299975481975,
          0.08633585715334693,
          -0.010749807745131854,
          0.05398470794859725,
          0.0412684241499243,
          0.05999898769545192,
          0.043662779451311924,
          0.09304574491713248,
          0.05939739645557729,
          -0.017036785577163885,
          0.02733833638868598,
          0.028427772338809658,
          0.039690124217674386,
          0.07587608396972273,
          0.03673820770811334,
          0.07482064886020671,
          0.04426261040402714,
          0.048749436010644194,
          0.045966411931997055,
          0.0192152127686048,
          0.0717388875640452,
          0.06207084158342248,
          0.07391996891710265,
          0.06163960982490366,
          0.037457143658769274,
          0.06782836201788041,
          0.004076217176144708,
          0.008793204002188689,
          0.07240354218412834,
          0.008848746211578407,
          0.052199181858987954,
          0.09554691083477128,
          0.13337305584527923,
          0.06115767908776614,
          0.04003765618983145,
          0.05864566307629306,
          0.07367372221471155,
          0.11803657381430017,
          0.05896970025424282,
          0.08932586440179444,
          0.009553862482666153,
          0.098000251875418,
          0.040668307850972696,
          0.08397600288214434,
          0.026347372828368243,
          0.027147434141421026,
          0.06763304916891878,
          0.06858310884952463,
          0.051295709788796655,
          0.06100746963435988,
          0.08778726036536928,
          0.07058760651092602,
          0.06602644356797653,
          0.0030916470027338447,
          0.06338770986012489,
          0.09704608910815002,
          0.0920151543056853,
          0.07193842371415644,
          0.06534224737061896,
          0.08049479348969997,
          0.08529215734813263,
          -0.013423782805702987,
          0.12886009449312452,
          0.0684823934282346,
          0.07685140674089075,
          0.002192955117591874,
          0.09806313883144889,
          0.060339546019738705,
          0.10094520618507807,
          0.013092681906438022,
          0.09978896364965056,
          0.06042484483499567,
          -0.02510830636147819,
          0.044725780049923884,
          0.06878256866013382,
          0.11014257740267744,
          0.058238048052766014,
          0.09447045314013895,
          0.011405737306270003,
          0.006222291336285989,
          0.026445032360548883,
          0.024096389704623862,
          -0.02742200448957932,
          0.040903397922706725,
          0.043133010597750605,
          0.03945181204129834,
          0.016302273073533356,
          0.04335147776070111,
          0.05231869869783955,
          0.01643256491595337,
          0.06534814774390707,
          0.047472391919181775,
          0.0425913424793803,
          0.021600186313519495,
          -0.0037175734844117326,
          0.038314616738066624,
          -0.013183186263775555,
          0.06188859802982368,
          0.06775782929185278,
          0.03487081205541897,
          0.11047977546903663,
          0.09930722459090101,
          0.022853953722817795,
          0.08416088307472068,
          0.03801422964896828,
          0.005259314327534993,
          0.004029162756598586,
          0.08203229045014708,
          0.005256930124682341,
          0.06216248652180555,
          0.03308385830291032,
          0.09318741828234743,
          0.03788345955899824,
          0.10770894603538675,
          0.06390332583018808,
          0.06452046076972635,
          -0.027722335970675423,
          0.08927955041661367,
          -0.025198876397454113,
          0.09726416501915451,
          0.02269110890916768,
          0.057292644276339046,
          0.0622970809827204,
          0.0746727853696003,
          0.03203790621214135,
          0.03958374550146496,
          0.02741390353218278,
          0.030357132222609533,
          0.020389596318148354,
          0.08957656338451439,
          0.08496028789037692,
          0.0392504636698683,
          0.04308781412464168,
          0.04503677573976202,
          0.056549177205539106,
          0.08110239880936222,
          0.02446455216795171,
          0.04702732891199338,
          0.05074512728824335,
          0.07395800601385448,
          0.04639081188369429,
          0.07004233922704388,
          0.04820251482265987,
          0.04396149777641234,
          0.07943433958178125,
          0.08769912866281822,
          -0.0002797510601594769,
          0.038254429015805946,
          0.05032328000561294,
          0.03468347513084199,
          0.061999324098424236,
          0.033947930350723125,
          0.03243657702982017,
          0.030781174820422533,
          0.09568269509349184,
          0.09652400654275467,
          0.048241866627237714,
          0.0727777998822187,
          0.023014997166337196,
          0.050001561891489354,
          0.06017670962338913,
          0.07330356448054444,
          0.08802544781761135,
          0.0055897560030221585,
          0.027041155836126114
         ]
        },
        {
         "jitter": 0.2,
         "line": {
          "color": "gray",
          "width": 0.5
         },
         "marker": {
          "color": "black",
          "opacity": 0.4,
          "size": 2
         },
         "meanline": {
          "visible": true
         },
         "name": "0.03914294381065689",
         "pointpos": -0.5,
         "points": "outliers",
         "side": "negative",
         "type": "violin",
         "y": [
          0.0891431630115111,
          0.0694832924718057,
          0.038945552850729676,
          0.07198480873579378,
          0.06483194332574974,
          -0.002528944398997226,
          0.061411573816133325,
          0.07851404682979354,
          0.04978742149451155,
          0.03264227453566304,
          0.06509737787323527,
          0.07711901469496288,
          0.05356308707860551,
          0.006157789045521297,
          0.020647587924902705,
          0.019911453184681495,
          0.0887157148875584,
          0.01480761696685637,
          0.017877545830993793,
          0.023866233630456056,
          -0.0013526895954180294,
          0.06679411084105549,
          0.050253177054375195,
          0.03312298813813448,
          0.03626063746493295,
          -0.01314283756097926,
          0.038071302506686465,
          0.036988001319795544,
          0.11181396937393794,
          0.063562358767751,
          0.07591906067839904,
          0.04339061154013524,
          0.043883783244105426,
          0.07582651806428457,
          0.09209917449020347,
          0.025587456267534232,
          0.09375808846329349,
          -0.009791648195985013,
          0.05656435310760953,
          0.047010804044114125,
          0.06286066986859142,
          0.04531954858868879,
          0.09682176573910452,
          0.06313704869680457,
          -0.016835959152563362,
          0.031105399759015488,
          0.03161358258683581,
          0.044985847692464984,
          0.07948353934819959,
          0.03833605617829659,
          0.07934847436678542,
          0.04576877220016851,
          0.05194310244408296,
          0.04955005073167856,
          0.02336289646604235,
          0.08115239764895717,
          0.06890290115662878,
          0.07660827224554809,
          0.06682035271249624,
          0.039153382489040094,
          0.07268591762491798,
          0.006984777798090225,
          0.009608870724314326,
          0.07334452481294612,
          0.012296123380368758,
          0.059108817619420134,
          0.10336499574833458,
          0.13871852192131592,
          0.06494329296372023,
          0.04469141332808405,
          0.06621664648350548,
          0.07758353973821232,
          0.12632002594845193,
          0.06281501997266349,
          0.10058548619301316,
          0.014875473393070784,
          0.10009864774110963,
          0.041963956173778655,
          0.09383230815709255,
          0.029812577947170567,
          0.03110623458922368,
          0.07421629993197017,
          0.0745694817045196,
          0.052960609691176136,
          0.0658977824381978,
          0.08939434781949744,
          0.0783955537926357,
          0.0723763251515812,
          0.003544192500784074,
          0.06734157839150413,
          0.09926511396544761,
          0.09815150261541802,
          0.07819634248009587,
          0.07000007859947938,
          0.08743418584843793,
          0.09418162215451538,
          -0.01164918992619034,
          0.14098351733872888,
          0.07455267094383974,
          0.07739385626024066,
          0.004874268386623213,
          0.10569202063809548,
          0.06050304906463827,
          0.10853636263992507,
          0.01498059623943527,
          0.1087912657806796,
          0.06757213548443804,
          -0.023694653323740503,
          0.0496775101979558,
          0.07346273979484597,
          0.1149902301687939,
          0.06168561082674188,
          0.10208802769066423,
          0.014185259533661154,
          0.006800682677805647,
          0.029935697322392377,
          0.02520387509335651,
          -0.03477449447808839,
          0.04332289771436064,
          0.04231076999011254,
          0.04495291235524846,
          0.018608109389977135,
          0.047351062803084355,
          0.055030443837558916,
          0.013736427178684613,
          0.0685563738009362,
          0.04978698623039858,
          0.048119795953484895,
          0.02563591989049817,
          -0.003294723809740908,
          0.045395443431571654,
          -0.012576179411069243,
          0.06457044933822528,
          0.07391787002894734,
          0.04114386220685651,
          0.1215562381869036,
          0.10299306988379874,
          0.025462164426742193,
          0.09363993857072299,
          0.03859309901933512,
          0.008940417725729797,
          0.004986219053364595,
          0.08842235073839975,
          0.0067956304171579605,
          0.06495693071276747,
          0.03463207522874201,
          0.10091477466942461,
          0.04259806486575241,
          0.11386466960817267,
          0.06464835972045307,
          0.06653236127477646,
          -0.028258792537045132,
          0.09714043047386263,
          -0.02896322991352556,
          0.10207799908861295,
          0.02531966107068635,
          0.06222474419538669,
          0.065729048835048,
          0.08036077263946464,
          0.03478088428423336,
          0.04381564937751209,
          0.030975706791662127,
          0.03236790221306598,
          0.02336581867894694,
          0.09522127391648744,
          0.09163956441475636,
          0.04370114386060322,
          0.04611563061144793,
          0.04672973601623911,
          0.0604246384609585,
          0.08319174592909834,
          0.027807301874645435,
          0.051624661777671804,
          0.052660081104375124,
          0.0801189093823888,
          0.049745763254021656,
          0.07732936366470183,
          0.050691220250801784,
          0.049668127382373035,
          0.08794223118174187,
          0.0950594931434815,
          0.0014533545370847443,
          0.04233496430336047,
          0.054233764140282636,
          0.03903187932703214,
          0.06459528517907713,
          0.03685069119003649,
          0.03857800293122416,
          0.03720273027736438,
          0.10433659380584082,
          0.10434197113184554,
          0.04968884636860201,
          0.07751974009625238,
          0.022769364991335358,
          0.05100524893636259,
          0.0669607712120903,
          0.07860051118254523,
          0.09197312528466783,
          0.00679166604057317,
          0.02940088592552008
         ]
        },
        {
         "jitter": 0.2,
         "line": {
          "color": "gray",
          "width": 0.5
         },
         "marker": {
          "color": "black",
          "opacity": 0.4,
          "size": 2
         },
         "meanline": {
          "visible": true
         },
         "name": "0.04164294381065689",
         "pointpos": -0.5,
         "points": "outliers",
         "side": "negative",
         "type": "violin",
         "y": [
          0.09798026378341403,
          0.07406425815999354,
          0.042630243651713105,
          0.07507697637078926,
          0.07045520399541347,
          -0.003039370262848897,
          0.06555015744194335,
          0.08268257902874113,
          0.05381166219542768,
          0.03596116835542004,
          0.0686143588978457,
          0.08272749866440711,
          0.05979349170746102,
          0.010346207808906235,
          0.02305071349101911,
          0.021558674562577332,
          0.09583006920803801,
          0.012329232522527508,
          0.020410106444639607,
          0.027736054570822753,
          -0.000674208329185314,
          0.07447177458681602,
          0.047759180580535854,
          0.035496587503584524,
          0.038331854105388315,
          -0.014514065369431145,
          0.0422197502745145,
          0.03776237359833889,
          0.11695062131985824,
          0.06646330091784297,
          0.0815904610131011,
          0.04843070089119378,
          0.04790687929753098,
          0.07969147514332443,
          0.09761440351838736,
          0.025076724693993843,
          0.10027132111842235,
          -0.008860567676450047,
          0.053543649453944346,
          0.051716988588261056,
          0.06564142857588412,
          0.04692447499173263,
          0.10049096959023598,
          0.0667716764270854,
          -0.0166571035259839,
          0.03476705720627618,
          0.03470987365337655,
          0.050131837103309755,
          0.08272969553528436,
          0.039738210069688355,
          0.08374831518763154,
          0.04709853622457893,
          0.055046405695169456,
          0.05303305292175606,
          0.027380857117098225,
          0.09030163118660803,
          0.07521596499830538,
          0.07883823124840945,
          0.07177923229126605,
          0.04065103084698529,
          0.07739153623706592,
          0.009811632079791922,
          0.010401515072205169,
          0.07417028111854193,
          0.015645950728221333,
          0.0658023924137959,
          0.11096335305815264,
          0.14268322541753128,
          0.06826530952380774,
          0.04921448727114316,
          0.07357495262464624,
          0.08103564779381814,
          0.13363364772864683,
          0.06651662406608282,
          0.11131367763865097,
          0.019727590149578974,
          0.10194005012766964,
          0.042870821805823224,
          0.10340986534561224,
          0.033179704901308824,
          0.034951879092552166,
          0.0805952933244842,
          0.08039238304585736,
          0.05445876656833369,
          0.07063523745070101,
          0.08847616711038372,
          0.08529656562283197,
          0.07852764672014488,
          0.003952147978073482,
          0.07118365166200037,
          0.10085833554847583,
          0.10353630579304905,
          0.08427927728702145,
          0.07430482262813357,
          0.0940715264567196,
          0.10279311004101747,
          -0.010204942497918448,
          0.15190008121906107,
          0.08045122749083965,
          0.07786988043192977,
          0.007479743751063898,
          0.11255683931026941,
          0.06065020397548383,
          0.11589017495170288,
          0.016706137147913767,
          0.11689194660188912,
          0.07451960532183353,
          -0.022333838615014433,
          0.05449019737089965,
          0.07718609193072234,
          0.11970175303044729,
          0.06500432288913223,
          0.0984985722446951,
          0.016458223209333,
          0.007324320436616129,
          0.021684901814643963,
          0.02628457347813802,
          -0.04140252252674686,
          0.04553293977302718,
          0.0415708954747994,
          0.05024838297044306,
          0.02084920308347652,
          0.05123765213271151,
          0.05741001743036547,
          0.011310356912457839,
          0.07138899539338849,
          0.052029166155298276,
          0.05320707133465509,
          0.029549503031610677,
          -0.0028878162029175505,
          0.05221160271175368,
          -0.011988390955539708,
          0.06701386960047584,
          0.07990624519687511,
          0.04722061765699382,
          0.13232284830420257,
          0.10592540615069539,
          0.027988650292148587,
          0.10283984016626946,
          0.03910422363644628,
          0.012518095488148709,
          0.005838474555198013,
          0.09463280351496743,
          0.008145878856320855,
          0.06767285645399634,
          0.03603995418857468,
          0.10839822847120506,
          0.04332210282291403,
          0.11742404905825445,
          0.06385787027118446,
          0.06832396390395856,
          -0.028741524224742316,
          0.1047815297448246,
          -0.032350506818958,
          0.1067412791679051,
          0.027874358232199446,
          0.06701827383241629,
          0.059191238931063365,
          0.08588791576389562,
          0.03742132818934113,
          0.04792924504968868,
          0.034426070414599524,
          0.03430783600750243,
          0.02624895214469745,
          0.10068946809164009,
          0.0980467991094315,
          0.032700338616885184,
          0.04888333080205883,
          0.048358849276248825,
          0.06417890805543418,
          0.08485394533943746,
          0.030936422038827908,
          0.05607609324004546,
          0.05451514113070758,
          0.08552684012748989,
          0.05300684795527682,
          0.08441265641119933,
          0.05128052284813284,
          0.05521334833976251,
          0.09621115026465972,
          0.10221164909714435,
          0.003131597199269014,
          0.04630901389211886,
          0.057733344308712034,
          0.0432587269465365,
          0.06688732164550625,
          0.039671342026233125,
          0.04454953270267899,
          0.04344385797682375,
          0.11274570109859293,
          0.11185895414403008,
          0.05095860495354818,
          0.08211331989985866,
          0.022548291917285614,
          0.05189903542769202,
          0.0735541617291822,
          0.0837396443546908,
          0.09579724956119953,
          0.007957756238734534,
          0.031672406172036226
         ]
        },
        {
         "jitter": 0.2,
         "line": {
          "color": "gray",
          "width": 0.5
         },
         "marker": {
          "color": "black",
          "opacity": 0.4,
          "size": 2
         },
         "meanline": {
          "visible": true
         },
         "name": "0.04414294381065689",
         "pointpos": -0.5,
         "points": "outliers",
         "side": "negative",
         "type": "violin",
         "y": [
          0.10662164334844162,
          0.0782972498739469,
          0.04611637592154843,
          0.07791155346175882,
          0.07595352617070071,
          -0.0035138110130291545,
          0.06959833465287656,
          0.08672972714762237,
          0.05773684218439353,
          0.03900310335650029,
          0.0720288813174181,
          0.08819850852468325,
          0.0658855531642079,
          0.014253960011478934,
          0.025394696151781478,
          0.023068725717994565,
          0.10278533625010232,
          0.010025566684996698,
          0.022731732525224424,
          0.0315199469181217,
          -0.000043504103424919435,
          0.08195837561533036,
          0.04494393560130774,
          0.037672508826957087,
          0.040230559770503306,
          -0.015781119479799263,
          0.04627543092528365,
          0.038517691019367084,
          0.12196081897684925,
          0.0652768208034617,
          0.0867839331256235,
          0.053358807358109,
          0.05184057904863648,
          0.08316952825532652,
          0.10236874670237357,
          0.02027600617646462,
          0.10624205712004783,
          -0.00795034443680596,
          0.05055609890586847,
          0.05584410777639311,
          0.0683599893527769,
          0.04848992209297257,
          0.10407813898713793,
          0.07032547590383316,
          -0.016491830995807706,
          0.038347881252310645,
          0.03773736311617364,
          0.05516271588890147,
          0.08574698585110785,
          0.041023591932098334,
          0.08804977982964081,
          0.04832157286282258,
          0.05808031182416448,
          0.056438695755930884,
          0.03129443891582632,
          0.09924760604844746,
          0.08100324295068236,
          0.08079323013724501,
          0.07642336348503989,
          0.04202844168608763,
          0.08198141810126636,
          0.012575669852763965,
          0.011176444182148056,
          0.074927218414853,
          0.018920927014966518,
          0.07233130799669064,
          0.11839289400926087,
          0.14279962904045626,
          0.071310623391569,
          0.05363725068629458,
          0.08076996733434016,
          0.08421061903733124,
          0.1403601470161265,
          0.06999489263990606,
          0.12137800481791648,
          0.02425364536079202,
          0.10362808532487787,
          0.04281355667763604,
          0.1127732596460227,
          0.03647157189850771,
          0.03871202675124273,
          0.0868172482282117,
          0.08603416722231794,
          0.05585149958200254,
          0.07525615508697195,
          0.08684412496397885,
          0.09162281108177187,
          0.08452764431541268,
          0.004331750732433895,
          0.0749397643491983,
          0.10082120139113099,
          0.1084726211804782,
          0.09022769161290939,
          0.078251006726534,
          0.10020394068882127,
          0.11119275851217866,
          -0.008938461478793286,
          0.16190742015158913,
          0.08621790082650646,
          0.07830627911286846,
          0.01002696192165905,
          0.11893771839461047,
          0.060786940904498266,
          0.12306312095801573,
          0.01831007959368064,
          0.12442157086184805,
          0.08131341663059434,
          -0.02101263357524765,
          0.0591959718579991,
          0.08045115548255126,
          0.1243086292048287,
          0.06822639702139549,
          0.09060017628504642,
          0.018334524323285115,
          0.007812771214370766,
          0.015963170943768958,
          0.02733860971930018,
          -0.04756973158957098,
          0.04760536800097177,
          0.04088317348529576,
          0.0553897120231609,
          0.023040503191669805,
          0.05491913564853594,
          0.05959144307584281,
          0.00905530076594932,
          0.07399419724851984,
          0.05421616032122631,
          0.05793562564032789,
          0.033350341367268894,
          -0.0024928634237300893,
          0.05875881749586513,
          -0.011439623559306158,
          0.06928504937959253,
          0.08576152530120419,
          0.05314777499686556,
          0.1428505973798523,
          0.10849677805954679,
          0.030453001215340485,
          0.111484185517788,
          0.03957426962813915,
          0.01601627801141622,
          0.006625989159700143,
          0.10070567909979343,
          0.009383336572461588,
          0.07028521791885475,
          0.037363374970683566,
          0.1154437343052029,
          0.040263807835610725,
          0.1161835161797652,
          0.06294965570388703,
          0.06997947348200509,
          -0.02919025020370823,
          0.11225362827850152,
          -0.035287260783294125,
          0.1111933256080731,
          0.030372293041480102,
          0.07170524941306947,
          0.053514935996945144,
          0.09129147026984569,
          -0.003822346334621247,
          0.05195184782146016,
          0.03779144180631468,
          0.03593587105507573,
          0.029061178018547094,
          0.10442536475134744,
          0.10406460777992156,
          0.024421428283330673,
          0.0513591031680377,
          0.04994014702516404,
          0.06784083562125146,
          0.08631154084099704,
          0.03202753583713934,
          0.0604017427632631,
          0.05632455155312612,
          0.0904843919760365,
          0.05619583473991684,
          0.09133929278114607,
          0.049821911609084044,
          0.0606346226395193,
          0.1042964397093817,
          0.10920389942510893,
          0.004769909358446853,
          0.05019175333859956,
          0.060941473157407916,
          0.04738380259009678,
          0.06899535687379907,
          0.04242892539505959,
          0.05038806819935779,
          0.049546456821663296,
          0.12096680300681643,
          0.11819276483962254,
          0.05212261920441222,
          0.08659394434330218,
          0.022342803606724904,
          0.05272491193981818,
          0.08000109693910515,
          0.08873169936509424,
          0.09952723210128896,
          0.009053414361535487,
          -0.0024475198794237404
         ]
        },
        {
         "jitter": 0.2,
         "line": {
          "color": "gray",
          "width": 0.5
         },
         "marker": {
          "color": "black",
          "opacity": 0.4,
          "size": 2
         },
         "meanline": {
          "visible": true
         },
         "name": "0.04664294381065689",
         "pointpos": -0.5,
         "points": "outliers",
         "side": "negative",
         "type": "violin",
         "y": [
          0.11508083458029274,
          0.08229264045838448,
          0.049397204442393615,
          0.08057379558044894,
          0.08135319895788334,
          -0.003963328918031742,
          0.0735738830919042,
          0.014891861713389395,
          0.06158432286337827,
          0.04180286488577024,
          0.07536416033810318,
          0.09353792844070087,
          0.07186837224496626,
          0.01792409772246301,
          0.027692365854862188,
          0.024486937614565427,
          0.10961509221246135,
          0.007842920212772251,
          0.024912187222587413,
          0.034897995656071,
          0.0005540514809543237,
          0.0890730332661247,
          0.043213782803876784,
          0.039716137271810045,
          0.04201381287381609,
          -0.01697711280100936,
          0.05025790890158635,
          0.039258008771336735,
          0.12687185335199766,
          0.06454765219765211,
          0.09154030101599336,
          0.0581985370512573,
          0.05570375384127393,
          0.08635384759172747,
          0.10558708420399973,
          0.01732565535595617,
          0.11184974384038386,
          -0.007056530848712578,
          0.04872005080909967,
          0.059622148599330446,
          0.07102949005171924,
          0.050024319212690696,
          0.10760056196694152,
          0.07381552208870681,
          -0.016335831741614057,
          0.04186454104034859,
          0.04071053971466646,
          0.06010280610538237,
          0.08860580484930926,
          0.04223081118008645,
          0.0922736132983166,
          0.04885500657757572,
          0.061059646038532436,
          0.05978326475687514,
          0.03497260240691774,
          0.10803320065008344,
          0.08643861726703383,
          0.0825831151925013,
          0.08082354315887406,
          0.04321153724923747,
          0.08648061893661449,
          0.015290121975310088,
          0.011937365969630047,
          0.0756381554703277,
          0.02213676765456651,
          0.07873107796158009,
          0.1256891469997767,
          0.14287116577696005,
          0.0741707704044076,
          0.057980413280534736,
          0.0878358848282979,
          0.08719863047856025,
          0.14669049669105133,
          0.07258476972985851,
          0.13096914769667378,
          0.02855182113738733,
          0.10521347508995972,
          0.04277833731908906,
          0.1219676847650252,
          0.03970402792056157,
          0.04240437627528323,
          0.092916045562765,
          0.09053773462820164,
          0.05717092495498408,
          0.07978559427889616,
          0.08584110901426958,
          0.09756438280368415,
          0.09040895738941945,
          0.004691633318000586,
          0.07862808662711968,
          0.10079837985943121,
          0.11310876778679767,
          0.09606985379396417,
          0.0819572840127769,
          0.10597523096034969,
          0.11942624506247579,
          -0.007779005329343993,
          0.17130624653608503,
          0.09188049537241211,
          0.07871609667652633,
          0.01252821362383907,
          0.12498339536979863,
          0.06091651907553902,
          0.1300941105812157,
          0.019829722866813032,
          0.13155564584174967,
          0.08795204673567655,
          -0.038597698917512385,
          0.06381722307394681,
          0.0834403773921456,
          0.12881861663703356,
          0.07137365229191836,
          0.08574614826401072,
          0.019646878871724983,
          0.008276630624246044,
          0.012446795499748827,
          0.028373791183301546,
          -0.053416872947196575,
          0.0495803515221091,
          0.040231580022100644,
          -0.02909427301667643,
          0.02519251452588432,
          0.05837676462202185,
          0.06164019308663271,
          0.006918710491440899,
          0.07644600622947383,
          0.05635983481682288,
          0.06241584130568026,
          0.03706282589058489,
          -0.002107155085005487,
          0.06496847198841073,
          -0.010924228798628876,
          0.07143690452565983,
          0.09151177472746742,
          0.058957604604537146,
          0.15297139750140198,
          0.1108510193436474,
          0.03286854754733758,
          0.11960287177236904,
          0.040016696637281794,
          0.019451719646238447,
          0.0073693098534833405,
          0.1066694787421096,
          0.010402806674499152,
          0.0727419964183025,
          0.038620712067418336,
          0.12211912191532287,
          0.03838425354583935,
          0.11542112713203592,
          0.06239149892571277,
          0.07154203798416471,
          -0.029615353263622586,
          0.11959226368663388,
          -0.03885960852426469,
          0.11528382255992445,
          0.03282540741013681,
          0.07630819465081236,
          0.050026472835889194,
          0.09659748445891989,
          -0.008944586148600761,
          0.05590262177642229,
          0.041090221385165694,
          0.03704310852126108,
          0.03181777490734034,
          0.10675502088603407,
          0.10976629322019739,
          0.01933350024000927,
          0.053824427869674556,
          0.051484425065559086,
          0.07139599831652922,
          0.0875139064795328,
          0.03269809329435272,
          0.0646269371198503,
          0.058098108353660256,
          0.09514041447094751,
          0.05932786020355715,
          0.09814226376646963,
          0.04892550063242079,
          0.06595803773829402,
          0.11223673393343514,
          0.11606994284716729,
          0.006375100202440844,
          0.05397184828200909,
          0.06395452911643443,
          0.051314872104501474,
          0.07097924806293195,
          0.04513673685078015,
          0.056122352418996026,
          0.05553954294057794,
          0.12903950621966193,
          0.12258311904731531,
          0.053215836888195436,
          0.09098593952217449,
          0.02214811002201274,
          0.053504451532354246,
          0.0863323336827592,
          0.09360779739706099,
          0.10318340069017513,
          0.00992663590103155,
          -0.006836802402087207
         ]
        },
        {
         "jitter": 0.2,
         "line": {
          "color": "gray",
          "width": 0.5
         },
         "marker": {
          "color": "black",
          "opacity": 0.4,
          "size": 2
         },
         "meanline": {
          "visible": true
         },
         "name": "0.04914294381065688",
         "pointpos": -0.5,
         "points": "outliers",
         "side": "negative",
         "type": "violin",
         "y": [
          0.1231987950829556,
          0.0861154724022727,
          0.015069704936657827,
          0.08311237608640941,
          0.0866733304968512,
          -0.004394560591091934,
          0.07747653782978452,
          0.008355094865302202,
          0.06536948419267806,
          0.03532263532768107,
          -0.005065074472089383,
          -0.0021310449465015893,
          0.07730958949554695,
          0.02142377423242735,
          0.029952761560811367,
          0.025839248221427052,
          0.11634360347317489,
          0.005749068605344175,
          0.026991357646742795,
          0.031827040249651314,
          0.0008250870041795953,
          -0.006285952480666032,
          0.04179884229349564,
          0.04166480152613548,
          0.043714230971828166,
          -0.018121358033513692,
          0.05418139590672226,
          0.03998636102334117,
          0.07309444569942855,
          0.06395132163724511,
          0.09600131363650757,
          0.06293244420002467,
          0.059509920793964596,
          0.06292634142672408,
          0.10821900674910709,
          0.01491281305854432,
          0.11719694695965083,
          -0.02816908211430281,
          0.04721851202819526,
          0.06316583701631896,
          0.07365943461897664,
          0.04233648960830192,
          0.04926195050034055,
          0.02329414213888604,
          -0.016186571352294093,
          0.04532972255230074,
          -0.006594500263525225,
          -0.04321308149054955,
          0.09134826857281886,
          0.04338189022114496,
          0.09643484340916374,
          0.04895138148421481,
          0.06399447306182184,
          0.0630785925424121,
          0.009204430967179525,
          -0.022201759049935647,
          0.09162150932521107,
          0.08426185772470694,
          0.08504467355106163,
          0.04386609444295795,
          0.09090675426255244,
          0.017964589473909783,
          0.012687022979381696,
          0.07631606243575817,
          0.025304908317503146,
          0.060001197467710474,
          0.1328779215386716,
          0.14292967657334021,
          0.07689805850157538,
          0.06201528893703511,
          0.09479775953429857,
          0.09005174237941728,
          0.1527351619010682,
          0.0747028470514629,
          0.1402078872855964,
          0.03268181592071735,
          0.10672524852840241,
          0.04274953693400907,
          0.13102579322815922,
          0.042888609595028056,
          0.046042017148218574,
          0.09866295117961643,
          0.09422075430107398,
          0.0584364273101426,
          0.0173665744285596,
          0.0850208117221244,
          0.10322995578771892,
          0.09619504810039213,
          0.005037045853009835,
          0.08226176569790536,
          0.10077971606188514,
          0.11752955963310055,
          -0.0027120962783991655,
          0.08549132950577112,
          0.11148605023705775,
          0.06388543716407845,
          -0.006691468934558534,
          0.18026848229211923,
          0.09745918006275127,
          0.07910690033183396,
          0.01499238181189632,
          0.13078312562870592,
          0.06104080425892883,
          0.060851023010547296,
          0.02128760196471608,
          0.13839949665469528,
          0.09435853371565887,
          -0.040489750803172374,
          0.06837045241193217,
          0.05617745353210827,
          0.1317212419840636,
          0.07440522382175152,
          0.08177642691694699,
          0.020720147361582033,
          0.008722326664353531,
          0.009571051049527443,
          0.029363091081297765,
          -0.04466839441659753,
          0.051482175937692234,
          0.03960649399888363,
          -0.03721079769284247,
          0.027283035330603753,
          0.06167378113182499,
          0.06359378993581748,
          0.0048690410583123915,
          0.07239106399566347,
          0.019997805048125348,
          0.06671373745482953,
          -0.0346365039937226,
          -0.015480121217100873,
          0.07092552847111055,
          -0.010432768270212141,
          0.07350125847198628,
          0.09717316283469467,
          -0.0004791750744570786,
          0.16263546039927815,
          0.11305900850220867,
          0.028112929683051506,
          0.12734444701392283,
          0.039775271664294745,
          0.022836497653769834,
          0.008080522149265827,
          0.05457658615726216,
          0.011236545223872161,
          0.07508465613888654,
          0.03982932751065763,
          0.12852294609479464,
          0.036847185226082727,
          0.11479763596311647,
          0.06193500684794004,
          0.07303713152892843,
          -0.030023186863817903,
          0.027163238339660983,
          -0.04178113990128141,
          0.0840559316932642,
          0.03524238250097475,
          0.00016713235837453565,
          0.047173566513571186,
          0.10182487951942736,
          -0.013133630334962102,
          0.059795448241601455,
          0.04433555648114208,
          0.03794862534230397,
          0.03452869943417122,
          0.10866024942406781,
          0.11523602181818626,
          0.015172526353016677,
          0.05611190503070446,
          0.05299931716246868,
          0.04690018454856703,
          0.08849724238118506,
          0.033246493006428686,
          0.06877208818407073,
          0.05759844390965996,
          0.09958019529798505,
          0.06241333333187449,
          0.08246820470448057,
          0.04819240207533107,
          0.07120253470827245,
          0.12006008789774629,
          0.12283426529100804,
          0.00791800566363464,
          0.05759396235433773,
          0.06682762053727646,
          0.022244866956383762,
          0.0559055377022795,
          0.047804462856697746,
          -0.028523190845863893,
          0.06144444610235382,
          0.13699261946747746,
          0.12617362574709448,
          0.054258279949284546,
          0.021459506407463823,
          0.021961307080694447,
          0.05425036064705245,
          0.0925703021094953,
          0.09810101840070516,
          0.10677979673991242,
          0.010640774451005176,
          -0.010426427835903236
         ]
        },
        {
         "jitter": 0.2,
         "line": {
          "color": "gray",
          "width": 0.5
         },
         "marker": {
          "color": "black",
          "opacity": 0.4,
          "size": 2
         },
         "meanline": {
          "visible": true
         },
         "name": "0.051642943810656886",
         "pointpos": -0.5,
         "points": "outliers",
         "side": "negative",
         "type": "violin",
         "y": [
          0.11633389450608247,
          0.08980733848854407,
          0.0026222223203051214,
          0.08268904735991366,
          0.09192824435383855,
          -0.004811816544377763,
          0.08124907772522112,
          0.0025780393735589306,
          0.06899697546128856,
          0.027940003407209146,
          -0.02977744640267169,
          -0.04497605133772199,
          0.0815258664625886,
          0.022996603136727363,
          0.032177189536242747,
          0.005853390459805768,
          0.057847566786961284,
          0.0037230134836397782,
          0.015747085688271847,
          0.028304160550948067,
          0.001563018716348726,
          -0.033097177382992796,
          0.040548355489518614,
          0.043185092785259546,
          0.04048679451393972,
          -0.019226446866381072,
          0.003244150586832977,
          0.04070492804205094,
          0.05013724779866511,
          0.0634243112629159,
          0.1002494303481404,
          0.06727864083398699,
          -0.014855823855595966,
          0.05146713944032141,
          0.11054506670708993,
          0.012780409988078927,
          0.06657682403232652,
          -0.03420556748587188,
          0.0458914555882868,
          0.0665404046959682,
          0.07625693074886279,
          0.036642156072031265,
          0.03216551818057205,
          0.0007043981838549179,
          -0.019457984592972436,
          0.04875257379224995,
          -0.010428699543028542,
          -0.0667364203228806,
          0.09400192075574251,
          0.04446101802107131,
          0.09481744126454146,
          0.04902793160893819,
          0.05926199193408473,
          0.06621151826557228,
          -0.003941614712596503,
          -0.06520943578937413,
          0.09661450520724675,
          0.08586052077821844,
          0.0888777864448701,
          0.04417359264164635,
          0.09523542886637737,
          0.020184132497931585,
          0.013288906759452681,
          0.07211715901840011,
          0.0021704446448005317,
          0.04137464792191337,
          0.023316144900675347,
          0.1429813744255199,
          0.07889391917631401,
          0.05203791523463703,
          0.10167426974382765,
          0.09280306848318026,
          0.1585641884157943,
          0.07657469125107086,
          0.14917445496928186,
          0.03668276213813272,
          0.10740836450954556,
          0.042699895472501616,
          0.10874016118419126,
          0.044498003196475004,
          0.04016473781244597,
          0.09787969323366473,
          0.09747573053456575,
          0.05926818650533361,
          -0.00007915221487647187,
          0.08429587634784336,
          0.09060667491408793,
          0.1019033227958999,
          0.005371384709782643,
          0.049844603166212705,
          0.08848030387472687,
          0.06233178490354057,
          -0.030219522420067473,
          0.08889592488427482,
          0.11680033820732505,
          0.03396629448506628,
          -0.005655890806359308,
          0.08322454735268733,
          0.10259800721401201,
          0.07885552714479689,
          -0.027279169863138122,
          0.13638515777436908,
          0.061161078676534975,
          0.03191343263666008,
          0.022698171712682673,
          0.1450216421358415,
          0.10057137432200233,
          -0.052063425521135576,
          0.07286781733978563,
          0.04529317018371265,
          0.13044457967810874,
          0.07712584293039011,
          0.07826809033843014,
          0.021668664381458647,
          0.009154127944369568,
          -0.010083049040078973,
          0.030151765019027266,
          -0.06757086047320054,
          0.05332914709799268,
          0.03900166055225779,
          -0.08552500964701343,
          0.025122647734305198,
          0.06484999970374392,
          0.06547556190156541,
          0.002885784048961791,
          0.06654353038073497,
          0.009717180594747478,
          0.07087240301183598,
          -0.0640383111868449,
          -0.015972698253084252,
          0.07668950963895199,
          -0.020577154254880714,
          0.07549866214445122,
          0.08098976031259503,
          -0.027249110648240482,
          0.16732426243204274,
          0.11450072133919766,
          0.021637050762823754,
          0.09418435943304956,
          0.03806937956168577,
          0.02617979080903233,
          0.00876737680434884,
          0.029429969785546517,
          0.011973382948635284,
          0.07734150617601235,
          0.04100453258864838,
          0.13414023253184962,
          0.03548873823448371,
          0.11424661104123643,
          0.05745971403391183,
          0.07448100382696052,
          -0.030417809556419134,
          -0.0033766924656822585,
          -0.04411291948692124,
          0.06927186876988746,
          0.037629715962390814,
          -0.005904578713684069,
          0.04465224225022751,
          0.10685146067682665,
          -0.01683579042290393,
          0.06364071947489393,
          0.04753721412740053,
          0.038748894892947146,
          0.037204355117054166,
          0.11034404003935244,
          0.12052852389210772,
          0.011495168399829437,
          0.05831777935074914,
          -0.0013136776642917627,
          0.03417410667639199,
          0.08936631528325917,
          0.03373114815949105,
          0.07281602879764204,
          0.054543078585407356,
          0.08354895654430029,
          0.0652936587966295,
          0.06378698704308881,
          0.04754450708663157,
          0.07637452590504257,
          0.10460992034077561,
          0.11068269861544267,
          0.009387310150209863,
          0.06108442533065396,
          0.024367732671608716,
          0.008011448319023033,
          0.04826057094834541,
          0.03657980444811812,
          -0.05559667765356005,
          0.06698049457074827,
          0.006117229827166315,
          0.12934681406408624,
          0.03806312732267578,
          0.0003036293004281303,
          0.02178061508254503,
          0.05497062806505371,
          -0.011228019552632551,
          0.10207299259977211,
          0.10754431435472302,
          0.011271878359206282,
          -0.01359883750647892
         ]
        },
        {
         "jitter": 0.2,
         "line": {
          "color": "gray",
          "width": 0.5
         },
         "marker": {
          "color": "black",
          "opacity": 0.4,
          "size": 2
         },
         "meanline": {
          "visible": true
         },
         "name": "0.05414294381065689",
         "pointpos": -0.5,
         "points": "outliers",
         "side": "negative",
         "type": "violin",
         "y": [
          0.11271054084465724,
          0.09339659637561393,
          -0.0034613852768619513,
          0.08221637318972691,
          0.09712872375916885,
          -0.019307459195361008,
          0.08490994879727479,
          -0.02746940718984879,
          0.07162568232966517,
          0.02433175142771542,
          -0.03723258145194645,
          -0.05668417110614357,
          0.0849488925283784,
          0.02566088286011573,
          0.03431647167862601,
          0.002847754773921112,
          0.044595074336263044,
          -0.02484516794447415,
          0.012677611893941008,
          0.026582405594283615,
          -0.006723345104334574,
          -0.04620095601297752,
          0.03321674145589979,
          0.042453887234889666,
          0.039189136810525334,
          -0.020300820891415293,
          -0.006071936318850854,
          0.041361166584256856,
          0.038917104531055555,
          0.035317673199872786,
          0.1043367741395351,
          0.070031986935931,
          -0.02404097614917215,
          0.04586654726848537,
          0.08415438850163698,
          -0.010529222434141054,
          0.05608350222529631,
          -0.03545001922938334,
          0.03868330588839916,
          0.06978726924500368,
          0.07882742358965766,
          0.033859114898702934,
          0.023809776217625103,
          -0.00528599893497881,
          -0.015902283986294424,
          0.05213628422972599,
          -0.03933834233145108,
          -0.07823321656026379,
          0.07744615301138405,
          0.045500875427548416,
          0.09365056034470594,
          0.04909300197203091,
          0.05723763818893902,
          0.06892579191264948,
          -0.01036666176427298,
          -0.08622908859115243,
          0.10145969348202251,
          0.08739862293475519,
          0.07632397925161104,
          0.04433601284676423,
          0.09940445955279674,
          0.01942413520092579,
          0.01395799601190777,
          0.07103736353784652,
          -0.0035104158488134516,
          0.03227107317900517,
          0.005554565440082174,
          0.10587333623209867,
          0.07901995976250509,
          0.04871894243003318,
          0.10847969301367756,
          0.0954750178222041,
          0.16422098906290825,
          0.0545965605275385,
          0.15792497271650915,
          0.04058177146535628,
          0.107053923623605,
          0.033184698769557146,
          0.10045647156547333,
          0.04502537096504252,
          0.03765235252833692,
          0.09749688746933259,
          0.08706441604199996,
          0.055069990974125425,
          -0.008605547573402962,
          0.07550478082320147,
          0.08579864792235468,
          0.10497426991575892,
          0.005697003346275328,
          0.042591364272184136,
          0.0844965776753986,
          0.05277913210754175,
          -0.04366350638712535,
          0.09219973424226416,
          0.12196105871312095,
          0.019343556391211898,
          -0.004974951824333645,
          0.06469037943847408,
          0.10574828278014793,
          0.0790152225497062,
          -0.03367966806156564,
          0.13970047332803193,
          0.04723468657539464,
          0.01777036973402018,
          0.020479946318493026,
          0.14533453068384772,
          0.10664424888675418,
          -0.05543766488703298,
          0.07731626454955674,
          0.039973565718111344,
          0.12982062115862075,
          0.05262334403214583,
          0.047405903667292644,
          0.017905881204432837,
          0.00949841656447799,
          -0.016013801099455084,
          0.030832623160366918,
          -0.07346302572953073,
          0.05513083179608245,
          0.028431371836521047,
          -0.09948116607143878,
          0.02410094643022448,
          0.06793218960558658,
          0.06225466353107601,
          -0.014462290257411211,
          0.06368560081627787,
          0.004692609811814287,
          0.06545863971357936,
          -0.07190957880698745,
          -0.016457750243151638,
          0.07437124318160912,
          -0.02084422196871479,
          0.07744345420186928,
          0.07532047571171897,
          -0.040332628762536925,
          0.1688298351835041,
          0.11529794612559563,
          0.018472005551787886,
          0.08422350452371552,
          0.0378367902635718,
          0.029488497036249638,
          0.009435125293550908,
          0.017139766062867406,
          0.0016835214094795543,
          0.07953107617405729,
          0.042149802119897786,
          0.1371995520831959,
          0.008517790847339342,
          0.09618496637407563,
          0.05599127924587675,
          0.07588474579682022,
          -0.03441213738190053,
          -0.0183028126307079,
          -0.09049218315540794,
          0.062046339629786465,
          0.039992350108136794,
          -0.04086478348994962,
          0.010805398527642408,
          0.11025523581094439,
          -0.0369083722024829,
          0.06744641206140052,
          0.05070263341695556,
          0.021361284170753402,
          0.039833653488638224,
          0.09795464735755516,
          0.11665253948871264,
          -0.014419267433055919,
          0.060365575487918995,
          0.0018378916209738257,
          0.027954329746507894,
          0.08734637289871386,
          0.00817983452708931,
          0.07261746914818915,
          0.053049795304394465,
          0.08125181270019437,
          0.06731473558412428,
          0.05465672626958487,
          0.03487728258263501,
          0.08142107131929065,
          0.09857949420030908,
          0.10566646528147816,
          0.010801007039156409,
          0.06447415060840414,
          0.0179820881085339,
          0.0010549736880217367,
          0.044524206153232944,
          0.033130775814493814,
          -0.068828571139129,
          0.07174823865861893,
          -0.014331639886517405,
          0.11631293361112169,
          0.02958233982958992,
          -0.01003613472398784,
          0.018359648937459765,
          0.05567093542321295,
          -0.026588716205642862,
          0.09214017608377,
          0.10791796314292053,
          0.009645889808124143,
          -0.03422716136748162
         ]
        },
        {
         "jitter": 0.2,
         "line": {
          "color": "gray",
          "width": 0.5
         },
         "marker": {
          "color": "black",
          "opacity": 0.4,
          "size": 2
         },
         "meanline": {
          "visible": true
         },
         "name": "0.05664294381065688",
         "pointpos": -0.5,
         "points": "outliers",
         "side": "negative",
         "type": "violin",
         "y": [
          0.10994346093844377,
          0.09690346139048517,
          -0.008305936047199243,
          0.08185539890175145,
          0.10228375496628417,
          -0.028276317414890652,
          0.08848158887875701,
          -0.043675845515121506,
          0.07371897877684672,
          0.021458471085622616,
          -0.04096281021020236,
          -0.06432701832086685,
          0.08761171204044842,
          0.02637699302317718,
          0.035472776895156675,
          0.0005524049380190512,
          0.03447442701692421,
          -0.025835383280998502,
          0.010333520341629553,
          0.025211311778688857,
          -0.010719889679123261,
          -0.05663583382654954,
          0.029189342044245867,
          0.042120050360810596,
          0.038198143043284734,
          -0.021350537159630513,
          -0.013186435466948214,
          0.0418905226965373,
          0.029982211385346427,
          0.01792010004912179,
          0.1081225295973576,
          0.07213466428819944,
          -0.041397338562704285,
          0.04140665079767754,
          0.06652454662198581,
          -0.02417954645103434,
          0.048069982799556765,
          -0.036712960419459005,
          0.03476853301003846,
          0.0727514293016225,
          0.08137515854203169,
          0.031642896691650484,
          0.017155843770330026,
          -0.009196430879277748,
          -0.015765360436902832,
          0.055459052595319296,
          -0.036798281497171986,
          -0.08738844158996184,
          0.06577003858840419,
          0.04623421434710757,
          0.09275946513722809,
          0.049150939506444155,
          0.055691678259547836,
          0.0713718085386068,
          -0.01548304180004597,
          -0.10296758156739534,
          0.10618678414542164,
          0.0888894780503739,
          0.06630840875315455,
          0.04446537172958067,
          0.10344541632320164,
          0.018722218303903655,
          0.014886378456580598,
          0.07021280389546691,
          -0.007848786488370008,
          0.02502166135473846,
          -0.008009539380968976,
          0.09692391379505733,
          0.07910226394914784,
          0.04618430592860574,
          0.11522521993480021,
          0.09799852741359048,
          0.16950446062426044,
          0.03994438013176863,
          0.1665001665232647,
          0.044383502269962856,
          0.10682255140494278,
          0.03144480927799752,
          0.0941303914933771,
          0.045428100604131605,
          0.03573369642020722,
          0.0971920210192876,
          0.07903673193456602,
          0.059453254136611566,
          -0.015395370787757712,
          0.07032026148208863,
          0.0821269086657866,
          0.10434184508507727,
          0.006015560149349587,
          0.03705218606651157,
          0.08152614047747135,
          0.04548395945592791,
          -0.05436932320769017,
          0.09541025059546306,
          0.12699900153587715,
          0.007699095855871954,
          -0.004957518808292887,
          0.0505362261254024,
          0.10815408335150341,
          0.07890586803528384,
          -0.03856760647127781,
          0.1418646610534236,
          0.038436361526500894,
          0.006507969809393061,
          0.01852650249518993,
          0.142948175796049,
          0.11259064254904383,
          -0.057640330763985496,
          0.08149723139738368,
          0.035737427107487764,
          0.12932372083805763,
          0.03599742970608387,
          0.02964711026246116,
          0.015109141988287902,
          0.009573475888610704,
          -0.019885314909141603,
          0.03144364940619079,
          -0.07492668069839487,
          0.05689481537384174,
          0.022090635322839596,
          -0.10859151004720295,
          0.014436561808091627,
          0.07043082389699576,
          0.0614859395464841,
          -0.024388662475024733,
          0.06140975444491889,
          0.0006914138320141939,
          0.06004579019495744,
          -0.07704780618036172,
          -0.01693748899503258,
          0.07012313469926039,
          -0.016957141628473546,
          0.07927706313801863,
          0.07099096087272398,
          -0.050751410433217535,
          0.1699796148798983,
          0.11593279278685215,
          0.015951611523022727,
          0.07661660819105082,
          0.037645819267420486,
          0.03275704735080784,
          0.010087553046363535,
          0.007352751904958991,
          0.002829618580999303,
          0.08065438829948661,
          0.04326884112582714,
          0.13955645516533693,
          -0.0077854739815941395,
          0.08510255514188995,
          0.0550326860142284,
          0.07725626378720643,
          -0.03508997804054115,
          -0.030188881617329095,
          -0.10086794639636652,
          0.05629238262987325,
          0.042334029595941756,
          -0.06442835458725991,
          -0.009279467160746305,
          0.11285462718696265,
          -0.04780680767021454,
          0.07117688418877348,
          0.053758124233641444,
          0.023343908644979636,
          0.04238372753097697,
          0.08940654795174359,
          0.11165531740789109,
          -0.028995374909355078,
          0.062152520892175926,
          -0.0011531350586910666,
          0.023001377771360052,
          0.08567990715211314,
          -0.008078230968778655,
          0.07053318573233065,
          0.051860658827289116,
          0.07769988971341593,
          0.06892416966236739,
          0.04738604540780822,
          0.027224794637300355,
          0.08635176869773628,
          0.09397414660152494,
          0.10183563649563356,
          0.012171286487480816,
          0.06778314873070795,
          0.013105512732569994,
          -0.004484641939526405,
          0.04154881448542494,
          0.030496823891892604,
          -0.07936551010363821,
          0.0760447454427674,
          -0.02994800367664731,
          0.10667689071135106,
          0.03397308777238698,
          -0.018269955987914765,
          0.016300260271426992,
          0.05635513614388869,
          -0.038319364388592805,
          0.08408379125909286,
          0.10821553234809626,
          0.00833582426315707,
          -0.04571746907869101
         ]
        },
        {
         "jitter": 0.2,
         "line": {
          "color": "gray",
          "width": 0.5
         },
         "marker": {
          "color": "black",
          "opacity": 0.4,
          "size": 2
         },
         "meanline": {
          "visible": true
         },
         "name": "0.05914294381065688",
         "pointpos": -0.5,
         "points": "outliers",
         "side": "negative",
         "type": "violin",
         "y": [
          0.10756885865631828,
          0.10034284598482762,
          -0.012529358663935028,
          0.0815455957682956,
          0.1073991868410426,
          -0.03417222417811646,
          0.09179353105724923,
          -0.05452247291432061,
          0.07554390966027219,
          0.01895351241872987,
          -0.043774378894385534,
          -0.0706111842847256,
          0.08989684204129472,
          0.021650750094045566,
          0.036246645266196184,
          -0.011870373013591383,
          0.025789273616753275,
          -0.033059749136423094,
          0.008321910326469386,
          0.024015996990081452,
          -0.013814945348841486,
          -0.0657329214002253,
          0.022904825648007623,
          0.04185437691889025,
          0.0373476711755428,
          -0.030322555629652456,
          -0.019291828255336454,
          0.0423520126561158,
          0.022192813267352517,
          0.0062763354955643925,
          0.11143373004368275,
          0.0739391014014755,
          -0.047217813782020564,
          0.037518516721319804,
          0.0547252713190044,
          -0.03331538450760576,
          0.04119306693498766,
          -0.038060663988275394,
          0.03214844465235855,
          0.07533751928858837,
          0.08379078489052712,
          0.029710773407870733,
          0.011356743871747994,
          -0.006434883072427271,
          -0.024561771672086133,
          0.05872566988101307,
          -0.03435031380373468,
          -0.0991426624432076,
          0.07224740798356971,
          0.04683719329106277,
          0.09199474804369312,
          0.04920307917023918,
          0.03563583279242926,
          0.07363926540490279,
          -0.01994351468954588,
          -0.11756012083079276,
          0.11081754181165857,
          0.09024134773973153,
          0.059605205630311985,
          0.04457814697717559,
          0.10736747751945389,
          0.018252436231986288,
          0.01560705706971232,
          0.06950498588139266,
          -0.011571783501241105,
          0.018701654278425395,
          -0.019649759715860676,
          0.09106785037723922,
          0.07916991016849442,
          0.04400919023763537,
          0.12191969747899566,
          0.10019063082487525,
          0.17440223698205717,
          0.030137998752393282,
          0.17493065856569162,
          0.0475228193513594,
          0.10663230665657708,
          0.030014223924394477,
          0.08870159105051088,
          0.04577369041343329,
          0.034087172868122705,
          0.09692627075246428,
          0.0736639797620478,
          0.050728532513951444,
          -0.021314720515271324,
          0.06685037583263605,
          0.07897594181762545,
          0.10391855527304844,
          0.00632833781606493,
          0.032298673710418266,
          0.07908374208827115,
          0.03922352109199662,
          -0.06370260475928956,
          0.09824722210143653,
          0.13193662934857125,
          -0.00245249688350718,
          -0.004945851678450395,
          0.03838965665095234,
          0.11021865856942274,
          0.0788159485461522,
          -0.04276224852257985,
          0.14364410504865005,
          0.03254787715678537,
          -0.00331057719394007,
          0.015667992790596764,
          0.14135104119988343,
          0.11843668822427314,
          -0.0594514240688068,
          0.08511401030809582,
          0.032044381529370496,
          0.12889054761908425,
          0.024870075176483514,
          0.017761534380586953,
          0.013237319525141593,
          0.009623723150182515,
          -0.023068558252623106,
          0.03203231817616587,
          -0.08000836438112462,
          0.058626786211383244,
          0.017847001519839454,
          -0.11608227612582907,
          0.01340482343313155,
          0.073885040061775,
          0.06085385133581089,
          -0.031032190227599284,
          0.05664202614025728,
          -0.002796810090163018,
          0.05642308278113629,
          -0.07411529709830113,
          -0.01741422181270581,
          0.06727997115877202,
          -0.01759747255273111,
          0.0808206955028687,
          0.06727551693397427,
          -0.059834455235802636,
          0.1709663174773731,
          0.1164862509620605,
          0.013754347881108697,
          0.07008861382308586,
          0.037505203842578126,
          0.0359669379715814,
          0.010727427452401031,
          -0.0011795073515219094,
          -0.0048995346732294085,
          0.08244977668170583,
          0.044374362557732534,
          0.141365330459188,
          -0.01869688519478944,
          0.07768530668828967,
          0.054244541722366924,
          0.07860148518631604,
          -0.0357423783277505,
          -0.04055109698890126,
          -0.10941990741197959,
          0.05127620120401408,
          0.04451181750550442,
          -0.07491381651343415,
          -0.022721827508788164,
          0.11508532558959801,
          -0.05510088813517305,
          0.0745106788659284,
          0.056463096105901944,
          0.010392423512354294,
          0.044663849363278135,
          0.08368549388288206,
          0.10831078691277271,
          -0.03875082599975377,
          0.06371154356233205,
          -0.003719942780555801,
          0.01868341018412889,
          0.08456459631978631,
          -0.0189594089224247,
          0.06913824737786436,
          0.05082391967583224,
          0.0746517230638418,
          0.07032726971512034,
          0.04104749999202858,
          0.022103152962224308,
          0.09118759511015873,
          0.09002203643484542,
          0.09854818434526491,
          0.013506822839782327,
          0.07094543165959444,
          0.008920621667073877,
          -0.009314079185336489,
          0.03895488263612889,
          0.028236467177263115,
          -0.0885515642443038,
          0.08002761460235627,
          -0.04334937505879992,
          0.10022770116400513,
          0.03245331668033598,
          -0.025448162657737403,
          0.01492197315429559,
          0.05702620144707939,
          -0.048386158586944096,
          0.07869182226387957,
          0.10847491167150844,
          0.0074590261012611615,
          -0.053407677157828196
         ]
        },
        {
         "jitter": 0.2,
         "line": {
          "color": "gray",
          "width": 0.5
         },
         "marker": {
          "color": "black",
          "opacity": 0.4,
          "size": 2
         },
         "meanline": {
          "visible": true
         },
         "name": "0.06164294381065688",
         "pointpos": -0.5,
         "points": "outliers",
         "side": "negative",
         "type": "violin",
         "y": [
          0.10542804835522064,
          0.10372608164975648,
          -0.016368951665662063,
          0.08126634470929632,
          0.11248099254572841,
          -0.04283691180516581,
          0.09540060873837758,
          -0.06347947262533944,
          0.07720298144263339,
          0.01667625045818375,
          -0.04737119775255152,
          -0.1086023119800611,
          0.09195698905928187,
          0.02748577487104964,
          0.03688570659920803,
          -0.0031932621952439834,
          0.017959218670730328,
          -0.03902558707455429,
          0.006508355041506789,
          0.022929278206316427,
          -0.01903715883880839,
          -0.07400319774804519,
          0.02426801810894733,
          0.04162663566427509,
          0.03658100636409224,
          -0.03312234439220837,
          -0.02479611082115933,
          0.0427715600962659,
          0.015111364756610466,
          -0.0033389893897176727,
          0.11444399168279328,
          0.0755658822903355,
          -0.05250929326593055,
          0.03398379013794385,
          0.044981550360115016,
          -0.04085967721424846,
          0.034993235152943995,
          -0.04005189652599345,
          0.029984776640777634,
          0.07768860537552473,
          0.08639820410684206,
          0.027954319571858226,
          0.006081420003567274,
          -0.010639695810123667,
          -0.015498962963635725,
          0.06194535228255595,
          -0.062022946572528645,
          -0.1026259922098235,
          0.05147947123260262,
          0.04736969708556048,
          0.09130531574710418,
          0.04924022788655622,
          0.03249653695452143,
          0.07577852246180286,
          -0.02399857529770897,
          -0.13082641310981233,
          0.11532446391226987,
          0.09136402323028338,
          0.05406978616663067,
          0.044680673816687895,
          0.11083557572570478,
          0.017864499092736037,
          0.016323039085310187,
          0.06886723112721946,
          -0.014928242086572579,
          0.01295605020220447,
          -0.03014393162807407,
          0.05407435943293638,
          0.07922963730292248,
          0.042048220044656706,
          0.1285212977158373,
          0.10206174453764333,
          0.17902318691787458,
          0.022039985220666965,
          0.18323992513314713,
          0.050115235234308296,
          0.10646430164804857,
          0.016954186339911227,
          0.08380724827594631,
          0.04608527653851316,
          0.03260276984492494,
          0.0966846783798384,
          0.06922721630092932,
          0.059508468591186754,
          -0.02669605843499311,
          0.06147027579339511,
          0.07613520003874007,
          0.10356904221667249,
          0.006636298799208653,
          0.02233298589245639,
          0.060049304961113284,
          0.03357945555153637,
          -0.07218762857009589,
          0.10075265891212877,
          0.13675929504152307,
          -0.011681450924186302,
          -0.0049362170339931535,
          0.027438999204457287,
          0.11207998027585556,
          0.07873652876407114,
          -0.04654390614171437,
          0.14521560264696257,
          0.02768520314941207,
          -0.012236764173742325,
          0.01613947048599496,
          0.14003214010223575,
          0.12419866013061642,
          -0.06063380306635581,
          0.08837469808714375,
          0.02868695777289309,
          0.12849676687800324,
          0.01568121364295022,
          0.007946547525725028,
          0.011691635824612773,
          0.009665203104450466,
          -0.025879789792914994,
          0.03257097594638906,
          -0.08501154810106591,
          0.06033391140079215,
          0.01434261122784873,
          -0.1587522467167513,
          0.011851108730035035,
          0.07677998894208186,
          0.05176663713128831,
          -0.03651829976162137,
          0.056817763637754946,
          -0.005968005195024575,
          0.053431453256984215,
          -0.07947600503319492,
          -0.01787927844017686,
          0.06493206896201205,
          -0.018174789057905563,
          0.08218393358010546,
          0.06392589886266341,
          -0.06809198209688697,
          0.17185586189162427,
          0.11698940802109808,
          0.0117567721841426,
          0.06420342684450103,
          0.037611363467973516,
          0.03866893800317999,
          0.011356858705040202,
          -0.008936321220066096,
          -0.007816443750742263,
          0.08426809852280864,
          0.045460866591827444,
          0.14285913726226285,
          -0.027707419675136707,
          0.0715602626990937,
          0.053548484509023435,
          0.07992638915523433,
          -0.03634250518967906,
          -0.04997154145933528,
          -0.11316164509629252,
          0.04671587244404835,
          0.0464751908320751,
          -0.08342508524799373,
          -0.03382238531713253,
          0.11709640652159688,
          -0.061124275982963425,
          0.07752427341799638,
          0.058922225783947374,
          0.005485680144909293,
          0.04655181897711101,
          0.07896106883913354,
          0.10554886892108131,
          -0.046806790435629575,
          0.06512887113905913,
          -0.0060340181960551,
          0.014757881591694244,
          0.0836435728115805,
          -0.027945011300580407,
          0.06798630636940375,
          0.04988149848673574,
          0.07190365360158649,
          0.07160284854986787,
          0.03528503496861398,
          0.017873753645009947,
          0.09594447184751595,
          0.08645909000290106,
          0.09558442784937154,
          0.014754976066884832,
          0.07392898937218849,
          0.00514774835305727,
          -0.014838150879210069,
          0.036596700628344574,
          0.026198654161454737,
          -0.09690273827313034,
          0.08378534366420108,
          -0.05543130986355043,
          0.09490202585766176,
          0.03108315792169593,
          -0.03197397629427945,
          0.013783788768086619,
          0.05768628282042815,
          -0.05746182431707168,
          0.07423918965065472,
          0.10871073758678165,
          0.006734964160863844,
          -0.06249590571483332
         ]
        },
        {
         "jitter": 0.2,
         "line": {
          "color": "gray",
          "width": 0.5
         },
         "marker": {
          "color": "black",
          "opacity": 0.4,
          "size": 2
         },
         "meanline": {
          "visible": true
         },
         "name": "0.06414294381065688",
         "pointpos": -0.5,
         "points": "outliers",
         "side": "negative",
         "type": "violin",
         "y": [
          0.10344459237105963,
          0.10706195882613788,
          -0.01994482862624453,
          0.08100759769368068,
          0.11750174890556178,
          -0.046034034486636066,
          0.09880092425863353,
          -0.07140044719667467,
          0.07874811280039407,
          0.014555422278845327,
          -0.05119216344667382,
          -0.12062039477680091,
          0.09386570960728235,
          0.02018462484350932,
          0.03745084970444171,
          -0.016047899329292698,
          0.010704680661909168,
          -0.04430136549588109,
          0.004828072406588598,
          0.021917267816942147,
          -0.020762044273719246,
          -0.08170545488764944,
          0.0222996071692591,
          0.041404053881586585,
          0.03587065629218867,
          -0.034865219938398286,
          -0.029895814696070885,
          0.04316231845430858,
          0.008516279843172055,
          -0.01184214377520213,
          0.11724753854011971,
          0.07707308984539435,
          -0.05743733696842188,
          0.03069180864399987,
          0.036364871164464324,
          -0.04753133279259913,
          0.029249101113275836,
          -0.041046106312022636,
          0.028071425610267046,
          0.07987814718449808,
          0.08888652620537556,
          0.026318471186206248,
          0.0004930102803006439,
          -0.01453544350282477,
          -0.015517384298508175,
          0.06512519971486017,
          -0.04183701096091415,
          -0.10938372398666953,
          0.045866567061819866,
          0.04785708718497161,
          0.09066656941290636,
          0.04929032635501131,
          0.05206077893858512,
          0.07782113094636862,
          -0.0277751424261903,
          -0.1431815334896365,
          0.11821822186057565,
          0.0923568413691424,
          0.04917463005705033,
          0.044776156734572706,
          0.11390252874210592,
          0.017521422117465525,
          0.017034838990535046,
          0.06827616338716147,
          -0.05127301161335906,
          0.007605068953875717,
          -0.0398667555073061,
          0.04266684915498546,
          0.07928432064245412,
          0.04023136207548181,
          0.13485121541864153,
          0.10371642980514012,
          0.18343528141779716,
          0.01487866672249409,
          0.19140272354495733,
          0.05240781665110472,
          0.1063105286015086,
          0.013716766066965501,
          0.0792727231072748,
          0.04637396430285611,
          0.03122746889283607,
          0.09645966896370436,
          0.06530364653672292,
          0.05953216864093019,
          -0.03170780416660665,
          0.06145101762395099,
          0.07350324198858087,
          0.10325994260760375,
          0.006940159920134262,
          0.01866341982861275,
          0.054929532364982096,
          0.02835024378847223,
          -0.08008989142667056,
          0.10304583715302641,
          0.14137724295675402,
          -0.020276534888020403,
          -0.0049276955224255205,
          0.017293239657438043,
          0.11380445573816819,
          0.07866385700625776,
          -0.05004760154277645,
          0.14665394488929526,
          0.023384987744286274,
          -0.0205498711703948,
          0.015184687810060308,
          0.13886578151755954,
          0.12988934566287347,
          -0.08305443709842256,
          0.09139571650746219,
          0.025560125069431436,
          0.12813001313474534,
          0.007555214102939009,
          -0.0007331903006925093,
          0.01032471133613416,
          0.009701892014934526,
          -0.028452825305189902,
          0.03308529444769961,
          -0.08994836350061915,
          0.0620170647759233,
          0.011243568931487577,
          -0.17273114622806757,
          0.011100733917002958,
          0.07957770058989853,
          0.04988814051634584,
          -0.04248866742709767,
          0.0553389414826482,
          -0.008921392923329061,
          0.050785926680158945,
          -0.08444271478495803,
          -0.018327111150983646,
          0.0628558198926368,
          -0.0187096517149131,
          0.08343169457258888,
          0.06082249822165744,
          -0.07578237599753981,
          0.17268001186571807,
          0.11745803022428451,
          0.009896402069767204,
          0.05875077159839817,
          0.037414572899023786,
          0.04137825325137451,
          0.011977472164639028,
          -0.016160371300655795,
          -0.010388359222276052,
          0.08583924364451403,
          0.046533721462939964,
          0.14418009375536428,
          -0.035675718993172234,
          0.06614369688383104,
          0.05291136151325637,
          0.08123465907150022,
          -0.03695666585863232,
          -0.05874497154942772,
          -0.12173301656596215,
          0.042468758495912994,
          0.0482942509885061,
          -0.09278688569572152,
          -0.04363896015064875,
          0.11895968346358354,
          -0.0664509286391939,
          0.08032094201518108,
          0.06121245463143157,
          0.0012307884776395273,
          0.04822141859037194,
          0.0747831820090549,
          0.10310644257430665,
          -0.05393088956446582,
          0.06644884890219582,
          -0.025787726203331054,
          0.011101951781516175,
          0.08282908169203695,
          -0.035891206304919966,
          0.06696760869891154,
          0.04900375239670164,
          0.06935759550013428,
          0.07279084761016345,
          0.029918354476523197,
          0.01413352654131317,
          0.10063475971201533,
          0.08315798510160448,
          0.09283847895727483,
          0.015860958743388113,
          0.07677768332677007,
          0.0016521964800970373,
          -0.0186396803047487,
          0.034192939784865546,
          0.024310605543416554,
          -0.1046803528659647,
          0.08737322567460355,
          -0.06662519002676189,
          0.09019236353234,
          0.029813705484556193,
          -0.03805157585449249,
          0.012777256565207205,
          0.05833714280106082,
          -0.10653748323508387,
          0.07030158634522932,
          0.10893036777229903,
          0.00609467041874875,
          -0.06537411578600354
         ]
        }
       ],
       "layout": {
        "height": 400,
        "margin": {
         "b": 30,
         "l": 50,
         "r": 20,
         "t": 50
        },
        "showlegend": false,
        "template": {
         "data": {
          "bar": [
           {
            "error_x": {
             "color": "#2a3f5f"
            },
            "error_y": {
             "color": "#2a3f5f"
            },
            "marker": {
             "line": {
              "color": "white",
              "width": 0.5
             },
             "pattern": {
              "fillmode": "overlay",
              "size": 10,
              "solidity": 0.2
             }
            },
            "type": "bar"
           }
          ],
          "barpolar": [
           {
            "marker": {
             "line": {
              "color": "white",
              "width": 0.5
             },
             "pattern": {
              "fillmode": "overlay",
              "size": 10,
              "solidity": 0.2
             }
            },
            "type": "barpolar"
           }
          ],
          "carpet": [
           {
            "aaxis": {
             "endlinecolor": "#2a3f5f",
             "gridcolor": "#C8D4E3",
             "linecolor": "#C8D4E3",
             "minorgridcolor": "#C8D4E3",
             "startlinecolor": "#2a3f5f"
            },
            "baxis": {
             "endlinecolor": "#2a3f5f",
             "gridcolor": "#C8D4E3",
             "linecolor": "#C8D4E3",
             "minorgridcolor": "#C8D4E3",
             "startlinecolor": "#2a3f5f"
            },
            "type": "carpet"
           }
          ],
          "choropleth": [
           {
            "colorbar": {
             "outlinewidth": 0,
             "ticks": ""
            },
            "type": "choropleth"
           }
          ],
          "contour": [
           {
            "colorbar": {
             "outlinewidth": 0,
             "ticks": ""
            },
            "colorscale": [
             [
              0,
              "#0d0887"
             ],
             [
              0.1111111111111111,
              "#46039f"
             ],
             [
              0.2222222222222222,
              "#7201a8"
             ],
             [
              0.3333333333333333,
              "#9c179e"
             ],
             [
              0.4444444444444444,
              "#bd3786"
             ],
             [
              0.5555555555555556,
              "#d8576b"
             ],
             [
              0.6666666666666666,
              "#ed7953"
             ],
             [
              0.7777777777777778,
              "#fb9f3a"
             ],
             [
              0.8888888888888888,
              "#fdca26"
             ],
             [
              1,
              "#f0f921"
             ]
            ],
            "type": "contour"
           }
          ],
          "contourcarpet": [
           {
            "colorbar": {
             "outlinewidth": 0,
             "ticks": ""
            },
            "type": "contourcarpet"
           }
          ],
          "heatmap": [
           {
            "colorbar": {
             "outlinewidth": 0,
             "ticks": ""
            },
            "colorscale": [
             [
              0,
              "#0d0887"
             ],
             [
              0.1111111111111111,
              "#46039f"
             ],
             [
              0.2222222222222222,
              "#7201a8"
             ],
             [
              0.3333333333333333,
              "#9c179e"
             ],
             [
              0.4444444444444444,
              "#bd3786"
             ],
             [
              0.5555555555555556,
              "#d8576b"
             ],
             [
              0.6666666666666666,
              "#ed7953"
             ],
             [
              0.7777777777777778,
              "#fb9f3a"
             ],
             [
              0.8888888888888888,
              "#fdca26"
             ],
             [
              1,
              "#f0f921"
             ]
            ],
            "type": "heatmap"
           }
          ],
          "heatmapgl": [
           {
            "colorbar": {
             "outlinewidth": 0,
             "ticks": ""
            },
            "colorscale": [
             [
              0,
              "#0d0887"
             ],
             [
              0.1111111111111111,
              "#46039f"
             ],
             [
              0.2222222222222222,
              "#7201a8"
             ],
             [
              0.3333333333333333,
              "#9c179e"
             ],
             [
              0.4444444444444444,
              "#bd3786"
             ],
             [
              0.5555555555555556,
              "#d8576b"
             ],
             [
              0.6666666666666666,
              "#ed7953"
             ],
             [
              0.7777777777777778,
              "#fb9f3a"
             ],
             [
              0.8888888888888888,
              "#fdca26"
             ],
             [
              1,
              "#f0f921"
             ]
            ],
            "type": "heatmapgl"
           }
          ],
          "histogram": [
           {
            "marker": {
             "pattern": {
              "fillmode": "overlay",
              "size": 10,
              "solidity": 0.2
             }
            },
            "type": "histogram"
           }
          ],
          "histogram2d": [
           {
            "colorbar": {
             "outlinewidth": 0,
             "ticks": ""
            },
            "colorscale": [
             [
              0,
              "#0d0887"
             ],
             [
              0.1111111111111111,
              "#46039f"
             ],
             [
              0.2222222222222222,
              "#7201a8"
             ],
             [
              0.3333333333333333,
              "#9c179e"
             ],
             [
              0.4444444444444444,
              "#bd3786"
             ],
             [
              0.5555555555555556,
              "#d8576b"
             ],
             [
              0.6666666666666666,
              "#ed7953"
             ],
             [
              0.7777777777777778,
              "#fb9f3a"
             ],
             [
              0.8888888888888888,
              "#fdca26"
             ],
             [
              1,
              "#f0f921"
             ]
            ],
            "type": "histogram2d"
           }
          ],
          "histogram2dcontour": [
           {
            "colorbar": {
             "outlinewidth": 0,
             "ticks": ""
            },
            "colorscale": [
             [
              0,
              "#0d0887"
             ],
             [
              0.1111111111111111,
              "#46039f"
             ],
             [
              0.2222222222222222,
              "#7201a8"
             ],
             [
              0.3333333333333333,
              "#9c179e"
             ],
             [
              0.4444444444444444,
              "#bd3786"
             ],
             [
              0.5555555555555556,
              "#d8576b"
             ],
             [
              0.6666666666666666,
              "#ed7953"
             ],
             [
              0.7777777777777778,
              "#fb9f3a"
             ],
             [
              0.8888888888888888,
              "#fdca26"
             ],
             [
              1,
              "#f0f921"
             ]
            ],
            "type": "histogram2dcontour"
           }
          ],
          "mesh3d": [
           {
            "colorbar": {
             "outlinewidth": 0,
             "ticks": ""
            },
            "type": "mesh3d"
           }
          ],
          "parcoords": [
           {
            "line": {
             "colorbar": {
              "outlinewidth": 0,
              "ticks": ""
             }
            },
            "type": "parcoords"
           }
          ],
          "pie": [
           {
            "automargin": true,
            "type": "pie"
           }
          ],
          "scatter": [
           {
            "fillpattern": {
             "fillmode": "overlay",
             "size": 10,
             "solidity": 0.2
            },
            "type": "scatter"
           }
          ],
          "scatter3d": [
           {
            "line": {
             "colorbar": {
              "outlinewidth": 0,
              "ticks": ""
             }
            },
            "marker": {
             "colorbar": {
              "outlinewidth": 0,
              "ticks": ""
             }
            },
            "type": "scatter3d"
           }
          ],
          "scattercarpet": [
           {
            "marker": {
             "colorbar": {
              "outlinewidth": 0,
              "ticks": ""
             }
            },
            "type": "scattercarpet"
           }
          ],
          "scattergeo": [
           {
            "marker": {
             "colorbar": {
              "outlinewidth": 0,
              "ticks": ""
             }
            },
            "type": "scattergeo"
           }
          ],
          "scattergl": [
           {
            "marker": {
             "colorbar": {
              "outlinewidth": 0,
              "ticks": ""
             }
            },
            "type": "scattergl"
           }
          ],
          "scattermapbox": [
           {
            "marker": {
             "colorbar": {
              "outlinewidth": 0,
              "ticks": ""
             }
            },
            "type": "scattermapbox"
           }
          ],
          "scatterpolar": [
           {
            "marker": {
             "colorbar": {
              "outlinewidth": 0,
              "ticks": ""
             }
            },
            "type": "scatterpolar"
           }
          ],
          "scatterpolargl": [
           {
            "marker": {
             "colorbar": {
              "outlinewidth": 0,
              "ticks": ""
             }
            },
            "type": "scatterpolargl"
           }
          ],
          "scatterternary": [
           {
            "marker": {
             "colorbar": {
              "outlinewidth": 0,
              "ticks": ""
             }
            },
            "type": "scatterternary"
           }
          ],
          "surface": [
           {
            "colorbar": {
             "outlinewidth": 0,
             "ticks": ""
            },
            "colorscale": [
             [
              0,
              "#0d0887"
             ],
             [
              0.1111111111111111,
              "#46039f"
             ],
             [
              0.2222222222222222,
              "#7201a8"
             ],
             [
              0.3333333333333333,
              "#9c179e"
             ],
             [
              0.4444444444444444,
              "#bd3786"
             ],
             [
              0.5555555555555556,
              "#d8576b"
             ],
             [
              0.6666666666666666,
              "#ed7953"
             ],
             [
              0.7777777777777778,
              "#fb9f3a"
             ],
             [
              0.8888888888888888,
              "#fdca26"
             ],
             [
              1,
              "#f0f921"
             ]
            ],
            "type": "surface"
           }
          ],
          "table": [
           {
            "cells": {
             "fill": {
              "color": "#EBF0F8"
             },
             "line": {
              "color": "white"
             }
            },
            "header": {
             "fill": {
              "color": "#C8D4E3"
             },
             "line": {
              "color": "white"
             }
            },
            "type": "table"
           }
          ]
         },
         "layout": {
          "annotationdefaults": {
           "arrowcolor": "#2a3f5f",
           "arrowhead": 0,
           "arrowwidth": 1
          },
          "autotypenumbers": "strict",
          "coloraxis": {
           "colorbar": {
            "outlinewidth": 0,
            "ticks": ""
           }
          },
          "colorscale": {
           "diverging": [
            [
             0,
             "#8e0152"
            ],
            [
             0.1,
             "#c51b7d"
            ],
            [
             0.2,
             "#de77ae"
            ],
            [
             0.3,
             "#f1b6da"
            ],
            [
             0.4,
             "#fde0ef"
            ],
            [
             0.5,
             "#f7f7f7"
            ],
            [
             0.6,
             "#e6f5d0"
            ],
            [
             0.7,
             "#b8e186"
            ],
            [
             0.8,
             "#7fbc41"
            ],
            [
             0.9,
             "#4d9221"
            ],
            [
             1,
             "#276419"
            ]
           ],
           "sequential": [
            [
             0,
             "#0d0887"
            ],
            [
             0.1111111111111111,
             "#46039f"
            ],
            [
             0.2222222222222222,
             "#7201a8"
            ],
            [
             0.3333333333333333,
             "#9c179e"
            ],
            [
             0.4444444444444444,
             "#bd3786"
            ],
            [
             0.5555555555555556,
             "#d8576b"
            ],
            [
             0.6666666666666666,
             "#ed7953"
            ],
            [
             0.7777777777777778,
             "#fb9f3a"
            ],
            [
             0.8888888888888888,
             "#fdca26"
            ],
            [
             1,
             "#f0f921"
            ]
           ],
           "sequentialminus": [
            [
             0,
             "#0d0887"
            ],
            [
             0.1111111111111111,
             "#46039f"
            ],
            [
             0.2222222222222222,
             "#7201a8"
            ],
            [
             0.3333333333333333,
             "#9c179e"
            ],
            [
             0.4444444444444444,
             "#bd3786"
            ],
            [
             0.5555555555555556,
             "#d8576b"
            ],
            [
             0.6666666666666666,
             "#ed7953"
            ],
            [
             0.7777777777777778,
             "#fb9f3a"
            ],
            [
             0.8888888888888888,
             "#fdca26"
            ],
            [
             1,
             "#f0f921"
            ]
           ]
          },
          "colorway": [
           "#636efa",
           "#EF553B",
           "#00cc96",
           "#ab63fa",
           "#FFA15A",
           "#19d3f3",
           "#FF6692",
           "#B6E880",
           "#FF97FF",
           "#FECB52"
          ],
          "font": {
           "color": "#2a3f5f"
          },
          "geo": {
           "bgcolor": "white",
           "lakecolor": "white",
           "landcolor": "white",
           "showlakes": true,
           "showland": true,
           "subunitcolor": "#C8D4E3"
          },
          "hoverlabel": {
           "align": "left"
          },
          "hovermode": "closest",
          "mapbox": {
           "style": "light"
          },
          "paper_bgcolor": "white",
          "plot_bgcolor": "white",
          "polar": {
           "angularaxis": {
            "gridcolor": "#EBF0F8",
            "linecolor": "#EBF0F8",
            "ticks": ""
           },
           "bgcolor": "white",
           "radialaxis": {
            "gridcolor": "#EBF0F8",
            "linecolor": "#EBF0F8",
            "ticks": ""
           }
          },
          "scene": {
           "xaxis": {
            "backgroundcolor": "white",
            "gridcolor": "#DFE8F3",
            "gridwidth": 2,
            "linecolor": "#EBF0F8",
            "showbackground": true,
            "ticks": "",
            "zerolinecolor": "#EBF0F8"
           },
           "yaxis": {
            "backgroundcolor": "white",
            "gridcolor": "#DFE8F3",
            "gridwidth": 2,
            "linecolor": "#EBF0F8",
            "showbackground": true,
            "ticks": "",
            "zerolinecolor": "#EBF0F8"
           },
           "zaxis": {
            "backgroundcolor": "white",
            "gridcolor": "#DFE8F3",
            "gridwidth": 2,
            "linecolor": "#EBF0F8",
            "showbackground": true,
            "ticks": "",
            "zerolinecolor": "#EBF0F8"
           }
          },
          "shapedefaults": {
           "line": {
            "color": "#2a3f5f"
           }
          },
          "ternary": {
           "aaxis": {
            "gridcolor": "#DFE8F3",
            "linecolor": "#A2B1C6",
            "ticks": ""
           },
           "baxis": {
            "gridcolor": "#DFE8F3",
            "linecolor": "#A2B1C6",
            "ticks": ""
           },
           "bgcolor": "white",
           "caxis": {
            "gridcolor": "#DFE8F3",
            "linecolor": "#A2B1C6",
            "ticks": ""
           }
          },
          "title": {
           "x": 0.05
          },
          "xaxis": {
           "automargin": true,
           "gridcolor": "#EBF0F8",
           "linecolor": "#EBF0F8",
           "ticks": "",
           "title": {
            "standoff": 15
           },
           "zerolinecolor": "#EBF0F8",
           "zerolinewidth": 2
          },
          "yaxis": {
           "automargin": true,
           "gridcolor": "#EBF0F8",
           "linecolor": "#EBF0F8",
           "ticks": "",
           "title": {
            "standoff": 15
           },
           "zerolinecolor": "#EBF0F8",
           "zerolinewidth": 2
          }
         }
        },
        "title": {
         "font": {
          "size": 10
         },
         "text": "<b>Frontera Eficiente </b> ",
         "xanchor": "left"
        },
        "width": 550
       }
      },
      "text/html": [
       "<div>                            <div id=\"df68cdde-0305-4a20-a575-94a313419ad2\" class=\"plotly-graph-div\" style=\"height:400px; width:550px;\"></div>            <script type=\"text/javascript\">                require([\"plotly\"], function(Plotly) {                    window.PLOTLYENV=window.PLOTLYENV || {};                                    if (document.getElementById(\"df68cdde-0305-4a20-a575-94a313419ad2\")) {                    Plotly.newPlot(                        \"df68cdde-0305-4a20-a575-94a313419ad2\",                        [{\"line\":{\"color\":\"purple\"},\"mode\":\"lines\",\"x\":[0.0216429438106569,0.0241429438106569,0.026642943810656898,0.029142943810656897,0.031642943810656896,0.0341429438106569,0.03664294381065689,0.03914294381065689,0.04164294381065689,0.04414294381065689,0.04664294381065689,0.04914294381065688,0.051642943810656886,0.05414294381065689,0.05664294381065688,0.05914294381065688,0.06164294381065688,0.06414294381065688],\"y\":[0.0004050993410990619,0.004810934458792672,0.006711732291404051,0.008270724489216742,0.009667289816518385,0.0107579692050086,0.011384747532292855,0.011882290040263581,0.012318934709198244,0.012719213452041484,0.013095152688245295,0.013453628578917073,0.012189835333147428,0.011780819757942337,0.01146843452446175,0.010939780930417599,0.010958722888788094,0.010734808840660614],\"type\":\"scatter\"},{\"marker\":{\"color\":\"red\",\"size\":7},\"mode\":\"markers\",\"opacity\":0.7,\"x\":[0.056889054316242735,0.06255023915742265,0.04271102186476983,0.02409490172433703,0.0461193000928183],\"y\":[0.011440509948098188,0.0001646750683600085,0.006449039425942275,-0.0024037733891619562,0.002527988665601598],\"type\":\"scatter\"},{\"line\":{\"color\":\"black\"},\"mode\":\"lines\",\"x\":[0.0216429438106569,0.0241429438106569,0.026642943810656898,0.029142943810656897,0.031642943810656896,0.0341429438106569,0.03664294381065689,0.03914294381065689,0.04164294381065689,0.04414294381065689,0.04664294381065689,0.04914294381065688,0.051642943810656886,0.05414294381065689,0.05664294381065688,0.05914294381065688,0.06164294381065688,0.06414294381065688],\"y\":[0.003218182822354399,0.022070924939559824,0.02980922173114777,0.03605204927068021,0.04138184598335207,0.046145562673218656,0.05024990945019769,0.05425545383293191,0.05766233367389817,0.060372528134618325,0.06242123722947494,0.05518482682891255,0.04645249573622914,0.040602604135628814,0.03717446848127743,0.03430907303322071,0.031295123352487096,0.02867925666924861],\"type\":\"scatter\"},{\"jitter\":0.2,\"line\":{\"color\":\"gray\",\"width\":0.5},\"marker\":{\"color\":\"black\",\"opacity\":0.4,\"size\":2},\"meanline\":{\"visible\":true},\"name\":\"0.0216429438106569\",\"pointpos\":-0.5,\"points\":\"outliers\",\"side\":\"negative\",\"y\":[-0.008164193809906812,0.008301010593316923,-0.001644206872122509,0.02163117551474864,0.0016685535243759343,-0.008650327245474562,0.014303860170252378,0.02701017053681613,0.0026025015081730775,-0.00565278013424919,0.023540737113457177,0.012656328371440864,-0.015462243818268783,-0.04080816225719901,-0.006867260060181922,-0.009910465446672508,0.009179708067451428,0.00955058651719735,-0.029653992528799383,-0.019289454506936424,-0.010807866428916537,-0.01775988107604009,-0.002309918445333386,-0.00046512403721594444,0.009461313933123683,-0.009366332823053367,-0.01011740655183505,0.026121283328725445,0.05101769536163555,-0.0005377737909506177,0.012894186498053005,-0.014789818328951675,-0.0007558682003036682,0.02643750851363999,0.029118623485338863,-0.038483186799896575,-0.006251897626152912,-0.020526398299528677,-0.01849809240405819,-0.02006840651874318,0.029927915893974078,0.019105617592408673,0.05570478075578164,0.021515384211110322,-0.03780238587885776,-0.00921519062027476,-0.003930161857494036,-0.012263154988933704,0.024480516523005615,0.0037783716749611703,0.030236460335679408,0.014277116964359845,0.017521074125704163,0.01068075257528429,-0.021241974937217037,-0.019736047132144476,-0.0050291648060137,0.04627091912772296,0.005639470899815996,0.001609645396554833,0.019427102527078362,-0.02455652482839955,-0.00024137455697004624,0.007511366190881323,-0.026194448303053286,-0.015414094089350308,0.01712302610935656,0.03145799355613515,0.014896896013808317,-0.0057908733715948775,-0.01518670554481551,0.003492704003637185,0.030044838527187256,0.00453438206510424,-0.019927535111838004,-0.05018625171258542,0.05514848209671931,0.018486396140511143,-0.013274694733575053,-0.009520342803777613,-0.01365973770588183,0.0034580176464458347,0.010307244946951328,0.03288182571030484,0.011050191370057597,0.07144383044775439,-0.009131209849720866,-0.011081460556073064,-0.01355440502988311,0.022255209763178026,0.0039734887496953464,0.006340755919018998,0.01121455236200313,0.01993863420505537,0.01315864701348481,-0.008595483069998678,-0.04194375521349418,0.00937329345847775,0.00817813951214503,0.0027963248357208417,-0.025202609743436983,0.009571776630764998,0.04243745645709902,0.02507379280975113,-0.005919880499099396,0.006572885605265046,-0.008929109936536806,-0.040375075906911514,-0.004600927210323631,0.008779462173939134,0.06309451722462552,0.010456151798619384,0.016487940947998693,-0.016853336173263084,-0.008228117307327412,-0.011884456826671368,0.011106571602748944,-0.007973656955271849,0.00024427541766585894,0.007923340179099464,-0.020968097349283746,-0.0075535896857098815,0.0032330745118422325,0.015088058015756845,0.006627744561463372,0.02116686388789339,0.021784926161304907,-0.013360042824681175,-0.019736803055708206,-0.008821411463290676,-0.032496996723314096,-0.020921003435787237,0.03352316000441673,0.007413321304928665,-0.027425239878535557,0.002999728969084477,0.00665050475097758,-0.0048758791696327155,-0.009050356501928081,-0.012528352387526682,-0.03107474144620735,-0.011652972315999065,0.019791041921235247,-0.03317596757750526,0.03435447311643424,-0.00348159289278752,0.017748026514209737,-0.013753360325481865,0.042237351748114146,0.03196846772369775,0.025686181049624772,-0.03963860267164642,0.013001608003931256,-0.02131185564963236,0.04524274776786766,-0.002847841142564458,0.00757406101706571,0.02256725412572844,0.01838575011292909,0.0007002023741333737,-0.0014809359908841374,-0.00964120049970773,0.009402550813421688,-0.011258782971027427,0.027439771203744842,0.018358531335752583,-0.004930669883343071,0.013619569406357866,0.024153804668778815,0.005054835536655281,0.04589250604274301,-0.020565340394419113,0.0005463525499707131,0.025461440266287685,0.008470613860676388,0.01384283628481686,-0.0006677189230422884,0.014338075384100198,-0.013300228872944696,-0.003741046236743249,0.013303380447040047,-0.025348649076476937,-0.001379473347409602,0.011056918373015706,-0.007510385661886435,0.025084112305677534,0.0022299512322281004,-0.02716599289850396,-0.03162419717565485,0.010195406612672247,0.01712778459542201,-0.0010145295832176212,0.020942849229985606,-0.00018761464859725282,0.02904956610385853,-0.006747531560287742,0.021208893726450673,0.04011225731560513,-0.01152496195605143,-0.0004356021504199018],\"type\":\"violin\"},{\"jitter\":0.2,\"line\":{\"color\":\"gray\",\"width\":0.5},\"marker\":{\"color\":\"black\",\"opacity\":0.4,\"size\":2},\"meanline\":{\"visible\":true},\"name\":\"0.0241429438106569\",\"pointpos\":-0.5,\"points\":\"outliers\",\"side\":\"negative\",\"y\":[0.023743980186850703,0.030849072142621264,0.011665675927543579,0.038835514167921366,0.023148382769578032,-0.0012839590823624707,0.030720204643183407,0.045168106466733075,0.019508088574931057,0.0069049157575897056,0.03755230823996607,0.03554501000927682,0.0073864056224351195,-0.025014199375536086,0.0023206328801001702,0.0005713775940792948,0.035873589005817816,0.025877202742272672,-0.012683039928597803,-0.004814746910858542,-0.0069240585881712524,0.009966321261944848,0.01687272122433399,0.010822230351269243,0.019417470965509345,-0.0029090893858199937,0.007252077853234039,0.031001547618582297,0.07227861732058999,0.0243790973578924,0.033555190088685835,0.006029790085395118,0.01406185080063723,0.04567157849221983,0.051215120387132815,-0.017440551542565828,0.0285228645074099,-0.016708608989861314,0.012421618612542092,0.002738822140142662,0.04220216113969114,0.03291214468963101,0.0695627228505162,0.03619504797471431,-0.027673316319389577,0.003999022106175859,0.008661740393282857,0.006795436075653502,0.04525964937202351,0.017612740788392527,0.0466614800293615,0.02588924886019232,0.028889392299376024,0.023735950772361823,-0.006606848036085237,0.01336877777717683,0.019664625787655897,0.056350010176479726,0.027198317906773083,0.015606403672190789,0.037047044537220956,-0.013969835733944842,0.003720245805690349,0.035673077839187,-0.012590337888041637,0.00905264635456828,0.047040535914912356,0.07206270923758122,0.03327215665675682,0.011168708837508803,0.011680384086508786,0.03028109038092055,0.06187754430130547,0.030606354196422145,0.01958655546112832,-0.0254919278010512,0.07212726424128807,0.027412046447921,0.02267954689831348,0.004797492728450179,0.0025872068619315026,0.0267637483639858,0.03141977229382785,0.04009327479537118,0.029579996284214316,0.07764018620923498,0.020624455421751082,0.024838529150979404,-0.00041142839264584653,0.03879885039033285,0.04329734312130875,0.03850442799576168,0.03317860952947628,0.03643278374823916,0.037514683871542276,0.02766546891710099,-0.031246176363582692,0.0529834813302138,0.030731440149763402,0.03616875188776436,-0.014462794148645815,0.04246149725395413,0.05634522055717784,0.052740192135135,0.0012756390780087122,0.04085846225469371,0.01615642842310274,-0.03401225884243862,0.014002729308828028,0.032638177854415286,0.08011095170500261,0.032926843302381985,0.0453185341096412,-0.006632356758646911,-5.6565723328201295e-05,0.0038000214347988434,0.017216820971345564,0.01549629436384818,0.016147473094000313,0.032350259481810355,0.0032377055556665076,0.0019984287443207942,0.01853672316316873,0.02920331147300623,0.028424634125575877,0.03745563757277667,0.03245683852083797,0.007452451241335042,-0.0034391849861607664,-0.006479078090322991,-0.006759243722083458,-0.016949778929809825,0.045052172600481145,0.029528062954491223,-0.0046564467983074035,0.04187568760666314,0.0413435139862448,0.005944513742327886,0.02534893580991552,0.009830628657658113,-0.017579711967554368,-0.004398704554772881,0.0423925885669896,-0.017606852035332722,0.04482462936418279,0.012011529654022659,0.04524373819155325,0.005992907242782947,0.0659216492998035,0.04594366105290718,0.0423691035950646,-0.029115000050239894,0.04059141723247019,0.0010926199508841663,0.06603973421165843,0.006393187468743379,0.026691940827984626,0.03890094345333608,0.039299391796385225,0.013130448057244557,0.013372336068217775,0.004660878826857385,0.0178815109720808,0.001086551007066768,0.05296266268943403,0.042805929598292596,0.01163658989670407,0.02427424329252135,0.03374444486592868,0.03141136013004903,0.058786068585313656,7.689504326697258e-06,0.017629450118205856,0.038318938378514474,0.03329800368377614,0.02561141291154503,0.024908380191478518,0.030769559901248678,0.008484445486903998,0.02665729482600794,0.04192510739374971,-0.011521634748036448,0.012956339361527,0.025734884867321145,0.007750435625613598,0.038744924377497866,0.015895692936018897,-0.005607395242545529,-0.009038459387896821,0.04186419591675965,0.04641149750201967,0.020094521487395964,0.04201988319170184,0.012143657723762382,0.039219092034075746,0.018085806097837775,0.04043893226024777,0.06240947834956915,-0.002212068907357081,0.010753493317204738],\"type\":\"violin\"},{\"jitter\":0.2,\"line\":{\"color\":\"gray\",\"width\":0.5},\"marker\":{\"color\":\"black\",\"opacity\":0.4,\"size\":2},\"meanline\":{\"visible\":true},\"name\":\"0.026642943810656898\",\"pointpos\":-0.5,\"points\":\"outliers\",\"side\":\"negative\",\"y\":[0.038186368226945995,0.039487074390227805,0.017689999901961108,0.04661233360109069,0.03237711808833879,-0.002336544020901554,0.03751493457961943,0.05293544912194139,0.02624196356524523,0.012588831335844743,0.04379205781606032,0.04474949355112223,0.017607272058645863,-0.01811274214634137,0.006480028068326944,0.005240823995036659,0.04760506491342543,0.02521961516814555,-0.00523735230769626,0.0015335924707127538,-0.005627990872954764,0.022515932993700614,0.025566144951840696,0.01587596292708873,0.02315306629539576,-0.0020199133895518803,0.014099301945581552,0.032420222520038844,0.08151402102394255,0.035085028556991735,0.04291058528562861,0.0143014943823698,0.020664434121685123,0.05281342076582582,0.06026685168400421,-0.00791628782381748,0.04353609524614884,-0.015171832951907797,0.024354295591721576,0.013038989942588597,0.04679196658956393,0.03585245407164794,0.07561899544868027,0.042160006096140394,-0.023664967891537634,0.009990774245273051,0.013743272101829133,0.0152558863125779,0.05352504226571292,0.023019189875965195,0.05392371199251255,0.031146229689545783,0.034010517887077804,0.029449729946830254,1.7349397523232596e-05,0.028352849983905495,0.030566583973335556,0.060912102184883805,0.036330500023916606,0.021944635447299757,0.045022254147084044,-0.009330495436564876,0.0050285398373101035,0.04833076123039793,-0.00706125327735607,0.02012691315836143,0.05951075981519251,0.08922463670884168,0.04047231882550044,0.01858883012744265,0.023751574216645397,0.042408186810344986,0.07628579464775176,0.03992097658135313,0.037473946052971434,-0.015912049160147136,0.07949108380651573,0.031028313360115106,0.03848793079438127,0.01035521217902782,0.008900666929309681,0.03726830609158341,0.04097051878510087,0.042974822310463276,0.037957572832620544,0.08024882107575039,0.03346918539397554,0.036097354219377334,0.0005562895549354884,0.045140126109984635,0.06076012510154961,0.052639251767839394,0.04312008625839925,0.04386502539058255,0.0485385350274232,0.04339320312477058,-0.026404288857956777,0.07249018638832717,0.0404674172949055,0.050866951914581224,-0.010178765684021174,0.05686010908838272,0.05805794558751546,0.0652626813302649,0.004313613818131101,0.056008609651832277,0.027510799534248485,-0.03172200725738356,0.021901104977309727,0.04251885249509708,0.08781379288684296,0.0411597791701022,0.058367471394086656,-0.0020058164372642505,0.0018572854806825337,0.009621667974708826,0.018984537377073216,0.022317574204395754,0.02330687814368289,0.03907663004092966,0.012746819306008433,0.005674859649516939,0.024916191181479676,0.035285361851283066,0.029554155532940222,0.04482750520367486,0.03656088504419651,0.01649983176722207,0.0029980547502046545,-0.005757721510092853,0.004858069539576385,-0.015981131391757247,0.04938055285038019,0.0393559452577247,0.005543662502714929,0.059471879016818455,0.057046385434347695,0.010558638637928315,0.040468608187658635,0.01995084743245584,-0.011708165120088838,-0.0021424803190419777,0.05258086962332389,-0.01082113677504054,0.04928192127734028,0.01852188243358044,0.05756927100933286,0.014648665219456852,0.07664175721388984,0.05177441332578407,0.04865164480517836,-0.027535166264115195,0.05307937444354027,0.0061183392648107736,0.07457503700212516,0.010575969296253354,0.03455889533439849,0.045337319939133716,0.04842190209041216,0.018453088923661366,0.020095267053587825,0.010632392839974645,0.021088807391852312,0.006361713102127977,0.06297118575009569,0.05365168398971382,0.018735681874625106,0.02909976466840557,0.03674823388890033,0.03828286780490215,0.06462194794721676,0.007905321251657015,0.025362651583521793,0.04171750636930632,0.043751056026778944,0.030940736504163426,0.036484772469895094,0.03587438971676166,0.017624633543758508,0.040222243995210974,0.05373032635203911,-0.00844854085070191,0.019445059975141944,0.03205621949476189,0.014658484534722984,0.04492865695079865,0.020551370061040575,0.0041504454201062475,0.001184970705599562,0.05574397705314336,0.05967540612081303,0.028910722739760447,0.0504276538915083,0.017314486412311106,0.042256510496264686,0.028906714846372094,0.048887902365373194,0.06941548247575657,-7.942014106317864e-05,0.015353086453064548],\"type\":\"violin\"},{\"jitter\":0.2,\"line\":{\"color\":\"gray\",\"width\":0.5},\"marker\":{\"color\":\"black\",\"opacity\":0.4,\"size\":2},\"meanline\":{\"visible\":true},\"name\":\"0.029142943810656897\",\"pointpos\":-0.5,\"points\":\"outliers\",\"side\":\"negative\",\"y\":[0.0500538360826986,0.04655071190506999,0.02264224971662408,0.05299161687137939,0.03994679100823477,-0.00034419982635327373,0.043088114786406444,0.05928930621990554,0.031766480305825635,0.017261021733421745,0.048910054515345,0.052299234394105644,0.025992518269947355,-0.012451962867230094,0.009868086357512853,0.009070873744105833,0.057207522331985505,0.026464296066870587,0.0008697083092920582,0.0067423236649768485,-0.004567274752668209,0.03283218695675026,0.032712150005438166,0.020020305036668,0.026217104036134666,-0.0015038814886331516,0.019698584929510068,0.03351412392039982,0.08877033846742291,0.04232767459040012,0.05060107260480799,0.021086112999614753,0.026080016612381792,0.058323492282435115,0.0676912976258268,-8.690238255965778e-05,0.05585030095565968,-0.013915122594870013,0.03356042290807913,0.02123211887014818,0.050545258938140304,0.03811966120775727,0.08057145167733777,0.04705261755416053,-0.020387188445725398,0.01491020396950289,0.017911274732184127,0.022195363438192905,0.06030450392945705,0.027453544184712603,0.05986232511469434,0.035464600905771276,0.03819913814619627,0.03413733855836875,0.005462709862338391,0.04066598199809016,0.03950864688969024,0.06466017558105387,0.04382045305510087,0.027153307001978287,0.051578082523745544,-0.0055251816703785536,0.006098395220382071,0.058712905912626796,-0.0025397542999731878,0.029230348671514587,0.06973915126869625,0.10330172407819879,0.04637806577144592,0.024676231310259086,0.033654881809798816,0.052377177354087416,0.08812997702002605,0.045743649556469715,0.052178075365283724,-0.008521062660373991,0.08553101325592312,0.03399460968357301,0.051415031790075054,0.014899971425960055,0.01407973510927848,0.0458860085447813,0.048807284759218195,0.045338350497213645,0.04464734663527991,0.08238852757967925,0.04400479096214092,0.04478369680290213,0.0013024710310357297,0.05032584918517933,0.07508352578178494,0.06423299440828802,0.051292385252350234,0.049961098359979667,0.057600714369113716,0.05555356697577796,-0.022424410264499827,0.08849000155232098,0.048428895981208295,0.06292277508184077,-0.0066649261014611345,0.0686701377509674,0.05907284818458699,0.07554979021984218,0.006805465425805262,0.06843509603401336,0.03684454247973228,-0.029843472809578303,0.02837959508955488,0.05014189541278066,0.09414587123877126,0.0463801452414687,0.06884599334832707,0.00179721425550532,0.0033261176181154585,0.014396758960087842,0.02043613022600626,0.026324262556832418,0.029165501903325515,0.04301089715825081,0.02054645470090183,0.008691036802662687,0.030148800747270773,0.04027393393630163,0.025769629300297137,0.05088902577701361,0.03972831080424703,0.023920715910577504,0.00827800677663136,-0.005167808406672988,0.014386835832711118,-0.015186977743868376,0.052930799907430444,0.04741702764734726,0.013911962292144909,0.0739366582576631,0.06995476367917904,0.01412776538562097,0.05287004431503627,0.028270079300645037,-0.00689217978414625,-0.000297477106893266,0.06093949314121759,-0.005255421238967447,0.05293790168108016,0.023845654124782477,0.06767902657576429,0.02166769354353477,0.08545429876237151,0.05655694689976993,0.05378912419320466,-0.026617407178288473,0.06334498994546053,0.009035682241323527,0.08116021145699188,0.014014132561375504,0.041011569506291534,0.05049282410065177,0.05588205101426476,0.022603422061334925,0.02562178259390631,0.015497081569302571,0.023719502944168847,0.010433036056640413,0.07069292256154776,0.06254765160863562,0.02455853486723786,0.03306537254485417,0.039204494153246124,0.04358431346246604,0.06941947237835015,0.012967015608346382,0.031647511832728306,0.044338064839032014,0.052324890445987295,0.0353223015630547,0.04600097631518758,0.03964258914613046,0.025109229943916726,0.051351046234976445,0.06338374793285874,-0.006077672469504177,0.024778179108247103,0.03724110028832491,0.020336324184000724,0.050011185059686734,0.024358495151505757,0.012171811552483681,0.009584705221101057,0.06709406171198372,0.07036999273693308,0.03614207720403418,0.05691435070187356,0.021102182319814818,0.04474035680566804,0.037782284181463205,0.05581795818872053,0.07481764684510969,0.0015659579271869,0.018924877433346844],\"type\":\"violin\"},{\"jitter\":0.2,\"line\":{\"color\":\"gray\",\"width\":0.5},\"marker\":{\"color\":\"black\",\"opacity\":0.4,\"size\":2},\"meanline\":{\"visible\":true},\"name\":\"0.031642943810656896\",\"pointpos\":-0.5,\"points\":\"outliers\",\"side\":\"negative\",\"y\":[0.060702998316798686,0.05287076030886475,0.02708235866615506,0.05870610749008468,0.0467275968591285,-0.00031478849718256696,0.04808055341627307,0.06473533220448219,0.036715762890861016,0.021450422430917646,0.05347243153277255,0.059062250791718354,0.03350471319084345,-0.007381068847224443,0.012842277294435852,0.012501796159626238,0.06579914141041862,0.025558591336167356,0.006340478882154168,0.011407693219061621,-0.003656653096690098,0.042081542014797774,0.03911930248940589,0.023733158352693528,0.028961884353249607,-0.006290984054207466,0.024708438005671497,0.0344722841007011,0.09512896919126765,0.04834310807044297,0.05749620923021515,0.027163732441424407,0.030931299199745875,0.06315276715280935,0.07434208408731532,0.006932699821196787,0.0668812705068959,-0.012790759881465098,0.04162924648159692,0.02841288636457381,0.05390340192433658,0.04010638908335378,0.08500260317026692,0.051435382693953285,-0.017682205590325625,0.01932081295944655,0.021644946794712513,0.028409810354865048,0.06627215816740249,0.03142592148424433,0.06517578252163576,0.03934253995112573,0.04194683216098622,0.038336834276865135,0.01034490500780372,0.05169734633030979,0.047518924824004195,0.06797898314964218,0.05033591045963652,0.031823265286225644,0.05740196850355957,-0.0021164121791128285,0.007055636770282546,0.06801318707153546,0.001505636721741134,0.0373923206663388,0.0789016800805964,0.11591130833602058,0.05166851360625594,0.0301297759310333,0.042527046895528865,0.061315119209015966,0.09874910685958858,0.05057965687527756,0.06536145202589247,-0.0020432474706911603,0.09094166344937887,0.03665154107957502,0.06298134652918602,0.018966354816708473,0.018719170108090863,0.053607870741484875,0.055827427376397114,0.04745556179560608,0.05051058797300361,0.08430429125814254,0.05344243855669927,0.05239681892876472,0.0019563549181550875,0.05496567592570732,0.08791437461782346,0.07461858377609429,0.05861946237918396,0.0554219341451241,0.06572565482879632,0.06621149419588292,-0.018855637959218373,0.1028225961269154,0.055552298538019566,0.07372236027767921,-0.003518436820652535,0.07924953842186977,0.05986487083859694,0.08465117058289501,0.00903759657296379,0.07956670649686616,0.04521298729958813,-0.028160688116246835,0.034182939098700994,0.05682309578936344,0.09982305059715997,0.050715904287063886,0.07802987201932879,0.005207245144137854,0.004589053011716719,0.01867399432837141,0.021735530225127947,-0.005774549475741818,0.0344073932637518,0.0455202737654202,0.02744911008705028,0.011393146368106802,0.03483617139881344,0.044742675115298385,0.02426056211971185,0.05632287768715115,0.04250388689108115,0.030568317517103774,0.013007806688270843,-0.004641025888285796,0.02292270157624009,-0.014475579669632962,0.056111115995385236,0.05463811162148176,0.021405213301486703,0.08690546571115318,0.0815281480386457,0.01725539819758729,0.06397924486825723,0.03572889926075429,-0.0025780397703103453,0.0013533304444559742,0.06842776041699954,-0.0002696256795420011,0.05621328751289208,0.028609012490695748,0.0767352665160365,0.027596883159217878,0.09335498610621834,0.06084112817345806,0.0583857875912165,-0.026164752871053767,0.07254895074729772,0.01145020095357594,0.08693160170062571,0.017094719616501785,0.0467918416245581,0.05480898285026359,0.06255690278081696,0.026053113331707532,0.030576760227284283,0.019768233495087034,0.02607605935961142,0.014001313540525485,0.077460580028514,0.07051658940996539,0.02977461569094427,0.03662024976894491,0.04133953856178182,0.04823078587494759,0.07372086474749492,0.017170995914941416,0.03715943524081758,0.0466344566470271,0.06000531145733612,0.03925042594003118,0.05453302196583019,0.04277246860446868,0.03180592378647598,0.06132106377288109,0.07202104924527222,-0.003999817406694673,0.0295612635359142,0.04188564170256703,0.02542852832452319,0.05456918667087692,0.027764868742929015,0.01936357520491219,0.017109771282090312,0.07724929023894943,0.07974324944441598,0.04261974127431322,0.06259960272480607,0.023728336463094277,0.04696269793977242,0.04573298213079744,0.06202586200985323,0.07955152658988288,0.0030080261692603185,0.02189257525183774],\"type\":\"violin\"},{\"jitter\":0.2,\"line\":{\"color\":\"gray\",\"width\":0.5},\"marker\":{\"color\":\"black\",\"opacity\":0.4,\"size\":2},\"meanline\":{\"visible\":true},\"name\":\"0.0341429438106569\",\"pointpos\":-0.5,\"points\":\"outliers\",\"side\":\"negative\",\"y\":[0.07061881061192539,0.05875172640333704,0.031218493479784528,0.06402698263431396,0.053041352905032285,-0.001288988924010739,0.052729095940873376,0.06962748288708952,0.04130171738003575,0.025352865431846824,0.057599855693876205,0.0653594069386235,0.040499721948994385,-0.0026594495424873154,0.015580544063163308,0.015670021243240698,0.07379385885345884,0.020828260429835547,0.011356452839064694,0.015752408962427952,-0.0028386306203911377,0.050697742050763994,0.04436903353212101,0.027190835438149753,0.03151751449541445,-0.00973318590962765,0.029370229273641215,0.035355154062965334,0.10098261534723361,0.05374670543335101,0.06391937822384718,0.03282272188009065,0.03544836917090485,0.0675989217406302,0.0805347407929098,0.013471478038247789,0.07715240196750645,-0.011744483652703832,0.0490578417279802,0.03502400631794957,0.05702824512879646,0.04193533698810765,0.08912583228147782,0.055516278124858334,-0.01728071767744385,0.023429547014516067,0.0251214313941425,0.034192542275632655,0.07159780656829037,0.034725625370235,0.07012009659193463,0.04239532437597016,0.0454341442095205,0.042247267794275914,0.014892874877763404,0.06196931408380762,0.05497738971564719,0.07103420718566311,0.05618872891662228,0.03535418067450161,0.06276383828981998,0.0010575535827051154,0.007946382166414103,0.07121833211279223,0.005270015631097095,0.04499509374508037,0.08743307988645978,0.12664023748684894,0.05659433012675705,0.03520794993840772,0.050788390084761104,0.06882632109647116,0.10864157048712819,0.05492383899281753,0.07764246429013875,0.0039206791010730135,0.0953572166352931,0.039036413128210476,0.07374405533980828,0.022750144611705537,0.023039009696957463,0.060795660570604496,0.06236398598804763,0.049426946419586615,0.055908669508432526,0.08608991706032826,0.06223006232067296,0.05940596432178871,0.002558351697363982,0.059283155861029224,0.09425118600866862,0.08428614999593706,0.06544501637219423,0.06050658227776611,0.07329453254226219,0.07602390092759322,-0.01566216661001422,0.11616791605086112,0.062180790954019426,0.07616814417824992,-0.0005905448326679629,0.08910018861682072,0.06014564587875833,0.09303048851579826,0.01111600592609223,0.08993156274666979,0.05293294979489748,-0.026593802343050435,0.03958657382303132,0.06297425352315925,0.10511165216357721,0.05461071111995078,0.08648515984737241,0.008383788894239389,0.005545155442299632,0.022657109139681157,0.022945976040090407,-0.015062039942736194,0.03812154706586006,0.04410810632755102,0.03366387057770036,0.013909241622290394,0.039200636850125835,0.04890368200358721,0.019630042988352515,0.06137067467943195,0.045059037622549,0.03675797240780605,0.017411784932266524,-0.00416269464100461,0.03086454196240056,-0.013818181278656588,0.059072310550369794,0.06136178580700868,0.028330170545086013,0.0989865912287899,0.09230936585958377,0.020134552314942107,0.07432321940817495,0.037296585284082875,0.0014389776249726267,0.0028670158803992297,0.07540061314639217,0.0033188938122497326,0.05926233062153498,0.0312945590503933,0.08516769524363536,0.03292306027540499,0.1007151527206824,0.06296493875057767,0.06207742405125013,-0.027086113463585894,0.08112288940628153,0.01361590140279083,0.09224521241863393,0.01996312222633086,0.0521739677264823,0.05868615794567328,0.06876797831119295,0.029151895757033544,0.035192561447404784,0.02370018397953689,0.028270288039665657,0.017286530278686717,0.08369130582199251,0.07793661009303174,0.03463138403779534,0.03993597958982288,0.04325463307310027,0.05250860676086371,0.07772774343120374,0.02094742710051717,0.04223408367399691,0.04874842674077313,0.06715666625738279,0.042909648539977176,0.06248111181416833,0.04558403177477113,0.03803737800719532,0.07060474558609181,0.08005827137403061,-0.002086744075447043,0.0340162663037534,0.046210324611871786,0.030171262488005796,0.058780882981403014,0.030934549065428137,0.02606312079576495,0.02411683992083788,0.08669900363753516,0.0883728865330507,0.04641933203470659,0.06783382191437685,0.023306409037156358,0.04878279166074156,0.053136004563893585,0.06780615386777172,0.08390941950413838,0.004335698258909322,0.02455839447534792],\"type\":\"violin\"},{\"jitter\":0.2,\"line\":{\"color\":\"gray\",\"width\":0.5},\"marker\":{\"color\":\"black\",\"opacity\":0.4,\"size\":2},\"meanline\":{\"visible\":true},\"name\":\"0.03664294381065689\",\"pointpos\":-0.5,\"points\":\"outliers\",\"side\":\"negative\",\"y\":[0.08005202642509093,0.06434267047696594,0.03515337400551857,0.06846110150845787,0.05904609086585746,-0.001961707806345794,0.05715017063634568,0.07418368267723399,0.04563283745509574,0.029065380336609846,0.061443873308665437,0.07134845785454019,0.04715257320921308,0.0018310368411438576,0.01816691966128868,0.018034340185532658,0.08139430037858718,0.017561849643131396,0.014991528548986739,0.019884598125492384,-0.002076808984266573,0.058894650487349105,0.04767878842017774,0.030418080144288887,0.03394810965097529,-0.011603008986625023,0.03380213906410085,0.036188656450381065,0.10651137803325628,0.0587792408406169,0.07002998068261596,0.03820474753139069,0.03974439346988705,0.07179855053870696,0.08642413770038615,0.019677299975481975,0.08633585715334693,-0.010749807745131854,0.05398470794859725,0.0412684241499243,0.05999898769545192,0.043662779451311924,0.09304574491713248,0.05939739645557729,-0.017036785577163885,0.02733833638868598,0.028427772338809658,0.039690124217674386,0.07587608396972273,0.03673820770811334,0.07482064886020671,0.04426261040402714,0.048749436010644194,0.045966411931997055,0.0192152127686048,0.0717388875640452,0.06207084158342248,0.07391996891710265,0.06163960982490366,0.037457143658769274,0.06782836201788041,0.004076217176144708,0.008793204002188689,0.07240354218412834,0.008848746211578407,0.052199181858987954,0.09554691083477128,0.13337305584527923,0.06115767908776614,0.04003765618983145,0.05864566307629306,0.07367372221471155,0.11803657381430017,0.05896970025424282,0.08932586440179444,0.009553862482666153,0.098000251875418,0.040668307850972696,0.08397600288214434,0.026347372828368243,0.027147434141421026,0.06763304916891878,0.06858310884952463,0.051295709788796655,0.06100746963435988,0.08778726036536928,0.07058760651092602,0.06602644356797653,0.0030916470027338447,0.06338770986012489,0.09704608910815002,0.0920151543056853,0.07193842371415644,0.06534224737061896,0.08049479348969997,0.08529215734813263,-0.013423782805702987,0.12886009449312452,0.0684823934282346,0.07685140674089075,0.002192955117591874,0.09806313883144889,0.060339546019738705,0.10094520618507807,0.013092681906438022,0.09978896364965056,0.06042484483499567,-0.02510830636147819,0.044725780049923884,0.06878256866013382,0.11014257740267744,0.058238048052766014,0.09447045314013895,0.011405737306270003,0.006222291336285989,0.026445032360548883,0.024096389704623862,-0.02742200448957932,0.040903397922706725,0.043133010597750605,0.03945181204129834,0.016302273073533356,0.04335147776070111,0.05231869869783955,0.01643256491595337,0.06534814774390707,0.047472391919181775,0.0425913424793803,0.021600186313519495,-0.0037175734844117326,0.038314616738066624,-0.013183186263775555,0.06188859802982368,0.06775782929185278,0.03487081205541897,0.11047977546903663,0.09930722459090101,0.022853953722817795,0.08416088307472068,0.03801422964896828,0.005259314327534993,0.004029162756598586,0.08203229045014708,0.005256930124682341,0.06216248652180555,0.03308385830291032,0.09318741828234743,0.03788345955899824,0.10770894603538675,0.06390332583018808,0.06452046076972635,-0.027722335970675423,0.08927955041661367,-0.025198876397454113,0.09726416501915451,0.02269110890916768,0.057292644276339046,0.0622970809827204,0.0746727853696003,0.03203790621214135,0.03958374550146496,0.02741390353218278,0.030357132222609533,0.020389596318148354,0.08957656338451439,0.08496028789037692,0.0392504636698683,0.04308781412464168,0.04503677573976202,0.056549177205539106,0.08110239880936222,0.02446455216795171,0.04702732891199338,0.05074512728824335,0.07395800601385448,0.04639081188369429,0.07004233922704388,0.04820251482265987,0.04396149777641234,0.07943433958178125,0.08769912866281822,-0.0002797510601594769,0.038254429015805946,0.05032328000561294,0.03468347513084199,0.061999324098424236,0.033947930350723125,0.03243657702982017,0.030781174820422533,0.09568269509349184,0.09652400654275467,0.048241866627237714,0.0727777998822187,0.023014997166337196,0.050001561891489354,0.06017670962338913,0.07330356448054444,0.08802544781761135,0.0055897560030221585,0.027041155836126114],\"type\":\"violin\"},{\"jitter\":0.2,\"line\":{\"color\":\"gray\",\"width\":0.5},\"marker\":{\"color\":\"black\",\"opacity\":0.4,\"size\":2},\"meanline\":{\"visible\":true},\"name\":\"0.03914294381065689\",\"pointpos\":-0.5,\"points\":\"outliers\",\"side\":\"negative\",\"y\":[0.0891431630115111,0.0694832924718057,0.038945552850729676,0.07198480873579378,0.06483194332574974,-0.002528944398997226,0.061411573816133325,0.07851404682979354,0.04978742149451155,0.03264227453566304,0.06509737787323527,0.07711901469496288,0.05356308707860551,0.006157789045521297,0.020647587924902705,0.019911453184681495,0.0887157148875584,0.01480761696685637,0.017877545830993793,0.023866233630456056,-0.0013526895954180294,0.06679411084105549,0.050253177054375195,0.03312298813813448,0.03626063746493295,-0.01314283756097926,0.038071302506686465,0.036988001319795544,0.11181396937393794,0.063562358767751,0.07591906067839904,0.04339061154013524,0.043883783244105426,0.07582651806428457,0.09209917449020347,0.025587456267534232,0.09375808846329349,-0.009791648195985013,0.05656435310760953,0.047010804044114125,0.06286066986859142,0.04531954858868879,0.09682176573910452,0.06313704869680457,-0.016835959152563362,0.031105399759015488,0.03161358258683581,0.044985847692464984,0.07948353934819959,0.03833605617829659,0.07934847436678542,0.04576877220016851,0.05194310244408296,0.04955005073167856,0.02336289646604235,0.08115239764895717,0.06890290115662878,0.07660827224554809,0.06682035271249624,0.039153382489040094,0.07268591762491798,0.006984777798090225,0.009608870724314326,0.07334452481294612,0.012296123380368758,0.059108817619420134,0.10336499574833458,0.13871852192131592,0.06494329296372023,0.04469141332808405,0.06621664648350548,0.07758353973821232,0.12632002594845193,0.06281501997266349,0.10058548619301316,0.014875473393070784,0.10009864774110963,0.041963956173778655,0.09383230815709255,0.029812577947170567,0.03110623458922368,0.07421629993197017,0.0745694817045196,0.052960609691176136,0.0658977824381978,0.08939434781949744,0.0783955537926357,0.0723763251515812,0.003544192500784074,0.06734157839150413,0.09926511396544761,0.09815150261541802,0.07819634248009587,0.07000007859947938,0.08743418584843793,0.09418162215451538,-0.01164918992619034,0.14098351733872888,0.07455267094383974,0.07739385626024066,0.004874268386623213,0.10569202063809548,0.06050304906463827,0.10853636263992507,0.01498059623943527,0.1087912657806796,0.06757213548443804,-0.023694653323740503,0.0496775101979558,0.07346273979484597,0.1149902301687939,0.06168561082674188,0.10208802769066423,0.014185259533661154,0.006800682677805647,0.029935697322392377,0.02520387509335651,-0.03477449447808839,0.04332289771436064,0.04231076999011254,0.04495291235524846,0.018608109389977135,0.047351062803084355,0.055030443837558916,0.013736427178684613,0.0685563738009362,0.04978698623039858,0.048119795953484895,0.02563591989049817,-0.003294723809740908,0.045395443431571654,-0.012576179411069243,0.06457044933822528,0.07391787002894734,0.04114386220685651,0.1215562381869036,0.10299306988379874,0.025462164426742193,0.09363993857072299,0.03859309901933512,0.008940417725729797,0.004986219053364595,0.08842235073839975,0.0067956304171579605,0.06495693071276747,0.03463207522874201,0.10091477466942461,0.04259806486575241,0.11386466960817267,0.06464835972045307,0.06653236127477646,-0.028258792537045132,0.09714043047386263,-0.02896322991352556,0.10207799908861295,0.02531966107068635,0.06222474419538669,0.065729048835048,0.08036077263946464,0.03478088428423336,0.04381564937751209,0.030975706791662127,0.03236790221306598,0.02336581867894694,0.09522127391648744,0.09163956441475636,0.04370114386060322,0.04611563061144793,0.04672973601623911,0.0604246384609585,0.08319174592909834,0.027807301874645435,0.051624661777671804,0.052660081104375124,0.0801189093823888,0.049745763254021656,0.07732936366470183,0.050691220250801784,0.049668127382373035,0.08794223118174187,0.0950594931434815,0.0014533545370847443,0.04233496430336047,0.054233764140282636,0.03903187932703214,0.06459528517907713,0.03685069119003649,0.03857800293122416,0.03720273027736438,0.10433659380584082,0.10434197113184554,0.04968884636860201,0.07751974009625238,0.022769364991335358,0.05100524893636259,0.0669607712120903,0.07860051118254523,0.09197312528466783,0.00679166604057317,0.02940088592552008],\"type\":\"violin\"},{\"jitter\":0.2,\"line\":{\"color\":\"gray\",\"width\":0.5},\"marker\":{\"color\":\"black\",\"opacity\":0.4,\"size\":2},\"meanline\":{\"visible\":true},\"name\":\"0.04164294381065689\",\"pointpos\":-0.5,\"points\":\"outliers\",\"side\":\"negative\",\"y\":[0.09798026378341403,0.07406425815999354,0.042630243651713105,0.07507697637078926,0.07045520399541347,-0.003039370262848897,0.06555015744194335,0.08268257902874113,0.05381166219542768,0.03596116835542004,0.0686143588978457,0.08272749866440711,0.05979349170746102,0.010346207808906235,0.02305071349101911,0.021558674562577332,0.09583006920803801,0.012329232522527508,0.020410106444639607,0.027736054570822753,-0.000674208329185314,0.07447177458681602,0.047759180580535854,0.035496587503584524,0.038331854105388315,-0.014514065369431145,0.0422197502745145,0.03776237359833889,0.11695062131985824,0.06646330091784297,0.0815904610131011,0.04843070089119378,0.04790687929753098,0.07969147514332443,0.09761440351838736,0.025076724693993843,0.10027132111842235,-0.008860567676450047,0.053543649453944346,0.051716988588261056,0.06564142857588412,0.04692447499173263,0.10049096959023598,0.0667716764270854,-0.0166571035259839,0.03476705720627618,0.03470987365337655,0.050131837103309755,0.08272969553528436,0.039738210069688355,0.08374831518763154,0.04709853622457893,0.055046405695169456,0.05303305292175606,0.027380857117098225,0.09030163118660803,0.07521596499830538,0.07883823124840945,0.07177923229126605,0.04065103084698529,0.07739153623706592,0.009811632079791922,0.010401515072205169,0.07417028111854193,0.015645950728221333,0.0658023924137959,0.11096335305815264,0.14268322541753128,0.06826530952380774,0.04921448727114316,0.07357495262464624,0.08103564779381814,0.13363364772864683,0.06651662406608282,0.11131367763865097,0.019727590149578974,0.10194005012766964,0.042870821805823224,0.10340986534561224,0.033179704901308824,0.034951879092552166,0.0805952933244842,0.08039238304585736,0.05445876656833369,0.07063523745070101,0.08847616711038372,0.08529656562283197,0.07852764672014488,0.003952147978073482,0.07118365166200037,0.10085833554847583,0.10353630579304905,0.08427927728702145,0.07430482262813357,0.0940715264567196,0.10279311004101747,-0.010204942497918448,0.15190008121906107,0.08045122749083965,0.07786988043192977,0.007479743751063898,0.11255683931026941,0.06065020397548383,0.11589017495170288,0.016706137147913767,0.11689194660188912,0.07451960532183353,-0.022333838615014433,0.05449019737089965,0.07718609193072234,0.11970175303044729,0.06500432288913223,0.0984985722446951,0.016458223209333,0.007324320436616129,0.021684901814643963,0.02628457347813802,-0.04140252252674686,0.04553293977302718,0.0415708954747994,0.05024838297044306,0.02084920308347652,0.05123765213271151,0.05741001743036547,0.011310356912457839,0.07138899539338849,0.052029166155298276,0.05320707133465509,0.029549503031610677,-0.0028878162029175505,0.05221160271175368,-0.011988390955539708,0.06701386960047584,0.07990624519687511,0.04722061765699382,0.13232284830420257,0.10592540615069539,0.027988650292148587,0.10283984016626946,0.03910422363644628,0.012518095488148709,0.005838474555198013,0.09463280351496743,0.008145878856320855,0.06767285645399634,0.03603995418857468,0.10839822847120506,0.04332210282291403,0.11742404905825445,0.06385787027118446,0.06832396390395856,-0.028741524224742316,0.1047815297448246,-0.032350506818958,0.1067412791679051,0.027874358232199446,0.06701827383241629,0.059191238931063365,0.08588791576389562,0.03742132818934113,0.04792924504968868,0.034426070414599524,0.03430783600750243,0.02624895214469745,0.10068946809164009,0.0980467991094315,0.032700338616885184,0.04888333080205883,0.048358849276248825,0.06417890805543418,0.08485394533943746,0.030936422038827908,0.05607609324004546,0.05451514113070758,0.08552684012748989,0.05300684795527682,0.08441265641119933,0.05128052284813284,0.05521334833976251,0.09621115026465972,0.10221164909714435,0.003131597199269014,0.04630901389211886,0.057733344308712034,0.0432587269465365,0.06688732164550625,0.039671342026233125,0.04454953270267899,0.04344385797682375,0.11274570109859293,0.11185895414403008,0.05095860495354818,0.08211331989985866,0.022548291917285614,0.05189903542769202,0.0735541617291822,0.0837396443546908,0.09579724956119953,0.007957756238734534,0.031672406172036226],\"type\":\"violin\"},{\"jitter\":0.2,\"line\":{\"color\":\"gray\",\"width\":0.5},\"marker\":{\"color\":\"black\",\"opacity\":0.4,\"size\":2},\"meanline\":{\"visible\":true},\"name\":\"0.04414294381065689\",\"pointpos\":-0.5,\"points\":\"outliers\",\"side\":\"negative\",\"y\":[0.10662164334844162,0.0782972498739469,0.04611637592154843,0.07791155346175882,0.07595352617070071,-0.0035138110130291545,0.06959833465287656,0.08672972714762237,0.05773684218439353,0.03900310335650029,0.0720288813174181,0.08819850852468325,0.0658855531642079,0.014253960011478934,0.025394696151781478,0.023068725717994565,0.10278533625010232,0.010025566684996698,0.022731732525224424,0.0315199469181217,-4.3504103424919435e-05,0.08195837561533036,0.04494393560130774,0.037672508826957087,0.040230559770503306,-0.015781119479799263,0.04627543092528365,0.038517691019367084,0.12196081897684925,0.0652768208034617,0.0867839331256235,0.053358807358109,0.05184057904863648,0.08316952825532652,0.10236874670237357,0.02027600617646462,0.10624205712004783,-0.00795034443680596,0.05055609890586847,0.05584410777639311,0.0683599893527769,0.04848992209297257,0.10407813898713793,0.07032547590383316,-0.016491830995807706,0.038347881252310645,0.03773736311617364,0.05516271588890147,0.08574698585110785,0.041023591932098334,0.08804977982964081,0.04832157286282258,0.05808031182416448,0.056438695755930884,0.03129443891582632,0.09924760604844746,0.08100324295068236,0.08079323013724501,0.07642336348503989,0.04202844168608763,0.08198141810126636,0.012575669852763965,0.011176444182148056,0.074927218414853,0.018920927014966518,0.07233130799669064,0.11839289400926087,0.14279962904045626,0.071310623391569,0.05363725068629458,0.08076996733434016,0.08421061903733124,0.1403601470161265,0.06999489263990606,0.12137800481791648,0.02425364536079202,0.10362808532487787,0.04281355667763604,0.1127732596460227,0.03647157189850771,0.03871202675124273,0.0868172482282117,0.08603416722231794,0.05585149958200254,0.07525615508697195,0.08684412496397885,0.09162281108177187,0.08452764431541268,0.004331750732433895,0.0749397643491983,0.10082120139113099,0.1084726211804782,0.09022769161290939,0.078251006726534,0.10020394068882127,0.11119275851217866,-0.008938461478793286,0.16190742015158913,0.08621790082650646,0.07830627911286846,0.01002696192165905,0.11893771839461047,0.060786940904498266,0.12306312095801573,0.01831007959368064,0.12442157086184805,0.08131341663059434,-0.02101263357524765,0.0591959718579991,0.08045115548255126,0.1243086292048287,0.06822639702139549,0.09060017628504642,0.018334524323285115,0.007812771214370766,0.015963170943768958,0.02733860971930018,-0.04756973158957098,0.04760536800097177,0.04088317348529576,0.0553897120231609,0.023040503191669805,0.05491913564853594,0.05959144307584281,0.00905530076594932,0.07399419724851984,0.05421616032122631,0.05793562564032789,0.033350341367268894,-0.0024928634237300893,0.05875881749586513,-0.011439623559306158,0.06928504937959253,0.08576152530120419,0.05314777499686556,0.1428505973798523,0.10849677805954679,0.030453001215340485,0.111484185517788,0.03957426962813915,0.01601627801141622,0.006625989159700143,0.10070567909979343,0.009383336572461588,0.07028521791885475,0.037363374970683566,0.1154437343052029,0.040263807835610725,0.1161835161797652,0.06294965570388703,0.06997947348200509,-0.02919025020370823,0.11225362827850152,-0.035287260783294125,0.1111933256080731,0.030372293041480102,0.07170524941306947,0.053514935996945144,0.09129147026984569,-0.003822346334621247,0.05195184782146016,0.03779144180631468,0.03593587105507573,0.029061178018547094,0.10442536475134744,0.10406460777992156,0.024421428283330673,0.0513591031680377,0.04994014702516404,0.06784083562125146,0.08631154084099704,0.03202753583713934,0.0604017427632631,0.05632455155312612,0.0904843919760365,0.05619583473991684,0.09133929278114607,0.049821911609084044,0.0606346226395193,0.1042964397093817,0.10920389942510893,0.004769909358446853,0.05019175333859956,0.060941473157407916,0.04738380259009678,0.06899535687379907,0.04242892539505959,0.05038806819935779,0.049546456821663296,0.12096680300681643,0.11819276483962254,0.05212261920441222,0.08659394434330218,0.022342803606724904,0.05272491193981818,0.08000109693910515,0.08873169936509424,0.09952723210128896,0.009053414361535487,-0.0024475198794237404],\"type\":\"violin\"},{\"jitter\":0.2,\"line\":{\"color\":\"gray\",\"width\":0.5},\"marker\":{\"color\":\"black\",\"opacity\":0.4,\"size\":2},\"meanline\":{\"visible\":true},\"name\":\"0.04664294381065689\",\"pointpos\":-0.5,\"points\":\"outliers\",\"side\":\"negative\",\"y\":[0.11508083458029274,0.08229264045838448,0.049397204442393615,0.08057379558044894,0.08135319895788334,-0.003963328918031742,0.0735738830919042,0.014891861713389395,0.06158432286337827,0.04180286488577024,0.07536416033810318,0.09353792844070087,0.07186837224496626,0.01792409772246301,0.027692365854862188,0.024486937614565427,0.10961509221246135,0.007842920212772251,0.024912187222587413,0.034897995656071,0.0005540514809543237,0.0890730332661247,0.043213782803876784,0.039716137271810045,0.04201381287381609,-0.01697711280100936,0.05025790890158635,0.039258008771336735,0.12687185335199766,0.06454765219765211,0.09154030101599336,0.0581985370512573,0.05570375384127393,0.08635384759172747,0.10558708420399973,0.01732565535595617,0.11184974384038386,-0.007056530848712578,0.04872005080909967,0.059622148599330446,0.07102949005171924,0.050024319212690696,0.10760056196694152,0.07381552208870681,-0.016335831741614057,0.04186454104034859,0.04071053971466646,0.06010280610538237,0.08860580484930926,0.04223081118008645,0.0922736132983166,0.04885500657757572,0.061059646038532436,0.05978326475687514,0.03497260240691774,0.10803320065008344,0.08643861726703383,0.0825831151925013,0.08082354315887406,0.04321153724923747,0.08648061893661449,0.015290121975310088,0.011937365969630047,0.0756381554703277,0.02213676765456651,0.07873107796158009,0.1256891469997767,0.14287116577696005,0.0741707704044076,0.057980413280534736,0.0878358848282979,0.08719863047856025,0.14669049669105133,0.07258476972985851,0.13096914769667378,0.02855182113738733,0.10521347508995972,0.04277833731908906,0.1219676847650252,0.03970402792056157,0.04240437627528323,0.092916045562765,0.09053773462820164,0.05717092495498408,0.07978559427889616,0.08584110901426958,0.09756438280368415,0.09040895738941945,0.004691633318000586,0.07862808662711968,0.10079837985943121,0.11310876778679767,0.09606985379396417,0.0819572840127769,0.10597523096034969,0.11942624506247579,-0.007779005329343993,0.17130624653608503,0.09188049537241211,0.07871609667652633,0.01252821362383907,0.12498339536979863,0.06091651907553902,0.1300941105812157,0.019829722866813032,0.13155564584174967,0.08795204673567655,-0.038597698917512385,0.06381722307394681,0.0834403773921456,0.12881861663703356,0.07137365229191836,0.08574614826401072,0.019646878871724983,0.008276630624246044,0.012446795499748827,0.028373791183301546,-0.053416872947196575,0.0495803515221091,0.040231580022100644,-0.02909427301667643,0.02519251452588432,0.05837676462202185,0.06164019308663271,0.006918710491440899,0.07644600622947383,0.05635983481682288,0.06241584130568026,0.03706282589058489,-0.002107155085005487,0.06496847198841073,-0.010924228798628876,0.07143690452565983,0.09151177472746742,0.058957604604537146,0.15297139750140198,0.1108510193436474,0.03286854754733758,0.11960287177236904,0.040016696637281794,0.019451719646238447,0.0073693098534833405,0.1066694787421096,0.010402806674499152,0.0727419964183025,0.038620712067418336,0.12211912191532287,0.03838425354583935,0.11542112713203592,0.06239149892571277,0.07154203798416471,-0.029615353263622586,0.11959226368663388,-0.03885960852426469,0.11528382255992445,0.03282540741013681,0.07630819465081236,0.050026472835889194,0.09659748445891989,-0.008944586148600761,0.05590262177642229,0.041090221385165694,0.03704310852126108,0.03181777490734034,0.10675502088603407,0.10976629322019739,0.01933350024000927,0.053824427869674556,0.051484425065559086,0.07139599831652922,0.0875139064795328,0.03269809329435272,0.0646269371198503,0.058098108353660256,0.09514041447094751,0.05932786020355715,0.09814226376646963,0.04892550063242079,0.06595803773829402,0.11223673393343514,0.11606994284716729,0.006375100202440844,0.05397184828200909,0.06395452911643443,0.051314872104501474,0.07097924806293195,0.04513673685078015,0.056122352418996026,0.05553954294057794,0.12903950621966193,0.12258311904731531,0.053215836888195436,0.09098593952217449,0.02214811002201274,0.053504451532354246,0.0863323336827592,0.09360779739706099,0.10318340069017513,0.00992663590103155,-0.006836802402087207],\"type\":\"violin\"},{\"jitter\":0.2,\"line\":{\"color\":\"gray\",\"width\":0.5},\"marker\":{\"color\":\"black\",\"opacity\":0.4,\"size\":2},\"meanline\":{\"visible\":true},\"name\":\"0.04914294381065688\",\"pointpos\":-0.5,\"points\":\"outliers\",\"side\":\"negative\",\"y\":[0.1231987950829556,0.0861154724022727,0.015069704936657827,0.08311237608640941,0.0866733304968512,-0.004394560591091934,0.07747653782978452,0.008355094865302202,0.06536948419267806,0.03532263532768107,-0.005065074472089383,-0.0021310449465015893,0.07730958949554695,0.02142377423242735,0.029952761560811367,0.025839248221427052,0.11634360347317489,0.005749068605344175,0.026991357646742795,0.031827040249651314,0.0008250870041795953,-0.006285952480666032,0.04179884229349564,0.04166480152613548,0.043714230971828166,-0.018121358033513692,0.05418139590672226,0.03998636102334117,0.07309444569942855,0.06395132163724511,0.09600131363650757,0.06293244420002467,0.059509920793964596,0.06292634142672408,0.10821900674910709,0.01491281305854432,0.11719694695965083,-0.02816908211430281,0.04721851202819526,0.06316583701631896,0.07365943461897664,0.04233648960830192,0.04926195050034055,0.02329414213888604,-0.016186571352294093,0.04532972255230074,-0.006594500263525225,-0.04321308149054955,0.09134826857281886,0.04338189022114496,0.09643484340916374,0.04895138148421481,0.06399447306182184,0.0630785925424121,0.009204430967179525,-0.022201759049935647,0.09162150932521107,0.08426185772470694,0.08504467355106163,0.04386609444295795,0.09090675426255244,0.017964589473909783,0.012687022979381696,0.07631606243575817,0.025304908317503146,0.060001197467710474,0.1328779215386716,0.14292967657334021,0.07689805850157538,0.06201528893703511,0.09479775953429857,0.09005174237941728,0.1527351619010682,0.0747028470514629,0.1402078872855964,0.03268181592071735,0.10672524852840241,0.04274953693400907,0.13102579322815922,0.042888609595028056,0.046042017148218574,0.09866295117961643,0.09422075430107398,0.0584364273101426,0.0173665744285596,0.0850208117221244,0.10322995578771892,0.09619504810039213,0.005037045853009835,0.08226176569790536,0.10077971606188514,0.11752955963310055,-0.0027120962783991655,0.08549132950577112,0.11148605023705775,0.06388543716407845,-0.006691468934558534,0.18026848229211923,0.09745918006275127,0.07910690033183396,0.01499238181189632,0.13078312562870592,0.06104080425892883,0.060851023010547296,0.02128760196471608,0.13839949665469528,0.09435853371565887,-0.040489750803172374,0.06837045241193217,0.05617745353210827,0.1317212419840636,0.07440522382175152,0.08177642691694699,0.020720147361582033,0.008722326664353531,0.009571051049527443,0.029363091081297765,-0.04466839441659753,0.051482175937692234,0.03960649399888363,-0.03721079769284247,0.027283035330603753,0.06167378113182499,0.06359378993581748,0.0048690410583123915,0.07239106399566347,0.019997805048125348,0.06671373745482953,-0.0346365039937226,-0.015480121217100873,0.07092552847111055,-0.010432768270212141,0.07350125847198628,0.09717316283469467,-0.0004791750744570786,0.16263546039927815,0.11305900850220867,0.028112929683051506,0.12734444701392283,0.039775271664294745,0.022836497653769834,0.008080522149265827,0.05457658615726216,0.011236545223872161,0.07508465613888654,0.03982932751065763,0.12852294609479464,0.036847185226082727,0.11479763596311647,0.06193500684794004,0.07303713152892843,-0.030023186863817903,0.027163238339660983,-0.04178113990128141,0.0840559316932642,0.03524238250097475,0.00016713235837453565,0.047173566513571186,0.10182487951942736,-0.013133630334962102,0.059795448241601455,0.04433555648114208,0.03794862534230397,0.03452869943417122,0.10866024942406781,0.11523602181818626,0.015172526353016677,0.05611190503070446,0.05299931716246868,0.04690018454856703,0.08849724238118506,0.033246493006428686,0.06877208818407073,0.05759844390965996,0.09958019529798505,0.06241333333187449,0.08246820470448057,0.04819240207533107,0.07120253470827245,0.12006008789774629,0.12283426529100804,0.00791800566363464,0.05759396235433773,0.06682762053727646,0.022244866956383762,0.0559055377022795,0.047804462856697746,-0.028523190845863893,0.06144444610235382,0.13699261946747746,0.12617362574709448,0.054258279949284546,0.021459506407463823,0.021961307080694447,0.05425036064705245,0.0925703021094953,0.09810101840070516,0.10677979673991242,0.010640774451005176,-0.010426427835903236],\"type\":\"violin\"},{\"jitter\":0.2,\"line\":{\"color\":\"gray\",\"width\":0.5},\"marker\":{\"color\":\"black\",\"opacity\":0.4,\"size\":2},\"meanline\":{\"visible\":true},\"name\":\"0.051642943810656886\",\"pointpos\":-0.5,\"points\":\"outliers\",\"side\":\"negative\",\"y\":[0.11633389450608247,0.08980733848854407,0.0026222223203051214,0.08268904735991366,0.09192824435383855,-0.004811816544377763,0.08124907772522112,0.0025780393735589306,0.06899697546128856,0.027940003407209146,-0.02977744640267169,-0.04497605133772199,0.0815258664625886,0.022996603136727363,0.032177189536242747,0.005853390459805768,0.057847566786961284,0.0037230134836397782,0.015747085688271847,0.028304160550948067,0.001563018716348726,-0.033097177382992796,0.040548355489518614,0.043185092785259546,0.04048679451393972,-0.019226446866381072,0.003244150586832977,0.04070492804205094,0.05013724779866511,0.0634243112629159,0.1002494303481404,0.06727864083398699,-0.014855823855595966,0.05146713944032141,0.11054506670708993,0.012780409988078927,0.06657682403232652,-0.03420556748587188,0.0458914555882868,0.0665404046959682,0.07625693074886279,0.036642156072031265,0.03216551818057205,0.0007043981838549179,-0.019457984592972436,0.04875257379224995,-0.010428699543028542,-0.0667364203228806,0.09400192075574251,0.04446101802107131,0.09481744126454146,0.04902793160893819,0.05926199193408473,0.06621151826557228,-0.003941614712596503,-0.06520943578937413,0.09661450520724675,0.08586052077821844,0.0888777864448701,0.04417359264164635,0.09523542886637737,0.020184132497931585,0.013288906759452681,0.07211715901840011,0.0021704446448005317,0.04137464792191337,0.023316144900675347,0.1429813744255199,0.07889391917631401,0.05203791523463703,0.10167426974382765,0.09280306848318026,0.1585641884157943,0.07657469125107086,0.14917445496928186,0.03668276213813272,0.10740836450954556,0.042699895472501616,0.10874016118419126,0.044498003196475004,0.04016473781244597,0.09787969323366473,0.09747573053456575,0.05926818650533361,-7.915221487647187e-05,0.08429587634784336,0.09060667491408793,0.1019033227958999,0.005371384709782643,0.049844603166212705,0.08848030387472687,0.06233178490354057,-0.030219522420067473,0.08889592488427482,0.11680033820732505,0.03396629448506628,-0.005655890806359308,0.08322454735268733,0.10259800721401201,0.07885552714479689,-0.027279169863138122,0.13638515777436908,0.061161078676534975,0.03191343263666008,0.022698171712682673,0.1450216421358415,0.10057137432200233,-0.052063425521135576,0.07286781733978563,0.04529317018371265,0.13044457967810874,0.07712584293039011,0.07826809033843014,0.021668664381458647,0.009154127944369568,-0.010083049040078973,0.030151765019027266,-0.06757086047320054,0.05332914709799268,0.03900166055225779,-0.08552500964701343,0.025122647734305198,0.06484999970374392,0.06547556190156541,0.002885784048961791,0.06654353038073497,0.009717180594747478,0.07087240301183598,-0.0640383111868449,-0.015972698253084252,0.07668950963895199,-0.020577154254880714,0.07549866214445122,0.08098976031259503,-0.027249110648240482,0.16732426243204274,0.11450072133919766,0.021637050762823754,0.09418435943304956,0.03806937956168577,0.02617979080903233,0.00876737680434884,0.029429969785546517,0.011973382948635284,0.07734150617601235,0.04100453258864838,0.13414023253184962,0.03548873823448371,0.11424661104123643,0.05745971403391183,0.07448100382696052,-0.030417809556419134,-0.0033766924656822585,-0.04411291948692124,0.06927186876988746,0.037629715962390814,-0.005904578713684069,0.04465224225022751,0.10685146067682665,-0.01683579042290393,0.06364071947489393,0.04753721412740053,0.038748894892947146,0.037204355117054166,0.11034404003935244,0.12052852389210772,0.011495168399829437,0.05831777935074914,-0.0013136776642917627,0.03417410667639199,0.08936631528325917,0.03373114815949105,0.07281602879764204,0.054543078585407356,0.08354895654430029,0.0652936587966295,0.06378698704308881,0.04754450708663157,0.07637452590504257,0.10460992034077561,0.11068269861544267,0.009387310150209863,0.06108442533065396,0.024367732671608716,0.008011448319023033,0.04826057094834541,0.03657980444811812,-0.05559667765356005,0.06698049457074827,0.006117229827166315,0.12934681406408624,0.03806312732267578,0.0003036293004281303,0.02178061508254503,0.05497062806505371,-0.011228019552632551,0.10207299259977211,0.10754431435472302,0.011271878359206282,-0.01359883750647892],\"type\":\"violin\"},{\"jitter\":0.2,\"line\":{\"color\":\"gray\",\"width\":0.5},\"marker\":{\"color\":\"black\",\"opacity\":0.4,\"size\":2},\"meanline\":{\"visible\":true},\"name\":\"0.05414294381065689\",\"pointpos\":-0.5,\"points\":\"outliers\",\"side\":\"negative\",\"y\":[0.11271054084465724,0.09339659637561393,-0.0034613852768619513,0.08221637318972691,0.09712872375916885,-0.019307459195361008,0.08490994879727479,-0.02746940718984879,0.07162568232966517,0.02433175142771542,-0.03723258145194645,-0.05668417110614357,0.0849488925283784,0.02566088286011573,0.03431647167862601,0.002847754773921112,0.044595074336263044,-0.02484516794447415,0.012677611893941008,0.026582405594283615,-0.006723345104334574,-0.04620095601297752,0.03321674145589979,0.042453887234889666,0.039189136810525334,-0.020300820891415293,-0.006071936318850854,0.041361166584256856,0.038917104531055555,0.035317673199872786,0.1043367741395351,0.070031986935931,-0.02404097614917215,0.04586654726848537,0.08415438850163698,-0.010529222434141054,0.05608350222529631,-0.03545001922938334,0.03868330588839916,0.06978726924500368,0.07882742358965766,0.033859114898702934,0.023809776217625103,-0.00528599893497881,-0.015902283986294424,0.05213628422972599,-0.03933834233145108,-0.07823321656026379,0.07744615301138405,0.045500875427548416,0.09365056034470594,0.04909300197203091,0.05723763818893902,0.06892579191264948,-0.01036666176427298,-0.08622908859115243,0.10145969348202251,0.08739862293475519,0.07632397925161104,0.04433601284676423,0.09940445955279674,0.01942413520092579,0.01395799601190777,0.07103736353784652,-0.0035104158488134516,0.03227107317900517,0.005554565440082174,0.10587333623209867,0.07901995976250509,0.04871894243003318,0.10847969301367756,0.0954750178222041,0.16422098906290825,0.0545965605275385,0.15792497271650915,0.04058177146535628,0.107053923623605,0.033184698769557146,0.10045647156547333,0.04502537096504252,0.03765235252833692,0.09749688746933259,0.08706441604199996,0.055069990974125425,-0.008605547573402962,0.07550478082320147,0.08579864792235468,0.10497426991575892,0.005697003346275328,0.042591364272184136,0.0844965776753986,0.05277913210754175,-0.04366350638712535,0.09219973424226416,0.12196105871312095,0.019343556391211898,-0.004974951824333645,0.06469037943847408,0.10574828278014793,0.0790152225497062,-0.03367966806156564,0.13970047332803193,0.04723468657539464,0.01777036973402018,0.020479946318493026,0.14533453068384772,0.10664424888675418,-0.05543766488703298,0.07731626454955674,0.039973565718111344,0.12982062115862075,0.05262334403214583,0.047405903667292644,0.017905881204432837,0.00949841656447799,-0.016013801099455084,0.030832623160366918,-0.07346302572953073,0.05513083179608245,0.028431371836521047,-0.09948116607143878,0.02410094643022448,0.06793218960558658,0.06225466353107601,-0.014462290257411211,0.06368560081627787,0.004692609811814287,0.06545863971357936,-0.07190957880698745,-0.016457750243151638,0.07437124318160912,-0.02084422196871479,0.07744345420186928,0.07532047571171897,-0.040332628762536925,0.1688298351835041,0.11529794612559563,0.018472005551787886,0.08422350452371552,0.0378367902635718,0.029488497036249638,0.009435125293550908,0.017139766062867406,0.0016835214094795543,0.07953107617405729,0.042149802119897786,0.1371995520831959,0.008517790847339342,0.09618496637407563,0.05599127924587675,0.07588474579682022,-0.03441213738190053,-0.0183028126307079,-0.09049218315540794,0.062046339629786465,0.039992350108136794,-0.04086478348994962,0.010805398527642408,0.11025523581094439,-0.0369083722024829,0.06744641206140052,0.05070263341695556,0.021361284170753402,0.039833653488638224,0.09795464735755516,0.11665253948871264,-0.014419267433055919,0.060365575487918995,0.0018378916209738257,0.027954329746507894,0.08734637289871386,0.00817983452708931,0.07261746914818915,0.053049795304394465,0.08125181270019437,0.06731473558412428,0.05465672626958487,0.03487728258263501,0.08142107131929065,0.09857949420030908,0.10566646528147816,0.010801007039156409,0.06447415060840414,0.0179820881085339,0.0010549736880217367,0.044524206153232944,0.033130775814493814,-0.068828571139129,0.07174823865861893,-0.014331639886517405,0.11631293361112169,0.02958233982958992,-0.01003613472398784,0.018359648937459765,0.05567093542321295,-0.026588716205642862,0.09214017608377,0.10791796314292053,0.009645889808124143,-0.03422716136748162],\"type\":\"violin\"},{\"jitter\":0.2,\"line\":{\"color\":\"gray\",\"width\":0.5},\"marker\":{\"color\":\"black\",\"opacity\":0.4,\"size\":2},\"meanline\":{\"visible\":true},\"name\":\"0.05664294381065688\",\"pointpos\":-0.5,\"points\":\"outliers\",\"side\":\"negative\",\"y\":[0.10994346093844377,0.09690346139048517,-0.008305936047199243,0.08185539890175145,0.10228375496628417,-0.028276317414890652,0.08848158887875701,-0.043675845515121506,0.07371897877684672,0.021458471085622616,-0.04096281021020236,-0.06432701832086685,0.08761171204044842,0.02637699302317718,0.035472776895156675,0.0005524049380190512,0.03447442701692421,-0.025835383280998502,0.010333520341629553,0.025211311778688857,-0.010719889679123261,-0.05663583382654954,0.029189342044245867,0.042120050360810596,0.038198143043284734,-0.021350537159630513,-0.013186435466948214,0.0418905226965373,0.029982211385346427,0.01792010004912179,0.1081225295973576,0.07213466428819944,-0.041397338562704285,0.04140665079767754,0.06652454662198581,-0.02417954645103434,0.048069982799556765,-0.036712960419459005,0.03476853301003846,0.0727514293016225,0.08137515854203169,0.031642896691650484,0.017155843770330026,-0.009196430879277748,-0.015765360436902832,0.055459052595319296,-0.036798281497171986,-0.08738844158996184,0.06577003858840419,0.04623421434710757,0.09275946513722809,0.049150939506444155,0.055691678259547836,0.0713718085386068,-0.01548304180004597,-0.10296758156739534,0.10618678414542164,0.0888894780503739,0.06630840875315455,0.04446537172958067,0.10344541632320164,0.018722218303903655,0.014886378456580598,0.07021280389546691,-0.007848786488370008,0.02502166135473846,-0.008009539380968976,0.09692391379505733,0.07910226394914784,0.04618430592860574,0.11522521993480021,0.09799852741359048,0.16950446062426044,0.03994438013176863,0.1665001665232647,0.044383502269962856,0.10682255140494278,0.03144480927799752,0.0941303914933771,0.045428100604131605,0.03573369642020722,0.0971920210192876,0.07903673193456602,0.059453254136611566,-0.015395370787757712,0.07032026148208863,0.0821269086657866,0.10434184508507727,0.006015560149349587,0.03705218606651157,0.08152614047747135,0.04548395945592791,-0.05436932320769017,0.09541025059546306,0.12699900153587715,0.007699095855871954,-0.004957518808292887,0.0505362261254024,0.10815408335150341,0.07890586803528384,-0.03856760647127781,0.1418646610534236,0.038436361526500894,0.006507969809393061,0.01852650249518993,0.142948175796049,0.11259064254904383,-0.057640330763985496,0.08149723139738368,0.035737427107487764,0.12932372083805763,0.03599742970608387,0.02964711026246116,0.015109141988287902,0.009573475888610704,-0.019885314909141603,0.03144364940619079,-0.07492668069839487,0.05689481537384174,0.022090635322839596,-0.10859151004720295,0.014436561808091627,0.07043082389699576,0.0614859395464841,-0.024388662475024733,0.06140975444491889,0.0006914138320141939,0.06004579019495744,-0.07704780618036172,-0.01693748899503258,0.07012313469926039,-0.016957141628473546,0.07927706313801863,0.07099096087272398,-0.050751410433217535,0.1699796148798983,0.11593279278685215,0.015951611523022727,0.07661660819105082,0.037645819267420486,0.03275704735080784,0.010087553046363535,0.007352751904958991,0.002829618580999303,0.08065438829948661,0.04326884112582714,0.13955645516533693,-0.0077854739815941395,0.08510255514188995,0.0550326860142284,0.07725626378720643,-0.03508997804054115,-0.030188881617329095,-0.10086794639636652,0.05629238262987325,0.042334029595941756,-0.06442835458725991,-0.009279467160746305,0.11285462718696265,-0.04780680767021454,0.07117688418877348,0.053758124233641444,0.023343908644979636,0.04238372753097697,0.08940654795174359,0.11165531740789109,-0.028995374909355078,0.062152520892175926,-0.0011531350586910666,0.023001377771360052,0.08567990715211314,-0.008078230968778655,0.07053318573233065,0.051860658827289116,0.07769988971341593,0.06892416966236739,0.04738604540780822,0.027224794637300355,0.08635176869773628,0.09397414660152494,0.10183563649563356,0.012171286487480816,0.06778314873070795,0.013105512732569994,-0.004484641939526405,0.04154881448542494,0.030496823891892604,-0.07936551010363821,0.0760447454427674,-0.02994800367664731,0.10667689071135106,0.03397308777238698,-0.018269955987914765,0.016300260271426992,0.05635513614388869,-0.038319364388592805,0.08408379125909286,0.10821553234809626,0.00833582426315707,-0.04571746907869101],\"type\":\"violin\"},{\"jitter\":0.2,\"line\":{\"color\":\"gray\",\"width\":0.5},\"marker\":{\"color\":\"black\",\"opacity\":0.4,\"size\":2},\"meanline\":{\"visible\":true},\"name\":\"0.05914294381065688\",\"pointpos\":-0.5,\"points\":\"outliers\",\"side\":\"negative\",\"y\":[0.10756885865631828,0.10034284598482762,-0.012529358663935028,0.0815455957682956,0.1073991868410426,-0.03417222417811646,0.09179353105724923,-0.05452247291432061,0.07554390966027219,0.01895351241872987,-0.043774378894385534,-0.0706111842847256,0.08989684204129472,0.021650750094045566,0.036246645266196184,-0.011870373013591383,0.025789273616753275,-0.033059749136423094,0.008321910326469386,0.024015996990081452,-0.013814945348841486,-0.0657329214002253,0.022904825648007623,0.04185437691889025,0.0373476711755428,-0.030322555629652456,-0.019291828255336454,0.0423520126561158,0.022192813267352517,0.0062763354955643925,0.11143373004368275,0.0739391014014755,-0.047217813782020564,0.037518516721319804,0.0547252713190044,-0.03331538450760576,0.04119306693498766,-0.038060663988275394,0.03214844465235855,0.07533751928858837,0.08379078489052712,0.029710773407870733,0.011356743871747994,-0.006434883072427271,-0.024561771672086133,0.05872566988101307,-0.03435031380373468,-0.0991426624432076,0.07224740798356971,0.04683719329106277,0.09199474804369312,0.04920307917023918,0.03563583279242926,0.07363926540490279,-0.01994351468954588,-0.11756012083079276,0.11081754181165857,0.09024134773973153,0.059605205630311985,0.04457814697717559,0.10736747751945389,0.018252436231986288,0.01560705706971232,0.06950498588139266,-0.011571783501241105,0.018701654278425395,-0.019649759715860676,0.09106785037723922,0.07916991016849442,0.04400919023763537,0.12191969747899566,0.10019063082487525,0.17440223698205717,0.030137998752393282,0.17493065856569162,0.0475228193513594,0.10663230665657708,0.030014223924394477,0.08870159105051088,0.04577369041343329,0.034087172868122705,0.09692627075246428,0.0736639797620478,0.050728532513951444,-0.021314720515271324,0.06685037583263605,0.07897594181762545,0.10391855527304844,0.00632833781606493,0.032298673710418266,0.07908374208827115,0.03922352109199662,-0.06370260475928956,0.09824722210143653,0.13193662934857125,-0.00245249688350718,-0.004945851678450395,0.03838965665095234,0.11021865856942274,0.0788159485461522,-0.04276224852257985,0.14364410504865005,0.03254787715678537,-0.00331057719394007,0.015667992790596764,0.14135104119988343,0.11843668822427314,-0.0594514240688068,0.08511401030809582,0.032044381529370496,0.12889054761908425,0.024870075176483514,0.017761534380586953,0.013237319525141593,0.009623723150182515,-0.023068558252623106,0.03203231817616587,-0.08000836438112462,0.058626786211383244,0.017847001519839454,-0.11608227612582907,0.01340482343313155,0.073885040061775,0.06085385133581089,-0.031032190227599284,0.05664202614025728,-0.002796810090163018,0.05642308278113629,-0.07411529709830113,-0.01741422181270581,0.06727997115877202,-0.01759747255273111,0.0808206955028687,0.06727551693397427,-0.059834455235802636,0.1709663174773731,0.1164862509620605,0.013754347881108697,0.07008861382308586,0.037505203842578126,0.0359669379715814,0.010727427452401031,-0.0011795073515219094,-0.0048995346732294085,0.08244977668170583,0.044374362557732534,0.141365330459188,-0.01869688519478944,0.07768530668828967,0.054244541722366924,0.07860148518631604,-0.0357423783277505,-0.04055109698890126,-0.10941990741197959,0.05127620120401408,0.04451181750550442,-0.07491381651343415,-0.022721827508788164,0.11508532558959801,-0.05510088813517305,0.0745106788659284,0.056463096105901944,0.010392423512354294,0.044663849363278135,0.08368549388288206,0.10831078691277271,-0.03875082599975377,0.06371154356233205,-0.003719942780555801,0.01868341018412889,0.08456459631978631,-0.0189594089224247,0.06913824737786436,0.05082391967583224,0.0746517230638418,0.07032726971512034,0.04104749999202858,0.022103152962224308,0.09118759511015873,0.09002203643484542,0.09854818434526491,0.013506822839782327,0.07094543165959444,0.008920621667073877,-0.009314079185336489,0.03895488263612889,0.028236467177263115,-0.0885515642443038,0.08002761460235627,-0.04334937505879992,0.10022770116400513,0.03245331668033598,-0.025448162657737403,0.01492197315429559,0.05702620144707939,-0.048386158586944096,0.07869182226387957,0.10847491167150844,0.0074590261012611615,-0.053407677157828196],\"type\":\"violin\"},{\"jitter\":0.2,\"line\":{\"color\":\"gray\",\"width\":0.5},\"marker\":{\"color\":\"black\",\"opacity\":0.4,\"size\":2},\"meanline\":{\"visible\":true},\"name\":\"0.06164294381065688\",\"pointpos\":-0.5,\"points\":\"outliers\",\"side\":\"negative\",\"y\":[0.10542804835522064,0.10372608164975648,-0.016368951665662063,0.08126634470929632,0.11248099254572841,-0.04283691180516581,0.09540060873837758,-0.06347947262533944,0.07720298144263339,0.01667625045818375,-0.04737119775255152,-0.1086023119800611,0.09195698905928187,0.02748577487104964,0.03688570659920803,-0.0031932621952439834,0.017959218670730328,-0.03902558707455429,0.006508355041506789,0.022929278206316427,-0.01903715883880839,-0.07400319774804519,0.02426801810894733,0.04162663566427509,0.03658100636409224,-0.03312234439220837,-0.02479611082115933,0.0427715600962659,0.015111364756610466,-0.0033389893897176727,0.11444399168279328,0.0755658822903355,-0.05250929326593055,0.03398379013794385,0.044981550360115016,-0.04085967721424846,0.034993235152943995,-0.04005189652599345,0.029984776640777634,0.07768860537552473,0.08639820410684206,0.027954319571858226,0.006081420003567274,-0.010639695810123667,-0.015498962963635725,0.06194535228255595,-0.062022946572528645,-0.1026259922098235,0.05147947123260262,0.04736969708556048,0.09130531574710418,0.04924022788655622,0.03249653695452143,0.07577852246180286,-0.02399857529770897,-0.13082641310981233,0.11532446391226987,0.09136402323028338,0.05406978616663067,0.044680673816687895,0.11083557572570478,0.017864499092736037,0.016323039085310187,0.06886723112721946,-0.014928242086572579,0.01295605020220447,-0.03014393162807407,0.05407435943293638,0.07922963730292248,0.042048220044656706,0.1285212977158373,0.10206174453764333,0.17902318691787458,0.022039985220666965,0.18323992513314713,0.050115235234308296,0.10646430164804857,0.016954186339911227,0.08380724827594631,0.04608527653851316,0.03260276984492494,0.0966846783798384,0.06922721630092932,0.059508468591186754,-0.02669605843499311,0.06147027579339511,0.07613520003874007,0.10356904221667249,0.006636298799208653,0.02233298589245639,0.060049304961113284,0.03357945555153637,-0.07218762857009589,0.10075265891212877,0.13675929504152307,-0.011681450924186302,-0.0049362170339931535,0.027438999204457287,0.11207998027585556,0.07873652876407114,-0.04654390614171437,0.14521560264696257,0.02768520314941207,-0.012236764173742325,0.01613947048599496,0.14003214010223575,0.12419866013061642,-0.06063380306635581,0.08837469808714375,0.02868695777289309,0.12849676687800324,0.01568121364295022,0.007946547525725028,0.011691635824612773,0.009665203104450466,-0.025879789792914994,0.03257097594638906,-0.08501154810106591,0.06033391140079215,0.01434261122784873,-0.1587522467167513,0.011851108730035035,0.07677998894208186,0.05176663713128831,-0.03651829976162137,0.056817763637754946,-0.005968005195024575,0.053431453256984215,-0.07947600503319492,-0.01787927844017686,0.06493206896201205,-0.018174789057905563,0.08218393358010546,0.06392589886266341,-0.06809198209688697,0.17185586189162427,0.11698940802109808,0.0117567721841426,0.06420342684450103,0.037611363467973516,0.03866893800317999,0.011356858705040202,-0.008936321220066096,-0.007816443750742263,0.08426809852280864,0.045460866591827444,0.14285913726226285,-0.027707419675136707,0.0715602626990937,0.053548484509023435,0.07992638915523433,-0.03634250518967906,-0.04997154145933528,-0.11316164509629252,0.04671587244404835,0.0464751908320751,-0.08342508524799373,-0.03382238531713253,0.11709640652159688,-0.061124275982963425,0.07752427341799638,0.058922225783947374,0.005485680144909293,0.04655181897711101,0.07896106883913354,0.10554886892108131,-0.046806790435629575,0.06512887113905913,-0.0060340181960551,0.014757881591694244,0.0836435728115805,-0.027945011300580407,0.06798630636940375,0.04988149848673574,0.07190365360158649,0.07160284854986787,0.03528503496861398,0.017873753645009947,0.09594447184751595,0.08645909000290106,0.09558442784937154,0.014754976066884832,0.07392898937218849,0.00514774835305727,-0.014838150879210069,0.036596700628344574,0.026198654161454737,-0.09690273827313034,0.08378534366420108,-0.05543130986355043,0.09490202585766176,0.03108315792169593,-0.03197397629427945,0.013783788768086619,0.05768628282042815,-0.05746182431707168,0.07423918965065472,0.10871073758678165,0.006734964160863844,-0.06249590571483332],\"type\":\"violin\"},{\"jitter\":0.2,\"line\":{\"color\":\"gray\",\"width\":0.5},\"marker\":{\"color\":\"black\",\"opacity\":0.4,\"size\":2},\"meanline\":{\"visible\":true},\"name\":\"0.06414294381065688\",\"pointpos\":-0.5,\"points\":\"outliers\",\"side\":\"negative\",\"y\":[0.10344459237105963,0.10706195882613788,-0.01994482862624453,0.08100759769368068,0.11750174890556178,-0.046034034486636066,0.09880092425863353,-0.07140044719667467,0.07874811280039407,0.014555422278845327,-0.05119216344667382,-0.12062039477680091,0.09386570960728235,0.02018462484350932,0.03745084970444171,-0.016047899329292698,0.010704680661909168,-0.04430136549588109,0.004828072406588598,0.021917267816942147,-0.020762044273719246,-0.08170545488764944,0.0222996071692591,0.041404053881586585,0.03587065629218867,-0.034865219938398286,-0.029895814696070885,0.04316231845430858,0.008516279843172055,-0.01184214377520213,0.11724753854011971,0.07707308984539435,-0.05743733696842188,0.03069180864399987,0.036364871164464324,-0.04753133279259913,0.029249101113275836,-0.041046106312022636,0.028071425610267046,0.07987814718449808,0.08888652620537556,0.026318471186206248,0.0004930102803006439,-0.01453544350282477,-0.015517384298508175,0.06512519971486017,-0.04183701096091415,-0.10938372398666953,0.045866567061819866,0.04785708718497161,0.09066656941290636,0.04929032635501131,0.05206077893858512,0.07782113094636862,-0.0277751424261903,-0.1431815334896365,0.11821822186057565,0.0923568413691424,0.04917463005705033,0.044776156734572706,0.11390252874210592,0.017521422117465525,0.017034838990535046,0.06827616338716147,-0.05127301161335906,0.007605068953875717,-0.0398667555073061,0.04266684915498546,0.07928432064245412,0.04023136207548181,0.13485121541864153,0.10371642980514012,0.18343528141779716,0.01487866672249409,0.19140272354495733,0.05240781665110472,0.1063105286015086,0.013716766066965501,0.0792727231072748,0.04637396430285611,0.03122746889283607,0.09645966896370436,0.06530364653672292,0.05953216864093019,-0.03170780416660665,0.06145101762395099,0.07350324198858087,0.10325994260760375,0.006940159920134262,0.01866341982861275,0.054929532364982096,0.02835024378847223,-0.08008989142667056,0.10304583715302641,0.14137724295675402,-0.020276534888020403,-0.0049276955224255205,0.017293239657438043,0.11380445573816819,0.07866385700625776,-0.05004760154277645,0.14665394488929526,0.023384987744286274,-0.0205498711703948,0.015184687810060308,0.13886578151755954,0.12988934566287347,-0.08305443709842256,0.09139571650746219,0.025560125069431436,0.12813001313474534,0.007555214102939009,-0.0007331903006925093,0.01032471133613416,0.009701892014934526,-0.028452825305189902,0.03308529444769961,-0.08994836350061915,0.0620170647759233,0.011243568931487577,-0.17273114622806757,0.011100733917002958,0.07957770058989853,0.04988814051634584,-0.04248866742709767,0.0553389414826482,-0.008921392923329061,0.050785926680158945,-0.08444271478495803,-0.018327111150983646,0.0628558198926368,-0.0187096517149131,0.08343169457258888,0.06082249822165744,-0.07578237599753981,0.17268001186571807,0.11745803022428451,0.009896402069767204,0.05875077159839817,0.037414572899023786,0.04137825325137451,0.011977472164639028,-0.016160371300655795,-0.010388359222276052,0.08583924364451403,0.046533721462939964,0.14418009375536428,-0.035675718993172234,0.06614369688383104,0.05291136151325637,0.08123465907150022,-0.03695666585863232,-0.05874497154942772,-0.12173301656596215,0.042468758495912994,0.0482942509885061,-0.09278688569572152,-0.04363896015064875,0.11895968346358354,-0.0664509286391939,0.08032094201518108,0.06121245463143157,0.0012307884776395273,0.04822141859037194,0.0747831820090549,0.10310644257430665,-0.05393088956446582,0.06644884890219582,-0.025787726203331054,0.011101951781516175,0.08282908169203695,-0.035891206304919966,0.06696760869891154,0.04900375239670164,0.06935759550013428,0.07279084761016345,0.029918354476523197,0.01413352654131317,0.10063475971201533,0.08315798510160448,0.09283847895727483,0.015860958743388113,0.07677768332677007,0.0016521964800970373,-0.0186396803047487,0.034192939784865546,0.024310605543416554,-0.1046803528659647,0.08737322567460355,-0.06662519002676189,0.09019236353234,0.029813705484556193,-0.03805157585449249,0.012777256565207205,0.05833714280106082,-0.10653748323508387,0.07030158634522932,0.10893036777229903,0.00609467041874875,-0.06537411578600354],\"type\":\"violin\"}],                        {\"height\":400,\"margin\":{\"b\":30,\"l\":50,\"r\":20,\"t\":50},\"showlegend\":false,\"template\":{\"data\":{\"barpolar\":[{\"marker\":{\"line\":{\"color\":\"white\",\"width\":0.5},\"pattern\":{\"fillmode\":\"overlay\",\"size\":10,\"solidity\":0.2}},\"type\":\"barpolar\"}],\"bar\":[{\"error_x\":{\"color\":\"#2a3f5f\"},\"error_y\":{\"color\":\"#2a3f5f\"},\"marker\":{\"line\":{\"color\":\"white\",\"width\":0.5},\"pattern\":{\"fillmode\":\"overlay\",\"size\":10,\"solidity\":0.2}},\"type\":\"bar\"}],\"carpet\":[{\"aaxis\":{\"endlinecolor\":\"#2a3f5f\",\"gridcolor\":\"#C8D4E3\",\"linecolor\":\"#C8D4E3\",\"minorgridcolor\":\"#C8D4E3\",\"startlinecolor\":\"#2a3f5f\"},\"baxis\":{\"endlinecolor\":\"#2a3f5f\",\"gridcolor\":\"#C8D4E3\",\"linecolor\":\"#C8D4E3\",\"minorgridcolor\":\"#C8D4E3\",\"startlinecolor\":\"#2a3f5f\"},\"type\":\"carpet\"}],\"choropleth\":[{\"colorbar\":{\"outlinewidth\":0,\"ticks\":\"\"},\"type\":\"choropleth\"}],\"contourcarpet\":[{\"colorbar\":{\"outlinewidth\":0,\"ticks\":\"\"},\"type\":\"contourcarpet\"}],\"contour\":[{\"colorbar\":{\"outlinewidth\":0,\"ticks\":\"\"},\"colorscale\":[[0.0,\"#0d0887\"],[0.1111111111111111,\"#46039f\"],[0.2222222222222222,\"#7201a8\"],[0.3333333333333333,\"#9c179e\"],[0.4444444444444444,\"#bd3786\"],[0.5555555555555556,\"#d8576b\"],[0.6666666666666666,\"#ed7953\"],[0.7777777777777778,\"#fb9f3a\"],[0.8888888888888888,\"#fdca26\"],[1.0,\"#f0f921\"]],\"type\":\"contour\"}],\"heatmapgl\":[{\"colorbar\":{\"outlinewidth\":0,\"ticks\":\"\"},\"colorscale\":[[0.0,\"#0d0887\"],[0.1111111111111111,\"#46039f\"],[0.2222222222222222,\"#7201a8\"],[0.3333333333333333,\"#9c179e\"],[0.4444444444444444,\"#bd3786\"],[0.5555555555555556,\"#d8576b\"],[0.6666666666666666,\"#ed7953\"],[0.7777777777777778,\"#fb9f3a\"],[0.8888888888888888,\"#fdca26\"],[1.0,\"#f0f921\"]],\"type\":\"heatmapgl\"}],\"heatmap\":[{\"colorbar\":{\"outlinewidth\":0,\"ticks\":\"\"},\"colorscale\":[[0.0,\"#0d0887\"],[0.1111111111111111,\"#46039f\"],[0.2222222222222222,\"#7201a8\"],[0.3333333333333333,\"#9c179e\"],[0.4444444444444444,\"#bd3786\"],[0.5555555555555556,\"#d8576b\"],[0.6666666666666666,\"#ed7953\"],[0.7777777777777778,\"#fb9f3a\"],[0.8888888888888888,\"#fdca26\"],[1.0,\"#f0f921\"]],\"type\":\"heatmap\"}],\"histogram2dcontour\":[{\"colorbar\":{\"outlinewidth\":0,\"ticks\":\"\"},\"colorscale\":[[0.0,\"#0d0887\"],[0.1111111111111111,\"#46039f\"],[0.2222222222222222,\"#7201a8\"],[0.3333333333333333,\"#9c179e\"],[0.4444444444444444,\"#bd3786\"],[0.5555555555555556,\"#d8576b\"],[0.6666666666666666,\"#ed7953\"],[0.7777777777777778,\"#fb9f3a\"],[0.8888888888888888,\"#fdca26\"],[1.0,\"#f0f921\"]],\"type\":\"histogram2dcontour\"}],\"histogram2d\":[{\"colorbar\":{\"outlinewidth\":0,\"ticks\":\"\"},\"colorscale\":[[0.0,\"#0d0887\"],[0.1111111111111111,\"#46039f\"],[0.2222222222222222,\"#7201a8\"],[0.3333333333333333,\"#9c179e\"],[0.4444444444444444,\"#bd3786\"],[0.5555555555555556,\"#d8576b\"],[0.6666666666666666,\"#ed7953\"],[0.7777777777777778,\"#fb9f3a\"],[0.8888888888888888,\"#fdca26\"],[1.0,\"#f0f921\"]],\"type\":\"histogram2d\"}],\"histogram\":[{\"marker\":{\"pattern\":{\"fillmode\":\"overlay\",\"size\":10,\"solidity\":0.2}},\"type\":\"histogram\"}],\"mesh3d\":[{\"colorbar\":{\"outlinewidth\":0,\"ticks\":\"\"},\"type\":\"mesh3d\"}],\"parcoords\":[{\"line\":{\"colorbar\":{\"outlinewidth\":0,\"ticks\":\"\"}},\"type\":\"parcoords\"}],\"pie\":[{\"automargin\":true,\"type\":\"pie\"}],\"scatter3d\":[{\"line\":{\"colorbar\":{\"outlinewidth\":0,\"ticks\":\"\"}},\"marker\":{\"colorbar\":{\"outlinewidth\":0,\"ticks\":\"\"}},\"type\":\"scatter3d\"}],\"scattercarpet\":[{\"marker\":{\"colorbar\":{\"outlinewidth\":0,\"ticks\":\"\"}},\"type\":\"scattercarpet\"}],\"scattergeo\":[{\"marker\":{\"colorbar\":{\"outlinewidth\":0,\"ticks\":\"\"}},\"type\":\"scattergeo\"}],\"scattergl\":[{\"marker\":{\"colorbar\":{\"outlinewidth\":0,\"ticks\":\"\"}},\"type\":\"scattergl\"}],\"scattermapbox\":[{\"marker\":{\"colorbar\":{\"outlinewidth\":0,\"ticks\":\"\"}},\"type\":\"scattermapbox\"}],\"scatterpolargl\":[{\"marker\":{\"colorbar\":{\"outlinewidth\":0,\"ticks\":\"\"}},\"type\":\"scatterpolargl\"}],\"scatterpolar\":[{\"marker\":{\"colorbar\":{\"outlinewidth\":0,\"ticks\":\"\"}},\"type\":\"scatterpolar\"}],\"scatter\":[{\"fillpattern\":{\"fillmode\":\"overlay\",\"size\":10,\"solidity\":0.2},\"type\":\"scatter\"}],\"scatterternary\":[{\"marker\":{\"colorbar\":{\"outlinewidth\":0,\"ticks\":\"\"}},\"type\":\"scatterternary\"}],\"surface\":[{\"colorbar\":{\"outlinewidth\":0,\"ticks\":\"\"},\"colorscale\":[[0.0,\"#0d0887\"],[0.1111111111111111,\"#46039f\"],[0.2222222222222222,\"#7201a8\"],[0.3333333333333333,\"#9c179e\"],[0.4444444444444444,\"#bd3786\"],[0.5555555555555556,\"#d8576b\"],[0.6666666666666666,\"#ed7953\"],[0.7777777777777778,\"#fb9f3a\"],[0.8888888888888888,\"#fdca26\"],[1.0,\"#f0f921\"]],\"type\":\"surface\"}],\"table\":[{\"cells\":{\"fill\":{\"color\":\"#EBF0F8\"},\"line\":{\"color\":\"white\"}},\"header\":{\"fill\":{\"color\":\"#C8D4E3\"},\"line\":{\"color\":\"white\"}},\"type\":\"table\"}]},\"layout\":{\"annotationdefaults\":{\"arrowcolor\":\"#2a3f5f\",\"arrowhead\":0,\"arrowwidth\":1},\"autotypenumbers\":\"strict\",\"coloraxis\":{\"colorbar\":{\"outlinewidth\":0,\"ticks\":\"\"}},\"colorscale\":{\"diverging\":[[0,\"#8e0152\"],[0.1,\"#c51b7d\"],[0.2,\"#de77ae\"],[0.3,\"#f1b6da\"],[0.4,\"#fde0ef\"],[0.5,\"#f7f7f7\"],[0.6,\"#e6f5d0\"],[0.7,\"#b8e186\"],[0.8,\"#7fbc41\"],[0.9,\"#4d9221\"],[1,\"#276419\"]],\"sequential\":[[0.0,\"#0d0887\"],[0.1111111111111111,\"#46039f\"],[0.2222222222222222,\"#7201a8\"],[0.3333333333333333,\"#9c179e\"],[0.4444444444444444,\"#bd3786\"],[0.5555555555555556,\"#d8576b\"],[0.6666666666666666,\"#ed7953\"],[0.7777777777777778,\"#fb9f3a\"],[0.8888888888888888,\"#fdca26\"],[1.0,\"#f0f921\"]],\"sequentialminus\":[[0.0,\"#0d0887\"],[0.1111111111111111,\"#46039f\"],[0.2222222222222222,\"#7201a8\"],[0.3333333333333333,\"#9c179e\"],[0.4444444444444444,\"#bd3786\"],[0.5555555555555556,\"#d8576b\"],[0.6666666666666666,\"#ed7953\"],[0.7777777777777778,\"#fb9f3a\"],[0.8888888888888888,\"#fdca26\"],[1.0,\"#f0f921\"]]},\"colorway\":[\"#636efa\",\"#EF553B\",\"#00cc96\",\"#ab63fa\",\"#FFA15A\",\"#19d3f3\",\"#FF6692\",\"#B6E880\",\"#FF97FF\",\"#FECB52\"],\"font\":{\"color\":\"#2a3f5f\"},\"geo\":{\"bgcolor\":\"white\",\"lakecolor\":\"white\",\"landcolor\":\"white\",\"showlakes\":true,\"showland\":true,\"subunitcolor\":\"#C8D4E3\"},\"hoverlabel\":{\"align\":\"left\"},\"hovermode\":\"closest\",\"mapbox\":{\"style\":\"light\"},\"paper_bgcolor\":\"white\",\"plot_bgcolor\":\"white\",\"polar\":{\"angularaxis\":{\"gridcolor\":\"#EBF0F8\",\"linecolor\":\"#EBF0F8\",\"ticks\":\"\"},\"bgcolor\":\"white\",\"radialaxis\":{\"gridcolor\":\"#EBF0F8\",\"linecolor\":\"#EBF0F8\",\"ticks\":\"\"}},\"scene\":{\"xaxis\":{\"backgroundcolor\":\"white\",\"gridcolor\":\"#DFE8F3\",\"gridwidth\":2,\"linecolor\":\"#EBF0F8\",\"showbackground\":true,\"ticks\":\"\",\"zerolinecolor\":\"#EBF0F8\"},\"yaxis\":{\"backgroundcolor\":\"white\",\"gridcolor\":\"#DFE8F3\",\"gridwidth\":2,\"linecolor\":\"#EBF0F8\",\"showbackground\":true,\"ticks\":\"\",\"zerolinecolor\":\"#EBF0F8\"},\"zaxis\":{\"backgroundcolor\":\"white\",\"gridcolor\":\"#DFE8F3\",\"gridwidth\":2,\"linecolor\":\"#EBF0F8\",\"showbackground\":true,\"ticks\":\"\",\"zerolinecolor\":\"#EBF0F8\"}},\"shapedefaults\":{\"line\":{\"color\":\"#2a3f5f\"}},\"ternary\":{\"aaxis\":{\"gridcolor\":\"#DFE8F3\",\"linecolor\":\"#A2B1C6\",\"ticks\":\"\"},\"baxis\":{\"gridcolor\":\"#DFE8F3\",\"linecolor\":\"#A2B1C6\",\"ticks\":\"\"},\"bgcolor\":\"white\",\"caxis\":{\"gridcolor\":\"#DFE8F3\",\"linecolor\":\"#A2B1C6\",\"ticks\":\"\"}},\"title\":{\"x\":0.05},\"xaxis\":{\"automargin\":true,\"gridcolor\":\"#EBF0F8\",\"linecolor\":\"#EBF0F8\",\"ticks\":\"\",\"title\":{\"standoff\":15},\"zerolinecolor\":\"#EBF0F8\",\"zerolinewidth\":2},\"yaxis\":{\"automargin\":true,\"gridcolor\":\"#EBF0F8\",\"linecolor\":\"#EBF0F8\",\"ticks\":\"\",\"title\":{\"standoff\":15},\"zerolinecolor\":\"#EBF0F8\",\"zerolinewidth\":2}}},\"title\":{\"font\":{\"size\":10},\"text\":\"\\u003cb\\u003eFrontera Eficiente \\u003c\\u002fb\\u003e \",\"xanchor\":\"left\"},\"width\":550},                        {\"responsive\": true}                    ).then(function(){\n",
       "                            \n",
       "var gd = document.getElementById('df68cdde-0305-4a20-a575-94a313419ad2');\n",
       "var x = new MutationObserver(function (mutations, observer) {{\n",
       "        var display = window.getComputedStyle(gd).display;\n",
       "        if (!display || display === 'none') {{\n",
       "            console.log([gd, 'removed!']);\n",
       "            Plotly.purge(gd);\n",
       "            observer.disconnect();\n",
       "        }}\n",
       "}});\n",
       "\n",
       "// Listen for the removal of the full notebook cells\n",
       "var notebookContainer = gd.closest('#notebook-container');\n",
       "if (notebookContainer) {{\n",
       "    x.observe(notebookContainer, {childList: true});\n",
       "}}\n",
       "\n",
       "// Listen for the clearing of the current output cell\n",
       "var outputEl = gd.closest('.output');\n",
       "if (outputEl) {{\n",
       "    x.observe(outputEl, {childList: true});\n",
       "}}\n",
       "\n",
       "                        })                };                });            </script>        </div>"
      ]
     },
     "metadata": {},
     "output_type": "display_data"
    }
   ],
   "source": [
    "ref_df = pd.concat(ref_,axis=1).transpose()\n",
    "\n",
    "mean_ref = ref_df.mean(axis=0)\n",
    "traces=[]\n",
    "temp = eff.iloc[2:]\n",
    "traces.append(go.Scatter(x=eff_v.index,y=eff_v,mode='lines',line={'color':'purple'}))\n",
    "traces.append(go.Scatter(x=expvol,y=expret,mode='markers',marker={'size':7,'color':'red'},opacity=0.7))\n",
    "traces.append(go.Scatter(x=mean_ref.index,y=mean_ref,mode='lines',line={'color':'black'}))\n",
    "for c in ref_df.columns:\n",
    "     traces.append(go.Violin(y=ref_df.loc[:,c],jitter=0.2,pointpos=-0.5,\n",
    "            points='outliers',name=c,side='negative',meanline_visible=True,\n",
    "            marker={'size':2,'color':'black','opacity':0.4},line={'width':0.5,'color':'gray'}))\n",
    "scat(traces)"
   ]
  },
  {
   "cell_type": "code",
   "execution_count": 434,
   "metadata": {},
   "outputs": [
    {
     "data": {
      "text/plain": [
       "0.021643    0.003218\n",
       "0.024143    0.022071\n",
       "0.026643    0.029809\n",
       "0.029143    0.036052\n",
       "0.031643    0.041382\n",
       "0.034143    0.046146\n",
       "0.036643    0.050250\n",
       "0.039143    0.054255\n",
       "0.041643    0.057662\n",
       "0.044143    0.060373\n",
       "0.046643    0.062421\n",
       "0.049143    0.055185\n",
       "0.051643    0.046452\n",
       "0.054143    0.040603\n",
       "0.056643    0.037174\n",
       "0.059143    0.034309\n",
       "0.061643    0.031295\n",
       "0.064143    0.028679\n",
       "dtype: float64"
      ]
     },
     "execution_count": 434,
     "metadata": {},
     "output_type": "execute_result"
    }
   ],
   "source": [
    "mean_ref"
   ]
  },
  {
   "cell_type": "markdown",
   "metadata": {},
   "source": [
    "# Black  Litterman"
   ]
  },
  {
   "cell_type": "code",
   "execution_count": 436,
   "metadata": {},
   "outputs": [],
   "source": [
    "#BLACK LITTERMAN \n",
    "'''\n",
    "insumos:\n",
    "* retornos y covar (los mismos del mvo tradicional)\n",
    "* un vector de recomendaciones q. en esta funcion esta pensado como  un numero de desviaciones. (ej +2 si es un view muy positivo en ese activo)\n",
    "* un nivel de conviccion en el modelo.. entre mas alto c menos incertidumbre alrededor de los views. (puede estar en funcion del accuarcy del modelo por ejemplo) \n",
    "notas adicionales:\n",
    "tau se puede sensiblizar pero el paper dice que usualmente es algo entre 0.025 y 0.05.. \n",
    "pick es una matriz de identidad porque tu siempre tienes views sobre todos los activos. (si tuvieras views sobre solo algunos pick deberia ser una matriz de 0s con 1s unicamente en \n",
    "los activos sobre los que se tiene un view...)\n",
    "resultado:\n",
    "la funcion devuelve un vector de retornos y covar posterior (osea ya ponderados usando los views y la conviccion que se tiene sobre ellos.)\n",
    "'''\n",
    "\n",
    "#BL optim\n",
    "def BLopt(r,sigma,q,c,tau=0.025):\n",
    "    pick = pick = np.eye(len(r))\n",
    "    PEP = np.matmul(np.matmul(pick,covar),pick.T)\n",
    "    v = r + np.diag(covar**(1/2))*q*np.sqrt(1/12)\n",
    "    omega = PEP/c\n",
    "    mu_bl = r + tau*np.matmul(np.matmul(sigma*pick.T,inv(tau*PEP+omega)),v-np.matmul(pick,r))\n",
    "    sigma_bl = (1+tau)*sigma - tau**2*np.matmul(np.matmul(np.matmul(sigma,pick.T),inv(tau*PEP+omega)),np.matmul(pick,sigma))\n",
    "\n",
    "    return mu_bl,sigma_bl\n"
   ]
  },
  {
   "cell_type": "code",
   "execution_count": null,
   "metadata": {},
   "outputs": [],
   "source": [
    "BL"
   ]
  }
 ],
 "metadata": {
  "kernelspec": {
   "display_name": "Python 3",
   "language": "python",
   "name": "python3"
  },
  "language_info": {
   "codemirror_mode": {
    "name": "ipython",
    "version": 3
   },
   "file_extension": ".py",
   "mimetype": "text/x-python",
   "name": "python",
   "nbconvert_exporter": "python",
   "pygments_lexer": "ipython3",
   "version": "3.10.5"
  },
  "orig_nbformat": 4
 },
 "nbformat": 4,
 "nbformat_minor": 2
}
