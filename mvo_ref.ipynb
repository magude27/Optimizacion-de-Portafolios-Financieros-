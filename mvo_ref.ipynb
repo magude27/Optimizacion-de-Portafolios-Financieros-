{
 "cells": [
  {
   "cell_type": "code",
   "execution_count": 1,
   "id": "936a145c",
   "metadata": {},
   "outputs": [],
   "source": [
    "import pandas as pd\n",
    "import numpy as np\n",
    "from scipy.optimize import minimize\n",
    "from itertools import product\n",
    "from numpy.linalg import cholesky\n",
    "import plotly.graph_objs as go\n",
    "import plotly.offline as po"
   ]
  },
  {
   "cell_type": "code",
   "execution_count": 2,
   "id": "525a9209",
   "metadata": {},
   "outputs": [
    {
     "data": {
      "text/html": [
       "<div>\n",
       "<style scoped>\n",
       "    .dataframe tbody tr th:only-of-type {\n",
       "        vertical-align: middle;\n",
       "    }\n",
       "\n",
       "    .dataframe tbody tr th {\n",
       "        vertical-align: top;\n",
       "    }\n",
       "\n",
       "    .dataframe thead th {\n",
       "        text-align: right;\n",
       "    }\n",
       "</style>\n",
       "<table border=\"1\" class=\"dataframe\">\n",
       "  <thead>\n",
       "    <tr style=\"text-align: right;\">\n",
       "      <th></th>\n",
       "      <th>SPX</th>\n",
       "      <th>EEM</th>\n",
       "      <th>XAU</th>\n",
       "      <th>USTTEN</th>\n",
       "      <th>USDCOP</th>\n",
       "    </tr>\n",
       "    <tr>\n",
       "      <th>date</th>\n",
       "      <th></th>\n",
       "      <th></th>\n",
       "      <th></th>\n",
       "      <th></th>\n",
       "      <th></th>\n",
       "    </tr>\n",
       "  </thead>\n",
       "  <tbody>\n",
       "    <tr>\n",
       "      <th>2011-02-14</th>\n",
       "      <td>0.046434</td>\n",
       "      <td>-0.057770</td>\n",
       "      <td>-0.038196</td>\n",
       "      <td>-0.021115</td>\n",
       "      <td>0.007020</td>\n",
       "    </tr>\n",
       "    <tr>\n",
       "      <th>2011-02-15</th>\n",
       "      <td>0.044507</td>\n",
       "      <td>-0.060353</td>\n",
       "      <td>-0.004829</td>\n",
       "      <td>-0.020181</td>\n",
       "      <td>0.011852</td>\n",
       "    </tr>\n",
       "    <tr>\n",
       "      <th>2011-02-16</th>\n",
       "      <td>0.045751</td>\n",
       "      <td>-0.049548</td>\n",
       "      <td>-0.002805</td>\n",
       "      <td>-0.010126</td>\n",
       "      <td>0.019702</td>\n",
       "    </tr>\n",
       "    <tr>\n",
       "      <th>2011-02-17</th>\n",
       "      <td>0.050947</td>\n",
       "      <td>-0.035324</td>\n",
       "      <td>0.009087</td>\n",
       "      <td>-0.012194</td>\n",
       "      <td>0.015859</td>\n",
       "    </tr>\n",
       "    <tr>\n",
       "      <th>2011-02-18</th>\n",
       "      <td>0.054716</td>\n",
       "      <td>-0.020095</td>\n",
       "      <td>0.014822</td>\n",
       "      <td>-0.018477</td>\n",
       "      <td>0.006955</td>\n",
       "    </tr>\n",
       "  </tbody>\n",
       "</table>\n",
       "</div>"
      ],
      "text/plain": [
       "                 SPX       EEM       XAU    USTTEN    USDCOP\n",
       "date                                                        \n",
       "2011-02-14  0.046434 -0.057770 -0.038196 -0.021115  0.007020\n",
       "2011-02-15  0.044507 -0.060353 -0.004829 -0.020181  0.011852\n",
       "2011-02-16  0.045751 -0.049548 -0.002805 -0.010126  0.019702\n",
       "2011-02-17  0.050947 -0.035324  0.009087 -0.012194  0.015859\n",
       "2011-02-18  0.054716 -0.020095  0.014822 -0.018477  0.006955"
      ]
     },
     "execution_count": 2,
     "metadata": {},
     "output_type": "execute_result"
    }
   ],
   "source": [
    "assets = pd.read_csv('m_returns.csv', index_col = 'date')\n",
    "assets.head()"
   ]
  },
  {
   "cell_type": "code",
   "execution_count": 3,
   "id": "78dc4a8d",
   "metadata": {},
   "outputs": [],
   "source": [
    "avgr_5y = assets.rolling(window=365*5).mean().iloc[-1].values\n",
    "std_5y = assets.rolling(window=365*5).std().iloc[-1].values\n",
    "cov_5y = assets.rolling(window=365*5).std().cov().values"
   ]
  },
  {
   "cell_type": "code",
   "execution_count": null,
   "id": "ddbe3cf2",
   "metadata": {},
   "outputs": [],
   "source": [
    "expret = avgr_5y\n",
    "expvol = std_5y\n",
    "corr = assets.rolling(window=365*5).corr().values\n",
    "\n",
    "covar = cov_5y\n",
    "# for i,j in product(expvol,repeat=2):\n",
    "#     covar.loc[i,j] = corr.loc[i,j]*i*j\n",
    "\n",
    "\n",
    "    \n",
    "x0 = [0.25,0.25,0.25,0.25, 0.25]\n",
    "bnds = ((0, 1), (0, 1),(0, 1),(0, 1), (0, 1))\n",
    "\n",
    "#minimize variance for each level of return\n",
    "def por_var(x):\n",
    "    return np.dot(np.matmul(x,covar),x)\n",
    "def w(x):\n",
    "    return np.sum(x)-1\n",
    "\n",
    "eff={}\n",
    "ws={}\n",
    "for i in np.arange(min(expret), max(expret), 0.001):\n",
    "    print (i)\n",
    "    r = i/2\n",
    "\n",
    "    def port_ret(x):\n",
    "        return np.dot(x,expret)-r\n",
    "    cons= [{'type': 'eq', 'fun': port_ret},{'type': 'eq', 'fun': w}]\n",
    "    res = minimize(por_var,x0,bounds=bnds,constraints=cons)\n",
    "    eff[r] = np.sqrt(por_var(res.x))\n",
    "    ws[r] = res.x\n",
    "\n",
    "eff = pd.Series(eff)"
   ]
  },
  {
   "cell_type": "code",
   "execution_count": 4,
   "id": "cfb8a032",
   "metadata": {},
   "outputs": [
    {
     "ename": "NameError",
     "evalue": "name 'w' is not defined",
     "output_type": "error",
     "traceback": [
      "\u001b[1;31m---------------------------------------------------------------------------\u001b[0m",
      "\u001b[1;31mNameError\u001b[0m                                 Traceback (most recent call last)",
      "\u001b[1;32mc:\\Users\\maria\\OneDrive\\Documentos\\Universidad\\Trabajo de Grado\\Python\\tdg\\mvo_ref.ipynb Cell 5\u001b[0m line \u001b[0;36m<cell line: 2>\u001b[1;34m()\u001b[0m\n\u001b[0;32m      <a href='vscode-notebook-cell:/c%3A/Users/maria/OneDrive/Documentos/Universidad/Trabajo%20de%20Grado/Python/tdg/mvo_ref.ipynb#W3sZmlsZQ%3D%3D?line=0'>1</a>\u001b[0m \u001b[39m#maximize return for each level of variance \u001b[39;00m\n\u001b[1;32m----> <a href='vscode-notebook-cell:/c%3A/Users/maria/OneDrive/Documentos/Universidad/Trabajo%20de%20Grado/Python/tdg/mvo_ref.ipynb#W3sZmlsZQ%3D%3D?line=1'>2</a>\u001b[0m cons\u001b[39m=\u001b[39m [{\u001b[39m'\u001b[39m\u001b[39mtype\u001b[39m\u001b[39m'\u001b[39m: \u001b[39m'\u001b[39m\u001b[39meq\u001b[39m\u001b[39m'\u001b[39m, \u001b[39m'\u001b[39m\u001b[39mfun\u001b[39m\u001b[39m'\u001b[39m: w}] \u001b[39m#constraints for global minimum variance portfolio\u001b[39;00m\n\u001b[0;32m      <a href='vscode-notebook-cell:/c%3A/Users/maria/OneDrive/Documentos/Universidad/Trabajo%20de%20Grado/Python/tdg/mvo_ref.ipynb#W3sZmlsZQ%3D%3D?line=2'>3</a>\u001b[0m gmvp \u001b[39m=\u001b[39m minimize(por_var,x0,bounds\u001b[39m=\u001b[39mbnds,constraints\u001b[39m=\u001b[39mcons) \u001b[39m# weights of GMVP\u001b[39;00m\n\u001b[0;32m      <a href='vscode-notebook-cell:/c%3A/Users/maria/OneDrive/Documentos/Universidad/Trabajo%20de%20Grado/Python/tdg/mvo_ref.ipynb#W3sZmlsZQ%3D%3D?line=3'>4</a>\u001b[0m min_v \u001b[39m=\u001b[39m np\u001b[39m.\u001b[39msqrt(por_var(gmvp\u001b[39m.\u001b[39mx)) \u001b[39m# minimum volatility possible\u001b[39;00m\n",
      "\u001b[1;31mNameError\u001b[0m: name 'w' is not defined"
     ]
    },
    {
     "ename": "",
     "evalue": "",
     "output_type": "error",
     "traceback": [
      "\u001b[1;31mThe Kernel crashed while executing code in the the current cell or a previous cell. Please review the code in the cell(s) to identify a possible cause of the failure. Click <a href='https://aka.ms/vscodeJupyterKernelCrash'>here</a> for more info. View Jupyter <a href='command:jupyter.viewOutput'>log</a> for further details."
     ]
    }
   ],
   "source": [
    "#maximize return for each level of variance \n",
    "cons= [{'type': 'eq', 'fun': w}] #constraints for global minimum variance portfolio\n",
    "gmvp = minimize(por_var,x0,bounds=bnds,constraints=cons) # weights of GMVP\n",
    "min_v = np.sqrt(por_var(gmvp.x)) # minimum volatility possible\n",
    "max_v = np.max(expvol)\n",
    "\n",
    "\n",
    "def mvo(rr):\n",
    "    eff_v={}\n",
    "    eff_x={}\n",
    "    for q in range(int(np.ceil(min_v)),int(max_v+1),3):\n",
    "        def varp(x):\n",
    "            return np.dot(np.matmul(x,covar),x)-q**2\n",
    "        def rfun(x):\n",
    "            return -np.dot(x,rr)\n",
    "        cons  = [{'type': 'eq', 'fun': varp},{'type': 'eq', 'fun': w}]\n",
    "        res = minimize(rfun,x0,bounds=bnds,constraints=cons)\n",
    "\n",
    "        eff_v[q] = -rfun(res.x)\n",
    "        eff_x[q] = res.x\n",
    "\n",
    "    return pd.Series(eff_v),pd.DataFrame(eff_x)\n",
    "\n",
    "eff_v,xxx= mvo(expret)"
   ]
  },
  {
   "cell_type": "code",
   "execution_count": null,
   "id": "1093129c",
   "metadata": {},
   "outputs": [],
   "source": [
    "def scat(traces,annots=[]):\n",
    "  layout = go.Layout(width=550,height=400,margin=dict(l=50,r=20,b=30,t=50),template='plotly_white',\n",
    "                    annotations=annots,\n",
    "                    showlegend=False,\n",
    "                    title={'text':'<b>Efficient Frontier </b> ','xanchor':'left','font':{'size':10}},\n",
    "                  )\n",
    "  fig = go.Figure(data=traces, layout=layout)\n",
    "  po.init_notebook_mode(connected=True)\n",
    "  config = {'showLink':False}\n",
    "  po.iplot(fig,config=config)\n",
    "\n",
    "     \n",
    "\n",
    "traces=[]\n",
    "temp = eff.iloc[2:]\n",
    "traces.append(go.Scatter(x=temp,y=temp.index,mode='lines+markers',line={'color':'dodgerblue'},marker={'size':6,'color':'blue'}))\n",
    "traces.append(go.Scatter(x=eff_v.index,y=eff_v,mode='lines+markers',line={'color':'purple'},marker={'size':6,'color':'purple'}))\n",
    "traces.append(go.Scatter(x=expvol,y=expret,mode='markers',marker={'size':7,'color':'red'},opacity=0.7))\n",
    "annots = [{'x':temp.loc[i]+1.5,'y':i,'text':'('+str(temp.round(1).loc[i])+','+str(i)+')','showarrow':False,'font':{'size':8,'color':'blue'}} for i in temp.index]\n",
    "\n",
    "scat(traces,annots)\n"
   ]
  },
  {
   "cell_type": "code",
   "execution_count": null,
   "id": "7de63b1e",
   "metadata": {},
   "outputs": [],
   "source": [
    "#Resample eficient frontier:\n",
    "# 1. 10k observations of uncorrelated random variables Z~N(0,1)\n",
    "# 2. chelosky decompose correlation matrix to generate correlated random variables by transforming Z. \n",
    "# 3. correlated returns rij =  Mui + Zij*voli for each asset class i for each iteration j.\n",
    "# 4. find eficient frontier at each iteration using correlated random returns found in 3. \n",
    "# 5. find the mean of the optimized weights at each pair r,vol on the EF. \n",
    "from numpy.linalg import cholesky\n",
    "# corr = [4,4]\n",
    "# expvol = [4]\n",
    "# expret = [4]\n",
    "n = 100\n",
    "C = cholesky(corr)\n",
    "Zu = np.random.normal(size=(len(expret),n))\n",
    "Zc = np.matmul(C,Zu).transpose()\n",
    "\n",
    "Mu = np.tile(expret,(n,1))\n",
    "S = np.tile(expvol,(n,1)) \n",
    "R = Mu + -(S**2/2)/100 +np.multiply(Zc,S)\n",
    "\n"
   ]
  },
  {
   "cell_type": "code",
   "execution_count": null,
   "id": "108b5c02",
   "metadata": {},
   "outputs": [],
   "source": [
    "ref_=[]\n",
    "ws_=[]\n",
    "for i in R:\n",
    "    ri,wi =mvo(i)\n",
    "    ref_.append(ri)\n",
    "    ws_.append(wi)\n"
   ]
  },
  {
   "cell_type": "code",
   "execution_count": null,
   "id": "f183a836",
   "metadata": {},
   "outputs": [],
   "source": [
    "ref_df = pd.concat(ref_,axis=1).transpose()\n",
    "\n",
    "mean_ref = ref_df.mean(axis=0)\n",
    "traces=[]\n",
    "temp = eff.iloc[2:]\n",
    "traces.append(go.Scatter(x=eff_v.index,y=eff_v,mode='lines',line={'color':'purple'}))\n",
    "traces.append(go.Scatter(x=expvol,y=expret,mode='markers',marker={'size':7,'color':'red'},opacity=0.7))\n",
    "traces.append(go.Scatter(x=mean_ref.index,y=mean_ref,mode='lines',line={'color':'black'}))\n",
    "for c in [3,6,9,12,15,18]:\n",
    "     traces.append(go.Violin(y=ref_df.loc[:,c],jitter=0.2,pointpos=-0.5,\n",
    "            points='outliers',name=c,side='negative',meanline_visible=True,\n",
    "            marker={'size':2,'color':'black','opacity':0.4},line={'width':0.5,'color':'gray'}))\n",
    "scat(traces)"
   ]
  },
  {
   "cell_type": "code",
   "execution_count": null,
   "id": "8a084843",
   "metadata": {},
   "outputs": [],
   "source": [
    "nueve=[]\n",
    "for i in ws_:\n",
    "    nueve.append(i.loc[:,6])\n",
    "\n",
    "nueve = pd.concat(nueve,axis=1).mean(axis=1).round(2)\n",
    "nueve"
   ]
  },
  {
   "cell_type": "code",
   "execution_count": null,
   "id": "cb4bf0fe",
   "metadata": {},
   "outputs": [],
   "source": [
    "traces=[]\n",
    "traces.append(go.Scatter(x=Zc[:,0],y=Zc[:,3],mode='markers',marker={'color':'blue','size':2},opacity=0.8))\n",
    "traces.append(go.Scatter(x=Zu[0,:],y=Zu[3,:],mode='markers',marker={'color':'red','size':5},opacity=0.8))\n",
    "print(corr)\n",
    "scat(traces)"
   ]
  }
 ],
 "metadata": {
  "interpreter": {
   "hash": "ae495d51253963d5bfe07d5bb9852f25adcde5dd8b593184b0fe829f5db136e6"
  },
  "kernelspec": {
   "display_name": "env1",
   "language": "python",
   "name": "python3"
  },
  "language_info": {
   "codemirror_mode": {
    "name": "ipython",
    "version": 3
   },
   "file_extension": ".py",
   "mimetype": "text/x-python",
   "name": "python",
   "nbconvert_exporter": "python",
   "pygments_lexer": "ipython3",
   "version": "3.10.5"
  }
 },
 "nbformat": 4,
 "nbformat_minor": 5
}
